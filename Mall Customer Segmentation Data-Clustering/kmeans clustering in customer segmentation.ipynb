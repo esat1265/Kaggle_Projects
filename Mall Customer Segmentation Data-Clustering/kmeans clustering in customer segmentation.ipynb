{
 "cells": [
  {
   "cell_type": "code",
   "execution_count": 1,
   "metadata": {
    "_cell_guid": "b1076dfc-b9ad-4769-8c92-a6c4dae69d19",
    "_uuid": "8f2839f25d086af736a60e9eeb907d3b93b6e0e5",
    "execution": {
     "iopub.execute_input": "2022-11-28T23:37:53.161141Z",
     "iopub.status.busy": "2022-11-28T23:37:53.160536Z",
     "iopub.status.idle": "2022-11-28T23:37:53.919537Z",
     "shell.execute_reply": "2022-11-28T23:37:53.918725Z",
     "shell.execute_reply.started": "2022-11-28T23:37:53.161059Z"
    }
   },
   "outputs": [],
   "source": [
    "#import the libraries\n",
    "import numpy as np # linear algebra\n",
    "import pandas as pd # data processing, CSV file I/O (e.g. pd.read_csv)\n",
    "import matplotlib.pyplot as plt #Data Visualization \n",
    "import seaborn as sns  #Python library for Vidualization\n",
    "\n"
   ]
  },
  {
   "cell_type": "code",
   "execution_count": 2,
   "metadata": {
    "_cell_guid": "79c7e3d0-c299-4dcb-8224-4455121ee9b0",
    "_kg_hide-input": false,
    "_uuid": "d629ff2d2480ee46fbb7e2d37f6b5fab8052498a",
    "execution": {
     "iopub.execute_input": "2022-11-28T23:38:16.478039Z",
     "iopub.status.busy": "2022-11-28T23:38:16.477384Z",
     "iopub.status.idle": "2022-11-28T23:38:16.509091Z",
     "shell.execute_reply": "2022-11-28T23:38:16.508167Z",
     "shell.execute_reply.started": "2022-11-28T23:38:16.477656Z"
    }
   },
   "outputs": [
    {
     "data": {
      "text/html": [
       "<div>\n",
       "<style scoped>\n",
       "    .dataframe tbody tr th:only-of-type {\n",
       "        vertical-align: middle;\n",
       "    }\n",
       "\n",
       "    .dataframe tbody tr th {\n",
       "        vertical-align: top;\n",
       "    }\n",
       "\n",
       "    .dataframe thead th {\n",
       "        text-align: right;\n",
       "    }\n",
       "</style>\n",
       "<table border=\"1\" class=\"dataframe\">\n",
       "  <thead>\n",
       "    <tr style=\"text-align: right;\">\n",
       "      <th></th>\n",
       "      <th>CustomerID</th>\n",
       "      <th>Gender</th>\n",
       "      <th>Age</th>\n",
       "      <th>Annual Income (k$)</th>\n",
       "      <th>Spending Score (1-100)</th>\n",
       "    </tr>\n",
       "  </thead>\n",
       "  <tbody>\n",
       "    <tr>\n",
       "      <th>0</th>\n",
       "      <td>1</td>\n",
       "      <td>Male</td>\n",
       "      <td>19</td>\n",
       "      <td>15</td>\n",
       "      <td>39</td>\n",
       "    </tr>\n",
       "    <tr>\n",
       "      <th>1</th>\n",
       "      <td>2</td>\n",
       "      <td>Male</td>\n",
       "      <td>21</td>\n",
       "      <td>15</td>\n",
       "      <td>81</td>\n",
       "    </tr>\n",
       "    <tr>\n",
       "      <th>2</th>\n",
       "      <td>3</td>\n",
       "      <td>Female</td>\n",
       "      <td>20</td>\n",
       "      <td>16</td>\n",
       "      <td>6</td>\n",
       "    </tr>\n",
       "    <tr>\n",
       "      <th>3</th>\n",
       "      <td>4</td>\n",
       "      <td>Female</td>\n",
       "      <td>23</td>\n",
       "      <td>16</td>\n",
       "      <td>77</td>\n",
       "    </tr>\n",
       "    <tr>\n",
       "      <th>4</th>\n",
       "      <td>5</td>\n",
       "      <td>Female</td>\n",
       "      <td>31</td>\n",
       "      <td>17</td>\n",
       "      <td>40</td>\n",
       "    </tr>\n",
       "    <tr>\n",
       "      <th>5</th>\n",
       "      <td>6</td>\n",
       "      <td>Female</td>\n",
       "      <td>22</td>\n",
       "      <td>17</td>\n",
       "      <td>76</td>\n",
       "    </tr>\n",
       "    <tr>\n",
       "      <th>6</th>\n",
       "      <td>7</td>\n",
       "      <td>Female</td>\n",
       "      <td>35</td>\n",
       "      <td>18</td>\n",
       "      <td>6</td>\n",
       "    </tr>\n",
       "    <tr>\n",
       "      <th>7</th>\n",
       "      <td>8</td>\n",
       "      <td>Female</td>\n",
       "      <td>23</td>\n",
       "      <td>18</td>\n",
       "      <td>94</td>\n",
       "    </tr>\n",
       "    <tr>\n",
       "      <th>8</th>\n",
       "      <td>9</td>\n",
       "      <td>Male</td>\n",
       "      <td>64</td>\n",
       "      <td>19</td>\n",
       "      <td>3</td>\n",
       "    </tr>\n",
       "    <tr>\n",
       "      <th>9</th>\n",
       "      <td>10</td>\n",
       "      <td>Female</td>\n",
       "      <td>30</td>\n",
       "      <td>19</td>\n",
       "      <td>72</td>\n",
       "    </tr>\n",
       "  </tbody>\n",
       "</table>\n",
       "</div>"
      ],
      "text/plain": [
       "   CustomerID  Gender  Age  Annual Income (k$)  Spending Score (1-100)\n",
       "0           1    Male   19                  15                      39\n",
       "1           2    Male   21                  15                      81\n",
       "2           3  Female   20                  16                       6\n",
       "3           4  Female   23                  16                      77\n",
       "4           5  Female   31                  17                      40\n",
       "5           6  Female   22                  17                      76\n",
       "6           7  Female   35                  18                       6\n",
       "7           8  Female   23                  18                      94\n",
       "8           9    Male   64                  19                       3\n",
       "9          10  Female   30                  19                      72"
      ]
     },
     "execution_count": 2,
     "metadata": {},
     "output_type": "execute_result"
    }
   ],
   "source": [
    "#Import the dataset\n",
    "\n",
    "dataset = pd.read_csv('Mall_Customers.csv')\n",
    "\n",
    "#Exploratory Data Analysis\n",
    "#As this is unsupervised learning so Label (Output Column) is unknown\n",
    "\n",
    "dataset.head(10) "
   ]
  },
  {
   "cell_type": "code",
   "execution_count": 3,
   "metadata": {
    "_uuid": "d47849badb0035c1968d9b19384a266f6cfdc634",
    "execution": {
     "iopub.execute_input": "2022-11-28T23:38:40.461018Z",
     "iopub.status.busy": "2022-11-28T23:38:40.460616Z",
     "iopub.status.idle": "2022-11-28T23:38:40.467828Z",
     "shell.execute_reply": "2022-11-28T23:38:40.466474Z",
     "shell.execute_reply.started": "2022-11-28T23:38:40.460934Z"
    }
   },
   "outputs": [
    {
     "data": {
      "text/plain": [
       "(200, 5)"
      ]
     },
     "execution_count": 3,
     "metadata": {},
     "output_type": "execute_result"
    }
   ],
   "source": [
    "dataset.shape"
   ]
  },
  {
   "cell_type": "code",
   "execution_count": 4,
   "metadata": {
    "_uuid": "bcfc2fb58c8989f2f548dbf19d83cbf7bcc42313",
    "execution": {
     "iopub.execute_input": "2022-11-28T23:38:47.524754Z",
     "iopub.status.busy": "2022-11-28T23:38:47.524422Z",
     "iopub.status.idle": "2022-11-28T23:38:47.536808Z",
     "shell.execute_reply": "2022-11-28T23:38:47.535839Z",
     "shell.execute_reply.started": "2022-11-28T23:38:47.52471Z"
    }
   },
   "outputs": [
    {
     "name": "stdout",
     "output_type": "stream",
     "text": [
      "<class 'pandas.core.frame.DataFrame'>\n",
      "RangeIndex: 200 entries, 0 to 199\n",
      "Data columns (total 5 columns):\n",
      " #   Column                  Non-Null Count  Dtype \n",
      "---  ------                  --------------  ----- \n",
      " 0   CustomerID              200 non-null    int64 \n",
      " 1   Gender                  200 non-null    object\n",
      " 2   Age                     200 non-null    int64 \n",
      " 3   Annual Income (k$)      200 non-null    int64 \n",
      " 4   Spending Score (1-100)  200 non-null    int64 \n",
      "dtypes: int64(4), object(1)\n",
      "memory usage: 7.9+ KB\n"
     ]
    }
   ],
   "source": [
    "dataset.info() # tüm sütunlarda 200 giriş olduğu için eksik değer yok"
   ]
  },
  {
   "cell_type": "code",
   "execution_count": 5,
   "metadata": {
    "_uuid": "ca96e1a193d3818013ccffa63b90914c1042cac6",
    "execution": {
     "iopub.execute_input": "2022-11-28T23:38:56.482098Z",
     "iopub.status.busy": "2022-11-28T23:38:56.481816Z",
     "iopub.status.idle": "2022-11-28T23:38:56.490684Z",
     "shell.execute_reply": "2022-11-28T23:38:56.489554Z",
     "shell.execute_reply.started": "2022-11-28T23:38:56.48206Z"
    }
   },
   "outputs": [
    {
     "data": {
      "text/plain": [
       "CustomerID                0\n",
       "Gender                    0\n",
       "Age                       0\n",
       "Annual Income (k$)        0\n",
       "Spending Score (1-100)    0\n",
       "dtype: int64"
      ]
     },
     "execution_count": 5,
     "metadata": {},
     "output_type": "execute_result"
    }
   ],
   "source": [
    "dataset.isnull().sum()"
   ]
  },
  {
   "cell_type": "code",
   "execution_count": 6,
   "metadata": {
    "_uuid": "1c76e4a81b32169d627aad33366c6089c17299f3",
    "execution": {
     "iopub.execute_input": "2022-11-28T23:39:03.966763Z",
     "iopub.status.busy": "2022-11-28T23:39:03.966093Z",
     "iopub.status.idle": "2022-11-28T23:39:03.972985Z",
     "shell.execute_reply": "2022-11-28T23:39:03.971942Z",
     "shell.execute_reply.started": "2022-11-28T23:39:03.966681Z"
    }
   },
   "outputs": [],
   "source": [
    "\n",
    "#2 degeri goz onune alacagiz(Annual income and Spending Score) \n",
    "X= dataset.iloc[:, [3,4]].values\n"
   ]
  },
  {
   "cell_type": "code",
   "execution_count": 7,
   "metadata": {
    "_uuid": "5e4f9f5b66017fb178608632d9f9bc07cc825853",
    "execution": {
     "iopub.execute_input": "2022-11-28T23:39:21.766807Z",
     "iopub.status.busy": "2022-11-28T23:39:21.766339Z",
     "iopub.status.idle": "2022-11-28T23:39:22.038773Z",
     "shell.execute_reply": "2022-11-28T23:39:22.037789Z",
     "shell.execute_reply.started": "2022-11-28T23:39:21.766726Z"
    }
   },
   "outputs": [
    {
     "name": "stderr",
     "output_type": "stream",
     "text": [
      "C:\\Users\\Utilisateur\\anaconda3\\lib\\site-packages\\sklearn\\cluster\\_kmeans.py:1036: UserWarning: KMeans is known to have a memory leak on Windows with MKL, when there are less chunks than available threads. You can avoid it by setting the environment variable OMP_NUM_THREADS=1.\n",
      "  warnings.warn(\n"
     ]
    }
   ],
   "source": [
    "\n",
    "from sklearn.cluster import KMeans\n",
    "wcss=[]\n",
    "\n",
    "\n",
    "for i in range(1,11):\n",
    "    kmeans = KMeans(n_clusters= i, init='k-means++', random_state=0)\n",
    "    kmeans.fit(X)\n",
    "    wcss.append(kmeans.inertia_)\n",
    "\n"
   ]
  },
  {
   "cell_type": "code",
   "execution_count": 9,
   "metadata": {
    "_uuid": "3a8226bd446bfce88342d98fea5d00d5c7b57a9e",
    "execution": {
     "iopub.execute_input": "2022-11-28T23:39:32.417574Z",
     "iopub.status.busy": "2022-11-28T23:39:32.417197Z",
     "iopub.status.idle": "2022-11-28T23:39:32.59701Z",
     "shell.execute_reply": "2022-11-28T23:39:32.596135Z",
     "shell.execute_reply.started": "2022-11-28T23:39:32.417524Z"
    }
   },
   "outputs": [
    {
     "data": {
      "image/png": "[encoded data removed]",
      "text/plain": [
       "<Figure size 432x288 with 1 Axes>"
      ]
     },
     "metadata": {
      "needs_background": "light"
     },
     "output_type": "display_data"
    }
   ],
   "source": [
    "#Elbow mwtodu ile cluster saysini belirleme\n",
    "plt.plot(range(1,11), wcss)\n",
    "plt.title('The Elbow Method')\n",
    "plt.xlabel('no of clusters')\n",
    "plt.ylabel('wcss')\n",
    "plt.show()"
   ]
  },
  {
   "cell_type": "code",
   "execution_count": 10,
   "metadata": {
    "_uuid": "5b0ff8bf00fb9e9635e1c5302ffdbc2e9abd517e",
    "execution": {
     "iopub.execute_input": "2022-11-28T23:39:48.549868Z",
     "iopub.status.busy": "2022-11-28T23:39:48.549495Z",
     "iopub.status.idle": "2022-11-28T23:39:48.585364Z",
     "shell.execute_reply": "2022-11-28T23:39:48.584473Z",
     "shell.execute_reply.started": "2022-11-28T23:39:48.549786Z"
    }
   },
   "outputs": [],
   "source": [
    "\n",
    "#Model \n",
    "kmeansmodel = KMeans(n_clusters= 3, init='k-means++', random_state=0)\n",
    "y_kmeans= kmeansmodel.fit_predict(X)\n"
   ]
  },
  {
   "cell_type": "code",
   "execution_count": 11,
   "metadata": {
    "_uuid": "5f68302f4aba23e471848f1dd1701bbc84c72d34",
    "execution": {
     "iopub.execute_input": "2022-11-28T23:40:39.671604Z",
     "iopub.status.busy": "2022-11-28T23:40:39.671214Z",
     "iopub.status.idle": "2022-11-28T23:40:40.04318Z",
     "shell.execute_reply": "2022-11-28T23:40:40.041927Z",
     "shell.execute_reply.started": "2022-11-28T23:40:39.671527Z"
    }
   },
   "outputs": [
    {
     "data": {
      "image/png": "[encoded data removed]",
      "text/plain": [
       "<Figure size 432x288 with 1 Axes>"
      ]
     },
     "metadata": {
      "needs_background": "light"
     },
     "output_type": "display_data"
    }
   ],
   "source": [
    "plt.scatter(X[y_kmeans == 0, 0], X[y_kmeans == 0, 1], s = 100, c = 'red', label = 'Cluster 1')\n",
    "plt.scatter(X[y_kmeans == 1, 0], X[y_kmeans == 1, 1], s = 100, c = 'blue', label = 'Cluster 2')\n",
    "plt.scatter(X[y_kmeans == 2, 0], X[y_kmeans == 2, 1], s = 100, c = 'green', label = 'Cluster 3')\n",
    "plt.scatter(kmeans.cluster_centers_[:, 0], kmeans.cluster_centers_[:, 1], s = 300, c = 'yellow', label = 'Centroids')\n",
    "plt.title('Clusters of customers')\n",
    "plt.xlabel('Annual Income (k$)')\n",
    "plt.ylabel('Spending Score (1-100)')\n",
    "plt.legend()\n",
    "plt.show()\n"
   ]
  },
  {
   "cell_type": "code",
   "execution_count": 12,
   "metadata": {},
   "outputs": [],
   "source": [
    "dataset['Cluster']= y_kmeans"
   ]
  },
  {
   "cell_type": "code",
   "execution_count": 13,
   "metadata": {
    "execution": {
     "iopub.execute_input": "2022-11-29T00:12:07.193662Z",
     "iopub.status.busy": "2022-11-29T00:12:07.193267Z",
     "iopub.status.idle": "2022-11-29T00:12:07.200213Z",
     "shell.execute_reply": "2022-11-29T00:12:07.199366Z",
     "shell.execute_reply.started": "2022-11-29T00:12:07.193615Z"
    }
   },
   "outputs": [],
   "source": [
    "dataset0=dataset[dataset['Cluster']==1]"
   ]
  },
  {
   "cell_type": "code",
   "execution_count": 14,
   "metadata": {
    "execution": {
     "iopub.execute_input": "2022-11-29T00:12:11.636366Z",
     "iopub.status.busy": "2022-11-29T00:12:11.635755Z",
     "iopub.status.idle": "2022-11-29T00:12:11.641781Z",
     "shell.execute_reply": "2022-11-29T00:12:11.640797Z",
     "shell.execute_reply.started": "2022-11-29T00:12:11.6363Z"
    }
   },
   "outputs": [],
   "source": [
    "dataset1=dataset[dataset['Cluster']==2]"
   ]
  },
  {
   "cell_type": "code",
   "execution_count": 15,
   "metadata": {
    "execution": {
     "iopub.execute_input": "2022-11-29T00:09:53.19087Z",
     "iopub.status.busy": "2022-11-29T00:09:53.190535Z",
     "iopub.status.idle": "2022-11-29T00:09:53.19744Z",
     "shell.execute_reply": "2022-11-29T00:09:53.196098Z",
     "shell.execute_reply.started": "2022-11-29T00:09:53.190821Z"
    }
   },
   "outputs": [],
   "source": [
    "dataset2=dataset[dataset['Cluster']==3]"
   ]
  },
  {
   "cell_type": "code",
   "execution_count": 16,
   "metadata": {
    "execution": {
     "iopub.execute_input": "2022-11-29T00:10:07.206495Z",
     "iopub.status.busy": "2022-11-29T00:10:07.20551Z",
     "iopub.status.idle": "2022-11-29T00:10:07.214773Z",
     "shell.execute_reply": "2022-11-29T00:10:07.213881Z",
     "shell.execute_reply.started": "2022-11-29T00:10:07.206402Z"
    }
   },
   "outputs": [
    {
     "data": {
      "text/plain": [
       "40.32520325203252"
      ]
     },
     "execution_count": 16,
     "metadata": {},
     "output_type": "execute_result"
    }
   ],
   "source": [
    "dataset0['Age'].mean()"
   ]
  },
  {
   "cell_type": "code",
   "execution_count": 17,
   "metadata": {
    "execution": {
     "iopub.execute_input": "2022-11-29T00:16:27.849526Z",
     "iopub.status.busy": "2022-11-29T00:16:27.849157Z",
     "iopub.status.idle": "2022-11-29T00:16:27.85708Z",
     "shell.execute_reply": "2022-11-29T00:16:27.855956Z",
     "shell.execute_reply.started": "2022-11-29T00:16:27.849481Z"
    }
   },
   "outputs": [
    {
     "data": {
      "text/plain": [
       "70"
      ]
     },
     "execution_count": 17,
     "metadata": {},
     "output_type": "execute_result"
    }
   ],
   "source": [
    "dataset0['Age'].max()"
   ]
  },
  {
   "cell_type": "code",
   "execution_count": 18,
   "metadata": {},
   "outputs": [
    {
     "data": {
      "text/plain": [
       "82.12820512820512"
      ]
     },
     "execution_count": 18,
     "metadata": {},
     "output_type": "execute_result"
    }
   ],
   "source": [
    "dataset1['Spending Score (1-100)'].mean()"
   ]
  },
  {
   "cell_type": "code",
   "execution_count": 19,
   "metadata": {
    "execution": {
     "iopub.execute_input": "2022-11-29T00:17:00.489132Z",
     "iopub.status.busy": "2022-11-29T00:17:00.488669Z",
     "iopub.status.idle": "2022-11-29T00:17:00.496294Z",
     "shell.execute_reply": "2022-11-29T00:17:00.49542Z",
     "shell.execute_reply.started": "2022-11-29T00:17:00.489045Z"
    }
   },
   "outputs": [
    {
     "data": {
      "text/plain": [
       "97"
      ]
     },
     "execution_count": 19,
     "metadata": {},
     "output_type": "execute_result"
    }
   ],
   "source": [
    "dataset1['Spending Score (1-100)'].max()"
   ]
  },
  {
   "cell_type": "code",
   "execution_count": 20,
   "metadata": {
    "execution": {
     "iopub.execute_input": "2022-11-29T00:04:03.67231Z",
     "iopub.status.busy": "2022-11-29T00:04:03.67202Z",
     "iopub.status.idle": "2022-11-29T00:04:03.679497Z",
     "shell.execute_reply": "2022-11-29T00:04:03.678302Z",
     "shell.execute_reply.started": "2022-11-29T00:04:03.672272Z"
    }
   },
   "outputs": [
    {
     "data": {
      "text/plain": [
       "86.53846153846153"
      ]
     },
     "execution_count": 20,
     "metadata": {},
     "output_type": "execute_result"
    }
   ],
   "source": [
    "dataset1['Annual Income (k$)'].mean()"
   ]
  },
  {
   "cell_type": "code",
   "execution_count": 21,
   "metadata": {
    "execution": {
     "iopub.execute_input": "2022-11-29T00:17:22.444485Z",
     "iopub.status.busy": "2022-11-29T00:17:22.444131Z",
     "iopub.status.idle": "2022-11-29T00:17:22.450644Z",
     "shell.execute_reply": "2022-11-29T00:17:22.449731Z",
     "shell.execute_reply.started": "2022-11-29T00:17:22.444423Z"
    }
   },
   "outputs": [
    {
     "data": {
      "text/plain": [
       "137"
      ]
     },
     "execution_count": 21,
     "metadata": {},
     "output_type": "execute_result"
    }
   ],
   "source": [
    "dataset1['Annual Income (k$)'].max()"
   ]
  },
  {
   "cell_type": "code",
   "execution_count": 22,
   "metadata": {},
   "outputs": [
    {
     "data": {
      "text/plain": [
       "nan"
      ]
     },
     "execution_count": 22,
     "metadata": {},
     "output_type": "execute_result"
    }
   ],
   "source": [
    "dataset2['Age'].mean()"
   ]
  },
  {
   "cell_type": "code",
   "execution_count": 23,
   "metadata": {
    "execution": {
     "iopub.execute_input": "2022-11-29T00:18:53.906837Z",
     "iopub.status.busy": "2022-11-29T00:18:53.906294Z",
     "iopub.status.idle": "2022-11-29T00:18:53.911938Z",
     "shell.execute_reply": "2022-11-29T00:18:53.911269Z",
     "shell.execute_reply.started": "2022-11-29T00:18:53.906789Z"
    }
   },
   "outputs": [
    {
     "data": {
      "text/plain": [
       "nan"
      ]
     },
     "execution_count": 23,
     "metadata": {},
     "output_type": "execute_result"
    }
   ],
   "source": [
    "dataset2['Age'].max()"
   ]
  },
  {
   "cell_type": "code",
   "execution_count": 24,
   "metadata": {
    "execution": {
     "iopub.execute_input": "2022-11-29T00:14:37.55901Z",
     "iopub.status.busy": "2022-11-29T00:14:37.558427Z",
     "iopub.status.idle": "2022-11-29T00:14:37.568258Z",
     "shell.execute_reply": "2022-11-29T00:14:37.567213Z",
     "shell.execute_reply.started": "2022-11-29T00:14:37.558682Z"
    }
   },
   "outputs": [
    {
     "data": {
      "text/plain": [
       "49.829268292682926"
      ]
     },
     "execution_count": 24,
     "metadata": {},
     "output_type": "execute_result"
    }
   ],
   "source": [
    "dataset0['Spending Score (1-100)'].mean()"
   ]
  },
  {
   "cell_type": "code",
   "execution_count": 25,
   "metadata": {
    "execution": {
     "iopub.execute_input": "2022-11-29T00:19:32.127079Z",
     "iopub.status.busy": "2022-11-29T00:19:32.12659Z",
     "iopub.status.idle": "2022-11-29T00:19:32.133533Z",
     "shell.execute_reply": "2022-11-29T00:19:32.132394Z",
     "shell.execute_reply.started": "2022-11-29T00:19:32.127032Z"
    }
   },
   "outputs": [
    {
     "data": {
      "text/plain": [
       "99"
      ]
     },
     "execution_count": 25,
     "metadata": {},
     "output_type": "execute_result"
    }
   ],
   "source": [
    "dataset0['Spending Score (1-100)'].max()"
   ]
  },
  {
   "cell_type": "code",
   "execution_count": 26,
   "metadata": {
    "execution": {
     "iopub.execute_input": "2022-11-29T00:11:30.474515Z",
     "iopub.status.busy": "2022-11-29T00:11:30.473807Z",
     "iopub.status.idle": "2022-11-29T00:11:30.482588Z",
     "shell.execute_reply": "2022-11-29T00:11:30.481043Z",
     "shell.execute_reply.started": "2022-11-29T00:11:30.474125Z"
    }
   },
   "outputs": [
    {
     "data": {
      "text/plain": [
       "44.15447154471545"
      ]
     },
     "execution_count": 26,
     "metadata": {},
     "output_type": "execute_result"
    }
   ],
   "source": [
    "dataset0['Annual Income (k$)'].mean()"
   ]
  },
  {
   "cell_type": "code",
   "execution_count": 27,
   "metadata": {
    "execution": {
     "iopub.execute_input": "2022-11-29T00:19:54.46426Z",
     "iopub.status.busy": "2022-11-29T00:19:54.463694Z",
     "iopub.status.idle": "2022-11-29T00:19:54.470425Z",
     "shell.execute_reply": "2022-11-29T00:19:54.469709Z",
     "shell.execute_reply.started": "2022-11-29T00:19:54.463992Z"
    }
   },
   "outputs": [
    {
     "data": {
      "text/plain": [
       "69"
      ]
     },
     "execution_count": 27,
     "metadata": {},
     "output_type": "execute_result"
    }
   ],
   "source": [
    "dataset0['Annual Income (k$)'].max()"
   ]
  },
  {
   "cell_type": "code",
   "execution_count": 28,
   "metadata": {
    "execution": {
     "iopub.execute_input": "2022-11-29T00:15:29.116052Z",
     "iopub.status.busy": "2022-11-29T00:15:29.115726Z",
     "iopub.status.idle": "2022-11-29T00:15:29.123522Z",
     "shell.execute_reply": "2022-11-29T00:15:29.122541Z",
     "shell.execute_reply.started": "2022-11-29T00:15:29.116003Z"
    }
   },
   "outputs": [
    {
     "data": {
      "text/plain": [
       "40.32520325203252"
      ]
     },
     "execution_count": 28,
     "metadata": {},
     "output_type": "execute_result"
    }
   ],
   "source": [
    "dataset0['Age'].mean()"
   ]
  },
  {
   "cell_type": "code",
   "execution_count": null,
   "metadata": {},
   "outputs": [],
   "source": []
  }
 ],
 "metadata": {
  "kernelspec": {
   "display_name": "Python 3 (ipykernel)",
   "language": "python",
   "name": "python3"
  },
  "language_info": {
   "codemirror_mode": {
    "name": "ipython",
    "version": 3
   },
   "file_extension": ".py",
   "mimetype": "text/x-python",
   "name": "python",
   "nbconvert_exporter": "python",
   "pygments_lexer": "ipython3",
   "version": "3.9.12"
  }
 },
 "nbformat": 4,
 "nbformat_minor": 4
}
