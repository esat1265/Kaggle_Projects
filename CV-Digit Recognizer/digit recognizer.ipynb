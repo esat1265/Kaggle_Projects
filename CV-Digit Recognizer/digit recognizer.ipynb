{
 "cells": [
  {
   "cell_type": "code",
   "execution_count": 1,
   "metadata": {
    "execution": {
     "iopub.execute_input": "2023-02-24T18:38:38.074Z",
     "iopub.status.busy": "2023-02-24T18:38:38.073577Z",
     "iopub.status.idle": "2023-02-24T18:38:38.079313Z",
     "shell.execute_reply": "2023-02-24T18:38:38.078218Z",
     "shell.execute_reply.started": "2023-02-24T18:38:38.073935Z"
    }
   },
   "outputs": [],
   "source": [
    "import numpy as np\n",
    "import pandas as pd\n",
    "import matplotlib.pyplot as plt"
   ]
  },
  {
   "cell_type": "code",
   "execution_count": 3,
   "metadata": {
    "execution": {
     "iopub.execute_input": "2023-02-24T18:38:38.865109Z",
     "iopub.status.busy": "2023-02-24T18:38:38.863996Z",
     "iopub.status.idle": "2023-02-24T18:38:42.315756Z",
     "shell.execute_reply": "2023-02-24T18:38:42.314361Z",
     "shell.execute_reply.started": "2023-02-24T18:38:38.865062Z"
    }
   },
   "outputs": [],
   "source": [
    "train=pd.read_csv(\"train.csv\")\n",
    "test=pd.read_csv(\"test.csv\")"
   ]
  },
  {
   "cell_type": "code",
   "execution_count": 4,
   "metadata": {
    "execution": {
     "iopub.execute_input": "2023-02-24T18:38:42.319615Z",
     "iopub.status.busy": "2023-02-24T18:38:42.31864Z",
     "iopub.status.idle": "2023-02-24T18:38:42.404486Z",
     "shell.execute_reply": "2023-02-24T18:38:42.403453Z",
     "shell.execute_reply.started": "2023-02-24T18:38:42.319572Z"
    }
   },
   "outputs": [],
   "source": [
    "x_train = train.drop(labels = [\"label\"],axis = 1) \n",
    "y_train = train[\"label\"]"
   ]
  },
  {
   "cell_type": "code",
   "execution_count": 5,
   "metadata": {
    "execution": {
     "iopub.execute_input": "2023-02-24T18:38:42.406596Z",
     "iopub.status.busy": "2023-02-24T18:38:42.406001Z",
     "iopub.status.idle": "2023-02-24T18:38:42.413668Z",
     "shell.execute_reply": "2023-02-24T18:38:42.41194Z",
     "shell.execute_reply.started": "2023-02-24T18:38:42.406558Z"
    }
   },
   "outputs": [],
   "source": [
    "x_train = x_train.values.reshape(-1,28,28,1)\n",
    "x_test = test.values.reshape(-1,28,28,1)"
   ]
  },
  {
   "cell_type": "code",
   "execution_count": 6,
   "metadata": {
    "execution": {
     "iopub.execute_input": "2023-02-24T18:38:42.416958Z",
     "iopub.status.busy": "2023-02-24T18:38:42.416572Z",
     "iopub.status.idle": "2023-02-24T18:38:42.661288Z",
     "shell.execute_reply": "2023-02-24T18:38:42.65974Z",
     "shell.execute_reply.started": "2023-02-24T18:38:42.416908Z"
    }
   },
   "outputs": [],
   "source": [
    "x_train=x_train/x_train.max()\n",
    "x_test=x_test/x_test.max()"
   ]
  },
  {
   "cell_type": "code",
   "execution_count": 7,
   "metadata": {
    "execution": {
     "iopub.execute_input": "2023-02-24T18:38:42.663785Z",
     "iopub.status.busy": "2023-02-24T18:38:42.662868Z",
     "iopub.status.idle": "2023-02-24T18:38:42.669269Z",
     "shell.execute_reply": "2023-02-24T18:38:42.668011Z",
     "shell.execute_reply.started": "2023-02-24T18:38:42.663739Z"
    }
   },
   "outputs": [],
   "source": [
    "from keras.utils.np_utils import to_categorical"
   ]
  },
  {
   "cell_type": "code",
   "execution_count": 8,
   "metadata": {
    "execution": {
     "iopub.execute_input": "2023-02-24T18:38:42.671514Z",
     "iopub.status.busy": "2023-02-24T18:38:42.671107Z",
     "iopub.status.idle": "2023-02-24T18:38:42.682269Z",
     "shell.execute_reply": "2023-02-24T18:38:42.681334Z",
     "shell.execute_reply.started": "2023-02-24T18:38:42.671476Z"
    }
   },
   "outputs": [],
   "source": [
    "y_cat_train=to_categorical(y_train,10)"
   ]
  },
  {
   "cell_type": "code",
   "execution_count": 9,
   "metadata": {
    "execution": {
     "iopub.execute_input": "2023-02-24T18:38:42.685637Z",
     "iopub.status.busy": "2023-02-24T18:38:42.684805Z",
     "iopub.status.idle": "2023-02-24T18:38:42.693345Z",
     "shell.execute_reply": "2023-02-24T18:38:42.692492Z",
     "shell.execute_reply.started": "2023-02-24T18:38:42.685578Z"
    }
   },
   "outputs": [],
   "source": [
    "from keras.models import Sequential\n",
    "from keras.layers import Dense,Conv2D,MaxPool2D,Flatten"
   ]
  },
  {
   "cell_type": "code",
   "execution_count": 10,
   "metadata": {
    "execution": {
     "iopub.execute_input": "2023-02-24T18:39:44.945763Z",
     "iopub.status.busy": "2023-02-24T18:39:44.945007Z",
     "iopub.status.idle": "2023-02-24T18:39:45.004912Z",
     "shell.execute_reply": "2023-02-24T18:39:45.003942Z",
     "shell.execute_reply.started": "2023-02-24T18:39:44.945723Z"
    }
   },
   "outputs": [],
   "source": [
    "model=Sequential()\n",
    "\n",
    "model.add(Conv2D(filters=64,kernel_size=(4,4),input_shape=(28,28,1),activation=\"relu\"))\n",
    "\n",
    "model.add(MaxPool2D(pool_size=(2,2)))\n",
    "\n",
    "model.add(Conv2D(filters=64,kernel_size=(4,4),input_shape=(28,28,1),activation=\"relu\"))\n",
    "\n",
    "model.add(MaxPool2D(pool_size=(2,2)))\n",
    "\n",
    "model.add(Flatten())\n",
    "\n",
    "model.add(Dense(128,activation=\"relu\"))\n",
    "\n",
    "model.add(Dense(10,activation=\"softmax\"))"
   ]
  },
  {
   "cell_type": "code",
   "execution_count": 11,
   "metadata": {
    "execution": {
     "iopub.execute_input": "2023-02-24T18:39:47.123422Z",
     "iopub.status.busy": "2023-02-24T18:39:47.123048Z",
     "iopub.status.idle": "2023-02-24T18:39:47.135225Z",
     "shell.execute_reply": "2023-02-24T18:39:47.134086Z",
     "shell.execute_reply.started": "2023-02-24T18:39:47.123389Z"
    }
   },
   "outputs": [],
   "source": [
    "model.compile(loss=\"categorical_crossentropy\",optimizer=\"adam\",metrics=[\"accuracy\"])"
   ]
  },
  {
   "cell_type": "code",
   "execution_count": 13,
   "metadata": {
    "execution": {
     "iopub.execute_input": "2023-02-24T18:40:02.781407Z",
     "iopub.status.busy": "2023-02-24T18:40:02.781045Z",
     "iopub.status.idle": "2023-02-24T18:45:25.546014Z",
     "shell.execute_reply": "2023-02-24T18:45:25.544767Z",
     "shell.execute_reply.started": "2023-02-24T18:40:02.781377Z"
    }
   },
   "outputs": [
    {
     "name": "stdout",
     "output_type": "stream",
     "text": [
      "1313/1313 [==============================] - 58s 44ms/step - loss: 0.0778 - accuracy: 0.9760\n"
     ]
    },
    {
     "data": {
      "text/plain": [
       "<keras.callbacks.History at 0x21c4cc81760>"
      ]
     },
     "execution_count": 13,
     "metadata": {},
     "output_type": "execute_result"
    }
   ],
   "source": [
    "model.fit(x_train,y_cat_train,epochs=1,verbose=1)"
   ]
  },
  {
   "cell_type": "code",
   "execution_count": 14,
   "metadata": {
    "execution": {
     "iopub.execute_input": "2023-02-24T18:45:25.54875Z",
     "iopub.status.busy": "2023-02-24T18:45:25.548085Z",
     "iopub.status.idle": "2023-02-24T18:45:27.776762Z",
     "shell.execute_reply": "2023-02-24T18:45:27.775689Z",
     "shell.execute_reply.started": "2023-02-24T18:45:25.548712Z"
    }
   },
   "outputs": [
    {
     "name": "stdout",
     "output_type": "stream",
     "text": [
      "875/875 [==============================] - 11s 12ms/step\n"
     ]
    }
   ],
   "source": [
    "preds=model.predict(x_test)"
   ]
  },
  {
   "cell_type": "code",
   "execution_count": 15,
   "metadata": {
    "execution": {
     "iopub.execute_input": "2023-02-24T18:45:27.779197Z",
     "iopub.status.busy": "2023-02-24T18:45:27.778183Z",
     "iopub.status.idle": "2023-02-24T18:45:27.787497Z",
     "shell.execute_reply": "2023-02-24T18:45:27.786382Z",
     "shell.execute_reply.started": "2023-02-24T18:45:27.779149Z"
    }
   },
   "outputs": [
    {
     "data": {
      "text/plain": [
       "array([2, 0, 9, ..., 3, 9, 2], dtype=int64)"
      ]
     },
     "execution_count": 15,
     "metadata": {},
     "output_type": "execute_result"
    }
   ],
   "source": [
    "preds=np.argmax(preds,axis=1)\n",
    "preds"
   ]
  },
  {
   "cell_type": "code",
   "execution_count": 16,
   "metadata": {
    "execution": {
     "iopub.execute_input": "2023-02-24T18:45:27.790722Z",
     "iopub.status.busy": "2023-02-24T18:45:27.789963Z",
     "iopub.status.idle": "2023-02-24T18:45:27.798289Z",
     "shell.execute_reply": "2023-02-24T18:45:27.797211Z",
     "shell.execute_reply.started": "2023-02-24T18:45:27.790678Z"
    }
   },
   "outputs": [],
   "source": [
    "preds=pd.Series(data=preds)"
   ]
  },
  {
   "cell_type": "code",
   "execution_count": 17,
   "metadata": {
    "execution": {
     "iopub.execute_input": "2023-02-24T18:45:30.370722Z",
     "iopub.status.busy": "2023-02-24T18:45:30.369894Z",
     "iopub.status.idle": "2023-02-24T18:45:30.375613Z",
     "shell.execute_reply": "2023-02-24T18:45:30.374384Z",
     "shell.execute_reply.started": "2023-02-24T18:45:30.370681Z"
    }
   },
   "outputs": [],
   "source": [
    "Label=preds"
   ]
  },
  {
   "cell_type": "code",
   "execution_count": 18,
   "metadata": {
    "execution": {
     "iopub.execute_input": "2023-02-24T18:45:30.898628Z",
     "iopub.status.busy": "2023-02-24T18:45:30.897914Z",
     "iopub.status.idle": "2023-02-24T18:45:30.904398Z",
     "shell.execute_reply": "2023-02-24T18:45:30.90325Z",
     "shell.execute_reply.started": "2023-02-24T18:45:30.898591Z"
    }
   },
   "outputs": [],
   "source": [
    "ImageId=np.arange(1,28001,1)"
   ]
  },
  {
   "cell_type": "code",
   "execution_count": 19,
   "metadata": {
    "execution": {
     "iopub.execute_input": "2023-02-24T18:45:31.539629Z",
     "iopub.status.busy": "2023-02-24T18:45:31.53879Z",
     "iopub.status.idle": "2023-02-24T18:45:31.547056Z",
     "shell.execute_reply": "2023-02-24T18:45:31.543772Z",
     "shell.execute_reply.started": "2023-02-24T18:45:31.539589Z"
    }
   },
   "outputs": [],
   "source": [
    "ImageId=pd.Series(data=ImageId)"
   ]
  },
  {
   "cell_type": "code",
   "execution_count": 20,
   "metadata": {
    "execution": {
     "iopub.execute_input": "2023-02-24T18:45:32.258785Z",
     "iopub.status.busy": "2023-02-24T18:45:32.258399Z",
     "iopub.status.idle": "2023-02-24T18:45:32.265199Z",
     "shell.execute_reply": "2023-02-24T18:45:32.264065Z",
     "shell.execute_reply.started": "2023-02-24T18:45:32.258751Z"
    }
   },
   "outputs": [],
   "source": [
    "submit=pd.concat([ImageId,Label],axis=1)"
   ]
  },
  {
   "cell_type": "code",
   "execution_count": 21,
   "metadata": {
    "execution": {
     "iopub.execute_input": "2023-02-24T18:45:33.702137Z",
     "iopub.status.busy": "2023-02-24T18:45:33.701453Z",
     "iopub.status.idle": "2023-02-24T18:45:33.708352Z",
     "shell.execute_reply": "2023-02-24T18:45:33.70689Z",
     "shell.execute_reply.started": "2023-02-24T18:45:33.702099Z"
    }
   },
   "outputs": [],
   "source": [
    "submit.rename(columns={0: \"ImageId\"},inplace=True)"
   ]
  },
  {
   "cell_type": "code",
   "execution_count": 22,
   "metadata": {
    "execution": {
     "iopub.execute_input": "2023-02-24T18:45:34.697082Z",
     "iopub.status.busy": "2023-02-24T18:45:34.696597Z",
     "iopub.status.idle": "2023-02-24T18:45:34.703754Z",
     "shell.execute_reply": "2023-02-24T18:45:34.702651Z",
     "shell.execute_reply.started": "2023-02-24T18:45:34.697042Z"
    }
   },
   "outputs": [],
   "source": [
    "submit.rename(columns={1: \"Label\"},inplace=True)"
   ]
  },
  {
   "cell_type": "code",
   "execution_count": 23,
   "metadata": {
    "execution": {
     "iopub.execute_input": "2023-02-24T18:45:35.23698Z",
     "iopub.status.busy": "2023-02-24T18:45:35.236562Z",
     "iopub.status.idle": "2023-02-24T18:45:35.250412Z",
     "shell.execute_reply": "2023-02-24T18:45:35.24927Z",
     "shell.execute_reply.started": "2023-02-24T18:45:35.236915Z"
    }
   },
   "outputs": [
    {
     "data": {
      "text/html": [
       "<div>\n",
       "<style scoped>\n",
       "    .dataframe tbody tr th:only-of-type {\n",
       "        vertical-align: middle;\n",
       "    }\n",
       "\n",
       "    .dataframe tbody tr th {\n",
       "        vertical-align: top;\n",
       "    }\n",
       "\n",
       "    .dataframe thead th {\n",
       "        text-align: right;\n",
       "    }\n",
       "</style>\n",
       "<table border=\"1\" class=\"dataframe\">\n",
       "  <thead>\n",
       "    <tr style=\"text-align: right;\">\n",
       "      <th></th>\n",
       "      <th>ImageId</th>\n",
       "      <th>Label</th>\n",
       "    </tr>\n",
       "  </thead>\n",
       "  <tbody>\n",
       "    <tr>\n",
       "      <th>0</th>\n",
       "      <td>1</td>\n",
       "      <td>2</td>\n",
       "    </tr>\n",
       "    <tr>\n",
       "      <th>1</th>\n",
       "      <td>2</td>\n",
       "      <td>0</td>\n",
       "    </tr>\n",
       "    <tr>\n",
       "      <th>2</th>\n",
       "      <td>3</td>\n",
       "      <td>9</td>\n",
       "    </tr>\n",
       "    <tr>\n",
       "      <th>3</th>\n",
       "      <td>4</td>\n",
       "      <td>9</td>\n",
       "    </tr>\n",
       "    <tr>\n",
       "      <th>4</th>\n",
       "      <td>5</td>\n",
       "      <td>3</td>\n",
       "    </tr>\n",
       "    <tr>\n",
       "      <th>...</th>\n",
       "      <td>...</td>\n",
       "      <td>...</td>\n",
       "    </tr>\n",
       "    <tr>\n",
       "      <th>27995</th>\n",
       "      <td>27996</td>\n",
       "      <td>9</td>\n",
       "    </tr>\n",
       "    <tr>\n",
       "      <th>27996</th>\n",
       "      <td>27997</td>\n",
       "      <td>7</td>\n",
       "    </tr>\n",
       "    <tr>\n",
       "      <th>27997</th>\n",
       "      <td>27998</td>\n",
       "      <td>3</td>\n",
       "    </tr>\n",
       "    <tr>\n",
       "      <th>27998</th>\n",
       "      <td>27999</td>\n",
       "      <td>9</td>\n",
       "    </tr>\n",
       "    <tr>\n",
       "      <th>27999</th>\n",
       "      <td>28000</td>\n",
       "      <td>2</td>\n",
       "    </tr>\n",
       "  </tbody>\n",
       "</table>\n",
       "<p>28000 rows × 2 columns</p>\n",
       "</div>"
      ],
      "text/plain": [
       "       ImageId  Label\n",
       "0            1      2\n",
       "1            2      0\n",
       "2            3      9\n",
       "3            4      9\n",
       "4            5      3\n",
       "...        ...    ...\n",
       "27995    27996      9\n",
       "27996    27997      7\n",
       "27997    27998      3\n",
       "27998    27999      9\n",
       "27999    28000      2\n",
       "\n",
       "[28000 rows x 2 columns]"
      ]
     },
     "execution_count": 23,
     "metadata": {},
     "output_type": "execute_result"
    }
   ],
   "source": [
    "submit"
   ]
  },
  {
   "cell_type": "code",
   "execution_count": 25,
   "metadata": {},
   "outputs": [],
   "source": [
    "submit.to_csv('submission.csv',index=False)"
   ]
  },
  {
   "cell_type": "code",
   "execution_count": null,
   "metadata": {},
   "outputs": [],
   "source": []
  }
 ],
 "metadata": {
  "kernelspec": {
   "display_name": "Python 3 (ipykernel)",
   "language": "python",
   "name": "python3"
  },
  "language_info": {
   "codemirror_mode": {
    "name": "ipython",
    "version": 3
   },
   "file_extension": ".py",
   "mimetype": "text/x-python",
   "name": "python",
   "nbconvert_exporter": "python",
   "pygments_lexer": "ipython3",
   "version": "3.9.12"
  }
 },
 "nbformat": 4,
 "nbformat_minor": 4
}
