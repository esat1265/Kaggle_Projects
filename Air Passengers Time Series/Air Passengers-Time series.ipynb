{
 "cells": [
  {
   "cell_type": "markdown",
   "metadata": {},
   "source": [
    "# Air Passengers-Time series"
   ]
  },
  {
   "cell_type": "markdown",
   "metadata": {},
   "source": [
    "## 1. Loading Python libraries"
   ]
  },
  {
   "cell_type": "code",
   "execution_count": 1,
   "metadata": {
    "execution": {
     "iopub.execute_input": "2023-01-09T04:06:47.685914Z",
     "iopub.status.busy": "2023-01-09T04:06:47.685597Z",
     "iopub.status.idle": "2023-01-09T04:06:47.69149Z",
     "shell.execute_reply": "2023-01-09T04:06:47.690312Z",
     "shell.execute_reply.started": "2023-01-09T04:06:47.685889Z"
    }
   },
   "outputs": [],
   "source": [
    "# let import packages \n",
    "import pandas as pd\n",
    "import matplotlib.pyplot as plt\n",
    "import numpy as np\n",
    "import seaborn as sns\n",
    "\n",
    "from scipy import stats"
   ]
  },
  {
   "cell_type": "code",
   "execution_count": 2,
   "metadata": {
    "execution": {
     "iopub.execute_input": "2023-01-09T04:06:47.694183Z",
     "iopub.status.busy": "2023-01-09T04:06:47.693676Z",
     "iopub.status.idle": "2023-01-09T04:06:47.707002Z",
     "shell.execute_reply": "2023-01-09T04:06:47.706222Z",
     "shell.execute_reply.started": "2023-01-09T04:06:47.694152Z"
    }
   },
   "outputs": [],
   "source": [
    "plt.style.use('ggplot')"
   ]
  },
  {
   "cell_type": "markdown",
   "metadata": {},
   "source": [
    "## 2. Loading Data"
   ]
  },
  {
   "cell_type": "code",
   "execution_count": 4,
   "metadata": {
    "execution": {
     "iopub.execute_input": "2023-01-09T04:06:47.72181Z",
     "iopub.status.busy": "2023-01-09T04:06:47.721398Z",
     "iopub.status.idle": "2023-01-09T04:06:47.731451Z",
     "shell.execute_reply": "2023-01-09T04:06:47.730511Z",
     "shell.execute_reply.started": "2023-01-09T04:06:47.72178Z"
    }
   },
   "outputs": [],
   "source": [
    "df = pd.read_csv('AirPassengers.csv', \n",
    "                 index_col=0, #set index as date column\n",
    "                 parse_dates=True) #parse date into datetime dtype"
   ]
  },
  {
   "cell_type": "markdown",
   "metadata": {},
   "source": [
    "## 3. Exploring Data"
   ]
  },
  {
   "cell_type": "code",
   "execution_count": 5,
   "metadata": {
    "execution": {
     "iopub.execute_input": "2023-01-09T04:06:47.732879Z",
     "iopub.status.busy": "2023-01-09T04:06:47.732466Z",
     "iopub.status.idle": "2023-01-09T04:06:47.741427Z",
     "shell.execute_reply": "2023-01-09T04:06:47.740813Z",
     "shell.execute_reply.started": "2023-01-09T04:06:47.732854Z"
    }
   },
   "outputs": [
    {
     "data": {
      "text/plain": [
       "(144, 1)"
      ]
     },
     "execution_count": 5,
     "metadata": {},
     "output_type": "execute_result"
    }
   ],
   "source": [
    "df.shape"
   ]
  },
  {
   "cell_type": "code",
   "execution_count": 6,
   "metadata": {
    "execution": {
     "iopub.execute_input": "2023-01-09T04:06:47.743104Z",
     "iopub.status.busy": "2023-01-09T04:06:47.742716Z",
     "iopub.status.idle": "2023-01-09T04:06:47.755992Z",
     "shell.execute_reply": "2023-01-09T04:06:47.755376Z",
     "shell.execute_reply.started": "2023-01-09T04:06:47.743081Z"
    }
   },
   "outputs": [
    {
     "data": {
      "text/html": [
       "<div>\n",
       "<style scoped>\n",
       "    .dataframe tbody tr th:only-of-type {\n",
       "        vertical-align: middle;\n",
       "    }\n",
       "\n",
       "    .dataframe tbody tr th {\n",
       "        vertical-align: top;\n",
       "    }\n",
       "\n",
       "    .dataframe thead th {\n",
       "        text-align: right;\n",
       "    }\n",
       "</style>\n",
       "<table border=\"1\" class=\"dataframe\">\n",
       "  <thead>\n",
       "    <tr style=\"text-align: right;\">\n",
       "      <th></th>\n",
       "      <th>#Passengers</th>\n",
       "    </tr>\n",
       "    <tr>\n",
       "      <th>Month</th>\n",
       "      <th></th>\n",
       "    </tr>\n",
       "  </thead>\n",
       "  <tbody>\n",
       "    <tr>\n",
       "      <th>1949-01-01</th>\n",
       "      <td>112</td>\n",
       "    </tr>\n",
       "    <tr>\n",
       "      <th>1949-02-01</th>\n",
       "      <td>118</td>\n",
       "    </tr>\n",
       "    <tr>\n",
       "      <th>1949-03-01</th>\n",
       "      <td>132</td>\n",
       "    </tr>\n",
       "    <tr>\n",
       "      <th>1949-04-01</th>\n",
       "      <td>129</td>\n",
       "    </tr>\n",
       "    <tr>\n",
       "      <th>1949-05-01</th>\n",
       "      <td>121</td>\n",
       "    </tr>\n",
       "  </tbody>\n",
       "</table>\n",
       "</div>"
      ],
      "text/plain": [
       "            #Passengers\n",
       "Month                  \n",
       "1949-01-01          112\n",
       "1949-02-01          118\n",
       "1949-03-01          132\n",
       "1949-04-01          129\n",
       "1949-05-01          121"
      ]
     },
     "execution_count": 6,
     "metadata": {},
     "output_type": "execute_result"
    }
   ],
   "source": [
    "df.head()"
   ]
  },
  {
   "cell_type": "code",
   "execution_count": 7,
   "metadata": {
    "execution": {
     "iopub.execute_input": "2023-01-09T04:06:47.757249Z",
     "iopub.status.busy": "2023-01-09T04:06:47.756898Z",
     "iopub.status.idle": "2023-01-09T04:06:47.767533Z",
     "shell.execute_reply": "2023-01-09T04:06:47.766725Z",
     "shell.execute_reply.started": "2023-01-09T04:06:47.757228Z"
    }
   },
   "outputs": [
    {
     "data": {
      "text/html": [
       "<div>\n",
       "<style scoped>\n",
       "    .dataframe tbody tr th:only-of-type {\n",
       "        vertical-align: middle;\n",
       "    }\n",
       "\n",
       "    .dataframe tbody tr th {\n",
       "        vertical-align: top;\n",
       "    }\n",
       "\n",
       "    .dataframe thead th {\n",
       "        text-align: right;\n",
       "    }\n",
       "</style>\n",
       "<table border=\"1\" class=\"dataframe\">\n",
       "  <thead>\n",
       "    <tr style=\"text-align: right;\">\n",
       "      <th></th>\n",
       "      <th>#Passengers</th>\n",
       "    </tr>\n",
       "    <tr>\n",
       "      <th>Month</th>\n",
       "      <th></th>\n",
       "    </tr>\n",
       "  </thead>\n",
       "  <tbody>\n",
       "    <tr>\n",
       "      <th>1960-08-01</th>\n",
       "      <td>606</td>\n",
       "    </tr>\n",
       "    <tr>\n",
       "      <th>1960-09-01</th>\n",
       "      <td>508</td>\n",
       "    </tr>\n",
       "    <tr>\n",
       "      <th>1960-10-01</th>\n",
       "      <td>461</td>\n",
       "    </tr>\n",
       "    <tr>\n",
       "      <th>1960-11-01</th>\n",
       "      <td>390</td>\n",
       "    </tr>\n",
       "    <tr>\n",
       "      <th>1960-12-01</th>\n",
       "      <td>432</td>\n",
       "    </tr>\n",
       "  </tbody>\n",
       "</table>\n",
       "</div>"
      ],
      "text/plain": [
       "            #Passengers\n",
       "Month                  \n",
       "1960-08-01          606\n",
       "1960-09-01          508\n",
       "1960-10-01          461\n",
       "1960-11-01          390\n",
       "1960-12-01          432"
      ]
     },
     "execution_count": 7,
     "metadata": {},
     "output_type": "execute_result"
    }
   ],
   "source": [
    "df.tail()"
   ]
  },
  {
   "cell_type": "code",
   "execution_count": 8,
   "metadata": {
    "execution": {
     "iopub.execute_input": "2023-01-09T04:06:47.768931Z",
     "iopub.status.busy": "2023-01-09T04:06:47.768691Z",
     "iopub.status.idle": "2023-01-09T04:06:47.788958Z",
     "shell.execute_reply": "2023-01-09T04:06:47.787679Z",
     "shell.execute_reply.started": "2023-01-09T04:06:47.76891Z"
    }
   },
   "outputs": [
    {
     "name": "stdout",
     "output_type": "stream",
     "text": [
      "<class 'pandas.core.frame.DataFrame'>\n",
      "DatetimeIndex: 144 entries, 1949-01-01 to 1960-12-01\n",
      "Data columns (total 1 columns):\n",
      " #   Column       Non-Null Count  Dtype\n",
      "---  ------       --------------  -----\n",
      " 0   #Passengers  144 non-null    int64\n",
      "dtypes: int64(1)\n",
      "memory usage: 2.2 KB\n"
     ]
    }
   ],
   "source": [
    "df.info()"
   ]
  },
  {
   "cell_type": "code",
   "execution_count": 9,
   "metadata": {
    "execution": {
     "iopub.execute_input": "2023-01-09T04:06:47.790504Z",
     "iopub.status.busy": "2023-01-09T04:06:47.790185Z",
     "iopub.status.idle": "2023-01-09T04:06:47.814542Z",
     "shell.execute_reply": "2023-01-09T04:06:47.813505Z",
     "shell.execute_reply.started": "2023-01-09T04:06:47.790476Z"
    }
   },
   "outputs": [
    {
     "data": {
      "text/html": [
       "<div>\n",
       "<style scoped>\n",
       "    .dataframe tbody tr th:only-of-type {\n",
       "        vertical-align: middle;\n",
       "    }\n",
       "\n",
       "    .dataframe tbody tr th {\n",
       "        vertical-align: top;\n",
       "    }\n",
       "\n",
       "    .dataframe thead th {\n",
       "        text-align: right;\n",
       "    }\n",
       "</style>\n",
       "<table border=\"1\" class=\"dataframe\">\n",
       "  <thead>\n",
       "    <tr style=\"text-align: right;\">\n",
       "      <th></th>\n",
       "      <th>count</th>\n",
       "      <th>mean</th>\n",
       "      <th>std</th>\n",
       "      <th>min</th>\n",
       "      <th>25%</th>\n",
       "      <th>50%</th>\n",
       "      <th>75%</th>\n",
       "      <th>max</th>\n",
       "    </tr>\n",
       "  </thead>\n",
       "  <tbody>\n",
       "    <tr>\n",
       "      <th>#Passengers</th>\n",
       "      <td>144.0</td>\n",
       "      <td>280.298611</td>\n",
       "      <td>119.966317</td>\n",
       "      <td>104.0</td>\n",
       "      <td>180.0</td>\n",
       "      <td>265.5</td>\n",
       "      <td>360.5</td>\n",
       "      <td>622.0</td>\n",
       "    </tr>\n",
       "  </tbody>\n",
       "</table>\n",
       "</div>"
      ],
      "text/plain": [
       "             count        mean         std    min    25%    50%    75%    max\n",
       "#Passengers  144.0  280.298611  119.966317  104.0  180.0  265.5  360.5  622.0"
      ]
     },
     "execution_count": 9,
     "metadata": {},
     "output_type": "execute_result"
    }
   ],
   "source": [
    "df.describe().T"
   ]
  },
  {
   "cell_type": "code",
   "execution_count": 10,
   "metadata": {
    "execution": {
     "iopub.execute_input": "2023-01-09T04:06:47.81793Z",
     "iopub.status.busy": "2023-01-09T04:06:47.817618Z",
     "iopub.status.idle": "2023-01-09T04:06:47.824453Z",
     "shell.execute_reply": "2023-01-09T04:06:47.823715Z",
     "shell.execute_reply.started": "2023-01-09T04:06:47.817907Z"
    }
   },
   "outputs": [
    {
     "name": "stdout",
     "output_type": "stream",
     "text": [
      "Dataset spans 4352 days 00:00:00\n"
     ]
    }
   ],
   "source": [
    "# Dataset timeframe\n",
    "print('Dataset spans', df.index.max() - df.index.min())"
   ]
  },
  {
   "cell_type": "code",
   "execution_count": 11,
   "metadata": {
    "execution": {
     "iopub.execute_input": "2023-01-09T04:06:47.95875Z",
     "iopub.status.busy": "2023-01-09T04:06:47.958393Z",
     "iopub.status.idle": "2023-01-09T04:06:47.963813Z",
     "shell.execute_reply": "2023-01-09T04:06:47.962636Z",
     "shell.execute_reply.started": "2023-01-09T04:06:47.95872Z"
    }
   },
   "outputs": [],
   "source": [
    "# Rename column and index\n",
    "df.columns = ['air_passengers']\n",
    "df.index.names = ['date']"
   ]
  },
  {
   "cell_type": "code",
   "execution_count": 12,
   "metadata": {
    "execution": {
     "iopub.execute_input": "2023-01-09T04:06:47.965898Z",
     "iopub.status.busy": "2023-01-09T04:06:47.965552Z",
     "iopub.status.idle": "2023-01-09T04:06:47.980221Z",
     "shell.execute_reply": "2023-01-09T04:06:47.979397Z",
     "shell.execute_reply.started": "2023-01-09T04:06:47.965862Z"
    }
   },
   "outputs": [
    {
     "data": {
      "text/html": [
       "<div>\n",
       "<style scoped>\n",
       "    .dataframe tbody tr th:only-of-type {\n",
       "        vertical-align: middle;\n",
       "    }\n",
       "\n",
       "    .dataframe tbody tr th {\n",
       "        vertical-align: top;\n",
       "    }\n",
       "\n",
       "    .dataframe thead th {\n",
       "        text-align: right;\n",
       "    }\n",
       "</style>\n",
       "<table border=\"1\" class=\"dataframe\">\n",
       "  <thead>\n",
       "    <tr style=\"text-align: right;\">\n",
       "      <th></th>\n",
       "      <th>air_passengers</th>\n",
       "    </tr>\n",
       "    <tr>\n",
       "      <th>date</th>\n",
       "      <th></th>\n",
       "    </tr>\n",
       "  </thead>\n",
       "  <tbody>\n",
       "    <tr>\n",
       "      <th>1949-01-01</th>\n",
       "      <td>112</td>\n",
       "    </tr>\n",
       "    <tr>\n",
       "      <th>1949-02-01</th>\n",
       "      <td>118</td>\n",
       "    </tr>\n",
       "    <tr>\n",
       "      <th>1949-03-01</th>\n",
       "      <td>132</td>\n",
       "    </tr>\n",
       "  </tbody>\n",
       "</table>\n",
       "</div>"
      ],
      "text/plain": [
       "            air_passengers\n",
       "date                      \n",
       "1949-01-01             112\n",
       "1949-02-01             118\n",
       "1949-03-01             132"
      ]
     },
     "execution_count": 12,
     "metadata": {},
     "output_type": "execute_result"
    }
   ],
   "source": [
    "df.head(3)"
   ]
  },
  {
   "cell_type": "markdown",
   "metadata": {},
   "source": [
    "**Documentation:**\n",
    "* The data set is comprised of monthly air passenger figures (1000's) from Jan 1949 until Dec 1960 (144 months = 144 observations) without missing or zero values"
   ]
  },
  {
   "cell_type": "markdown",
   "metadata": {},
   "source": [
    "### Data visualization"
   ]
  },
  {
   "cell_type": "code",
   "execution_count": 13,
   "metadata": {
    "execution": {
     "iopub.execute_input": "2023-01-09T04:06:47.981625Z",
     "iopub.status.busy": "2023-01-09T04:06:47.981302Z",
     "iopub.status.idle": "2023-01-09T04:06:48.215432Z",
     "shell.execute_reply": "2023-01-09T04:06:48.214586Z",
     "shell.execute_reply.started": "2023-01-09T04:06:47.981593Z"
    },
    "tags": []
   },
   "outputs": [
    {
     "data": {
      "image/png": "[encoded data removed]",
      "text/plain": [
       "<Figure size 432x288 with 1 Axes>"
      ]
     },
     "metadata": {},
     "output_type": "display_data"
    }
   ],
   "source": [
    "# Plot data\n",
    "fig, ax = plt.subplots(figsize=(6,4))\n",
    "df.plot(ax=ax, color='green')\n",
    "plt.xlabel('Year')\n",
    "plt.ylabel(\"Air passengers (1000's) per month\");"
   ]
  },
  {
   "cell_type": "code",
   "execution_count": 14,
   "metadata": {
    "execution": {
     "iopub.execute_input": "2023-01-09T04:06:48.217788Z",
     "iopub.status.busy": "2023-01-09T04:06:48.216749Z",
     "iopub.status.idle": "2023-01-09T04:06:48.227465Z",
     "shell.execute_reply": "2023-01-09T04:06:48.226254Z",
     "shell.execute_reply.started": "2023-01-09T04:06:48.217748Z"
    }
   },
   "outputs": [],
   "source": [
    "# Subset air passenger figures according to date\n",
    "N = 50\n",
    "first = df.loc['1950':'1954'].sample(N, random_state=42)\n",
    "second = df.loc['1955':'1959'].sample(N, random_state=42)"
   ]
  },
  {
   "cell_type": "code",
   "execution_count": 15,
   "metadata": {
    "execution": {
     "iopub.execute_input": "2023-01-09T04:06:48.231784Z",
     "iopub.status.busy": "2023-01-09T04:06:48.231362Z",
     "iopub.status.idle": "2023-01-09T04:06:48.243393Z",
     "shell.execute_reply": "2023-01-09T04:06:48.24201Z",
     "shell.execute_reply.started": "2023-01-09T04:06:48.231748Z"
    }
   },
   "outputs": [
    {
     "data": {
      "text/html": [
       "<div>\n",
       "<style scoped>\n",
       "    .dataframe tbody tr th:only-of-type {\n",
       "        vertical-align: middle;\n",
       "    }\n",
       "\n",
       "    .dataframe tbody tr th {\n",
       "        vertical-align: top;\n",
       "    }\n",
       "\n",
       "    .dataframe thead th {\n",
       "        text-align: right;\n",
       "    }\n",
       "</style>\n",
       "<table border=\"1\" class=\"dataframe\">\n",
       "  <thead>\n",
       "    <tr style=\"text-align: right;\">\n",
       "      <th></th>\n",
       "      <th>air_passengers</th>\n",
       "    </tr>\n",
       "    <tr>\n",
       "      <th>date</th>\n",
       "      <th></th>\n",
       "    </tr>\n",
       "  </thead>\n",
       "  <tbody>\n",
       "    <tr>\n",
       "      <th>1950-01-01</th>\n",
       "      <td>115</td>\n",
       "    </tr>\n",
       "    <tr>\n",
       "      <th>1950-06-01</th>\n",
       "      <td>149</td>\n",
       "    </tr>\n",
       "    <tr>\n",
       "      <th>1953-01-01</th>\n",
       "      <td>196</td>\n",
       "    </tr>\n",
       "  </tbody>\n",
       "</table>\n",
       "</div>"
      ],
      "text/plain": [
       "            air_passengers\n",
       "date                      \n",
       "1950-01-01             115\n",
       "1950-06-01             149\n",
       "1953-01-01             196"
      ]
     },
     "execution_count": 15,
     "metadata": {},
     "output_type": "execute_result"
    }
   ],
   "source": [
    "first.head(3)"
   ]
  },
  {
   "cell_type": "code",
   "execution_count": 16,
   "metadata": {
    "execution": {
     "iopub.execute_input": "2023-01-09T04:06:48.245103Z",
     "iopub.status.busy": "2023-01-09T04:06:48.244661Z",
     "iopub.status.idle": "2023-01-09T04:06:48.257179Z",
     "shell.execute_reply": "2023-01-09T04:06:48.256577Z",
     "shell.execute_reply.started": "2023-01-09T04:06:48.245077Z"
    }
   },
   "outputs": [
    {
     "data": {
      "text/html": [
       "<div>\n",
       "<style scoped>\n",
       "    .dataframe tbody tr th:only-of-type {\n",
       "        vertical-align: middle;\n",
       "    }\n",
       "\n",
       "    .dataframe tbody tr th {\n",
       "        vertical-align: top;\n",
       "    }\n",
       "\n",
       "    .dataframe thead th {\n",
       "        text-align: right;\n",
       "    }\n",
       "</style>\n",
       "<table border=\"1\" class=\"dataframe\">\n",
       "  <thead>\n",
       "    <tr style=\"text-align: right;\">\n",
       "      <th></th>\n",
       "      <th>air_passengers</th>\n",
       "    </tr>\n",
       "    <tr>\n",
       "      <th>date</th>\n",
       "      <th></th>\n",
       "    </tr>\n",
       "  </thead>\n",
       "  <tbody>\n",
       "    <tr>\n",
       "      <th>1955-01-01</th>\n",
       "      <td>242</td>\n",
       "    </tr>\n",
       "    <tr>\n",
       "      <th>1955-06-01</th>\n",
       "      <td>315</td>\n",
       "    </tr>\n",
       "    <tr>\n",
       "      <th>1958-01-01</th>\n",
       "      <td>340</td>\n",
       "    </tr>\n",
       "  </tbody>\n",
       "</table>\n",
       "</div>"
      ],
      "text/plain": [
       "            air_passengers\n",
       "date                      \n",
       "1955-01-01             242\n",
       "1955-06-01             315\n",
       "1958-01-01             340"
      ]
     },
     "execution_count": 16,
     "metadata": {},
     "output_type": "execute_result"
    }
   ],
   "source": [
    "second.head(3)"
   ]
  },
  {
   "cell_type": "code",
   "execution_count": 17,
   "metadata": {
    "execution": {
     "iopub.execute_input": "2023-01-09T04:06:48.258733Z",
     "iopub.status.busy": "2023-01-09T04:06:48.258043Z",
     "iopub.status.idle": "2023-01-09T04:06:48.270229Z",
     "shell.execute_reply": "2023-01-09T04:06:48.269146Z",
     "shell.execute_reply.started": "2023-01-09T04:06:48.258702Z"
    }
   },
   "outputs": [
    {
     "name": "stdout",
     "output_type": "stream",
     "text": [
      "\u001b[1m1950-1954:\u001b[0m DescribeResult(nobs=50, minmax=(array([114], dtype=int64), array([302], dtype=int64)), mean=array([192.66]), variance=array([2071.73918367]), skewness=array([0.33352597]), kurtosis=array([-0.42179706]))\n",
      "\u001b[1m1955-1959:\u001b[0m DescribeResult(nobs=50, minmax=(array([233], dtype=int64), array([559], dtype=int64)), mean=array([355.36]), variance=array([5923.78612245]), skewness=array([0.7416299]), kurtosis=array([0.12863719]))\n"
     ]
    }
   ],
   "source": [
    "# Compute descriptive statistics\n",
    "print('\\033[1m1950-1954:\\033[0m', stats.describe(first))\n",
    "print('\\033[1m1955-1959:\\033[0m', stats.describe(second))"
   ]
  },
  {
   "cell_type": "code",
   "execution_count": 18,
   "metadata": {
    "execution": {
     "iopub.execute_input": "2023-01-09T04:06:48.272447Z",
     "iopub.status.busy": "2023-01-09T04:06:48.271466Z",
     "iopub.status.idle": "2023-01-09T04:06:48.280019Z",
     "shell.execute_reply": "2023-01-09T04:06:48.278846Z",
     "shell.execute_reply.started": "2023-01-09T04:06:48.272415Z"
    }
   },
   "outputs": [],
   "source": [
    "def plot_histogram(data1, data2, label1, label2, xlabel):\n",
    "    \"\"\"Function to plot data distribution as histogram\"\"\"\n",
    "    plt.figure(figsize=(6,4))\n",
    "    bins = int(np.sqrt(len(data1)))\n",
    "\n",
    "    plt.hist(data1, bins=bins, label=label1, alpha=0.5)\n",
    "    plt.hist(data2, bins=bins, label=label2, alpha=0.5)\n",
    "    plt.xlabel(xlabel)\n",
    "    plt.ylabel('Count')\n",
    "    plt.legend();    "
   ]
  },
  {
   "cell_type": "code",
   "execution_count": 19,
   "metadata": {
    "execution": {
     "iopub.execute_input": "2023-01-09T04:06:48.283068Z",
     "iopub.status.busy": "2023-01-09T04:06:48.282313Z",
     "iopub.status.idle": "2023-01-09T04:06:48.469581Z",
     "shell.execute_reply": "2023-01-09T04:06:48.468528Z",
     "shell.execute_reply.started": "2023-01-09T04:06:48.283029Z"
    }
   },
   "outputs": [
    {
     "data": {
      "image/png": "[encoded data removed]",
      "text/plain": [
       "<Figure size 432x288 with 1 Axes>"
      ]
     },
     "metadata": {},
     "output_type": "display_data"
    }
   ],
   "source": [
    "plot_histogram(data1 = first, data2 = second, label1 = '1950-1954', label2 = '1955-1959', xlabel = \"Air passengers (1000's) per month\")"
   ]
  },
  {
   "cell_type": "code",
   "execution_count": 20,
   "metadata": {
    "execution": {
     "iopub.execute_input": "2023-01-09T04:06:48.470984Z",
     "iopub.status.busy": "2023-01-09T04:06:48.470702Z",
     "iopub.status.idle": "2023-01-09T04:06:48.476631Z",
     "shell.execute_reply": "2023-01-09T04:06:48.475544Z",
     "shell.execute_reply.started": "2023-01-09T04:06:48.470961Z"
    }
   },
   "outputs": [],
   "source": [
    "# Function to compute CDF\n",
    "def ecdf(data):\n",
    "    \"\"\"Compute ECDF for a one-dimensional array of measurements.\"\"\"\n",
    "    # Number of data points: n\n",
    "    n = len(data)\n",
    "\n",
    "    # x-data for the ECDF: x\n",
    "    x = np.sort(data)\n",
    "\n",
    "    # y-data for the ECDF: y\n",
    "    y = np.arange(1, n+1) / n\n",
    "\n",
    "    return x, y"
   ]
  },
  {
   "cell_type": "code",
   "execution_count": 21,
   "metadata": {
    "execution": {
     "iopub.execute_input": "2023-01-09T04:06:48.478151Z",
     "iopub.status.busy": "2023-01-09T04:06:48.477899Z",
     "iopub.status.idle": "2023-01-09T04:06:48.49192Z",
     "shell.execute_reply": "2023-01-09T04:06:48.490874Z",
     "shell.execute_reply.started": "2023-01-09T04:06:48.47813Z"
    }
   },
   "outputs": [],
   "source": [
    "# Define data in dict to be checked for normal distribution \n",
    "data = {'1950-1954': first,\n",
    "        '1955-1959': second}"
   ]
  },
  {
   "cell_type": "code",
   "execution_count": 22,
   "metadata": {
    "execution": {
     "iopub.execute_input": "2023-01-09T04:06:48.493867Z",
     "iopub.status.busy": "2023-01-09T04:06:48.493468Z",
     "iopub.status.idle": "2023-01-09T04:06:48.507035Z",
     "shell.execute_reply": "2023-01-09T04:06:48.506044Z",
     "shell.execute_reply.started": "2023-01-09T04:06:48.493833Z"
    }
   },
   "outputs": [
    {
     "data": {
      "text/html": [
       "<div>\n",
       "<style scoped>\n",
       "    .dataframe tbody tr th:only-of-type {\n",
       "        vertical-align: middle;\n",
       "    }\n",
       "\n",
       "    .dataframe tbody tr th {\n",
       "        vertical-align: top;\n",
       "    }\n",
       "\n",
       "    .dataframe thead th {\n",
       "        text-align: right;\n",
       "    }\n",
       "</style>\n",
       "<table border=\"1\" class=\"dataframe\">\n",
       "  <thead>\n",
       "    <tr style=\"text-align: right;\">\n",
       "      <th></th>\n",
       "      <th>air_passengers</th>\n",
       "    </tr>\n",
       "    <tr>\n",
       "      <th>date</th>\n",
       "      <th></th>\n",
       "    </tr>\n",
       "  </thead>\n",
       "  <tbody>\n",
       "    <tr>\n",
       "      <th>1950-01-01</th>\n",
       "      <td>115</td>\n",
       "    </tr>\n",
       "    <tr>\n",
       "      <th>1950-06-01</th>\n",
       "      <td>149</td>\n",
       "    </tr>\n",
       "    <tr>\n",
       "      <th>1953-01-01</th>\n",
       "      <td>196</td>\n",
       "    </tr>\n",
       "  </tbody>\n",
       "</table>\n",
       "</div>"
      ],
      "text/plain": [
       "            air_passengers\n",
       "date                      \n",
       "1950-01-01             115\n",
       "1950-06-01             149\n",
       "1953-01-01             196"
      ]
     },
     "execution_count": 22,
     "metadata": {},
     "output_type": "execute_result"
    }
   ],
   "source": [
    "data['1950-1954'][:3]"
   ]
  },
  {
   "cell_type": "code",
   "execution_count": 23,
   "metadata": {
    "execution": {
     "iopub.execute_input": "2023-01-09T04:06:48.508703Z",
     "iopub.status.busy": "2023-01-09T04:06:48.508346Z",
     "iopub.status.idle": "2023-01-09T04:06:48.834693Z",
     "shell.execute_reply": "2023-01-09T04:06:48.833857Z",
     "shell.execute_reply.started": "2023-01-09T04:06:48.508672Z"
    }
   },
   "outputs": [
    {
     "data": {
      "image/png": "[encoded data removed]",
      "text/plain": [
       "<Figure size 432x288 with 1 Axes>"
      ]
     },
     "metadata": {},
     "output_type": "display_data"
    },
    {
     "data": {
      "image/png": "[encoded data removed]",
      "text/plain": [
       "<Figure size 432x288 with 1 Axes>"
      ]
     },
     "metadata": {},
     "output_type": "display_data"
    }
   ],
   "source": [
    "# Compute and plot CDF of experimental and simulated data (into separate figures)\n",
    "\n",
    "for key, value in data.items():\n",
    "    \n",
    "    # Access respective dict data\n",
    "    col = data[key].iloc[:,0]\n",
    "    \n",
    "    # Compute ECDF of experimental data\n",
    "    x, y = ecdf(col)\n",
    "\n",
    "    # Compute CDF of simulated data\n",
    "    np.random.seed(42)\n",
    "    mean = np.mean(col)\n",
    "    std = np.std(col)\n",
    "    samples = np.random.normal(mean, std, size=10000)\n",
    "    x_theor, y_theor = ecdf(samples)\n",
    "    \n",
    "    # Plot ECDF and theoretical CDF\n",
    "    plt.figure(figsize=(6,4))\n",
    "    plt.plot(x_theor, y_theor)\n",
    "    plt.plot(x, y, marker = '.', linestyle = 'none')\n",
    "    plt.xlabel(f\"Air passengers (1000's) per month ({key})\", labelpad=10)\n",
    "    plt.ylabel('CDF')\n",
    "    plt.legend(('simulated', 'experimental'), loc = 'lower right');"
   ]
  },
  {
   "cell_type": "code",
   "execution_count": 24,
   "metadata": {
    "execution": {
     "iopub.execute_input": "2023-01-09T04:06:48.838864Z",
     "iopub.status.busy": "2023-01-09T04:06:48.838564Z",
     "iopub.status.idle": "2023-01-09T04:06:48.842688Z",
     "shell.execute_reply": "2023-01-09T04:06:48.841904Z",
     "shell.execute_reply.started": "2023-01-09T04:06:48.83884Z"
    }
   },
   "outputs": [],
   "source": [
    "# Confidence level\n",
    "alpha = 0.05"
   ]
  },
  {
   "cell_type": "code",
   "execution_count": 25,
   "metadata": {
    "execution": {
     "iopub.execute_input": "2023-01-09T04:06:48.844659Z",
     "iopub.status.busy": "2023-01-09T04:06:48.844309Z",
     "iopub.status.idle": "2023-01-09T04:06:48.85381Z",
     "shell.execute_reply": "2023-01-09T04:06:48.852958Z",
     "shell.execute_reply.started": "2023-01-09T04:06:48.844629Z"
    }
   },
   "outputs": [],
   "source": [
    "def test_normality(data, alpha=0.05):\n",
    "    \"\"\"\n",
    "    Function performing Shapiro_Wilk Test and returning \n",
    "    a significance message on data normality\n",
    "    \n",
    "    Inputs:\n",
    "    Array of sample data, alpha: confidence level    \n",
    "    \"\"\"\n",
    "    \n",
    "    # Null Hypothesis Dictionary\n",
    "    null_hypothesis = {'H0': \"Data is normally distributed.\",\n",
    "                       'H1': \"Data does not come from a normal distribution.\"}\n",
    "    \n",
    "    statistic, p_value = stats.shapiro(data)\n",
    "    print(\"test_statistic =\", np.round(statistic, 3))\n",
    "    print(\"p_value =\", np.round(p_value, 3))\n",
    "    \n",
    "    if p_value < alpha:\n",
    "        print('We reject the null hypothesis.')\n",
    "        print(null_hypothesis['H1'])\n",
    "    else:\n",
    "        print('We accept the null hypothesis.') \n",
    "        print(null_hypothesis['H0'])"
   ]
  },
  {
   "cell_type": "code",
   "execution_count": 26,
   "metadata": {
    "execution": {
     "iopub.execute_input": "2023-01-09T04:06:48.855929Z",
     "iopub.status.busy": "2023-01-09T04:06:48.855281Z",
     "iopub.status.idle": "2023-01-09T04:06:48.863132Z",
     "shell.execute_reply": "2023-01-09T04:06:48.862397Z",
     "shell.execute_reply.started": "2023-01-09T04:06:48.855898Z"
    }
   },
   "outputs": [
    {
     "name": "stdout",
     "output_type": "stream",
     "text": [
      "test_statistic = 0.979\n",
      "p_value = 0.524\n",
      "We accept the null hypothesis.\n",
      "Data is normally distributed.\n"
     ]
    }
   ],
   "source": [
    "# Test data for normality\n",
    "test_normality(first)"
   ]
  },
  {
   "cell_type": "code",
   "execution_count": 27,
   "metadata": {
    "execution": {
     "iopub.execute_input": "2023-01-09T04:06:48.865017Z",
     "iopub.status.busy": "2023-01-09T04:06:48.864101Z",
     "iopub.status.idle": "2023-01-09T04:06:48.880082Z",
     "shell.execute_reply": "2023-01-09T04:06:48.878999Z",
     "shell.execute_reply.started": "2023-01-09T04:06:48.86499Z"
    }
   },
   "outputs": [
    {
     "name": "stdout",
     "output_type": "stream",
     "text": [
      "Dataset \u001b[1m1950-1954:\u001b[0m\n",
      "test_statistic = 0.979\n",
      "p_value = 0.524\n",
      "We accept the null hypothesis.\n",
      "Data is normally distributed.\n",
      "\n",
      "\n",
      "Dataset \u001b[1m1955-1959:\u001b[0m\n",
      "test_statistic = 0.949\n",
      "p_value = 0.031\n",
      "We reject the null hypothesis.\n",
      "Data does not come from a normal distribution.\n",
      "\n",
      "\n"
     ]
    }
   ],
   "source": [
    "# Test data for normality (here: loop over data in dict)\n",
    "for key, value in data.items():\n",
    "    \n",
    "    # Access respective dict data\n",
    "    col = data[key]\n",
    "    \n",
    "    # Perform test and print result\n",
    "    print(f'Dataset \\033[1m{key}:\\033[0m')\n",
    "    test_normality(col)\n",
    "    print(f'\\n')   "
   ]
  },
  {
   "cell_type": "code",
   "execution_count": 28,
   "metadata": {
    "execution": {
     "iopub.execute_input": "2023-01-09T04:06:48.881796Z",
     "iopub.status.busy": "2023-01-09T04:06:48.881403Z",
     "iopub.status.idle": "2023-01-09T04:06:48.89051Z",
     "shell.execute_reply": "2023-01-09T04:06:48.889626Z",
     "shell.execute_reply.started": "2023-01-09T04:06:48.88176Z"
    }
   },
   "outputs": [],
   "source": [
    "def zscore(data):\n",
    "    \"\"\"\n",
    "    Function to center and scale data\n",
    "    Input: Array of sample data    \n",
    "    \"\"\"\n",
    "    zscore = (data - np.mean(data, axis=0)) / np.std(data)\n",
    "    return zscore"
   ]
  },
  {
   "cell_type": "code",
   "execution_count": 29,
   "metadata": {
    "execution": {
     "iopub.execute_input": "2023-01-09T04:06:48.892271Z",
     "iopub.status.busy": "2023-01-09T04:06:48.891792Z",
     "iopub.status.idle": "2023-01-09T04:06:48.904857Z",
     "shell.execute_reply": "2023-01-09T04:06:48.904004Z",
     "shell.execute_reply.started": "2023-01-09T04:06:48.892236Z"
    }
   },
   "outputs": [],
   "source": [
    "# Normalize data using z-score\n",
    "first_zscore = zscore(first)\n",
    "second_zscore = zscore(second)"
   ]
  },
  {
   "cell_type": "code",
   "execution_count": 30,
   "metadata": {
    "execution": {
     "iopub.execute_input": "2023-01-09T04:06:48.907448Z",
     "iopub.status.busy": "2023-01-09T04:06:48.905835Z",
     "iopub.status.idle": "2023-01-09T04:06:48.924084Z",
     "shell.execute_reply": "2023-01-09T04:06:48.922953Z",
     "shell.execute_reply.started": "2023-01-09T04:06:48.907402Z"
    }
   },
   "outputs": [
    {
     "data": {
      "text/html": [
       "<div>\n",
       "<style scoped>\n",
       "    .dataframe tbody tr th:only-of-type {\n",
       "        vertical-align: middle;\n",
       "    }\n",
       "\n",
       "    .dataframe tbody tr th {\n",
       "        vertical-align: top;\n",
       "    }\n",
       "\n",
       "    .dataframe thead th {\n",
       "        text-align: right;\n",
       "    }\n",
       "</style>\n",
       "<table border=\"1\" class=\"dataframe\">\n",
       "  <thead>\n",
       "    <tr style=\"text-align: right;\">\n",
       "      <th></th>\n",
       "      <th>air_passengers</th>\n",
       "    </tr>\n",
       "    <tr>\n",
       "      <th>date</th>\n",
       "      <th></th>\n",
       "    </tr>\n",
       "  </thead>\n",
       "  <tbody>\n",
       "    <tr>\n",
       "      <th>1950-01-01</th>\n",
       "      <td>-1.723522</td>\n",
       "    </tr>\n",
       "    <tr>\n",
       "      <th>1950-06-01</th>\n",
       "      <td>-0.968954</td>\n",
       "    </tr>\n",
       "    <tr>\n",
       "      <th>1953-01-01</th>\n",
       "      <td>0.074125</td>\n",
       "    </tr>\n",
       "  </tbody>\n",
       "</table>\n",
       "</div>"
      ],
      "text/plain": [
       "            air_passengers\n",
       "date                      \n",
       "1950-01-01       -1.723522\n",
       "1950-06-01       -0.968954\n",
       "1953-01-01        0.074125"
      ]
     },
     "execution_count": 30,
     "metadata": {},
     "output_type": "execute_result"
    }
   ],
   "source": [
    "first_zscore.head(3)"
   ]
  },
  {
   "cell_type": "code",
   "execution_count": 31,
   "metadata": {
    "execution": {
     "iopub.execute_input": "2023-01-09T04:06:48.925858Z",
     "iopub.status.busy": "2023-01-09T04:06:48.925226Z",
     "iopub.status.idle": "2023-01-09T04:06:48.935387Z",
     "shell.execute_reply": "2023-01-09T04:06:48.93453Z",
     "shell.execute_reply.started": "2023-01-09T04:06:48.925821Z"
    }
   },
   "outputs": [],
   "source": [
    "# Alternatively, loop over a list of dataframes to normalize data\n",
    "\n",
    "# List of dataframes to be normalized\n",
    "df_list = [first, second]\n",
    "\n",
    "# Empty list to store normalized data\n",
    "df_list_zscore = [] \n",
    "\n",
    "# Loop to normalize data\n",
    "for df in df_list:\n",
    "    zs = zscore(df)\n",
    "    df_list_zscore.append(zs)"
   ]
  },
  {
   "cell_type": "code",
   "execution_count": 32,
   "metadata": {
    "execution": {
     "iopub.execute_input": "2023-01-09T04:06:48.936869Z",
     "iopub.status.busy": "2023-01-09T04:06:48.936489Z",
     "iopub.status.idle": "2023-01-09T04:06:48.950919Z",
     "shell.execute_reply": "2023-01-09T04:06:48.950026Z",
     "shell.execute_reply.started": "2023-01-09T04:06:48.936843Z"
    }
   },
   "outputs": [
    {
     "data": {
      "text/html": [
       "<div>\n",
       "<style scoped>\n",
       "    .dataframe tbody tr th:only-of-type {\n",
       "        vertical-align: middle;\n",
       "    }\n",
       "\n",
       "    .dataframe tbody tr th {\n",
       "        vertical-align: top;\n",
       "    }\n",
       "\n",
       "    .dataframe thead th {\n",
       "        text-align: right;\n",
       "    }\n",
       "</style>\n",
       "<table border=\"1\" class=\"dataframe\">\n",
       "  <thead>\n",
       "    <tr style=\"text-align: right;\">\n",
       "      <th></th>\n",
       "      <th>air_passengers</th>\n",
       "    </tr>\n",
       "    <tr>\n",
       "      <th>date</th>\n",
       "      <th></th>\n",
       "    </tr>\n",
       "  </thead>\n",
       "  <tbody>\n",
       "    <tr>\n",
       "      <th>1950-01-01</th>\n",
       "      <td>-1.723522</td>\n",
       "    </tr>\n",
       "    <tr>\n",
       "      <th>1950-06-01</th>\n",
       "      <td>-0.968954</td>\n",
       "    </tr>\n",
       "    <tr>\n",
       "      <th>1953-01-01</th>\n",
       "      <td>0.074125</td>\n",
       "    </tr>\n",
       "  </tbody>\n",
       "</table>\n",
       "</div>"
      ],
      "text/plain": [
       "            air_passengers\n",
       "date                      \n",
       "1950-01-01       -1.723522\n",
       "1950-06-01       -0.968954\n",
       "1953-01-01        0.074125"
      ]
     },
     "execution_count": 32,
     "metadata": {},
     "output_type": "execute_result"
    }
   ],
   "source": [
    "df_list_zscore[0][:3]"
   ]
  },
  {
   "cell_type": "code",
   "execution_count": 33,
   "metadata": {
    "execution": {
     "iopub.execute_input": "2023-01-09T04:06:48.95243Z",
     "iopub.status.busy": "2023-01-09T04:06:48.952171Z",
     "iopub.status.idle": "2023-01-09T04:06:48.962027Z",
     "shell.execute_reply": "2023-01-09T04:06:48.961198Z",
     "shell.execute_reply.started": "2023-01-09T04:06:48.952407Z"
    }
   },
   "outputs": [
    {
     "name": "stdout",
     "output_type": "stream",
     "text": [
      "test_statistic = 0.979\n",
      "p_value = 0.524\n",
      "We accept the null hypothesis.\n",
      "Data is normally distributed.\n",
      "\n",
      "\n",
      "test_statistic = 0.949\n",
      "p_value = 0.031\n",
      "We reject the null hypothesis.\n",
      "Data does not come from a normal distribution.\n",
      "\n",
      "\n"
     ]
    }
   ],
   "source": [
    "# Perform Shapiro-Wilk Test to check if data is normally distributed \n",
    "# (here: loop over data in list)\n",
    "for df in df_list_zscore:\n",
    "        \n",
    "    # Perform test and print result\n",
    "    test_normality(df)\n",
    "    print(f'\\n')"
   ]
  },
  {
   "cell_type": "code",
   "execution_count": 34,
   "metadata": {
    "execution": {
     "iopub.execute_input": "2023-01-09T04:06:48.963913Z",
     "iopub.status.busy": "2023-01-09T04:06:48.963318Z",
     "iopub.status.idle": "2023-01-09T04:06:48.974831Z",
     "shell.execute_reply": "2023-01-09T04:06:48.973994Z",
     "shell.execute_reply.started": "2023-01-09T04:06:48.963874Z"
    }
   },
   "outputs": [],
   "source": [
    "# Alternatively, loop over data in dict to normalize data\n",
    "\n",
    "# Data in dict to be normalized\n",
    "data = {'1950-1954': first,\n",
    "        '1955-1959': second}\n",
    "\n",
    "# Empty dict to store normalized data\n",
    "data_zscore = {'1950-1954': [],\n",
    "               '1955-1959': []}\n",
    "    \n",
    "# Loop to normalize data\n",
    "for key, value in data.items():\n",
    "    \n",
    "    # Access respective dict data\n",
    "    col = data[key]\n",
    "    zs = zscore(col)\n",
    "    data_zscore[key].append(zs)"
   ]
  },
  {
   "cell_type": "code",
   "execution_count": 35,
   "metadata": {
    "execution": {
     "iopub.execute_input": "2023-01-09T04:06:48.976631Z",
     "iopub.status.busy": "2023-01-09T04:06:48.976271Z",
     "iopub.status.idle": "2023-01-09T04:06:48.991276Z",
     "shell.execute_reply": "2023-01-09T04:06:48.990552Z",
     "shell.execute_reply.started": "2023-01-09T04:06:48.976599Z"
    }
   },
   "outputs": [
    {
     "data": {
      "text/html": [
       "<div>\n",
       "<style scoped>\n",
       "    .dataframe tbody tr th:only-of-type {\n",
       "        vertical-align: middle;\n",
       "    }\n",
       "\n",
       "    .dataframe tbody tr th {\n",
       "        vertical-align: top;\n",
       "    }\n",
       "\n",
       "    .dataframe thead th {\n",
       "        text-align: right;\n",
       "    }\n",
       "</style>\n",
       "<table border=\"1\" class=\"dataframe\">\n",
       "  <thead>\n",
       "    <tr style=\"text-align: right;\">\n",
       "      <th></th>\n",
       "      <th>air_passengers</th>\n",
       "    </tr>\n",
       "    <tr>\n",
       "      <th>date</th>\n",
       "      <th></th>\n",
       "    </tr>\n",
       "  </thead>\n",
       "  <tbody>\n",
       "    <tr>\n",
       "      <th>1950-01-01</th>\n",
       "      <td>-1.723522</td>\n",
       "    </tr>\n",
       "    <tr>\n",
       "      <th>1950-06-01</th>\n",
       "      <td>-0.968954</td>\n",
       "    </tr>\n",
       "    <tr>\n",
       "      <th>1953-01-01</th>\n",
       "      <td>0.074125</td>\n",
       "    </tr>\n",
       "  </tbody>\n",
       "</table>\n",
       "</div>"
      ],
      "text/plain": [
       "            air_passengers\n",
       "date                      \n",
       "1950-01-01       -1.723522\n",
       "1950-06-01       -0.968954\n",
       "1953-01-01        0.074125"
      ]
     },
     "execution_count": 35,
     "metadata": {},
     "output_type": "execute_result"
    }
   ],
   "source": [
    "data_zscore['1950-1954'][0][:3]"
   ]
  },
  {
   "cell_type": "code",
   "execution_count": 36,
   "metadata": {
    "execution": {
     "iopub.execute_input": "2023-01-09T04:06:48.993187Z",
     "iopub.status.busy": "2023-01-09T04:06:48.992314Z",
     "iopub.status.idle": "2023-01-09T04:06:49.001982Z",
     "shell.execute_reply": "2023-01-09T04:06:49.000881Z",
     "shell.execute_reply.started": "2023-01-09T04:06:48.993158Z"
    }
   },
   "outputs": [
    {
     "name": "stdout",
     "output_type": "stream",
     "text": [
      "Dataset \u001b[1m1950-1954:\u001b[0m\n",
      "test_statistic = 0.979\n",
      "p_value = 0.524\n",
      "We accept the null hypothesis.\n",
      "Data is normally distributed.\n",
      "\n",
      "\n",
      "Dataset \u001b[1m1955-1959:\u001b[0m\n",
      "test_statistic = 0.949\n",
      "p_value = 0.031\n",
      "We reject the null hypothesis.\n",
      "Data does not come from a normal distribution.\n",
      "\n",
      "\n"
     ]
    }
   ],
   "source": [
    "# Perform Shapiro-Wilk Test to check if data is normally distributed \n",
    "# (here: loop over data in dict)\n",
    "for key, value in data_zscore.items():\n",
    "    \n",
    "    # Access respective dict data\n",
    "    col = data_zscore[key]\n",
    "    \n",
    "    # Perform test and print result\n",
    "    print(f'Dataset \\033[1m{key}:\\033[0m')\n",
    "    test_normality(col)\n",
    "    print(f'\\n')  "
   ]
  },
  {
   "cell_type": "code",
   "execution_count": 37,
   "metadata": {
    "execution": {
     "iopub.execute_input": "2023-01-09T04:06:49.00356Z",
     "iopub.status.busy": "2023-01-09T04:06:49.003292Z",
     "iopub.status.idle": "2023-01-09T04:06:49.191706Z",
     "shell.execute_reply": "2023-01-09T04:06:49.190462Z",
     "shell.execute_reply.started": "2023-01-09T04:06:49.003531Z"
    }
   },
   "outputs": [
    {
     "data": {
      "image/png": "[encoded data removed]",
      "text/plain": [
       "<Figure size 432x288 with 1 Axes>"
      ]
     },
     "metadata": {},
     "output_type": "display_data"
    }
   ],
   "source": [
    "# Plot histogram for normalized data\n",
    "plot_histogram(data1 = data_zscore['1950-1954'][0], data2 = data_zscore['1955-1959'][0], label1 = '1950-1954', label2 = '1955-1959', xlabel = \"Z-score (Air passengers (1000's) per month)\")"
   ]
  },
  {
   "cell_type": "code",
   "execution_count": 38,
   "metadata": {
    "execution": {
     "iopub.execute_input": "2023-01-09T04:06:49.193197Z",
     "iopub.status.busy": "2023-01-09T04:06:49.19291Z",
     "iopub.status.idle": "2023-01-09T04:06:49.403545Z",
     "shell.execute_reply": "2023-01-09T04:06:49.402915Z",
     "shell.execute_reply.started": "2023-01-09T04:06:49.193168Z"
    }
   },
   "outputs": [
    {
     "data": {
      "image/png": "[encoded data removed]",
      "text/plain": [
       "<Figure size 576x432 with 1 Axes>"
      ]
     },
     "metadata": {},
     "output_type": "display_data"
    }
   ],
   "source": [
    "# Normalized data: Compute and plot CDF of experimental and simulated data\n",
    "\n",
    "plt.figure(figsize=(8,6))\n",
    "\n",
    "for key, value in data_zscore.items():\n",
    "    \n",
    "    # Access respective dict data\n",
    "    col = data_zscore[key][0].iloc[:,0]\n",
    "    \n",
    "    # Compute ECDF of experimental data\n",
    "    x, y = ecdf(col)\n",
    "\n",
    "    # Compute CDF of simulated data\n",
    "    np.random.seed(42)\n",
    "    mean = np.mean(col)\n",
    "    std = np.std(col)\n",
    "    samples = np.random.normal(mean, std, size=10000)\n",
    "    x_theor, y_theor = ecdf(samples)\n",
    "\n",
    "    # Plot ECDF and theoretical CDF\n",
    "    plt.plot(x_theor, y_theor, label=f'{key} (simulated)')\n",
    "    plt.plot(x, y, marker = '.', linestyle = 'none', label=f'{key} (experimental)')\n",
    "    plt.xlabel(\"Z-score (Air passengers (1000's) per month)\", labelpad=10)\n",
    "    plt.ylabel('CDF')\n",
    "    plt.legend(loc = 'lower right');"
   ]
  },
  {
   "cell_type": "markdown",
   "metadata": {},
   "source": [
    "### Log transformation"
   ]
  },
  {
   "cell_type": "code",
   "execution_count": 39,
   "metadata": {
    "execution": {
     "iopub.execute_input": "2023-01-09T04:06:49.404983Z",
     "iopub.status.busy": "2023-01-09T04:06:49.404604Z",
     "iopub.status.idle": "2023-01-09T04:06:49.408377Z",
     "shell.execute_reply": "2023-01-09T04:06:49.407779Z",
     "shell.execute_reply.started": "2023-01-09T04:06:49.404958Z"
    }
   },
   "outputs": [],
   "source": [
    "# Normalize data using log transformation (prior offset transformation not required due to absence of zeros)\n",
    "first_log = np.log(first)\n",
    "second_log = np.log(second)"
   ]
  },
  {
   "cell_type": "code",
   "execution_count": 40,
   "metadata": {
    "execution": {
     "iopub.execute_input": "2023-01-09T04:06:49.409924Z",
     "iopub.status.busy": "2023-01-09T04:06:49.409502Z",
     "iopub.status.idle": "2023-01-09T04:06:49.425724Z",
     "shell.execute_reply": "2023-01-09T04:06:49.424737Z",
     "shell.execute_reply.started": "2023-01-09T04:06:49.4099Z"
    }
   },
   "outputs": [
    {
     "data": {
      "text/html": [
       "<div>\n",
       "<style scoped>\n",
       "    .dataframe tbody tr th:only-of-type {\n",
       "        vertical-align: middle;\n",
       "    }\n",
       "\n",
       "    .dataframe tbody tr th {\n",
       "        vertical-align: top;\n",
       "    }\n",
       "\n",
       "    .dataframe thead th {\n",
       "        text-align: right;\n",
       "    }\n",
       "</style>\n",
       "<table border=\"1\" class=\"dataframe\">\n",
       "  <thead>\n",
       "    <tr style=\"text-align: right;\">\n",
       "      <th></th>\n",
       "      <th>air_passengers</th>\n",
       "    </tr>\n",
       "    <tr>\n",
       "      <th>date</th>\n",
       "      <th></th>\n",
       "    </tr>\n",
       "  </thead>\n",
       "  <tbody>\n",
       "    <tr>\n",
       "      <th>1950-01-01</th>\n",
       "      <td>4.744932</td>\n",
       "    </tr>\n",
       "    <tr>\n",
       "      <th>1950-06-01</th>\n",
       "      <td>5.003946</td>\n",
       "    </tr>\n",
       "    <tr>\n",
       "      <th>1953-01-01</th>\n",
       "      <td>5.278115</td>\n",
       "    </tr>\n",
       "  </tbody>\n",
       "</table>\n",
       "</div>"
      ],
      "text/plain": [
       "            air_passengers\n",
       "date                      \n",
       "1950-01-01        4.744932\n",
       "1950-06-01        5.003946\n",
       "1953-01-01        5.278115"
      ]
     },
     "execution_count": 40,
     "metadata": {},
     "output_type": "execute_result"
    }
   ],
   "source": [
    "first_log[:3]"
   ]
  },
  {
   "cell_type": "code",
   "execution_count": 41,
   "metadata": {
    "execution": {
     "iopub.execute_input": "2023-01-09T04:06:49.427968Z",
     "iopub.status.busy": "2023-01-09T04:06:49.42712Z",
     "iopub.status.idle": "2023-01-09T04:06:49.435618Z",
     "shell.execute_reply": "2023-01-09T04:06:49.434726Z",
     "shell.execute_reply.started": "2023-01-09T04:06:49.427931Z"
    }
   },
   "outputs": [],
   "source": [
    "# Alternatively, loop over data in dict to normalize data\n",
    "\n",
    "# Data in dict to be normalized\n",
    "data = {'1950-1954': first,\n",
    "        '1955-1959': second}\n",
    "\n",
    "# Empty dict to store normalized data\n",
    "data_log = {'1950-1954': [],\n",
    "            '1955-1959': []}\n",
    "    \n",
    "# Loop to normalize data\n",
    "for key, value in data.items():\n",
    "    \n",
    "    # Access respective dict data\n",
    "    col = data[key]\n",
    "    log = np.log(col)\n",
    "    data_log[key].append(log)"
   ]
  },
  {
   "cell_type": "code",
   "execution_count": 42,
   "metadata": {
    "execution": {
     "iopub.execute_input": "2023-01-09T04:06:49.436988Z",
     "iopub.status.busy": "2023-01-09T04:06:49.436715Z",
     "iopub.status.idle": "2023-01-09T04:06:49.450279Z",
     "shell.execute_reply": "2023-01-09T04:06:49.44941Z",
     "shell.execute_reply.started": "2023-01-09T04:06:49.436963Z"
    }
   },
   "outputs": [
    {
     "data": {
      "text/html": [
       "<div>\n",
       "<style scoped>\n",
       "    .dataframe tbody tr th:only-of-type {\n",
       "        vertical-align: middle;\n",
       "    }\n",
       "\n",
       "    .dataframe tbody tr th {\n",
       "        vertical-align: top;\n",
       "    }\n",
       "\n",
       "    .dataframe thead th {\n",
       "        text-align: right;\n",
       "    }\n",
       "</style>\n",
       "<table border=\"1\" class=\"dataframe\">\n",
       "  <thead>\n",
       "    <tr style=\"text-align: right;\">\n",
       "      <th></th>\n",
       "      <th>air_passengers</th>\n",
       "    </tr>\n",
       "    <tr>\n",
       "      <th>date</th>\n",
       "      <th></th>\n",
       "    </tr>\n",
       "  </thead>\n",
       "  <tbody>\n",
       "    <tr>\n",
       "      <th>1950-01-01</th>\n",
       "      <td>4.744932</td>\n",
       "    </tr>\n",
       "    <tr>\n",
       "      <th>1950-06-01</th>\n",
       "      <td>5.003946</td>\n",
       "    </tr>\n",
       "    <tr>\n",
       "      <th>1953-01-01</th>\n",
       "      <td>5.278115</td>\n",
       "    </tr>\n",
       "  </tbody>\n",
       "</table>\n",
       "</div>"
      ],
      "text/plain": [
       "            air_passengers\n",
       "date                      \n",
       "1950-01-01        4.744932\n",
       "1950-06-01        5.003946\n",
       "1953-01-01        5.278115"
      ]
     },
     "execution_count": 42,
     "metadata": {},
     "output_type": "execute_result"
    }
   ],
   "source": [
    "data_log['1950-1954'][0][:3]"
   ]
  },
  {
   "cell_type": "code",
   "execution_count": 43,
   "metadata": {
    "execution": {
     "iopub.execute_input": "2023-01-09T04:06:49.452101Z",
     "iopub.status.busy": "2023-01-09T04:06:49.4514Z",
     "iopub.status.idle": "2023-01-09T04:06:49.460341Z",
     "shell.execute_reply": "2023-01-09T04:06:49.459294Z",
     "shell.execute_reply.started": "2023-01-09T04:06:49.452072Z"
    }
   },
   "outputs": [
    {
     "name": "stdout",
     "output_type": "stream",
     "text": [
      "Dataset \u001b[1m1950-1954:\u001b[0m\n",
      "test_statistic = 0.984\n",
      "p_value = 0.745\n",
      "We accept the null hypothesis.\n",
      "Data is normally distributed.\n",
      "\n",
      "\n",
      "Dataset \u001b[1m1955-1959:\u001b[0m\n",
      "test_statistic = 0.98\n",
      "p_value = 0.554\n",
      "We accept the null hypothesis.\n",
      "Data is normally distributed.\n",
      "\n",
      "\n"
     ]
    }
   ],
   "source": [
    "# Perform Shapiro-Wilk Test to check if data is normally distributed \n",
    "# (here: loop over data in dict)\n",
    "for key, value in data_log.items():\n",
    "    \n",
    "    # Access respective dict data\n",
    "    col = data_log[key]\n",
    "    \n",
    "    # Perform test and print result\n",
    "    print(f'Dataset \\033[1m{key}:\\033[0m')\n",
    "    test_normality(col)\n",
    "    print(f'\\n')  "
   ]
  },
  {
   "cell_type": "code",
   "execution_count": 44,
   "metadata": {
    "execution": {
     "iopub.execute_input": "2023-01-09T04:06:49.461679Z",
     "iopub.status.busy": "2023-01-09T04:06:49.461418Z",
     "iopub.status.idle": "2023-01-09T04:06:49.644081Z",
     "shell.execute_reply": "2023-01-09T04:06:49.643296Z",
     "shell.execute_reply.started": "2023-01-09T04:06:49.461656Z"
    }
   },
   "outputs": [
    {
     "data": {
      "image/png": "[encoded data removed]",
      "text/plain": [
       "<Figure size 432x288 with 1 Axes>"
      ]
     },
     "metadata": {},
     "output_type": "display_data"
    }
   ],
   "source": [
    "# Plot histogram for normalized data\n",
    "plot_histogram(data1 = data_log['1950-1954'][0], data2 = data_log['1955-1959'][0], label1 = '1950-1954', label2 = '1955-1959', xlabel = \"log(Air passengers (1000's) per month)\")"
   ]
  },
  {
   "cell_type": "code",
   "execution_count": 45,
   "metadata": {
    "execution": {
     "iopub.execute_input": "2023-01-09T04:06:49.645403Z",
     "iopub.status.busy": "2023-01-09T04:06:49.645005Z",
     "iopub.status.idle": "2023-01-09T04:06:49.814583Z",
     "shell.execute_reply": "2023-01-09T04:06:49.813706Z",
     "shell.execute_reply.started": "2023-01-09T04:06:49.645379Z"
    }
   },
   "outputs": [
    {
     "data": {
      "image/png": "[encoded data removed]",
      "text/plain": [
       "<Figure size 576x432 with 1 Axes>"
      ]
     },
     "metadata": {},
     "output_type": "display_data"
    }
   ],
   "source": [
    "# Normalized data: Compute and plot CDF of experimental and simulated data\n",
    "\n",
    "plt.figure(figsize=(8,6))\n",
    "\n",
    "for key, value in data_log.items():\n",
    "    \n",
    "    # Access respective dict data\n",
    "    col = data_log[key][0].iloc[:,0]\n",
    "    \n",
    "    # Compute ECDF of experimental data\n",
    "    x, y = ecdf(col)\n",
    "\n",
    "    # Compute CDF of simulated data\n",
    "    np.random.seed(42)\n",
    "    mean = np.mean(col)\n",
    "    std = np.std(col)\n",
    "    samples = np.random.normal(mean, std, size=10000)\n",
    "    x_theor, y_theor = ecdf(samples)\n",
    "\n",
    "    # Plot ECDF and theoretical CDF\n",
    "    plt.plot(x_theor, y_theor, label=f'{key} (simulated)')\n",
    "    plt.plot(x, y, marker = '.', linestyle = 'none', label=f'{key} (experimental)')\n",
    "    plt.xlabel(\"log(Air passengers (1000's) per month)\", labelpad=10)\n",
    "    plt.ylabel('CDF')\n",
    "    plt.legend(loc = 'lower right');"
   ]
  },
  {
   "cell_type": "code",
   "execution_count": 46,
   "metadata": {
    "execution": {
     "iopub.execute_input": "2023-01-09T04:06:49.816572Z",
     "iopub.status.busy": "2023-01-09T04:06:49.8157Z",
     "iopub.status.idle": "2023-01-09T04:06:49.821331Z",
     "shell.execute_reply": "2023-01-09T04:06:49.820219Z",
     "shell.execute_reply.started": "2023-01-09T04:06:49.816507Z"
    }
   },
   "outputs": [],
   "source": [
    "# Confidence level\n",
    "alpha = 0.05"
   ]
  },
  {
   "cell_type": "code",
   "execution_count": 47,
   "metadata": {
    "execution": {
     "iopub.execute_input": "2023-01-09T04:06:49.824962Z",
     "iopub.status.busy": "2023-01-09T04:06:49.824645Z",
     "iopub.status.idle": "2023-01-09T04:06:49.833089Z",
     "shell.execute_reply": "2023-01-09T04:06:49.832243Z",
     "shell.execute_reply.started": "2023-01-09T04:06:49.824935Z"
    }
   },
   "outputs": [],
   "source": [
    "def ttest(data1, data2, alpha=0.05):\n",
    "    \"\"\"\n",
    "    Function performing Student's t-test (two-tailed) and returning \n",
    "    a significance message\n",
    "    \n",
    "    Inputs:\n",
    "    Two arrays of sample data, alpha: confidence level    \n",
    "    \"\"\"\n",
    "    \n",
    "    # Null Hypothesis Dictionary\n",
    "    null_hypothesis = {'H0': \"In the 1950's, monthly air passenger figures did not change from the first to the second half of the decade.\",\n",
    "                       'H1': \"In the 1950's, monthly air passenger figures did change from the first to the second half of the decade.\"}\n",
    "    \n",
    "    t_statistic, p_value = stats.ttest_ind(data1, data2)\n",
    "    print(\"t_statistic =\", t_statistic)\n",
    "    print(\"p_value =\", p_value)\n",
    "    \n",
    "    if p_value < alpha:\n",
    "        print('We reject the null hypothesis.')\n",
    "        print(null_hypothesis['H1'])\n",
    "    else:\n",
    "        print('We accept the null hypothesis.') \n",
    "        print(null_hypothesis['H0'])"
   ]
  },
  {
   "cell_type": "code",
   "execution_count": 48,
   "metadata": {
    "execution": {
     "iopub.execute_input": "2023-01-09T04:06:49.834228Z",
     "iopub.status.busy": "2023-01-09T04:06:49.833977Z",
     "iopub.status.idle": "2023-01-09T04:06:49.846154Z",
     "shell.execute_reply": "2023-01-09T04:06:49.845223Z",
     "shell.execute_reply.started": "2023-01-09T04:06:49.834206Z"
    }
   },
   "outputs": [
    {
     "name": "stdout",
     "output_type": "stream",
     "text": [
      "t_statistic = [-13.71717466]\n",
      "p_value = [1.54953195e-24]\n",
      "We reject the null hypothesis.\n",
      "In the 1950's, monthly air passenger figures did change from the first to the second half of the decade.\n"
     ]
    }
   ],
   "source": [
    "ttest(first_log, second_log)"
   ]
  },
  {
   "cell_type": "markdown",
   "metadata": {},
   "source": [
    "### Mann-Whitney U-test"
   ]
  },
  {
   "cell_type": "code",
   "execution_count": 49,
   "metadata": {
    "execution": {
     "iopub.execute_input": "2023-01-09T04:06:49.848099Z",
     "iopub.status.busy": "2023-01-09T04:06:49.847829Z",
     "iopub.status.idle": "2023-01-09T04:06:49.856188Z",
     "shell.execute_reply": "2023-01-09T04:06:49.855172Z",
     "shell.execute_reply.started": "2023-01-09T04:06:49.848076Z"
    }
   },
   "outputs": [],
   "source": [
    "# Confidence level\n",
    "alpha = 0.05"
   ]
  },
  {
   "cell_type": "code",
   "execution_count": 50,
   "metadata": {
    "execution": {
     "iopub.execute_input": "2023-01-09T04:06:49.857811Z",
     "iopub.status.busy": "2023-01-09T04:06:49.857502Z",
     "iopub.status.idle": "2023-01-09T04:06:49.869211Z",
     "shell.execute_reply": "2023-01-09T04:06:49.867847Z",
     "shell.execute_reply.started": "2023-01-09T04:06:49.857787Z"
    }
   },
   "outputs": [],
   "source": [
    "def mannwhitneyu(data1, data2, alpha=0.05):\n",
    "    \"\"\"\n",
    "    Function performing Mann-Whitney U-test for non-parametric data\n",
    "    and returning a significance message\n",
    "    \n",
    "    Inputs:\n",
    "    Two arrays of sample data, alpha: confidence level    \n",
    "    \"\"\"\n",
    "    \n",
    "    # Null Hypothesis Dictionary\n",
    "    null_hypothesis = {'H0': \"In the 1950's, monthly air passenger figures did not change from the first to the second half of the decade.\",\n",
    "                       'H1': \"In the 1950's, monthly air passenger figures did change from the first to the second half of the decade.\"}\n",
    "    \n",
    "    U_statistic, p_value = stats.mannwhitneyu(data1, data2)\n",
    "    print(\"U_statistic =\", U_statistic)\n",
    "    print(\"p_value =\", p_value)\n",
    "    \n",
    "    if p_value < alpha:\n",
    "        print('We reject the null hypothesis.')\n",
    "        print(null_hypothesis['H1'])\n",
    "    else:\n",
    "        print('We accept the null hypothesis.') \n",
    "        print(null_hypothesis['H0'])"
   ]
  },
  {
   "cell_type": "code",
   "execution_count": 51,
   "metadata": {
    "execution": {
     "iopub.execute_input": "2023-01-09T04:06:49.875104Z",
     "iopub.status.busy": "2023-01-09T04:06:49.874741Z",
     "iopub.status.idle": "2023-01-09T04:06:49.887049Z",
     "shell.execute_reply": "2023-01-09T04:06:49.885851Z",
     "shell.execute_reply.started": "2023-01-09T04:06:49.875062Z"
    }
   },
   "outputs": [
    {
     "name": "stdout",
     "output_type": "stream",
     "text": [
      "U_statistic = [43.]\n",
      "p_value = [8.96918542e-17]\n",
      "We reject the null hypothesis.\n",
      "In the 1950's, monthly air passenger figures did change from the first to the second half of the decade.\n"
     ]
    }
   ],
   "source": [
    "mannwhitneyu(first, second)"
   ]
  },
  {
   "cell_type": "code",
   "execution_count": null,
   "metadata": {},
   "outputs": [],
   "source": []
  }
 ],
 "metadata": {
  "kernelspec": {
   "display_name": "Python 3 (ipykernel)",
   "language": "python",
   "name": "python3"
  },
  "language_info": {
   "codemirror_mode": {
    "name": "ipython",
    "version": 3
   },
   "file_extension": ".py",
   "mimetype": "text/x-python",
   "name": "python",
   "nbconvert_exporter": "python",
   "pygments_lexer": "ipython3",
   "version": "3.9.12"
  }
 },
 "nbformat": 4,
 "nbformat_minor": 4
}
