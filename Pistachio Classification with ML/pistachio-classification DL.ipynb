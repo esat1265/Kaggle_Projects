{
 "cells": [
  {
   "cell_type": "markdown",
   "metadata": {},
   "source": [
    "# pistachio-classification with Deep learning"
   ]
  },
  {
   "cell_type": "code",
   "execution_count": 1,
   "metadata": {
    "_cell_guid": "b1076dfc-b9ad-4769-8c92-a6c4dae69d19",
    "_kg_hide-output": true,
    "_uuid": "8f2839f25d086af736a60e9eeb907d3b93b6e0e5",
    "collapsed": true,
    "execution": {
     "iopub.execute_input": "2022-04-03T20:44:22.940891Z",
     "iopub.status.busy": "2022-04-03T20:44:22.940284Z",
     "iopub.status.idle": "2022-04-03T20:44:34.782963Z",
     "shell.execute_reply": "2022-04-03T20:44:34.781695Z",
     "shell.execute_reply.started": "2022-04-03T20:44:22.940801Z"
    }
   },
   "outputs": [
    {
     "name": "stdout",
     "output_type": "stream",
     "text": [
      "Requirement already satisfied: openpyxl in c:\\users\\utilisateur\\anaconda3\\lib\\site-packages (3.0.9)\n",
      "Requirement already satisfied: et-xmlfile in c:\\users\\utilisateur\\anaconda3\\lib\\site-packages (from openpyxl) (1.1.0)\n"
     ]
    }
   ],
   "source": [
    "#Gerekli paketleri indirelim\n",
    "#!pip install openpyxl"
   ]
  },
  {
   "cell_type": "code",
   "execution_count": 2,
   "metadata": {
    "execution": {
     "iopub.execute_input": "2022-04-03T20:44:34.786102Z",
     "iopub.status.busy": "2022-04-03T20:44:34.785549Z",
     "iopub.status.idle": "2022-04-03T20:44:36.346679Z",
     "shell.execute_reply": "2022-04-03T20:44:36.345854Z",
     "shell.execute_reply.started": "2022-04-03T20:44:34.786048Z"
    }
   },
   "outputs": [
    {
     "data": {
      "text/html": [
       "<div>\n",
       "<style scoped>\n",
       "    .dataframe tbody tr th:only-of-type {\n",
       "        vertical-align: middle;\n",
       "    }\n",
       "\n",
       "    .dataframe tbody tr th {\n",
       "        vertical-align: top;\n",
       "    }\n",
       "\n",
       "    .dataframe thead th {\n",
       "        text-align: right;\n",
       "    }\n",
       "</style>\n",
       "<table border=\"1\" class=\"dataframe\">\n",
       "  <thead>\n",
       "    <tr style=\"text-align: right;\">\n",
       "      <th></th>\n",
       "      <th>Area</th>\n",
       "      <th>Perimeter</th>\n",
       "      <th>Major_Axis</th>\n",
       "      <th>Minor_Axis</th>\n",
       "      <th>Eccentricity</th>\n",
       "      <th>Eqdiasq</th>\n",
       "      <th>Solidity</th>\n",
       "      <th>Convex_Area</th>\n",
       "      <th>Extent</th>\n",
       "      <th>Aspect_Ratio</th>\n",
       "      <th>...</th>\n",
       "      <th>StdDev_RR</th>\n",
       "      <th>StdDev_RG</th>\n",
       "      <th>StdDev_RB</th>\n",
       "      <th>Skew_RR</th>\n",
       "      <th>Skew_RG</th>\n",
       "      <th>Skew_RB</th>\n",
       "      <th>Kurtosis_RR</th>\n",
       "      <th>Kurtosis_RG</th>\n",
       "      <th>Kurtosis_RB</th>\n",
       "      <th>Class</th>\n",
       "    </tr>\n",
       "  </thead>\n",
       "  <tbody>\n",
       "    <tr>\n",
       "      <th>0</th>\n",
       "      <td>63391</td>\n",
       "      <td>1568.405</td>\n",
       "      <td>390.3396</td>\n",
       "      <td>236.7461</td>\n",
       "      <td>0.7951</td>\n",
       "      <td>284.0984</td>\n",
       "      <td>0.8665</td>\n",
       "      <td>73160</td>\n",
       "      <td>0.6394</td>\n",
       "      <td>1.6488</td>\n",
       "      <td>...</td>\n",
       "      <td>17.7206</td>\n",
       "      <td>19.6024</td>\n",
       "      <td>21.1342</td>\n",
       "      <td>0.4581</td>\n",
       "      <td>0.6635</td>\n",
       "      <td>0.7591</td>\n",
       "      <td>2.9692</td>\n",
       "      <td>3.0576</td>\n",
       "      <td>2.9542</td>\n",
       "      <td>Kirmizi_Pistachio</td>\n",
       "    </tr>\n",
       "    <tr>\n",
       "      <th>1</th>\n",
       "      <td>68358</td>\n",
       "      <td>1942.187</td>\n",
       "      <td>410.8594</td>\n",
       "      <td>234.7525</td>\n",
       "      <td>0.8207</td>\n",
       "      <td>295.0188</td>\n",
       "      <td>0.8765</td>\n",
       "      <td>77991</td>\n",
       "      <td>0.6772</td>\n",
       "      <td>1.7502</td>\n",
       "      <td>...</td>\n",
       "      <td>26.7061</td>\n",
       "      <td>27.2112</td>\n",
       "      <td>25.1035</td>\n",
       "      <td>-0.3847</td>\n",
       "      <td>-0.2713</td>\n",
       "      <td>-0.2927</td>\n",
       "      <td>1.9807</td>\n",
       "      <td>2.1006</td>\n",
       "      <td>2.2152</td>\n",
       "      <td>Kirmizi_Pistachio</td>\n",
       "    </tr>\n",
       "    <tr>\n",
       "      <th>2</th>\n",
       "      <td>73589</td>\n",
       "      <td>1246.538</td>\n",
       "      <td>452.3630</td>\n",
       "      <td>220.5547</td>\n",
       "      <td>0.8731</td>\n",
       "      <td>306.0987</td>\n",
       "      <td>0.9172</td>\n",
       "      <td>80234</td>\n",
       "      <td>0.7127</td>\n",
       "      <td>2.0510</td>\n",
       "      <td>...</td>\n",
       "      <td>19.0129</td>\n",
       "      <td>20.0703</td>\n",
       "      <td>20.7006</td>\n",
       "      <td>-0.6014</td>\n",
       "      <td>-0.4500</td>\n",
       "      <td>0.2998</td>\n",
       "      <td>3.5420</td>\n",
       "      <td>3.6856</td>\n",
       "      <td>4.1012</td>\n",
       "      <td>Kirmizi_Pistachio</td>\n",
       "    </tr>\n",
       "    <tr>\n",
       "      <th>3</th>\n",
       "      <td>71106</td>\n",
       "      <td>1445.261</td>\n",
       "      <td>429.5291</td>\n",
       "      <td>216.0765</td>\n",
       "      <td>0.8643</td>\n",
       "      <td>300.8903</td>\n",
       "      <td>0.9589</td>\n",
       "      <td>74153</td>\n",
       "      <td>0.7028</td>\n",
       "      <td>1.9879</td>\n",
       "      <td>...</td>\n",
       "      <td>18.1773</td>\n",
       "      <td>18.7152</td>\n",
       "      <td>29.7883</td>\n",
       "      <td>-0.6943</td>\n",
       "      <td>-0.6278</td>\n",
       "      <td>-0.7798</td>\n",
       "      <td>2.8776</td>\n",
       "      <td>2.8748</td>\n",
       "      <td>2.8953</td>\n",
       "      <td>Kirmizi_Pistachio</td>\n",
       "    </tr>\n",
       "    <tr>\n",
       "      <th>4</th>\n",
       "      <td>80087</td>\n",
       "      <td>1251.524</td>\n",
       "      <td>469.3783</td>\n",
       "      <td>220.9344</td>\n",
       "      <td>0.8823</td>\n",
       "      <td>319.3273</td>\n",
       "      <td>0.9657</td>\n",
       "      <td>82929</td>\n",
       "      <td>0.7459</td>\n",
       "      <td>2.1245</td>\n",
       "      <td>...</td>\n",
       "      <td>23.4298</td>\n",
       "      <td>24.0878</td>\n",
       "      <td>23.1157</td>\n",
       "      <td>-0.9287</td>\n",
       "      <td>-0.8134</td>\n",
       "      <td>-0.4970</td>\n",
       "      <td>2.9915</td>\n",
       "      <td>2.8813</td>\n",
       "      <td>2.7362</td>\n",
       "      <td>Kirmizi_Pistachio</td>\n",
       "    </tr>\n",
       "  </tbody>\n",
       "</table>\n",
       "<p>5 rows × 29 columns</p>\n",
       "</div>"
      ],
      "text/plain": [
       "    Area  Perimeter  Major_Axis  Minor_Axis  Eccentricity   Eqdiasq  Solidity  \\\n",
       "0  63391   1568.405    390.3396    236.7461        0.7951  284.0984    0.8665   \n",
       "1  68358   1942.187    410.8594    234.7525        0.8207  295.0188    0.8765   \n",
       "2  73589   1246.538    452.3630    220.5547        0.8731  306.0987    0.9172   \n",
       "3  71106   1445.261    429.5291    216.0765        0.8643  300.8903    0.9589   \n",
       "4  80087   1251.524    469.3783    220.9344        0.8823  319.3273    0.9657   \n",
       "\n",
       "   Convex_Area  Extent  Aspect_Ratio  ...  StdDev_RR  StdDev_RG  StdDev_RB  \\\n",
       "0        73160  0.6394        1.6488  ...    17.7206    19.6024    21.1342   \n",
       "1        77991  0.6772        1.7502  ...    26.7061    27.2112    25.1035   \n",
       "2        80234  0.7127        2.0510  ...    19.0129    20.0703    20.7006   \n",
       "3        74153  0.7028        1.9879  ...    18.1773    18.7152    29.7883   \n",
       "4        82929  0.7459        2.1245  ...    23.4298    24.0878    23.1157   \n",
       "\n",
       "   Skew_RR  Skew_RG  Skew_RB  Kurtosis_RR  Kurtosis_RG  Kurtosis_RB  \\\n",
       "0   0.4581   0.6635   0.7591       2.9692       3.0576       2.9542   \n",
       "1  -0.3847  -0.2713  -0.2927       1.9807       2.1006       2.2152   \n",
       "2  -0.6014  -0.4500   0.2998       3.5420       3.6856       4.1012   \n",
       "3  -0.6943  -0.6278  -0.7798       2.8776       2.8748       2.8953   \n",
       "4  -0.9287  -0.8134  -0.4970       2.9915       2.8813       2.7362   \n",
       "\n",
       "               Class  \n",
       "0  Kirmizi_Pistachio  \n",
       "1  Kirmizi_Pistachio  \n",
       "2  Kirmizi_Pistachio  \n",
       "3  Kirmizi_Pistachio  \n",
       "4  Kirmizi_Pistachio  \n",
       "\n",
       "[5 rows x 29 columns]"
      ]
     },
     "execution_count": 2,
     "metadata": {},
     "output_type": "execute_result"
    }
   ],
   "source": [
    "import pandas as pd\n",
    "train=pd.read_excel('Pistachio_Dataset/Pistachio_28_Features_Dataset/Pistachio_28_Features_Dataset.xlsx')\n",
    "train.head()"
   ]
  },
  {
   "cell_type": "code",
   "execution_count": 5,
   "metadata": {
    "_kg_hide-output": true,
    "execution": {
     "iopub.execute_input": "2022-04-03T20:44:36.348069Z",
     "iopub.status.busy": "2022-04-03T20:44:36.347837Z",
     "iopub.status.idle": "2022-04-03T20:45:01.050596Z",
     "shell.execute_reply": "2022-04-03T20:45:01.049565Z",
     "shell.execute_reply.started": "2022-04-03T20:44:36.348042Z"
    }
   },
   "outputs": [],
   "source": [
    "#!pip install flaml"
   ]
  },
  {
   "cell_type": "code",
   "execution_count": 4,
   "metadata": {},
   "outputs": [],
   "source": [
    "from sklearn.metrics import mean_absolute_percentage_error"
   ]
  },
  {
   "cell_type": "code",
   "execution_count": 6,
   "metadata": {
    "execution": {
     "iopub.execute_input": "2022-04-03T20:45:01.053659Z",
     "iopub.status.busy": "2022-04-03T20:45:01.053287Z",
     "iopub.status.idle": "2022-04-03T20:45:01.086236Z",
     "shell.execute_reply": "2022-04-03T20:45:01.085241Z",
     "shell.execute_reply.started": "2022-04-03T20:45:01.053609Z"
    }
   },
   "outputs": [
    {
     "name": "stdout",
     "output_type": "stream",
     "text": [
      "<class 'pandas.core.frame.DataFrame'>\n",
      "RangeIndex: 2148 entries, 0 to 2147\n",
      "Data columns (total 29 columns):\n",
      " #   Column         Non-Null Count  Dtype  \n",
      "---  ------         --------------  -----  \n",
      " 0   Area           2148 non-null   int64  \n",
      " 1   Perimeter      2148 non-null   float64\n",
      " 2   Major_Axis     2148 non-null   float64\n",
      " 3   Minor_Axis     2148 non-null   float64\n",
      " 4   Eccentricity   2148 non-null   float64\n",
      " 5   Eqdiasq        2148 non-null   float64\n",
      " 6   Solidity       2148 non-null   float64\n",
      " 7   Convex_Area    2148 non-null   int64  \n",
      " 8   Extent         2148 non-null   float64\n",
      " 9   Aspect_Ratio   2148 non-null   float64\n",
      " 10  Roundness      2148 non-null   float64\n",
      " 11  Compactness    2148 non-null   float64\n",
      " 12  Shapefactor_1  2148 non-null   float64\n",
      " 13  Shapefactor_2  2148 non-null   float64\n",
      " 14  Shapefactor_3  2148 non-null   float64\n",
      " 15  Shapefactor_4  2148 non-null   float64\n",
      " 16  Mean_RR        2148 non-null   float64\n",
      " 17  Mean_RG        2148 non-null   float64\n",
      " 18  Mean_RB        2148 non-null   float64\n",
      " 19  StdDev_RR      2148 non-null   float64\n",
      " 20  StdDev_RG      2148 non-null   float64\n",
      " 21  StdDev_RB      2148 non-null   float64\n",
      " 22  Skew_RR        2148 non-null   float64\n",
      " 23  Skew_RG        2148 non-null   float64\n",
      " 24  Skew_RB        2148 non-null   float64\n",
      " 25  Kurtosis_RR    2148 non-null   float64\n",
      " 26  Kurtosis_RG    2148 non-null   float64\n",
      " 27  Kurtosis_RB    2148 non-null   float64\n",
      " 28  Class          2148 non-null   object \n",
      "dtypes: float64(26), int64(2), object(1)\n",
      "memory usage: 486.8+ KB\n"
     ]
    }
   ],
   "source": [
    "train.info()"
   ]
  },
  {
   "cell_type": "code",
   "execution_count": 7,
   "metadata": {
    "execution": {
     "iopub.execute_input": "2022-04-03T20:45:01.08822Z",
     "iopub.status.busy": "2022-04-03T20:45:01.087534Z",
     "iopub.status.idle": "2022-04-03T20:45:01.107318Z",
     "shell.execute_reply": "2022-04-03T20:45:01.106648Z",
     "shell.execute_reply.started": "2022-04-03T20:45:01.088182Z"
    }
   },
   "outputs": [
    {
     "data": {
      "text/plain": [
       "(2148, 29)"
      ]
     },
     "execution_count": 7,
     "metadata": {},
     "output_type": "execute_result"
    }
   ],
   "source": [
    "train.drop_duplicates(keep=False, inplace=True)\n",
    "train.shape"
   ]
  },
  {
   "cell_type": "code",
   "execution_count": 8,
   "metadata": {
    "execution": {
     "iopub.execute_input": "2022-04-03T20:45:01.10896Z",
     "iopub.status.busy": "2022-04-03T20:45:01.10828Z",
     "iopub.status.idle": "2022-04-03T20:45:01.116395Z",
     "shell.execute_reply": "2022-04-03T20:45:01.115792Z",
     "shell.execute_reply.started": "2022-04-03T20:45:01.108929Z"
    }
   },
   "outputs": [
    {
     "data": {
      "text/plain": [
       "Kirmizi_Pistachio    1232\n",
       "Siirt_Pistachio       916\n",
       "Name: Class, dtype: int64"
      ]
     },
     "execution_count": 8,
     "metadata": {},
     "output_type": "execute_result"
    }
   ],
   "source": [
    "train.Class.value_counts()"
   ]
  },
  {
   "cell_type": "code",
   "execution_count": 9,
   "metadata": {
    "execution": {
     "iopub.execute_input": "2022-04-03T20:45:01.118207Z",
     "iopub.status.busy": "2022-04-03T20:45:01.11781Z",
     "iopub.status.idle": "2022-04-03T20:45:01.149777Z",
     "shell.execute_reply": "2022-04-03T20:45:01.149048Z",
     "shell.execute_reply.started": "2022-04-03T20:45:01.118164Z"
    }
   },
   "outputs": [
    {
     "data": {
      "text/plain": [
       "((1718, 29), (430, 29))"
      ]
     },
     "execution_count": 9,
     "metadata": {},
     "output_type": "execute_result"
    }
   ],
   "source": [
    "from sklearn.model_selection import train_test_split\n",
    "train, test = train_test_split( train, test_size=0.2, random_state=42,shuffle=True, stratify=train.Class)\n",
    "train.shape, test.shape"
   ]
  },
  {
   "cell_type": "code",
   "execution_count": 10,
   "metadata": {
    "execution": {
     "iopub.execute_input": "2022-04-03T20:45:01.151169Z",
     "iopub.status.busy": "2022-04-03T20:45:01.150838Z",
     "iopub.status.idle": "2022-04-03T20:45:01.169701Z",
     "shell.execute_reply": "2022-04-03T20:45:01.168693Z",
     "shell.execute_reply.started": "2022-04-03T20:45:01.151142Z"
    }
   },
   "outputs": [
    {
     "data": {
      "text/html": [
       "<div>\n",
       "<style scoped>\n",
       "    .dataframe tbody tr th:only-of-type {\n",
       "        vertical-align: middle;\n",
       "    }\n",
       "\n",
       "    .dataframe tbody tr th {\n",
       "        vertical-align: top;\n",
       "    }\n",
       "\n",
       "    .dataframe thead th {\n",
       "        text-align: right;\n",
       "    }\n",
       "</style>\n",
       "<table border=\"1\" class=\"dataframe\">\n",
       "  <thead>\n",
       "    <tr style=\"text-align: right;\">\n",
       "      <th></th>\n",
       "      <th>Area</th>\n",
       "      <th>Perimeter</th>\n",
       "      <th>Major_Axis</th>\n",
       "      <th>Minor_Axis</th>\n",
       "      <th>Eccentricity</th>\n",
       "      <th>Eqdiasq</th>\n",
       "      <th>Solidity</th>\n",
       "      <th>Convex_Area</th>\n",
       "      <th>Extent</th>\n",
       "      <th>Aspect_Ratio</th>\n",
       "      <th>Roundness</th>\n",
       "      <th>Compactness</th>\n",
       "      <th>Shapefactor_1</th>\n",
       "      <th>Shapefactor_2</th>\n",
       "      <th>Shapefactor_3</th>\n",
       "      <th>Shapefactor_4</th>\n",
       "      <th>Mean_RR</th>\n",
       "      <th>Mean_RG</th>\n",
       "      <th>Mean_RB</th>\n",
       "      <th>StdDev_RR</th>\n",
       "      <th>StdDev_RG</th>\n",
       "      <th>StdDev_RB</th>\n",
       "      <th>Skew_RR</th>\n",
       "      <th>Skew_RG</th>\n",
       "      <th>Skew_RB</th>\n",
       "      <th>Kurtosis_RR</th>\n",
       "      <th>Kurtosis_RG</th>\n",
       "      <th>Kurtosis_RB</th>\n",
       "      <th>Class</th>\n",
       "    </tr>\n",
       "  </thead>\n",
       "  <tbody>\n",
       "  </tbody>\n",
       "</table>\n",
       "</div>"
      ],
      "text/plain": [
       "Empty DataFrame\n",
       "Columns: [Area, Perimeter, Major_Axis, Minor_Axis, Eccentricity, Eqdiasq, Solidity, Convex_Area, Extent, Aspect_Ratio, Roundness, Compactness, Shapefactor_1, Shapefactor_2, Shapefactor_3, Shapefactor_4, Mean_RR, Mean_RG, Mean_RB, StdDev_RR, StdDev_RG, StdDev_RB, Skew_RR, Skew_RG, Skew_RB, Kurtosis_RR, Kurtosis_RG, Kurtosis_RB, Class]\n",
       "Index: []"
      ]
     },
     "execution_count": 10,
     "metadata": {},
     "output_type": "execute_result"
    }
   ],
   "source": [
    "pd.options.display.max_columns = None\n",
    "train[train.isna().any(axis=1)]"
   ]
  },
  {
   "cell_type": "code",
   "execution_count": 11,
   "metadata": {
    "execution": {
     "iopub.execute_input": "2022-04-03T20:45:01.172046Z",
     "iopub.status.busy": "2022-04-03T20:45:01.17149Z",
     "iopub.status.idle": "2022-04-03T20:45:01.177273Z",
     "shell.execute_reply": "2022-04-03T20:45:01.176661Z",
     "shell.execute_reply.started": "2022-04-03T20:45:01.171999Z"
    }
   },
   "outputs": [],
   "source": [
    "y = train.pop('Class')\n",
    "X = train"
   ]
  },
  {
   "cell_type": "code",
   "execution_count": 12,
   "metadata": {
    "execution": {
     "iopub.execute_input": "2022-04-03T20:45:01.180955Z",
     "iopub.status.busy": "2022-04-03T20:45:01.180733Z",
     "iopub.status.idle": "2022-04-03T20:45:01.196037Z",
     "shell.execute_reply": "2022-04-03T20:45:01.195039Z",
     "shell.execute_reply.started": "2022-04-03T20:45:01.180929Z"
    }
   },
   "outputs": [],
   "source": [
    "from sklearn.model_selection import train_test_split\n",
    "X_train, X_test, y_train, y_test = train_test_split( X, y, test_size=0.2, random_state=42,shuffle=True, stratify=y)"
   ]
  },
  {
   "cell_type": "code",
   "execution_count": 13,
   "metadata": {
    "execution": {
     "iopub.execute_input": "2022-04-03T20:45:01.197726Z",
     "iopub.status.busy": "2022-04-03T20:45:01.197213Z",
     "iopub.status.idle": "2022-04-03T20:45:03.904502Z",
     "shell.execute_reply": "2022-04-03T20:45:03.903628Z",
     "shell.execute_reply.started": "2022-04-03T20:45:01.19769Z"
    }
   },
   "outputs": [],
   "source": [
    "from flaml import AutoML\n",
    "automl = AutoML()"
   ]
  },
  {
   "cell_type": "code",
   "execution_count": 14,
   "metadata": {
    "collapsed": true,
    "execution": {
     "iopub.execute_input": "2022-04-03T20:45:03.906333Z",
     "iopub.status.busy": "2022-04-03T20:45:03.906037Z",
     "iopub.status.idle": "2022-04-03T20:45:34.006424Z",
     "shell.execute_reply": "2022-04-03T20:45:34.005714Z",
     "shell.execute_reply.started": "2022-04-03T20:45:03.906292Z"
    }
   },
   "outputs": [
    {
     "name": "stdout",
     "output_type": "stream",
     "text": [
      "[flaml.automl.automl: 02-26 19:50:57] {2716} INFO - task = classification\n",
      "[flaml.automl.automl: 02-26 19:50:57] {2718} INFO - Data split method: stratified\n",
      "[flaml.automl.automl: 02-26 19:50:57] {2721} INFO - Evaluation method: cv\n",
      "[flaml.automl.automl: 02-26 19:50:57] {2848} INFO - Minimizing error metric: 1-f1\n",
      "[flaml.automl.automl: 02-26 19:50:58] {2994} INFO - List of ML learners in AutoML Run: ['lgbm', 'rf', 'xgboost', 'extra_tree', 'xgb_limitdepth', 'lrl1']\n",
      "[flaml.automl.automl: 02-26 19:50:58] {3323} INFO - iteration 0, current learner lgbm\n",
      "[flaml.automl.automl: 02-26 19:50:58] {3461} INFO - Estimated sufficient time budget=1211s. Estimated necessary time budget=28s.\n",
      "[flaml.automl.automl: 02-26 19:50:58] {3508} INFO -  at 0.2s,\testimator lgbm's best error=0.2120,\tbest estimator lgbm's best error=0.2120\n",
      "[flaml.automl.automl: 02-26 19:50:58] {3323} INFO - iteration 1, current learner lgbm\n",
      "[flaml.automl.automl: 02-26 19:50:58] {3508} INFO -  at 0.3s,\testimator lgbm's best error=0.2120,\tbest estimator lgbm's best error=0.2120\n",
      "[flaml.automl.automl: 02-26 19:50:58] {3323} INFO - iteration 2, current learner lgbm\n",
      "[flaml.automl.automl: 02-26 19:50:58] {3508} INFO -  at 0.5s,\testimator lgbm's best error=0.1622,\tbest estimator lgbm's best error=0.1622\n",
      "[flaml.automl.automl: 02-26 19:50:58] {3323} INFO - iteration 3, current learner xgboost\n",
      "[flaml.automl.automl: 02-26 19:50:58] {3508} INFO -  at 0.7s,\testimator xgboost's best error=0.1805,\tbest estimator lgbm's best error=0.1622\n",
      "[flaml.automl.automl: 02-26 19:50:58] {3323} INFO - iteration 4, current learner extra_tree\n",
      "[flaml.automl.automl: 02-26 19:50:58] {3508} INFO -  at 0.9s,\testimator extra_tree's best error=0.1975,\tbest estimator lgbm's best error=0.1622\n",
      "[flaml.automl.automl: 02-26 19:50:58] {3323} INFO - iteration 5, current learner lgbm\n",
      "[flaml.automl.automl: 02-26 19:50:58] {3508} INFO -  at 1.0s,\testimator lgbm's best error=0.1335,\tbest estimator lgbm's best error=0.1335\n",
      "[flaml.automl.automl: 02-26 19:50:58] {3323} INFO - iteration 6, current learner lgbm\n",
      "[flaml.automl.automl: 02-26 19:50:59] {3508} INFO -  at 1.1s,\testimator lgbm's best error=0.1335,\tbest estimator lgbm's best error=0.1335\n",
      "[flaml.automl.automl: 02-26 19:50:59] {3323} INFO - iteration 7, current learner lgbm\n",
      "[flaml.automl.automl: 02-26 19:50:59] {3508} INFO -  at 1.3s,\testimator lgbm's best error=0.1335,\tbest estimator lgbm's best error=0.1335\n",
      "[flaml.automl.automl: 02-26 19:50:59] {3323} INFO - iteration 8, current learner lgbm\n",
      "[flaml.automl.automl: 02-26 19:50:59] {3508} INFO -  at 1.4s,\testimator lgbm's best error=0.1335,\tbest estimator lgbm's best error=0.1335\n",
      "[flaml.automl.automl: 02-26 19:50:59] {3323} INFO - iteration 9, current learner lgbm\n",
      "[flaml.automl.automl: 02-26 19:50:59] {3508} INFO -  at 1.5s,\testimator lgbm's best error=0.1335,\tbest estimator lgbm's best error=0.1335\n",
      "[flaml.automl.automl: 02-26 19:50:59] {3323} INFO - iteration 10, current learner xgboost\n",
      "[flaml.automl.automl: 02-26 19:50:59] {3508} INFO -  at 1.8s,\testimator xgboost's best error=0.1772,\tbest estimator lgbm's best error=0.1335\n",
      "[flaml.automl.automl: 02-26 19:50:59] {3323} INFO - iteration 11, current learner extra_tree\n",
      "[flaml.automl.automl: 02-26 19:50:59] {3508} INFO -  at 2.0s,\testimator extra_tree's best error=0.1672,\tbest estimator lgbm's best error=0.1335\n",
      "[flaml.automl.automl: 02-26 19:50:59] {3323} INFO - iteration 12, current learner rf\n",
      "[flaml.automl.automl: 02-26 19:51:00] {3508} INFO -  at 2.3s,\testimator rf's best error=0.2074,\tbest estimator lgbm's best error=0.1335\n",
      "[flaml.automl.automl: 02-26 19:51:00] {3323} INFO - iteration 13, current learner rf\n",
      "[flaml.automl.automl: 02-26 19:51:00] {3508} INFO -  at 2.6s,\testimator rf's best error=0.1730,\tbest estimator lgbm's best error=0.1335\n",
      "[flaml.automl.automl: 02-26 19:51:00] {3323} INFO - iteration 14, current learner rf\n",
      "[flaml.automl.automl: 02-26 19:51:00] {3508} INFO -  at 2.8s,\testimator rf's best error=0.1730,\tbest estimator lgbm's best error=0.1335\n",
      "[flaml.automl.automl: 02-26 19:51:00] {3323} INFO - iteration 15, current learner extra_tree\n",
      "[flaml.automl.automl: 02-26 19:51:00] {3508} INFO -  at 2.9s,\testimator extra_tree's best error=0.1672,\tbest estimator lgbm's best error=0.1335\n",
      "[flaml.automl.automl: 02-26 19:51:00] {3323} INFO - iteration 16, current learner lgbm\n",
      "[flaml.automl.automl: 02-26 19:51:01] {3508} INFO -  at 3.1s,\testimator lgbm's best error=0.1335,\tbest estimator lgbm's best error=0.1335\n",
      "[flaml.automl.automl: 02-26 19:51:01] {3323} INFO - iteration 17, current learner extra_tree\n",
      "[flaml.automl.automl: 02-26 19:51:01] {3508} INFO -  at 3.4s,\testimator extra_tree's best error=0.1672,\tbest estimator lgbm's best error=0.1335\n",
      "[flaml.automl.automl: 02-26 19:51:01] {3323} INFO - iteration 18, current learner lgbm\n",
      "[flaml.automl.automl: 02-26 19:51:01] {3508} INFO -  at 3.5s,\testimator lgbm's best error=0.1335,\tbest estimator lgbm's best error=0.1335\n",
      "[flaml.automl.automl: 02-26 19:51:01] {3323} INFO - iteration 19, current learner rf\n",
      "[flaml.automl.automl: 02-26 19:51:01] {3508} INFO -  at 3.8s,\testimator rf's best error=0.1585,\tbest estimator lgbm's best error=0.1335\n",
      "[flaml.automl.automl: 02-26 19:51:01] {3323} INFO - iteration 20, current learner lgbm\n",
      "[flaml.automl.automl: 02-26 19:51:02] {3508} INFO -  at 4.1s,\testimator lgbm's best error=0.1208,\tbest estimator lgbm's best error=0.1208\n",
      "[flaml.automl.automl: 02-26 19:51:02] {3323} INFO - iteration 21, current learner rf\n",
      "[flaml.automl.automl: 02-26 19:51:02] {3508} INFO -  at 4.4s,\testimator rf's best error=0.1585,\tbest estimator lgbm's best error=0.1208\n",
      "[flaml.automl.automl: 02-26 19:51:02] {3323} INFO - iteration 22, current learner lgbm\n",
      "[flaml.automl.automl: 02-26 19:51:02] {3508} INFO -  at 4.6s,\testimator lgbm's best error=0.1202,\tbest estimator lgbm's best error=0.1202\n",
      "[flaml.automl.automl: 02-26 19:51:02] {3323} INFO - iteration 23, current learner lgbm\n",
      "[flaml.automl.automl: 02-26 19:51:02] {3508} INFO -  at 4.9s,\testimator lgbm's best error=0.1202,\tbest estimator lgbm's best error=0.1202\n",
      "[flaml.automl.automl: 02-26 19:51:02] {3323} INFO - iteration 24, current learner lgbm\n",
      "[flaml.automl.automl: 02-26 19:51:03] {3508} INFO -  at 5.1s,\testimator lgbm's best error=0.1140,\tbest estimator lgbm's best error=0.1140\n",
      "[flaml.automl.automl: 02-26 19:51:03] {3323} INFO - iteration 25, current learner extra_tree\n",
      "[flaml.automl.automl: 02-26 19:51:03] {3508} INFO -  at 5.3s,\testimator extra_tree's best error=0.1672,\tbest estimator lgbm's best error=0.1140\n",
      "[flaml.automl.automl: 02-26 19:51:03] {3323} INFO - iteration 26, current learner lgbm\n",
      "[flaml.automl.automl: 02-26 19:51:03] {3508} INFO -  at 5.6s,\testimator lgbm's best error=0.1140,\tbest estimator lgbm's best error=0.1140\n",
      "[flaml.automl.automl: 02-26 19:51:03] {3323} INFO - iteration 27, current learner lgbm\n",
      "[flaml.automl.automl: 02-26 19:51:03] {3508} INFO -  at 5.9s,\testimator lgbm's best error=0.1140,\tbest estimator lgbm's best error=0.1140\n",
      "[flaml.automl.automl: 02-26 19:51:03] {3323} INFO - iteration 28, current learner extra_tree\n",
      "[flaml.automl.automl: 02-26 19:51:04] {3508} INFO -  at 6.1s,\testimator extra_tree's best error=0.1672,\tbest estimator lgbm's best error=0.1140\n",
      "[flaml.automl.automl: 02-26 19:51:04] {3323} INFO - iteration 29, current learner extra_tree\n",
      "[flaml.automl.automl: 02-26 19:51:04] {3508} INFO -  at 6.3s,\testimator extra_tree's best error=0.1672,\tbest estimator lgbm's best error=0.1140\n",
      "[flaml.automl.automl: 02-26 19:51:04] {3323} INFO - iteration 30, current learner lgbm\n",
      "[flaml.automl.automl: 02-26 19:51:04] {3508} INFO -  at 6.5s,\testimator lgbm's best error=0.1140,\tbest estimator lgbm's best error=0.1140\n",
      "[flaml.automl.automl: 02-26 19:51:04] {3323} INFO - iteration 31, current learner lgbm\n",
      "[flaml.automl.automl: 02-26 19:51:04] {3508} INFO -  at 6.8s,\testimator lgbm's best error=0.1140,\tbest estimator lgbm's best error=0.1140\n",
      "[flaml.automl.automl: 02-26 19:51:04] {3323} INFO - iteration 32, current learner lgbm\n",
      "[flaml.automl.automl: 02-26 19:51:04] {3508} INFO -  at 7.0s,\testimator lgbm's best error=0.1100,\tbest estimator lgbm's best error=0.1100\n",
      "[flaml.automl.automl: 02-26 19:51:04] {3323} INFO - iteration 33, current learner extra_tree\n",
      "[flaml.automl.automl: 02-26 19:51:05] {3508} INFO -  at 7.3s,\testimator extra_tree's best error=0.1596,\tbest estimator lgbm's best error=0.1100\n"
     ]
    },
    {
     "name": "stdout",
     "output_type": "stream",
     "text": [
      "[flaml.automl.automl: 02-26 19:51:05] {3323} INFO - iteration 34, current learner lgbm\n",
      "[flaml.automl.automl: 02-26 19:51:05] {3508} INFO -  at 7.4s,\testimator lgbm's best error=0.1100,\tbest estimator lgbm's best error=0.1100\n",
      "[flaml.automl.automl: 02-26 19:51:05] {3323} INFO - iteration 35, current learner lgbm\n",
      "[flaml.automl.automl: 02-26 19:51:05] {3508} INFO -  at 7.7s,\testimator lgbm's best error=0.1100,\tbest estimator lgbm's best error=0.1100\n",
      "[flaml.automl.automl: 02-26 19:51:05] {3323} INFO - iteration 36, current learner extra_tree\n",
      "[flaml.automl.automl: 02-26 19:51:05] {3508} INFO -  at 7.9s,\testimator extra_tree's best error=0.1596,\tbest estimator lgbm's best error=0.1100\n",
      "[flaml.automl.automl: 02-26 19:51:05] {3323} INFO - iteration 37, current learner lgbm\n",
      "[flaml.automl.automl: 02-26 19:51:06] {3508} INFO -  at 8.2s,\testimator lgbm's best error=0.1088,\tbest estimator lgbm's best error=0.1088\n",
      "[flaml.automl.automl: 02-26 19:51:06] {3323} INFO - iteration 38, current learner lgbm\n",
      "[flaml.automl.automl: 02-26 19:51:06] {3508} INFO -  at 8.5s,\testimator lgbm's best error=0.1088,\tbest estimator lgbm's best error=0.1088\n",
      "[flaml.automl.automl: 02-26 19:51:06] {3323} INFO - iteration 39, current learner lgbm\n",
      "[flaml.automl.automl: 02-26 19:51:06] {3508} INFO -  at 8.8s,\testimator lgbm's best error=0.1088,\tbest estimator lgbm's best error=0.1088\n",
      "[flaml.automl.automl: 02-26 19:51:06] {3323} INFO - iteration 40, current learner lgbm\n",
      "[flaml.automl.automl: 02-26 19:51:07] {3508} INFO -  at 9.2s,\testimator lgbm's best error=0.1088,\tbest estimator lgbm's best error=0.1088\n",
      "[flaml.automl.automl: 02-26 19:51:07] {3323} INFO - iteration 41, current learner rf\n",
      "[flaml.automl.automl: 02-26 19:51:07] {3508} INFO -  at 9.5s,\testimator rf's best error=0.1585,\tbest estimator lgbm's best error=0.1088\n",
      "[flaml.automl.automl: 02-26 19:51:07] {3323} INFO - iteration 42, current learner lgbm\n",
      "[flaml.automl.automl: 02-26 19:51:07] {3508} INFO -  at 10.0s,\testimator lgbm's best error=0.1088,\tbest estimator lgbm's best error=0.1088\n",
      "[flaml.automl.automl: 02-26 19:51:07] {3323} INFO - iteration 43, current learner rf\n",
      "[flaml.automl.automl: 02-26 19:51:08] {3508} INFO -  at 10.2s,\testimator rf's best error=0.1585,\tbest estimator lgbm's best error=0.1088\n",
      "[flaml.automl.automl: 02-26 19:51:08] {3323} INFO - iteration 44, current learner extra_tree\n",
      "[flaml.automl.automl: 02-26 19:51:08] {3508} INFO -  at 10.5s,\testimator extra_tree's best error=0.1596,\tbest estimator lgbm's best error=0.1088\n",
      "[flaml.automl.automl: 02-26 19:51:08] {3323} INFO - iteration 45, current learner rf\n",
      "[flaml.automl.automl: 02-26 19:51:08] {3508} INFO -  at 10.8s,\testimator rf's best error=0.1522,\tbest estimator lgbm's best error=0.1088\n",
      "[flaml.automl.automl: 02-26 19:51:08] {3323} INFO - iteration 46, current learner lgbm\n",
      "[flaml.automl.automl: 02-26 19:51:09] {3508} INFO -  at 11.1s,\testimator lgbm's best error=0.1086,\tbest estimator lgbm's best error=0.1086\n",
      "[flaml.automl.automl: 02-26 19:51:09] {3323} INFO - iteration 47, current learner rf\n",
      "[flaml.automl.automl: 02-26 19:51:09] {3508} INFO -  at 11.4s,\testimator rf's best error=0.1522,\tbest estimator lgbm's best error=0.1086\n",
      "[flaml.automl.automl: 02-26 19:51:09] {3323} INFO - iteration 48, current learner lgbm\n",
      "[flaml.automl.automl: 02-26 19:51:09] {3508} INFO -  at 12.0s,\testimator lgbm's best error=0.1077,\tbest estimator lgbm's best error=0.1077\n",
      "[flaml.automl.automl: 02-26 19:51:09] {3323} INFO - iteration 49, current learner lgbm\n",
      "[flaml.automl.automl: 02-26 19:51:10] {3508} INFO -  at 12.3s,\testimator lgbm's best error=0.1017,\tbest estimator lgbm's best error=0.1017\n",
      "[flaml.automl.automl: 02-26 19:51:10] {3323} INFO - iteration 50, current learner lgbm\n",
      "[flaml.automl.automl: 02-26 19:51:10] {3508} INFO -  at 12.5s,\testimator lgbm's best error=0.1017,\tbest estimator lgbm's best error=0.1017\n",
      "[flaml.automl.automl: 02-26 19:51:10] {3323} INFO - iteration 51, current learner lgbm\n",
      "[flaml.automl.automl: 02-26 19:51:11] {3508} INFO -  at 13.4s,\testimator lgbm's best error=0.1017,\tbest estimator lgbm's best error=0.1017\n",
      "[flaml.automl.automl: 02-26 19:51:11] {3323} INFO - iteration 52, current learner lgbm\n",
      "[flaml.automl.automl: 02-26 19:51:11] {3508} INFO -  at 13.6s,\testimator lgbm's best error=0.1017,\tbest estimator lgbm's best error=0.1017\n",
      "[flaml.automl.automl: 02-26 19:51:11] {3323} INFO - iteration 53, current learner lgbm\n",
      "[flaml.automl.automl: 02-26 19:51:12] {3508} INFO -  at 14.2s,\testimator lgbm's best error=0.1017,\tbest estimator lgbm's best error=0.1017\n",
      "[flaml.automl.automl: 02-26 19:51:12] {3323} INFO - iteration 54, current learner lgbm\n",
      "[flaml.automl.automl: 02-26 19:51:12] {3508} INFO -  at 14.5s,\testimator lgbm's best error=0.1017,\tbest estimator lgbm's best error=0.1017\n",
      "[flaml.automl.automl: 02-26 19:51:12] {3323} INFO - iteration 55, current learner lgbm\n",
      "[flaml.automl.automl: 02-26 19:51:12] {3508} INFO -  at 15.0s,\testimator lgbm's best error=0.1017,\tbest estimator lgbm's best error=0.1017\n",
      "[flaml.automl.automl: 02-26 19:51:12] {3323} INFO - iteration 56, current learner lgbm\n",
      "[flaml.automl.automl: 02-26 19:51:13] {3508} INFO -  at 15.7s,\testimator lgbm's best error=0.1013,\tbest estimator lgbm's best error=0.1013\n",
      "[flaml.automl.automl: 02-26 19:51:13] {3323} INFO - iteration 57, current learner lgbm\n",
      "[flaml.automl.automl: 02-26 19:51:15] {3508} INFO -  at 17.1s,\testimator lgbm's best error=0.1013,\tbest estimator lgbm's best error=0.1013\n",
      "[flaml.automl.automl: 02-26 19:51:15] {3323} INFO - iteration 58, current learner lgbm\n",
      "[flaml.automl.automl: 02-26 19:51:15] {3508} INFO -  at 17.6s,\testimator lgbm's best error=0.1013,\tbest estimator lgbm's best error=0.1013\n",
      "[flaml.automl.automl: 02-26 19:51:15] {3323} INFO - iteration 59, current learner lgbm\n",
      "[flaml.automl.automl: 02-26 19:51:16] {3508} INFO -  at 18.6s,\testimator lgbm's best error=0.1013,\tbest estimator lgbm's best error=0.1013\n",
      "[flaml.automl.automl: 02-26 19:51:16] {3323} INFO - iteration 60, current learner lgbm\n",
      "[flaml.automl.automl: 02-26 19:51:16] {3508} INFO -  at 19.0s,\testimator lgbm's best error=0.1013,\tbest estimator lgbm's best error=0.1013\n",
      "[flaml.automl.automl: 02-26 19:51:16] {3323} INFO - iteration 61, current learner lgbm\n",
      "[flaml.automl.automl: 02-26 19:51:17] {3508} INFO -  at 19.3s,\testimator lgbm's best error=0.1013,\tbest estimator lgbm's best error=0.1013\n",
      "[flaml.automl.automl: 02-26 19:51:17] {3323} INFO - iteration 62, current learner lgbm\n",
      "[flaml.automl.automl: 02-26 19:51:20] {3508} INFO -  at 22.4s,\testimator lgbm's best error=0.1013,\tbest estimator lgbm's best error=0.1013\n",
      "[flaml.automl.automl: 02-26 19:51:20] {3323} INFO - iteration 63, current learner xgboost\n",
      "[flaml.automl.automl: 02-26 19:51:20] {3508} INFO -  at 22.6s,\testimator xgboost's best error=0.1772,\tbest estimator lgbm's best error=0.1013\n",
      "[flaml.automl.automl: 02-26 19:51:20] {3323} INFO - iteration 64, current learner lgbm\n",
      "[flaml.automl.automl: 02-26 19:51:22] {3508} INFO -  at 24.2s,\testimator lgbm's best error=0.1013,\tbest estimator lgbm's best error=0.1013\n",
      "[flaml.automl.automl: 02-26 19:51:22] {3323} INFO - iteration 65, current learner xgb_limitdepth\n",
      "[flaml.automl.automl: 02-26 19:51:22] {3508} INFO -  at 24.5s,\testimator xgb_limitdepth's best error=0.1364,\tbest estimator lgbm's best error=0.1013\n",
      "[flaml.automl.automl: 02-26 19:51:22] {3323} INFO - iteration 66, current learner xgb_limitdepth\n",
      "[flaml.automl.automl: 02-26 19:51:22] {3508} INFO -  at 24.8s,\testimator xgb_limitdepth's best error=0.1364,\tbest estimator lgbm's best error=0.1013\n",
      "[flaml.automl.automl: 02-26 19:51:22] {3323} INFO - iteration 67, current learner xgb_limitdepth\n",
      "[flaml.automl.automl: 02-26 19:51:22] {3508} INFO -  at 25.1s,\testimator xgb_limitdepth's best error=0.1302,\tbest estimator lgbm's best error=0.1013\n",
      "[flaml.automl.automl: 02-26 19:51:22] {3323} INFO - iteration 68, current learner xgboost\n",
      "[flaml.automl.automl: 02-26 19:51:23] {3508} INFO -  at 25.3s,\testimator xgboost's best error=0.1740,\tbest estimator lgbm's best error=0.1013\n",
      "[flaml.automl.automl: 02-26 19:51:23] {3323} INFO - iteration 69, current learner lgbm\n",
      "[flaml.automl.automl: 02-26 19:51:23] {3508} INFO -  at 25.8s,\testimator lgbm's best error=0.1013,\tbest estimator lgbm's best error=0.1013\n"
     ]
    },
    {
     "name": "stdout",
     "output_type": "stream",
     "text": [
      "[flaml.automl.automl: 02-26 19:51:23] {3323} INFO - iteration 70, current learner extra_tree\n",
      "[flaml.automl.automl: 02-26 19:51:23] {3508} INFO -  at 26.0s,\testimator extra_tree's best error=0.1553,\tbest estimator lgbm's best error=0.1013\n",
      "[flaml.automl.automl: 02-26 19:51:23] {3323} INFO - iteration 71, current learner xgb_limitdepth\n",
      "[flaml.automl.automl: 02-26 19:51:24] {3508} INFO -  at 26.3s,\testimator xgb_limitdepth's best error=0.1302,\tbest estimator lgbm's best error=0.1013\n",
      "[flaml.automl.automl: 02-26 19:51:24] {3323} INFO - iteration 72, current learner extra_tree\n",
      "[flaml.automl.automl: 02-26 19:51:24] {3508} INFO -  at 26.5s,\testimator extra_tree's best error=0.1553,\tbest estimator lgbm's best error=0.1013\n",
      "[flaml.automl.automl: 02-26 19:51:24] {3323} INFO - iteration 73, current learner xgb_limitdepth\n",
      "[flaml.automl.automl: 02-26 19:51:24] {3508} INFO -  at 26.8s,\testimator xgb_limitdepth's best error=0.1302,\tbest estimator lgbm's best error=0.1013\n",
      "[flaml.automl.automl: 02-26 19:51:24] {3323} INFO - iteration 74, current learner xgboost\n",
      "[flaml.automl.automl: 02-26 19:51:25] {3508} INFO -  at 27.1s,\testimator xgboost's best error=0.1667,\tbest estimator lgbm's best error=0.1013\n",
      "[flaml.automl.automl: 02-26 19:51:25] {3323} INFO - iteration 75, current learner xgb_limitdepth\n",
      "[flaml.automl.automl: 02-26 19:51:25] {3508} INFO -  at 27.3s,\testimator xgb_limitdepth's best error=0.1302,\tbest estimator lgbm's best error=0.1013\n",
      "[flaml.automl.automl: 02-26 19:51:25] {3323} INFO - iteration 76, current learner lgbm\n",
      "[flaml.automl.automl: 02-26 19:51:25] {3508} INFO -  at 27.6s,\testimator lgbm's best error=0.1001,\tbest estimator lgbm's best error=0.1001\n",
      "[flaml.automl.automl: 02-26 19:51:25] {3323} INFO - iteration 77, current learner lgbm\n",
      "[flaml.automl.automl: 02-26 19:51:26] {3508} INFO -  at 28.5s,\testimator lgbm's best error=0.1001,\tbest estimator lgbm's best error=0.1001\n",
      "[flaml.automl.automl: 02-26 19:51:26] {3323} INFO - iteration 78, current learner extra_tree\n",
      "[flaml.automl.automl: 02-26 19:51:26] {3508} INFO -  at 29.1s,\testimator extra_tree's best error=0.1546,\tbest estimator lgbm's best error=0.1001\n",
      "[flaml.automl.automl: 02-26 19:51:26] {3323} INFO - iteration 79, current learner xgboost\n",
      "[flaml.automl.automl: 02-26 19:51:27] {3508} INFO -  at 29.4s,\testimator xgboost's best error=0.1667,\tbest estimator lgbm's best error=0.1001\n",
      "[flaml.automl.automl: 02-26 19:51:27] {3323} INFO - iteration 80, current learner lgbm\n",
      "[flaml.automl.automl: 02-26 19:51:27] {3508} INFO -  at 29.6s,\testimator lgbm's best error=0.1001,\tbest estimator lgbm's best error=0.1001\n",
      "[flaml.automl.automl: 02-26 19:51:27] {3323} INFO - iteration 81, current learner xgb_limitdepth\n",
      "[flaml.automl.automl: 02-26 19:51:27] {3508} INFO -  at 30.1s,\testimator xgb_limitdepth's best error=0.1302,\tbest estimator lgbm's best error=0.1001\n",
      "[flaml.automl.automl: 02-26 19:51:27] {3323} INFO - iteration 82, current learner lgbm\n",
      "[flaml.automl.automl: 02-26 19:51:29] {3508} INFO -  at 31.4s,\testimator lgbm's best error=0.1001,\tbest estimator lgbm's best error=0.1001\n",
      "[flaml.automl.automl: 02-26 19:51:29] {3323} INFO - iteration 83, current learner xgboost\n",
      "[flaml.automl.automl: 02-26 19:51:29] {3508} INFO -  at 32.1s,\testimator xgboost's best error=0.1667,\tbest estimator lgbm's best error=0.1001\n",
      "[flaml.automl.automl: 02-26 19:51:29] {3323} INFO - iteration 84, current learner xgboost\n",
      "[flaml.automl.automl: 02-26 19:51:30] {3508} INFO -  at 32.5s,\testimator xgboost's best error=0.1667,\tbest estimator lgbm's best error=0.1001\n",
      "[flaml.automl.automl: 02-26 19:51:30] {3323} INFO - iteration 85, current learner xgb_limitdepth\n",
      "[flaml.automl.automl: 02-26 19:51:31] {3508} INFO -  at 33.1s,\testimator xgb_limitdepth's best error=0.1249,\tbest estimator lgbm's best error=0.1001\n",
      "[flaml.automl.automl: 02-26 19:51:31] {3323} INFO - iteration 86, current learner xgboost\n",
      "[flaml.automl.automl: 02-26 19:51:31] {3508} INFO -  at 33.7s,\testimator xgboost's best error=0.1667,\tbest estimator lgbm's best error=0.1001\n",
      "[flaml.automl.automl: 02-26 19:51:31] {3323} INFO - iteration 87, current learner extra_tree\n",
      "[flaml.automl.automl: 02-26 19:51:32] {3508} INFO -  at 34.2s,\testimator extra_tree's best error=0.1484,\tbest estimator lgbm's best error=0.1001\n",
      "[flaml.automl.automl: 02-26 19:51:32] {3323} INFO - iteration 88, current learner rf\n",
      "[flaml.automl.automl: 02-26 19:51:32] {3508} INFO -  at 34.8s,\testimator rf's best error=0.1522,\tbest estimator lgbm's best error=0.1001\n",
      "[flaml.automl.automl: 02-26 19:51:32] {3323} INFO - iteration 89, current learner lgbm\n",
      "[flaml.automl.automl: 02-26 19:51:32] {3508} INFO -  at 35.1s,\testimator lgbm's best error=0.1001,\tbest estimator lgbm's best error=0.1001\n",
      "[flaml.automl.automl: 02-26 19:51:32] {3323} INFO - iteration 90, current learner xgb_limitdepth\n",
      "[flaml.automl.automl: 02-26 19:51:33] {3508} INFO -  at 35.7s,\testimator xgb_limitdepth's best error=0.1249,\tbest estimator lgbm's best error=0.1001\n",
      "[flaml.automl.automl: 02-26 19:51:33] {3323} INFO - iteration 91, current learner xgboost\n",
      "[flaml.automl.automl: 02-26 19:51:34] {3508} INFO -  at 36.1s,\testimator xgboost's best error=0.1578,\tbest estimator lgbm's best error=0.1001\n",
      "[flaml.automl.automl: 02-26 19:51:34] {3323} INFO - iteration 92, current learner xgb_limitdepth\n",
      "[flaml.automl.automl: 02-26 19:51:34] {3508} INFO -  at 36.7s,\testimator xgb_limitdepth's best error=0.1215,\tbest estimator lgbm's best error=0.1001\n",
      "[flaml.automl.automl: 02-26 19:51:34] {3323} INFO - iteration 93, current learner extra_tree\n",
      "[flaml.automl.automl: 02-26 19:51:35] {3508} INFO -  at 37.2s,\testimator extra_tree's best error=0.1478,\tbest estimator lgbm's best error=0.1001\n",
      "[flaml.automl.automl: 02-26 19:51:35] {3323} INFO - iteration 94, current learner xgboost\n",
      "[flaml.automl.automl: 02-26 19:51:35] {3508} INFO -  at 37.6s,\testimator xgboost's best error=0.1578,\tbest estimator lgbm's best error=0.1001\n",
      "[flaml.automl.automl: 02-26 19:51:35] {3323} INFO - iteration 95, current learner lgbm\n",
      "[flaml.automl.automl: 02-26 19:51:38] {3508} INFO -  at 40.9s,\testimator lgbm's best error=0.1001,\tbest estimator lgbm's best error=0.1001\n",
      "[flaml.automl.automl: 02-26 19:51:38] {3323} INFO - iteration 96, current learner xgb_limitdepth\n",
      "[flaml.automl.automl: 02-26 19:51:39] {3508} INFO -  at 41.5s,\testimator xgb_limitdepth's best error=0.1215,\tbest estimator lgbm's best error=0.1001\n",
      "[flaml.automl.automl: 02-26 19:51:39] {3323} INFO - iteration 97, current learner lgbm\n",
      "[flaml.automl.automl: 02-26 19:51:40] {3508} INFO -  at 42.5s,\testimator lgbm's best error=0.1001,\tbest estimator lgbm's best error=0.1001\n",
      "[flaml.automl.automl: 02-26 19:51:40] {3323} INFO - iteration 98, current learner rf\n",
      "[flaml.automl.automl: 02-26 19:51:40] {3508} INFO -  at 42.9s,\testimator rf's best error=0.1426,\tbest estimator lgbm's best error=0.1001\n",
      "[flaml.automl.automl: 02-26 19:51:40] {3323} INFO - iteration 99, current learner rf\n",
      "[flaml.automl.automl: 02-26 19:51:41] {3508} INFO -  at 43.2s,\testimator rf's best error=0.1426,\tbest estimator lgbm's best error=0.1001\n",
      "[flaml.automl.automl: 02-26 19:51:41] {3323} INFO - iteration 100, current learner lgbm\n",
      "[flaml.automl.automl: 02-26 19:51:41] {3508} INFO -  at 43.4s,\testimator lgbm's best error=0.1001,\tbest estimator lgbm's best error=0.1001\n",
      "[flaml.automl.automl: 02-26 19:51:41] {3323} INFO - iteration 101, current learner xgb_limitdepth\n",
      "[flaml.automl.automl: 02-26 19:51:41] {3508} INFO -  at 43.8s,\testimator xgb_limitdepth's best error=0.1215,\tbest estimator lgbm's best error=0.1001\n",
      "[flaml.automl.automl: 02-26 19:51:41] {3323} INFO - iteration 102, current learner rf\n",
      "[flaml.automl.automl: 02-26 19:51:42] {3508} INFO -  at 44.3s,\testimator rf's best error=0.1403,\tbest estimator lgbm's best error=0.1001\n",
      "[flaml.automl.automl: 02-26 19:51:42] {3323} INFO - iteration 103, current learner lgbm\n",
      "[flaml.automl.automl: 02-26 19:51:42] {3508} INFO -  at 45.0s,\testimator lgbm's best error=0.1001,\tbest estimator lgbm's best error=0.1001\n",
      "[flaml.automl.automl: 02-26 19:51:42] {3323} INFO - iteration 104, current learner rf\n",
      "[flaml.automl.automl: 02-26 19:51:43] {3508} INFO -  at 45.3s,\testimator rf's best error=0.1403,\tbest estimator lgbm's best error=0.1001\n",
      "[flaml.automl.automl: 02-26 19:51:43] {3323} INFO - iteration 105, current learner lgbm\n"
     ]
    },
    {
     "name": "stdout",
     "output_type": "stream",
     "text": [
      "[flaml.automl.automl: 02-26 19:51:43] {3508} INFO -  at 45.4s,\testimator lgbm's best error=0.1001,\tbest estimator lgbm's best error=0.1001\n",
      "[flaml.automl.automl: 02-26 19:51:43] {3323} INFO - iteration 106, current learner rf\n",
      "[flaml.automl.automl: 02-26 19:51:44] {3508} INFO -  at 46.6s,\testimator rf's best error=0.1390,\tbest estimator lgbm's best error=0.1001\n",
      "[flaml.automl.automl: 02-26 19:51:44] {3323} INFO - iteration 107, current learner xgb_limitdepth\n",
      "[flaml.automl.automl: 02-26 19:51:44] {3508} INFO -  at 46.9s,\testimator xgb_limitdepth's best error=0.1154,\tbest estimator lgbm's best error=0.1001\n",
      "[flaml.automl.automl: 02-26 19:51:44] {3323} INFO - iteration 108, current learner rf\n",
      "[flaml.automl.automl: 02-26 19:51:45] {3508} INFO -  at 47.8s,\testimator rf's best error=0.1351,\tbest estimator lgbm's best error=0.1001\n",
      "[flaml.automl.automl: 02-26 19:51:45] {3323} INFO - iteration 109, current learner xgb_limitdepth\n",
      "[flaml.automl.automl: 02-26 19:51:45] {3508} INFO -  at 48.0s,\testimator xgb_limitdepth's best error=0.1154,\tbest estimator lgbm's best error=0.1001\n",
      "[flaml.automl.automl: 02-26 19:51:45] {3323} INFO - iteration 110, current learner xgb_limitdepth\n",
      "[flaml.automl.automl: 02-26 19:51:46] {3508} INFO -  at 48.5s,\testimator xgb_limitdepth's best error=0.1130,\tbest estimator lgbm's best error=0.1001\n",
      "[flaml.automl.automl: 02-26 19:51:46] {3323} INFO - iteration 111, current learner lgbm\n",
      "[flaml.automl.automl: 02-26 19:51:46] {3508} INFO -  at 49.0s,\testimator lgbm's best error=0.1001,\tbest estimator lgbm's best error=0.1001\n",
      "[flaml.automl.automl: 02-26 19:51:46] {3323} INFO - iteration 112, current learner xgb_limitdepth\n",
      "[flaml.automl.automl: 02-26 19:51:47] {3508} INFO -  at 49.3s,\testimator xgb_limitdepth's best error=0.1130,\tbest estimator lgbm's best error=0.1001\n",
      "[flaml.automl.automl: 02-26 19:51:47] {3323} INFO - iteration 113, current learner extra_tree\n",
      "[flaml.automl.automl: 02-26 19:51:47] {3508} INFO -  at 49.7s,\testimator extra_tree's best error=0.1478,\tbest estimator lgbm's best error=0.1001\n",
      "[flaml.automl.automl: 02-26 19:51:47] {3323} INFO - iteration 114, current learner xgb_limitdepth\n",
      "[flaml.automl.automl: 02-26 19:51:48] {3508} INFO -  at 50.4s,\testimator xgb_limitdepth's best error=0.1130,\tbest estimator lgbm's best error=0.1001\n",
      "[flaml.automl.automl: 02-26 19:51:48] {3323} INFO - iteration 115, current learner lgbm\n",
      "[flaml.automl.automl: 02-26 19:51:48] {3508} INFO -  at 50.7s,\testimator lgbm's best error=0.1001,\tbest estimator lgbm's best error=0.1001\n",
      "[flaml.automl.automl: 02-26 19:51:48] {3323} INFO - iteration 116, current learner lgbm\n",
      "[flaml.automl.automl: 02-26 19:51:48] {3508} INFO -  at 50.9s,\testimator lgbm's best error=0.1001,\tbest estimator lgbm's best error=0.1001\n",
      "[flaml.automl.automl: 02-26 19:51:48] {3323} INFO - iteration 117, current learner xgb_limitdepth\n",
      "[flaml.automl.automl: 02-26 19:51:49] {3508} INFO -  at 51.3s,\testimator xgb_limitdepth's best error=0.1130,\tbest estimator lgbm's best error=0.1001\n",
      "[flaml.automl.automl: 02-26 19:51:49] {3323} INFO - iteration 118, current learner xgboost\n",
      "[flaml.automl.automl: 02-26 19:51:49] {3508} INFO -  at 51.7s,\testimator xgboost's best error=0.1578,\tbest estimator lgbm's best error=0.1001\n",
      "[flaml.automl.automl: 02-26 19:51:49] {3323} INFO - iteration 119, current learner lgbm\n",
      "[flaml.automl.automl: 02-26 19:51:49] {3508} INFO -  at 52.1s,\testimator lgbm's best error=0.1001,\tbest estimator lgbm's best error=0.1001\n",
      "[flaml.automl.automl: 02-26 19:51:49] {3323} INFO - iteration 120, current learner xgboost\n",
      "[flaml.automl.automl: 02-26 19:51:50] {3508} INFO -  at 52.4s,\testimator xgboost's best error=0.1578,\tbest estimator lgbm's best error=0.1001\n",
      "[flaml.automl.automl: 02-26 19:51:50] {3323} INFO - iteration 121, current learner xgboost\n",
      "[flaml.automl.automl: 02-26 19:51:50] {3508} INFO -  at 52.8s,\testimator xgboost's best error=0.1563,\tbest estimator lgbm's best error=0.1001\n",
      "[flaml.automl.automl: 02-26 19:51:50] {3323} INFO - iteration 122, current learner xgb_limitdepth\n",
      "[flaml.automl.automl: 02-26 19:51:51] {3508} INFO -  at 53.7s,\testimator xgb_limitdepth's best error=0.1130,\tbest estimator lgbm's best error=0.1001\n",
      "[flaml.automl.automl: 02-26 19:51:51] {3323} INFO - iteration 123, current learner rf\n",
      "[flaml.automl.automl: 02-26 19:51:52] {3508} INFO -  at 54.8s,\testimator rf's best error=0.1303,\tbest estimator lgbm's best error=0.1001\n",
      "[flaml.automl.automl: 02-26 19:51:52] {3323} INFO - iteration 124, current learner lgbm\n",
      "[flaml.automl.automl: 02-26 19:51:52] {3508} INFO -  at 55.0s,\testimator lgbm's best error=0.1001,\tbest estimator lgbm's best error=0.1001\n",
      "[flaml.automl.automl: 02-26 19:51:52] {3323} INFO - iteration 125, current learner lgbm\n",
      "[flaml.automl.automl: 02-26 19:51:53] {3508} INFO -  at 55.5s,\testimator lgbm's best error=0.1001,\tbest estimator lgbm's best error=0.1001\n",
      "[flaml.automl.automl: 02-26 19:51:53] {3323} INFO - iteration 126, current learner lgbm\n",
      "[flaml.automl.automl: 02-26 19:51:54] {3508} INFO -  at 56.3s,\testimator lgbm's best error=0.1001,\tbest estimator lgbm's best error=0.1001\n",
      "[flaml.automl.automl: 02-26 19:51:54] {3323} INFO - iteration 127, current learner lgbm\n",
      "[flaml.automl.automl: 02-26 19:51:54] {3508} INFO -  at 56.4s,\testimator lgbm's best error=0.1001,\tbest estimator lgbm's best error=0.1001\n",
      "[flaml.automl.automl: 02-26 19:51:54] {3323} INFO - iteration 128, current learner lgbm\n",
      "[flaml.automl.automl: 02-26 19:51:54] {3508} INFO -  at 56.8s,\testimator lgbm's best error=0.1001,\tbest estimator lgbm's best error=0.1001\n",
      "[flaml.automl.automl: 02-26 19:51:54] {3323} INFO - iteration 129, current learner xgb_limitdepth\n",
      "[flaml.automl.automl: 02-26 19:51:55] {3508} INFO -  at 57.1s,\testimator xgb_limitdepth's best error=0.1130,\tbest estimator lgbm's best error=0.1001\n",
      "[flaml.automl.automl: 02-26 19:51:55] {3323} INFO - iteration 130, current learner rf\n",
      "[flaml.automl.automl: 02-26 19:51:55] {3508} INFO -  at 57.7s,\testimator rf's best error=0.1303,\tbest estimator lgbm's best error=0.1001\n",
      "[flaml.automl.automl: 02-26 19:51:55] {3323} INFO - iteration 131, current learner rf\n",
      "[flaml.automl.automl: 02-26 19:51:57] {3508} INFO -  at 59.3s,\testimator rf's best error=0.1303,\tbest estimator lgbm's best error=0.1001\n",
      "[flaml.automl.automl: 02-26 19:51:57] {3323} INFO - iteration 132, current learner xgb_limitdepth\n",
      "[flaml.automl.automl: 02-26 19:51:58] {3508} INFO -  at 60.2s,\testimator xgb_limitdepth's best error=0.1130,\tbest estimator lgbm's best error=0.1001\n",
      "[flaml.automl.automl: 02-26 19:51:58] {3323} INFO - iteration 133, current learner lgbm\n",
      "[flaml.automl.automl: 02-26 19:51:58] {3508} INFO -  at 60.5s,\testimator lgbm's best error=0.1001,\tbest estimator lgbm's best error=0.1001\n",
      "[flaml.automl.automl: 02-26 19:51:58] {3323} INFO - iteration 134, current learner lgbm\n",
      "[flaml.automl.automl: 02-26 19:51:58] {3508} INFO -  at 60.9s,\testimator lgbm's best error=0.1001,\tbest estimator lgbm's best error=0.1001\n",
      "[flaml.automl.automl: 02-26 19:51:58] {3323} INFO - iteration 135, current learner rf\n",
      "[flaml.automl.automl: 02-26 19:51:59] {3508} INFO -  at 62.0s,\testimator rf's best error=0.1303,\tbest estimator lgbm's best error=0.1001\n",
      "[flaml.automl.automl: 02-26 19:51:59] {3323} INFO - iteration 136, current learner xgb_limitdepth\n",
      "[flaml.automl.automl: 02-26 19:52:00] {3508} INFO -  at 62.5s,\testimator xgb_limitdepth's best error=0.1130,\tbest estimator lgbm's best error=0.1001\n",
      "[flaml.automl.automl: 02-26 19:52:00] {3323} INFO - iteration 137, current learner lgbm\n",
      "[flaml.automl.automl: 02-26 19:52:00] {3508} INFO -  at 62.9s,\testimator lgbm's best error=0.1001,\tbest estimator lgbm's best error=0.1001\n",
      "[flaml.automl.automl: 02-26 19:52:00] {3323} INFO - iteration 138, current learner lgbm\n",
      "[flaml.automl.automl: 02-26 19:52:01] {3508} INFO -  at 63.1s,\testimator lgbm's best error=0.1001,\tbest estimator lgbm's best error=0.1001\n",
      "[flaml.automl.automl: 02-26 19:52:01] {3323} INFO - iteration 139, current learner extra_tree\n",
      "[flaml.automl.automl: 02-26 19:52:01] {3508} INFO -  at 63.6s,\testimator extra_tree's best error=0.1478,\tbest estimator lgbm's best error=0.1001\n",
      "[flaml.automl.automl: 02-26 19:52:01] {3323} INFO - iteration 140, current learner lgbm\n",
      "[flaml.automl.automl: 02-26 19:52:01] {3508} INFO -  at 64.0s,\testimator lgbm's best error=0.1001,\tbest estimator lgbm's best error=0.1001\n"
     ]
    },
    {
     "name": "stdout",
     "output_type": "stream",
     "text": [
      "[flaml.automl.automl: 02-26 19:52:01] {3323} INFO - iteration 141, current learner extra_tree\n",
      "[flaml.automl.automl: 02-26 19:52:02] {3508} INFO -  at 64.3s,\testimator extra_tree's best error=0.1478,\tbest estimator lgbm's best error=0.1001\n",
      "[flaml.automl.automl: 02-26 19:52:02] {3323} INFO - iteration 142, current learner lgbm\n",
      "[flaml.automl.automl: 02-26 19:52:02] {3508} INFO -  at 65.0s,\testimator lgbm's best error=0.1001,\tbest estimator lgbm's best error=0.1001\n",
      "[flaml.automl.automl: 02-26 19:52:02] {3323} INFO - iteration 143, current learner xgb_limitdepth\n",
      "[flaml.automl.automl: 02-26 19:52:03] {3508} INFO -  at 65.6s,\testimator xgb_limitdepth's best error=0.1130,\tbest estimator lgbm's best error=0.1001\n",
      "[flaml.automl.automl: 02-26 19:52:03] {3323} INFO - iteration 144, current learner xgboost\n",
      "[flaml.automl.automl: 02-26 19:52:04] {3508} INFO -  at 66.3s,\testimator xgboost's best error=0.1563,\tbest estimator lgbm's best error=0.1001\n",
      "[flaml.automl.automl: 02-26 19:52:04] {3323} INFO - iteration 145, current learner lgbm\n",
      "[flaml.automl.automl: 02-26 19:52:04] {3508} INFO -  at 66.4s,\testimator lgbm's best error=0.1001,\tbest estimator lgbm's best error=0.1001\n",
      "[flaml.automl.automl: 02-26 19:52:04] {3323} INFO - iteration 146, current learner lgbm\n",
      "[flaml.automl.automl: 02-26 19:52:04] {3508} INFO -  at 66.7s,\testimator lgbm's best error=0.1001,\tbest estimator lgbm's best error=0.1001\n",
      "[flaml.automl.automl: 02-26 19:52:04] {3323} INFO - iteration 147, current learner lgbm\n",
      "[flaml.automl.automl: 02-26 19:52:04] {3508} INFO -  at 67.0s,\testimator lgbm's best error=0.1001,\tbest estimator lgbm's best error=0.1001\n",
      "[flaml.automl.automl: 02-26 19:52:04] {3323} INFO - iteration 148, current learner lgbm\n",
      "[flaml.automl.automl: 02-26 19:52:05] {3508} INFO -  at 67.2s,\testimator lgbm's best error=0.1001,\tbest estimator lgbm's best error=0.1001\n",
      "[flaml.automl.automl: 02-26 19:52:05] {3323} INFO - iteration 149, current learner lgbm\n",
      "[flaml.automl.automl: 02-26 19:52:05] {3508} INFO -  at 67.9s,\testimator lgbm's best error=0.1001,\tbest estimator lgbm's best error=0.1001\n",
      "[flaml.automl.automl: 02-26 19:52:05] {3323} INFO - iteration 150, current learner lgbm\n",
      "[flaml.automl.automl: 02-26 19:52:06] {3508} INFO -  at 68.4s,\testimator lgbm's best error=0.1001,\tbest estimator lgbm's best error=0.1001\n",
      "[flaml.automl.automl: 02-26 19:52:06] {3323} INFO - iteration 151, current learner lgbm\n",
      "[flaml.automl.automl: 02-26 19:52:06] {3508} INFO -  at 68.5s,\testimator lgbm's best error=0.1001,\tbest estimator lgbm's best error=0.1001\n",
      "[flaml.automl.automl: 02-26 19:52:06] {3323} INFO - iteration 152, current learner rf\n",
      "[flaml.automl.automl: 02-26 19:52:07] {3508} INFO -  at 69.6s,\testimator rf's best error=0.1303,\tbest estimator lgbm's best error=0.1001\n",
      "[flaml.automl.automl: 02-26 19:52:07] {3323} INFO - iteration 153, current learner lgbm\n",
      "[flaml.automl.automl: 02-26 19:52:07] {3508} INFO -  at 69.7s,\testimator lgbm's best error=0.1001,\tbest estimator lgbm's best error=0.1001\n",
      "[flaml.automl.automl: 02-26 19:52:07] {3323} INFO - iteration 154, current learner lgbm\n",
      "[flaml.automl.automl: 02-26 19:52:08] {3508} INFO -  at 70.5s,\testimator lgbm's best error=0.1001,\tbest estimator lgbm's best error=0.1001\n",
      "[flaml.automl.automl: 02-26 19:52:08] {3323} INFO - iteration 155, current learner lgbm\n",
      "[flaml.automl.automl: 02-26 19:52:08] {3508} INFO -  at 70.9s,\testimator lgbm's best error=0.1001,\tbest estimator lgbm's best error=0.1001\n",
      "[flaml.automl.automl: 02-26 19:52:08] {3323} INFO - iteration 156, current learner xgb_limitdepth\n",
      "[flaml.automl.automl: 02-26 19:52:09] {3508} INFO -  at 71.3s,\testimator xgb_limitdepth's best error=0.1130,\tbest estimator lgbm's best error=0.1001\n",
      "[flaml.automl.automl: 02-26 19:52:09] {3323} INFO - iteration 157, current learner lgbm\n",
      "[flaml.automl.automl: 02-26 19:52:09] {3508} INFO -  at 71.6s,\testimator lgbm's best error=0.1001,\tbest estimator lgbm's best error=0.1001\n",
      "[flaml.automl.automl: 02-26 19:52:09] {3323} INFO - iteration 158, current learner lgbm\n",
      "[flaml.automl.automl: 02-26 19:52:10] {3508} INFO -  at 72.2s,\testimator lgbm's best error=0.1001,\tbest estimator lgbm's best error=0.1001\n",
      "[flaml.automl.automl: 02-26 19:52:10] {3323} INFO - iteration 159, current learner lgbm\n",
      "[flaml.automl.automl: 02-26 19:52:10] {3508} INFO -  at 72.4s,\testimator lgbm's best error=0.1001,\tbest estimator lgbm's best error=0.1001\n",
      "[flaml.automl.automl: 02-26 19:52:10] {3323} INFO - iteration 160, current learner xgboost\n",
      "[flaml.automl.automl: 02-26 19:52:10] {3508} INFO -  at 72.7s,\testimator xgboost's best error=0.1563,\tbest estimator lgbm's best error=0.1001\n",
      "[flaml.automl.automl: 02-26 19:52:10] {3323} INFO - iteration 161, current learner lgbm\n",
      "[flaml.automl.automl: 02-26 19:52:10] {3508} INFO -  at 73.0s,\testimator lgbm's best error=0.1001,\tbest estimator lgbm's best error=0.1001\n",
      "[flaml.automl.automl: 02-26 19:52:10] {3323} INFO - iteration 162, current learner rf\n",
      "[flaml.automl.automl: 02-26 19:52:12] {3508} INFO -  at 74.1s,\testimator rf's best error=0.1303,\tbest estimator lgbm's best error=0.1001\n",
      "[flaml.automl.automl: 02-26 19:52:12] {3323} INFO - iteration 163, current learner xgb_limitdepth\n",
      "[flaml.automl.automl: 02-26 19:52:12] {3508} INFO -  at 74.7s,\testimator xgb_limitdepth's best error=0.1119,\tbest estimator lgbm's best error=0.1001\n",
      "[flaml.automl.automl: 02-26 19:52:12] {3323} INFO - iteration 164, current learner xgboost\n",
      "[flaml.automl.automl: 02-26 19:52:13] {3508} INFO -  at 75.9s,\testimator xgboost's best error=0.1451,\tbest estimator lgbm's best error=0.1001\n",
      "[flaml.automl.automl: 02-26 19:52:13] {3323} INFO - iteration 165, current learner lgbm\n",
      "[flaml.automl.automl: 02-26 19:52:14] {3508} INFO -  at 76.3s,\testimator lgbm's best error=0.1001,\tbest estimator lgbm's best error=0.1001\n",
      "[flaml.automl.automl: 02-26 19:52:14] {3323} INFO - iteration 166, current learner xgboost\n",
      "[flaml.automl.automl: 02-26 19:52:14] {3508} INFO -  at 76.8s,\testimator xgboost's best error=0.1451,\tbest estimator lgbm's best error=0.1001\n",
      "[flaml.automl.automl: 02-26 19:52:14] {3323} INFO - iteration 167, current learner xgboost\n",
      "[flaml.automl.automl: 02-26 19:52:17] {3508} INFO -  at 79.4s,\testimator xgboost's best error=0.1448,\tbest estimator lgbm's best error=0.1001\n",
      "[flaml.automl.automl: 02-26 19:52:17] {3323} INFO - iteration 168, current learner xgboost\n",
      "[flaml.automl.automl: 02-26 19:52:18] {3508} INFO -  at 80.1s,\testimator xgboost's best error=0.1448,\tbest estimator lgbm's best error=0.1001\n",
      "[flaml.automl.automl: 02-26 19:52:18] {3323} INFO - iteration 169, current learner lgbm\n",
      "[flaml.automl.automl: 02-26 19:52:18] {3508} INFO -  at 80.3s,\testimator lgbm's best error=0.1001,\tbest estimator lgbm's best error=0.1001\n",
      "[flaml.automl.automl: 02-26 19:52:18] {3323} INFO - iteration 170, current learner lrl1\n"
     ]
    },
    {
     "name": "stderr",
     "output_type": "stream",
     "text": [
      "C:\\Users\\Utilisateur\\anaconda3\\lib\\site-packages\\sklearn\\linear_model\\_sag.py:352: ConvergenceWarning: The max_iter was reached which means the coef_ did not converge\n",
      "  warnings.warn(\n",
      "C:\\Users\\Utilisateur\\anaconda3\\lib\\site-packages\\sklearn\\linear_model\\_sag.py:352: ConvergenceWarning: The max_iter was reached which means the coef_ did not converge\n",
      "  warnings.warn(\n",
      "C:\\Users\\Utilisateur\\anaconda3\\lib\\site-packages\\sklearn\\linear_model\\_sag.py:352: ConvergenceWarning: The max_iter was reached which means the coef_ did not converge\n",
      "  warnings.warn(\n"
     ]
    },
    {
     "name": "stdout",
     "output_type": "stream",
     "text": [
      "[flaml.automl.automl: 02-26 19:52:18] {3508} INFO -  at 80.8s,\testimator lrl1's best error=0.4643,\tbest estimator lgbm's best error=0.1001\n",
      "[flaml.automl.automl: 02-26 19:52:18] {3323} INFO - iteration 171, current learner lgbm\n"
     ]
    },
    {
     "name": "stderr",
     "output_type": "stream",
     "text": [
      "C:\\Users\\Utilisateur\\anaconda3\\lib\\site-packages\\sklearn\\linear_model\\_sag.py:352: ConvergenceWarning: The max_iter was reached which means the coef_ did not converge\n",
      "  warnings.warn(\n",
      "C:\\Users\\Utilisateur\\anaconda3\\lib\\site-packages\\sklearn\\linear_model\\_sag.py:352: ConvergenceWarning: The max_iter was reached which means the coef_ did not converge\n",
      "  warnings.warn(\n"
     ]
    },
    {
     "name": "stdout",
     "output_type": "stream",
     "text": [
      "[flaml.automl.automl: 02-26 19:52:19] {3508} INFO -  at 81.3s,\testimator lgbm's best error=0.1001,\tbest estimator lgbm's best error=0.1001\n",
      "[flaml.automl.automl: 02-26 19:52:19] {3323} INFO - iteration 172, current learner lrl1\n"
     ]
    },
    {
     "name": "stderr",
     "output_type": "stream",
     "text": [
      "C:\\Users\\Utilisateur\\anaconda3\\lib\\site-packages\\sklearn\\linear_model\\_sag.py:352: ConvergenceWarning: The max_iter was reached which means the coef_ did not converge\n",
      "  warnings.warn(\n",
      "C:\\Users\\Utilisateur\\anaconda3\\lib\\site-packages\\sklearn\\linear_model\\_sag.py:352: ConvergenceWarning: The max_iter was reached which means the coef_ did not converge\n",
      "  warnings.warn(\n",
      "C:\\Users\\Utilisateur\\anaconda3\\lib\\site-packages\\sklearn\\linear_model\\_sag.py:352: ConvergenceWarning: The max_iter was reached which means the coef_ did not converge\n",
      "  warnings.warn(\n"
     ]
    },
    {
     "name": "stdout",
     "output_type": "stream",
     "text": [
      "[flaml.automl.automl: 02-26 19:52:19] {3508} INFO -  at 81.8s,\testimator lrl1's best error=0.4643,\tbest estimator lgbm's best error=0.1001\n",
      "[flaml.automl.automl: 02-26 19:52:19] {3323} INFO - iteration 173, current learner lrl1\n"
     ]
    },
    {
     "name": "stderr",
     "output_type": "stream",
     "text": [
      "C:\\Users\\Utilisateur\\anaconda3\\lib\\site-packages\\sklearn\\linear_model\\_sag.py:352: ConvergenceWarning: The max_iter was reached which means the coef_ did not converge\n",
      "  warnings.warn(\n",
      "C:\\Users\\Utilisateur\\anaconda3\\lib\\site-packages\\sklearn\\linear_model\\_sag.py:352: ConvergenceWarning: The max_iter was reached which means the coef_ did not converge\n",
      "  warnings.warn(\n",
      "C:\\Users\\Utilisateur\\anaconda3\\lib\\site-packages\\sklearn\\linear_model\\_sag.py:352: ConvergenceWarning: The max_iter was reached which means the coef_ did not converge\n",
      "  warnings.warn(\n",
      "C:\\Users\\Utilisateur\\anaconda3\\lib\\site-packages\\sklearn\\linear_model\\_sag.py:352: ConvergenceWarning: The max_iter was reached which means the coef_ did not converge\n",
      "  warnings.warn(\n",
      "C:\\Users\\Utilisateur\\anaconda3\\lib\\site-packages\\sklearn\\linear_model\\_sag.py:352: ConvergenceWarning: The max_iter was reached which means the coef_ did not converge\n",
      "  warnings.warn(\n"
     ]
    },
    {
     "name": "stdout",
     "output_type": "stream",
     "text": [
      "[flaml.automl.automl: 02-26 19:52:20] {3508} INFO -  at 82.2s,\testimator lrl1's best error=0.4643,\tbest estimator lgbm's best error=0.1001\n",
      "[flaml.automl.automl: 02-26 19:52:20] {3323} INFO - iteration 174, current learner lrl1\n"
     ]
    },
    {
     "name": "stderr",
     "output_type": "stream",
     "text": [
      "C:\\Users\\Utilisateur\\anaconda3\\lib\\site-packages\\sklearn\\linear_model\\_sag.py:352: ConvergenceWarning: The max_iter was reached which means the coef_ did not converge\n",
      "  warnings.warn(\n",
      "C:\\Users\\Utilisateur\\anaconda3\\lib\\site-packages\\sklearn\\linear_model\\_sag.py:352: ConvergenceWarning: The max_iter was reached which means the coef_ did not converge\n",
      "  warnings.warn(\n",
      "C:\\Users\\Utilisateur\\anaconda3\\lib\\site-packages\\sklearn\\linear_model\\_sag.py:352: ConvergenceWarning: The max_iter was reached which means the coef_ did not converge\n",
      "  warnings.warn(\n",
      "C:\\Users\\Utilisateur\\anaconda3\\lib\\site-packages\\sklearn\\linear_model\\_sag.py:352: ConvergenceWarning: The max_iter was reached which means the coef_ did not converge\n",
      "  warnings.warn(\n",
      "C:\\Users\\Utilisateur\\anaconda3\\lib\\site-packages\\sklearn\\linear_model\\_sag.py:352: ConvergenceWarning: The max_iter was reached which means the coef_ did not converge\n",
      "  warnings.warn(\n",
      "C:\\Users\\Utilisateur\\anaconda3\\lib\\site-packages\\sklearn\\linear_model\\_sag.py:352: ConvergenceWarning: The max_iter was reached which means the coef_ did not converge\n",
      "  warnings.warn(\n"
     ]
    },
    {
     "name": "stdout",
     "output_type": "stream",
     "text": [
      "[flaml.automl.automl: 02-26 19:52:20] {3508} INFO -  at 82.7s,\testimator lrl1's best error=0.4643,\tbest estimator lgbm's best error=0.1001\n",
      "[flaml.automl.automl: 02-26 19:52:20] {3323} INFO - iteration 175, current learner lrl1\n"
     ]
    },
    {
     "name": "stderr",
     "output_type": "stream",
     "text": [
      "C:\\Users\\Utilisateur\\anaconda3\\lib\\site-packages\\sklearn\\linear_model\\_sag.py:352: ConvergenceWarning: The max_iter was reached which means the coef_ did not converge\n",
      "  warnings.warn(\n",
      "C:\\Users\\Utilisateur\\anaconda3\\lib\\site-packages\\sklearn\\linear_model\\_sag.py:352: ConvergenceWarning: The max_iter was reached which means the coef_ did not converge\n",
      "  warnings.warn(\n",
      "C:\\Users\\Utilisateur\\anaconda3\\lib\\site-packages\\sklearn\\linear_model\\_sag.py:352: ConvergenceWarning: The max_iter was reached which means the coef_ did not converge\n",
      "  warnings.warn(\n",
      "C:\\Users\\Utilisateur\\anaconda3\\lib\\site-packages\\sklearn\\linear_model\\_sag.py:352: ConvergenceWarning: The max_iter was reached which means the coef_ did not converge\n",
      "  warnings.warn(\n",
      "C:\\Users\\Utilisateur\\anaconda3\\lib\\site-packages\\sklearn\\linear_model\\_sag.py:352: ConvergenceWarning: The max_iter was reached which means the coef_ did not converge\n",
      "  warnings.warn(\n"
     ]
    },
    {
     "name": "stdout",
     "output_type": "stream",
     "text": [
      "[flaml.automl.automl: 02-26 19:52:21] {3508} INFO -  at 83.1s,\testimator lrl1's best error=0.4643,\tbest estimator lgbm's best error=0.1001\n",
      "[flaml.automl.automl: 02-26 19:52:21] {3323} INFO - iteration 176, current learner lrl1\n"
     ]
    },
    {
     "name": "stderr",
     "output_type": "stream",
     "text": [
      "C:\\Users\\Utilisateur\\anaconda3\\lib\\site-packages\\sklearn\\linear_model\\_sag.py:352: ConvergenceWarning: The max_iter was reached which means the coef_ did not converge\n",
      "  warnings.warn(\n",
      "C:\\Users\\Utilisateur\\anaconda3\\lib\\site-packages\\sklearn\\linear_model\\_sag.py:352: ConvergenceWarning: The max_iter was reached which means the coef_ did not converge\n",
      "  warnings.warn(\n",
      "C:\\Users\\Utilisateur\\anaconda3\\lib\\site-packages\\sklearn\\linear_model\\_sag.py:352: ConvergenceWarning: The max_iter was reached which means the coef_ did not converge\n",
      "  warnings.warn(\n",
      "C:\\Users\\Utilisateur\\anaconda3\\lib\\site-packages\\sklearn\\linear_model\\_sag.py:352: ConvergenceWarning: The max_iter was reached which means the coef_ did not converge\n",
      "  warnings.warn(\n",
      "C:\\Users\\Utilisateur\\anaconda3\\lib\\site-packages\\sklearn\\linear_model\\_sag.py:352: ConvergenceWarning: The max_iter was reached which means the coef_ did not converge\n",
      "  warnings.warn(\n"
     ]
    },
    {
     "name": "stdout",
     "output_type": "stream",
     "text": [
      "[flaml.automl.automl: 02-26 19:52:21] {3508} INFO -  at 83.5s,\testimator lrl1's best error=0.4643,\tbest estimator lgbm's best error=0.1001\n",
      "[flaml.automl.automl: 02-26 19:52:21] {3323} INFO - iteration 177, current learner lrl1\n"
     ]
    },
    {
     "name": "stderr",
     "output_type": "stream",
     "text": [
      "C:\\Users\\Utilisateur\\anaconda3\\lib\\site-packages\\sklearn\\linear_model\\_sag.py:352: ConvergenceWarning: The max_iter was reached which means the coef_ did not converge\n",
      "  warnings.warn(\n",
      "C:\\Users\\Utilisateur\\anaconda3\\lib\\site-packages\\sklearn\\linear_model\\_sag.py:352: ConvergenceWarning: The max_iter was reached which means the coef_ did not converge\n",
      "  warnings.warn(\n",
      "C:\\Users\\Utilisateur\\anaconda3\\lib\\site-packages\\sklearn\\linear_model\\_sag.py:352: ConvergenceWarning: The max_iter was reached which means the coef_ did not converge\n",
      "  warnings.warn(\n"
     ]
    },
    {
     "name": "stdout",
     "output_type": "stream",
     "text": [
      "[flaml.automl.automl: 02-26 19:52:21] {3508} INFO -  at 84.0s,\testimator lrl1's best error=0.4643,\tbest estimator lgbm's best error=0.1001\n",
      "[flaml.automl.automl: 02-26 19:52:21] {3323} INFO - iteration 178, current learner lrl1\n"
     ]
    },
    {
     "name": "stderr",
     "output_type": "stream",
     "text": [
      "C:\\Users\\Utilisateur\\anaconda3\\lib\\site-packages\\sklearn\\linear_model\\_sag.py:352: ConvergenceWarning: The max_iter was reached which means the coef_ did not converge\n",
      "  warnings.warn(\n",
      "C:\\Users\\Utilisateur\\anaconda3\\lib\\site-packages\\sklearn\\linear_model\\_sag.py:352: ConvergenceWarning: The max_iter was reached which means the coef_ did not converge\n",
      "  warnings.warn(\n",
      "C:\\Users\\Utilisateur\\anaconda3\\lib\\site-packages\\sklearn\\linear_model\\_sag.py:352: ConvergenceWarning: The max_iter was reached which means the coef_ did not converge\n",
      "  warnings.warn(\n",
      "C:\\Users\\Utilisateur\\anaconda3\\lib\\site-packages\\sklearn\\linear_model\\_sag.py:352: ConvergenceWarning: The max_iter was reached which means the coef_ did not converge\n",
      "  warnings.warn(\n",
      "C:\\Users\\Utilisateur\\anaconda3\\lib\\site-packages\\sklearn\\linear_model\\_sag.py:352: ConvergenceWarning: The max_iter was reached which means the coef_ did not converge\n",
      "  warnings.warn(\n",
      "C:\\Users\\Utilisateur\\anaconda3\\lib\\site-packages\\sklearn\\linear_model\\_sag.py:352: ConvergenceWarning: The max_iter was reached which means the coef_ did not converge\n",
      "  warnings.warn(\n"
     ]
    },
    {
     "name": "stdout",
     "output_type": "stream",
     "text": [
      "[flaml.automl.automl: 02-26 19:52:22] {3508} INFO -  at 84.4s,\testimator lrl1's best error=0.4643,\tbest estimator lgbm's best error=0.1001\n",
      "[flaml.automl.automl: 02-26 19:52:22] {3323} INFO - iteration 179, current learner lrl1\n"
     ]
    },
    {
     "name": "stderr",
     "output_type": "stream",
     "text": [
      "C:\\Users\\Utilisateur\\anaconda3\\lib\\site-packages\\sklearn\\linear_model\\_sag.py:352: ConvergenceWarning: The max_iter was reached which means the coef_ did not converge\n",
      "  warnings.warn(\n",
      "C:\\Users\\Utilisateur\\anaconda3\\lib\\site-packages\\sklearn\\linear_model\\_sag.py:352: ConvergenceWarning: The max_iter was reached which means the coef_ did not converge\n",
      "  warnings.warn(\n",
      "C:\\Users\\Utilisateur\\anaconda3\\lib\\site-packages\\sklearn\\linear_model\\_sag.py:352: ConvergenceWarning: The max_iter was reached which means the coef_ did not converge\n",
      "  warnings.warn(\n",
      "C:\\Users\\Utilisateur\\anaconda3\\lib\\site-packages\\sklearn\\linear_model\\_sag.py:352: ConvergenceWarning: The max_iter was reached which means the coef_ did not converge\n",
      "  warnings.warn(\n",
      "C:\\Users\\Utilisateur\\anaconda3\\lib\\site-packages\\sklearn\\linear_model\\_sag.py:352: ConvergenceWarning: The max_iter was reached which means the coef_ did not converge\n",
      "  warnings.warn(\n",
      "C:\\Users\\Utilisateur\\anaconda3\\lib\\site-packages\\sklearn\\linear_model\\_sag.py:352: ConvergenceWarning: The max_iter was reached which means the coef_ did not converge\n",
      "  warnings.warn(\n"
     ]
    },
    {
     "name": "stdout",
     "output_type": "stream",
     "text": [
      "[flaml.automl.automl: 02-26 19:52:22] {3508} INFO -  at 84.8s,\testimator lrl1's best error=0.4643,\tbest estimator lgbm's best error=0.1001\n",
      "[flaml.automl.automl: 02-26 19:52:22] {3323} INFO - iteration 180, current learner lrl1\n"
     ]
    },
    {
     "name": "stderr",
     "output_type": "stream",
     "text": [
      "C:\\Users\\Utilisateur\\anaconda3\\lib\\site-packages\\sklearn\\linear_model\\_sag.py:352: ConvergenceWarning: The max_iter was reached which means the coef_ did not converge\n",
      "  warnings.warn(\n",
      "C:\\Users\\Utilisateur\\anaconda3\\lib\\site-packages\\sklearn\\linear_model\\_sag.py:352: ConvergenceWarning: The max_iter was reached which means the coef_ did not converge\n",
      "  warnings.warn(\n",
      "C:\\Users\\Utilisateur\\anaconda3\\lib\\site-packages\\sklearn\\linear_model\\_sag.py:352: ConvergenceWarning: The max_iter was reached which means the coef_ did not converge\n",
      "  warnings.warn(\n"
     ]
    },
    {
     "name": "stdout",
     "output_type": "stream",
     "text": [
      "[flaml.automl.automl: 02-26 19:52:23] {3508} INFO -  at 85.2s,\testimator lrl1's best error=0.4643,\tbest estimator lgbm's best error=0.1001\n",
      "[flaml.automl.automl: 02-26 19:52:23] {3323} INFO - iteration 181, current learner lrl1\n"
     ]
    },
    {
     "name": "stderr",
     "output_type": "stream",
     "text": [
      "C:\\Users\\Utilisateur\\anaconda3\\lib\\site-packages\\sklearn\\linear_model\\_sag.py:352: ConvergenceWarning: The max_iter was reached which means the coef_ did not converge\n",
      "  warnings.warn(\n",
      "C:\\Users\\Utilisateur\\anaconda3\\lib\\site-packages\\sklearn\\linear_model\\_sag.py:352: ConvergenceWarning: The max_iter was reached which means the coef_ did not converge\n",
      "  warnings.warn(\n",
      "C:\\Users\\Utilisateur\\anaconda3\\lib\\site-packages\\sklearn\\linear_model\\_sag.py:352: ConvergenceWarning: The max_iter was reached which means the coef_ did not converge\n",
      "  warnings.warn(\n",
      "C:\\Users\\Utilisateur\\anaconda3\\lib\\site-packages\\sklearn\\linear_model\\_sag.py:352: ConvergenceWarning: The max_iter was reached which means the coef_ did not converge\n",
      "  warnings.warn(\n",
      "C:\\Users\\Utilisateur\\anaconda3\\lib\\site-packages\\sklearn\\linear_model\\_sag.py:352: ConvergenceWarning: The max_iter was reached which means the coef_ did not converge\n",
      "  warnings.warn(\n",
      "C:\\Users\\Utilisateur\\anaconda3\\lib\\site-packages\\sklearn\\linear_model\\_sag.py:352: ConvergenceWarning: The max_iter was reached which means the coef_ did not converge\n",
      "  warnings.warn(\n"
     ]
    },
    {
     "name": "stdout",
     "output_type": "stream",
     "text": [
      "[flaml.automl.automl: 02-26 19:52:23] {3508} INFO -  at 85.7s,\testimator lrl1's best error=0.4643,\tbest estimator lgbm's best error=0.1001\n",
      "[flaml.automl.automl: 02-26 19:52:23] {3323} INFO - iteration 182, current learner lrl1\n"
     ]
    },
    {
     "name": "stderr",
     "output_type": "stream",
     "text": [
      "C:\\Users\\Utilisateur\\anaconda3\\lib\\site-packages\\sklearn\\linear_model\\_sag.py:352: ConvergenceWarning: The max_iter was reached which means the coef_ did not converge\n",
      "  warnings.warn(\n",
      "C:\\Users\\Utilisateur\\anaconda3\\lib\\site-packages\\sklearn\\linear_model\\_sag.py:352: ConvergenceWarning: The max_iter was reached which means the coef_ did not converge\n",
      "  warnings.warn(\n",
      "C:\\Users\\Utilisateur\\anaconda3\\lib\\site-packages\\sklearn\\linear_model\\_sag.py:352: ConvergenceWarning: The max_iter was reached which means the coef_ did not converge\n",
      "  warnings.warn(\n",
      "C:\\Users\\Utilisateur\\anaconda3\\lib\\site-packages\\sklearn\\linear_model\\_sag.py:352: ConvergenceWarning: The max_iter was reached which means the coef_ did not converge\n",
      "  warnings.warn(\n",
      "C:\\Users\\Utilisateur\\anaconda3\\lib\\site-packages\\sklearn\\linear_model\\_sag.py:352: ConvergenceWarning: The max_iter was reached which means the coef_ did not converge\n",
      "  warnings.warn(\n"
     ]
    },
    {
     "name": "stdout",
     "output_type": "stream",
     "text": [
      "[flaml.automl.automl: 02-26 19:52:24] {3508} INFO -  at 86.1s,\testimator lrl1's best error=0.4643,\tbest estimator lgbm's best error=0.1001\n",
      "[flaml.automl.automl: 02-26 19:52:24] {3323} INFO - iteration 183, current learner rf\n"
     ]
    },
    {
     "name": "stderr",
     "output_type": "stream",
     "text": [
      "C:\\Users\\Utilisateur\\anaconda3\\lib\\site-packages\\sklearn\\linear_model\\_sag.py:352: ConvergenceWarning: The max_iter was reached which means the coef_ did not converge\n",
      "  warnings.warn(\n",
      "C:\\Users\\Utilisateur\\anaconda3\\lib\\site-packages\\sklearn\\linear_model\\_sag.py:352: ConvergenceWarning: The max_iter was reached which means the coef_ did not converge\n",
      "  warnings.warn(\n"
     ]
    },
    {
     "name": "stdout",
     "output_type": "stream",
     "text": [
      "[flaml.automl.automl: 02-26 19:52:24] {3508} INFO -  at 87.0s,\testimator rf's best error=0.1297,\tbest estimator lgbm's best error=0.1001\n",
      "[flaml.automl.automl: 02-26 19:52:24] {3323} INFO - iteration 184, current learner lgbm\n",
      "[flaml.automl.automl: 02-26 19:52:25] {3508} INFO -  at 87.3s,\testimator lgbm's best error=0.1001,\tbest estimator lgbm's best error=0.1001\n",
      "[flaml.automl.automl: 02-26 19:52:25] {3323} INFO - iteration 185, current learner lrl1\n"
     ]
    },
    {
     "name": "stderr",
     "output_type": "stream",
     "text": [
      "C:\\Users\\Utilisateur\\anaconda3\\lib\\site-packages\\sklearn\\linear_model\\_sag.py:352: ConvergenceWarning: The max_iter was reached which means the coef_ did not converge\n",
      "  warnings.warn(\n",
      "C:\\Users\\Utilisateur\\anaconda3\\lib\\site-packages\\sklearn\\linear_model\\_sag.py:352: ConvergenceWarning: The max_iter was reached which means the coef_ did not converge\n",
      "  warnings.warn(\n",
      "C:\\Users\\Utilisateur\\anaconda3\\lib\\site-packages\\sklearn\\linear_model\\_sag.py:352: ConvergenceWarning: The max_iter was reached which means the coef_ did not converge\n",
      "  warnings.warn(\n"
     ]
    },
    {
     "name": "stdout",
     "output_type": "stream",
     "text": [
      "[flaml.automl.automl: 02-26 19:52:25] {3508} INFO -  at 87.8s,\testimator lrl1's best error=0.4643,\tbest estimator lgbm's best error=0.1001\n",
      "[flaml.automl.automl: 02-26 19:52:25] {3323} INFO - iteration 186, current learner lrl1\n"
     ]
    },
    {
     "name": "stderr",
     "output_type": "stream",
     "text": [
      "C:\\Users\\Utilisateur\\anaconda3\\lib\\site-packages\\sklearn\\linear_model\\_sag.py:352: ConvergenceWarning: The max_iter was reached which means the coef_ did not converge\n",
      "  warnings.warn(\n",
      "C:\\Users\\Utilisateur\\anaconda3\\lib\\site-packages\\sklearn\\linear_model\\_sag.py:352: ConvergenceWarning: The max_iter was reached which means the coef_ did not converge\n",
      "  warnings.warn(\n",
      "C:\\Users\\Utilisateur\\anaconda3\\lib\\site-packages\\sklearn\\linear_model\\_sag.py:352: ConvergenceWarning: The max_iter was reached which means the coef_ did not converge\n",
      "  warnings.warn(\n",
      "C:\\Users\\Utilisateur\\anaconda3\\lib\\site-packages\\sklearn\\linear_model\\_sag.py:352: ConvergenceWarning: The max_iter was reached which means the coef_ did not converge\n",
      "  warnings.warn(\n",
      "C:\\Users\\Utilisateur\\anaconda3\\lib\\site-packages\\sklearn\\linear_model\\_sag.py:352: ConvergenceWarning: The max_iter was reached which means the coef_ did not converge\n",
      "  warnings.warn(\n"
     ]
    },
    {
     "name": "stdout",
     "output_type": "stream",
     "text": [
      "[flaml.automl.automl: 02-26 19:52:26] {3508} INFO -  at 88.2s,\testimator lrl1's best error=0.4643,\tbest estimator lgbm's best error=0.1001\n",
      "[flaml.automl.automl: 02-26 19:52:26] {3323} INFO - iteration 187, current learner lgbm\n"
     ]
    },
    {
     "name": "stderr",
     "output_type": "stream",
     "text": [
      "C:\\Users\\Utilisateur\\anaconda3\\lib\\site-packages\\sklearn\\linear_model\\_sag.py:352: ConvergenceWarning: The max_iter was reached which means the coef_ did not converge\n",
      "  warnings.warn(\n",
      "C:\\Users\\Utilisateur\\anaconda3\\lib\\site-packages\\sklearn\\linear_model\\_sag.py:352: ConvergenceWarning: The max_iter was reached which means the coef_ did not converge\n",
      "  warnings.warn(\n"
     ]
    },
    {
     "name": "stdout",
     "output_type": "stream",
     "text": [
      "[flaml.automl.automl: 02-26 19:52:26] {3508} INFO -  at 88.6s,\testimator lgbm's best error=0.0996,\tbest estimator lgbm's best error=0.0996\n",
      "[flaml.automl.automl: 02-26 19:52:26] {3323} INFO - iteration 188, current learner lrl1\n"
     ]
    },
    {
     "name": "stderr",
     "output_type": "stream",
     "text": [
      "C:\\Users\\Utilisateur\\anaconda3\\lib\\site-packages\\sklearn\\linear_model\\_sag.py:352: ConvergenceWarning: The max_iter was reached which means the coef_ did not converge\n",
      "  warnings.warn(\n",
      "C:\\Users\\Utilisateur\\anaconda3\\lib\\site-packages\\sklearn\\linear_model\\_sag.py:352: ConvergenceWarning: The max_iter was reached which means the coef_ did not converge\n",
      "  warnings.warn(\n",
      "C:\\Users\\Utilisateur\\anaconda3\\lib\\site-packages\\sklearn\\linear_model\\_sag.py:352: ConvergenceWarning: The max_iter was reached which means the coef_ did not converge\n",
      "  warnings.warn(\n"
     ]
    },
    {
     "name": "stdout",
     "output_type": "stream",
     "text": [
      "[flaml.automl.automl: 02-26 19:52:26] {3508} INFO -  at 89.1s,\testimator lrl1's best error=0.4643,\tbest estimator lgbm's best error=0.0996\n",
      "[flaml.automl.automl: 02-26 19:52:26] {3323} INFO - iteration 189, current learner lgbm\n"
     ]
    },
    {
     "name": "stderr",
     "output_type": "stream",
     "text": [
      "C:\\Users\\Utilisateur\\anaconda3\\lib\\site-packages\\sklearn\\linear_model\\_sag.py:352: ConvergenceWarning: The max_iter was reached which means the coef_ did not converge\n",
      "  warnings.warn(\n",
      "C:\\Users\\Utilisateur\\anaconda3\\lib\\site-packages\\sklearn\\linear_model\\_sag.py:352: ConvergenceWarning: The max_iter was reached which means the coef_ did not converge\n",
      "  warnings.warn(\n"
     ]
    },
    {
     "name": "stdout",
     "output_type": "stream",
     "text": [
      "[flaml.automl.automl: 02-26 19:52:27] {3508} INFO -  at 89.4s,\testimator lgbm's best error=0.0996,\tbest estimator lgbm's best error=0.0996\n",
      "[flaml.automl.automl: 02-26 19:52:27] {3323} INFO - iteration 190, current learner lgbm\n",
      "[flaml.automl.automl: 02-26 19:52:27] {3508} INFO -  at 89.8s,\testimator lgbm's best error=0.0996,\tbest estimator lgbm's best error=0.0996\n",
      "[flaml.automl.automl: 02-26 19:52:27] {3323} INFO - iteration 191, current learner lrl1\n"
     ]
    },
    {
     "name": "stderr",
     "output_type": "stream",
     "text": [
      "C:\\Users\\Utilisateur\\anaconda3\\lib\\site-packages\\sklearn\\linear_model\\_sag.py:352: ConvergenceWarning: The max_iter was reached which means the coef_ did not converge\n",
      "  warnings.warn(\n",
      "C:\\Users\\Utilisateur\\anaconda3\\lib\\site-packages\\sklearn\\linear_model\\_sag.py:352: ConvergenceWarning: The max_iter was reached which means the coef_ did not converge\n",
      "  warnings.warn(\n",
      "C:\\Users\\Utilisateur\\anaconda3\\lib\\site-packages\\sklearn\\linear_model\\_sag.py:352: ConvergenceWarning: The max_iter was reached which means the coef_ did not converge\n",
      "  warnings.warn(\n"
     ]
    },
    {
     "name": "stdout",
     "output_type": "stream",
     "text": [
      "[flaml.automl.automl: 02-26 19:52:28] {3508} INFO -  at 90.3s,\testimator lrl1's best error=0.4643,\tbest estimator lgbm's best error=0.0996\n",
      "[flaml.automl.automl: 02-26 19:52:28] {3323} INFO - iteration 192, current learner lgbm\n"
     ]
    },
    {
     "name": "stderr",
     "output_type": "stream",
     "text": [
      "C:\\Users\\Utilisateur\\anaconda3\\lib\\site-packages\\sklearn\\linear_model\\_sag.py:352: ConvergenceWarning: The max_iter was reached which means the coef_ did not converge\n",
      "  warnings.warn(\n",
      "C:\\Users\\Utilisateur\\anaconda3\\lib\\site-packages\\sklearn\\linear_model\\_sag.py:352: ConvergenceWarning: The max_iter was reached which means the coef_ did not converge\n",
      "  warnings.warn(\n"
     ]
    },
    {
     "name": "stdout",
     "output_type": "stream",
     "text": [
      "[flaml.automl.automl: 02-26 19:52:28] {3508} INFO -  at 90.6s,\testimator lgbm's best error=0.0996,\tbest estimator lgbm's best error=0.0996\n",
      "[flaml.automl.automl: 02-26 19:52:28] {3323} INFO - iteration 193, current learner lrl1\n"
     ]
    },
    {
     "name": "stderr",
     "output_type": "stream",
     "text": [
      "C:\\Users\\Utilisateur\\anaconda3\\lib\\site-packages\\sklearn\\linear_model\\_sag.py:352: ConvergenceWarning: The max_iter was reached which means the coef_ did not converge\n",
      "  warnings.warn(\n",
      "C:\\Users\\Utilisateur\\anaconda3\\lib\\site-packages\\sklearn\\linear_model\\_sag.py:352: ConvergenceWarning: The max_iter was reached which means the coef_ did not converge\n",
      "  warnings.warn(\n",
      "C:\\Users\\Utilisateur\\anaconda3\\lib\\site-packages\\sklearn\\linear_model\\_sag.py:352: ConvergenceWarning: The max_iter was reached which means the coef_ did not converge\n",
      "  warnings.warn(\n"
     ]
    },
    {
     "name": "stdout",
     "output_type": "stream",
     "text": [
      "[flaml.automl.automl: 02-26 19:52:28] {3508} INFO -  at 91.0s,\testimator lrl1's best error=0.4643,\tbest estimator lgbm's best error=0.0996\n",
      "[flaml.automl.automl: 02-26 19:52:28] {3323} INFO - iteration 194, current learner lrl1\n"
     ]
    },
    {
     "name": "stderr",
     "output_type": "stream",
     "text": [
      "C:\\Users\\Utilisateur\\anaconda3\\lib\\site-packages\\sklearn\\linear_model\\_sag.py:352: ConvergenceWarning: The max_iter was reached which means the coef_ did not converge\n",
      "  warnings.warn(\n",
      "C:\\Users\\Utilisateur\\anaconda3\\lib\\site-packages\\sklearn\\linear_model\\_sag.py:352: ConvergenceWarning: The max_iter was reached which means the coef_ did not converge\n",
      "  warnings.warn(\n",
      "C:\\Users\\Utilisateur\\anaconda3\\lib\\site-packages\\sklearn\\linear_model\\_sag.py:352: ConvergenceWarning: The max_iter was reached which means the coef_ did not converge\n",
      "  warnings.warn(\n",
      "C:\\Users\\Utilisateur\\anaconda3\\lib\\site-packages\\sklearn\\linear_model\\_sag.py:352: ConvergenceWarning: The max_iter was reached which means the coef_ did not converge\n",
      "  warnings.warn(\n",
      "C:\\Users\\Utilisateur\\anaconda3\\lib\\site-packages\\sklearn\\linear_model\\_sag.py:352: ConvergenceWarning: The max_iter was reached which means the coef_ did not converge\n",
      "  warnings.warn(\n"
     ]
    },
    {
     "name": "stdout",
     "output_type": "stream",
     "text": [
      "[flaml.automl.automl: 02-26 19:52:29] {3508} INFO -  at 91.5s,\testimator lrl1's best error=0.4643,\tbest estimator lgbm's best error=0.0996\n",
      "[flaml.automl.automl: 02-26 19:52:29] {3323} INFO - iteration 195, current learner lrl1\n"
     ]
    },
    {
     "name": "stderr",
     "output_type": "stream",
     "text": [
      "C:\\Users\\Utilisateur\\anaconda3\\lib\\site-packages\\sklearn\\linear_model\\_sag.py:352: ConvergenceWarning: The max_iter was reached which means the coef_ did not converge\n",
      "  warnings.warn(\n",
      "C:\\Users\\Utilisateur\\anaconda3\\lib\\site-packages\\sklearn\\linear_model\\_sag.py:352: ConvergenceWarning: The max_iter was reached which means the coef_ did not converge\n",
      "  warnings.warn(\n",
      "C:\\Users\\Utilisateur\\anaconda3\\lib\\site-packages\\sklearn\\linear_model\\_sag.py:352: ConvergenceWarning: The max_iter was reached which means the coef_ did not converge\n",
      "  warnings.warn(\n",
      "C:\\Users\\Utilisateur\\anaconda3\\lib\\site-packages\\sklearn\\linear_model\\_sag.py:352: ConvergenceWarning: The max_iter was reached which means the coef_ did not converge\n",
      "  warnings.warn(\n",
      "C:\\Users\\Utilisateur\\anaconda3\\lib\\site-packages\\sklearn\\linear_model\\_sag.py:352: ConvergenceWarning: The max_iter was reached which means the coef_ did not converge\n",
      "  warnings.warn(\n",
      "C:\\Users\\Utilisateur\\anaconda3\\lib\\site-packages\\sklearn\\linear_model\\_sag.py:352: ConvergenceWarning: The max_iter was reached which means the coef_ did not converge\n",
      "  warnings.warn(\n"
     ]
    },
    {
     "name": "stdout",
     "output_type": "stream",
     "text": [
      "[flaml.automl.automl: 02-26 19:52:29] {3508} INFO -  at 91.9s,\testimator lrl1's best error=0.4643,\tbest estimator lgbm's best error=0.0996\n",
      "[flaml.automl.automl: 02-26 19:52:29] {3323} INFO - iteration 196, current learner lgbm\n"
     ]
    },
    {
     "name": "stderr",
     "output_type": "stream",
     "text": [
      "C:\\Users\\Utilisateur\\anaconda3\\lib\\site-packages\\sklearn\\linear_model\\_sag.py:352: ConvergenceWarning: The max_iter was reached which means the coef_ did not converge\n",
      "  warnings.warn(\n"
     ]
    },
    {
     "name": "stdout",
     "output_type": "stream",
     "text": [
      "[flaml.automl.automl: 02-26 19:52:30] {3508} INFO -  at 92.4s,\testimator lgbm's best error=0.0996,\tbest estimator lgbm's best error=0.0996\n",
      "[flaml.automl.automl: 02-26 19:52:30] {3323} INFO - iteration 197, current learner lgbm\n",
      "[flaml.automl.automl: 02-26 19:52:30] {3508} INFO -  at 92.6s,\testimator lgbm's best error=0.0996,\tbest estimator lgbm's best error=0.0996\n",
      "[flaml.automl.automl: 02-26 19:52:30] {3323} INFO - iteration 198, current learner lrl1\n"
     ]
    },
    {
     "name": "stderr",
     "output_type": "stream",
     "text": [
      "C:\\Users\\Utilisateur\\anaconda3\\lib\\site-packages\\sklearn\\linear_model\\_sag.py:352: ConvergenceWarning: The max_iter was reached which means the coef_ did not converge\n",
      "  warnings.warn(\n",
      "C:\\Users\\Utilisateur\\anaconda3\\lib\\site-packages\\sklearn\\linear_model\\_sag.py:352: ConvergenceWarning: The max_iter was reached which means the coef_ did not converge\n",
      "  warnings.warn(\n",
      "C:\\Users\\Utilisateur\\anaconda3\\lib\\site-packages\\sklearn\\linear_model\\_sag.py:352: ConvergenceWarning: The max_iter was reached which means the coef_ did not converge\n",
      "  warnings.warn(\n"
     ]
    },
    {
     "name": "stdout",
     "output_type": "stream",
     "text": [
      "[flaml.automl.automl: 02-26 19:52:31] {3508} INFO -  at 93.1s,\testimator lrl1's best error=0.4643,\tbest estimator lgbm's best error=0.0996\n",
      "[flaml.automl.automl: 02-26 19:52:31] {3323} INFO - iteration 199, current learner lrl1\n"
     ]
    },
    {
     "name": "stderr",
     "output_type": "stream",
     "text": [
      "C:\\Users\\Utilisateur\\anaconda3\\lib\\site-packages\\sklearn\\linear_model\\_sag.py:352: ConvergenceWarning: The max_iter was reached which means the coef_ did not converge\n",
      "  warnings.warn(\n",
      "C:\\Users\\Utilisateur\\anaconda3\\lib\\site-packages\\sklearn\\linear_model\\_sag.py:352: ConvergenceWarning: The max_iter was reached which means the coef_ did not converge\n",
      "  warnings.warn(\n",
      "C:\\Users\\Utilisateur\\anaconda3\\lib\\site-packages\\sklearn\\linear_model\\_sag.py:352: ConvergenceWarning: The max_iter was reached which means the coef_ did not converge\n",
      "  warnings.warn(\n",
      "C:\\Users\\Utilisateur\\anaconda3\\lib\\site-packages\\sklearn\\linear_model\\_sag.py:352: ConvergenceWarning: The max_iter was reached which means the coef_ did not converge\n",
      "  warnings.warn(\n",
      "C:\\Users\\Utilisateur\\anaconda3\\lib\\site-packages\\sklearn\\linear_model\\_sag.py:352: ConvergenceWarning: The max_iter was reached which means the coef_ did not converge\n",
      "  warnings.warn(\n"
     ]
    },
    {
     "name": "stdout",
     "output_type": "stream",
     "text": [
      "[flaml.automl.automl: 02-26 19:52:31] {3508} INFO -  at 93.5s,\testimator lrl1's best error=0.4643,\tbest estimator lgbm's best error=0.0996\n",
      "[flaml.automl.automl: 02-26 19:52:31] {3323} INFO - iteration 200, current learner lrl1\n"
     ]
    },
    {
     "name": "stderr",
     "output_type": "stream",
     "text": [
      "C:\\Users\\Utilisateur\\anaconda3\\lib\\site-packages\\sklearn\\linear_model\\_sag.py:352: ConvergenceWarning: The max_iter was reached which means the coef_ did not converge\n",
      "  warnings.warn(\n",
      "C:\\Users\\Utilisateur\\anaconda3\\lib\\site-packages\\sklearn\\linear_model\\_sag.py:352: ConvergenceWarning: The max_iter was reached which means the coef_ did not converge\n",
      "  warnings.warn(\n",
      "C:\\Users\\Utilisateur\\anaconda3\\lib\\site-packages\\sklearn\\linear_model\\_sag.py:352: ConvergenceWarning: The max_iter was reached which means the coef_ did not converge\n",
      "  warnings.warn(\n",
      "C:\\Users\\Utilisateur\\anaconda3\\lib\\site-packages\\sklearn\\linear_model\\_sag.py:352: ConvergenceWarning: The max_iter was reached which means the coef_ did not converge\n",
      "  warnings.warn(\n",
      "C:\\Users\\Utilisateur\\anaconda3\\lib\\site-packages\\sklearn\\linear_model\\_sag.py:352: ConvergenceWarning: The max_iter was reached which means the coef_ did not converge\n",
      "  warnings.warn(\n"
     ]
    },
    {
     "name": "stdout",
     "output_type": "stream",
     "text": [
      "[flaml.automl.automl: 02-26 19:52:31] {3508} INFO -  at 94.0s,\testimator lrl1's best error=0.4643,\tbest estimator lgbm's best error=0.0996\n",
      "[flaml.automl.automl: 02-26 19:52:31] {3323} INFO - iteration 201, current learner lrl1\n"
     ]
    },
    {
     "name": "stderr",
     "output_type": "stream",
     "text": [
      "C:\\Users\\Utilisateur\\anaconda3\\lib\\site-packages\\sklearn\\linear_model\\_sag.py:352: ConvergenceWarning: The max_iter was reached which means the coef_ did not converge\n",
      "  warnings.warn(\n",
      "C:\\Users\\Utilisateur\\anaconda3\\lib\\site-packages\\sklearn\\linear_model\\_sag.py:352: ConvergenceWarning: The max_iter was reached which means the coef_ did not converge\n",
      "  warnings.warn(\n",
      "C:\\Users\\Utilisateur\\anaconda3\\lib\\site-packages\\sklearn\\linear_model\\_sag.py:352: ConvergenceWarning: The max_iter was reached which means the coef_ did not converge\n",
      "  warnings.warn(\n",
      "C:\\Users\\Utilisateur\\anaconda3\\lib\\site-packages\\sklearn\\linear_model\\_sag.py:352: ConvergenceWarning: The max_iter was reached which means the coef_ did not converge\n",
      "  warnings.warn(\n",
      "C:\\Users\\Utilisateur\\anaconda3\\lib\\site-packages\\sklearn\\linear_model\\_sag.py:352: ConvergenceWarning: The max_iter was reached which means the coef_ did not converge\n",
      "  warnings.warn(\n"
     ]
    },
    {
     "name": "stdout",
     "output_type": "stream",
     "text": [
      "[flaml.automl.automl: 02-26 19:52:32] {3508} INFO -  at 94.4s,\testimator lrl1's best error=0.4643,\tbest estimator lgbm's best error=0.0996\n",
      "[flaml.automl.automl: 02-26 19:52:32] {3323} INFO - iteration 202, current learner lgbm\n"
     ]
    },
    {
     "name": "stderr",
     "output_type": "stream",
     "text": [
      "C:\\Users\\Utilisateur\\anaconda3\\lib\\site-packages\\sklearn\\linear_model\\_sag.py:352: ConvergenceWarning: The max_iter was reached which means the coef_ did not converge\n",
      "  warnings.warn(\n",
      "C:\\Users\\Utilisateur\\anaconda3\\lib\\site-packages\\sklearn\\linear_model\\_sag.py:352: ConvergenceWarning: The max_iter was reached which means the coef_ did not converge\n",
      "  warnings.warn(\n"
     ]
    },
    {
     "name": "stdout",
     "output_type": "stream",
     "text": [
      "[flaml.automl.automl: 02-26 19:52:33] {3508} INFO -  at 95.2s,\testimator lgbm's best error=0.0996,\tbest estimator lgbm's best error=0.0996\n",
      "[flaml.automl.automl: 02-26 19:52:33] {3323} INFO - iteration 203, current learner lgbm\n",
      "[flaml.automl.automl: 02-26 19:52:33] {3508} INFO -  at 95.7s,\testimator lgbm's best error=0.0996,\tbest estimator lgbm's best error=0.0996\n",
      "[flaml.automl.automl: 02-26 19:52:33] {3323} INFO - iteration 204, current learner lrl1\n"
     ]
    },
    {
     "name": "stderr",
     "output_type": "stream",
     "text": [
      "C:\\Users\\Utilisateur\\anaconda3\\lib\\site-packages\\sklearn\\linear_model\\_sag.py:352: ConvergenceWarning: The max_iter was reached which means the coef_ did not converge\n",
      "  warnings.warn(\n",
      "C:\\Users\\Utilisateur\\anaconda3\\lib\\site-packages\\sklearn\\linear_model\\_sag.py:352: ConvergenceWarning: The max_iter was reached which means the coef_ did not converge\n",
      "  warnings.warn(\n",
      "C:\\Users\\Utilisateur\\anaconda3\\lib\\site-packages\\sklearn\\linear_model\\_sag.py:352: ConvergenceWarning: The max_iter was reached which means the coef_ did not converge\n",
      "  warnings.warn(\n"
     ]
    },
    {
     "name": "stdout",
     "output_type": "stream",
     "text": [
      "[flaml.automl.automl: 02-26 19:52:34] {3508} INFO -  at 96.2s,\testimator lrl1's best error=0.4643,\tbest estimator lgbm's best error=0.0996\n",
      "[flaml.automl.automl: 02-26 19:52:34] {3323} INFO - iteration 205, current learner lrl1\n"
     ]
    },
    {
     "name": "stderr",
     "output_type": "stream",
     "text": [
      "C:\\Users\\Utilisateur\\anaconda3\\lib\\site-packages\\sklearn\\linear_model\\_sag.py:352: ConvergenceWarning: The max_iter was reached which means the coef_ did not converge\n",
      "  warnings.warn(\n",
      "C:\\Users\\Utilisateur\\anaconda3\\lib\\site-packages\\sklearn\\linear_model\\_sag.py:352: ConvergenceWarning: The max_iter was reached which means the coef_ did not converge\n",
      "  warnings.warn(\n",
      "C:\\Users\\Utilisateur\\anaconda3\\lib\\site-packages\\sklearn\\linear_model\\_sag.py:352: ConvergenceWarning: The max_iter was reached which means the coef_ did not converge\n",
      "  warnings.warn(\n",
      "C:\\Users\\Utilisateur\\anaconda3\\lib\\site-packages\\sklearn\\linear_model\\_sag.py:352: ConvergenceWarning: The max_iter was reached which means the coef_ did not converge\n",
      "  warnings.warn(\n",
      "C:\\Users\\Utilisateur\\anaconda3\\lib\\site-packages\\sklearn\\linear_model\\_sag.py:352: ConvergenceWarning: The max_iter was reached which means the coef_ did not converge\n",
      "  warnings.warn(\n",
      "C:\\Users\\Utilisateur\\anaconda3\\lib\\site-packages\\sklearn\\linear_model\\_sag.py:352: ConvergenceWarning: The max_iter was reached which means the coef_ did not converge\n",
      "  warnings.warn(\n"
     ]
    },
    {
     "name": "stdout",
     "output_type": "stream",
     "text": [
      "[flaml.automl.automl: 02-26 19:52:34] {3508} INFO -  at 96.6s,\testimator lrl1's best error=0.4643,\tbest estimator lgbm's best error=0.0996\n",
      "[flaml.automl.automl: 02-26 19:52:34] {3323} INFO - iteration 206, current learner lrl1\n"
     ]
    },
    {
     "name": "stderr",
     "output_type": "stream",
     "text": [
      "C:\\Users\\Utilisateur\\anaconda3\\lib\\site-packages\\sklearn\\linear_model\\_sag.py:352: ConvergenceWarning: The max_iter was reached which means the coef_ did not converge\n",
      "  warnings.warn(\n",
      "C:\\Users\\Utilisateur\\anaconda3\\lib\\site-packages\\sklearn\\linear_model\\_sag.py:352: ConvergenceWarning: The max_iter was reached which means the coef_ did not converge\n",
      "  warnings.warn(\n",
      "C:\\Users\\Utilisateur\\anaconda3\\lib\\site-packages\\sklearn\\linear_model\\_sag.py:352: ConvergenceWarning: The max_iter was reached which means the coef_ did not converge\n",
      "  warnings.warn(\n"
     ]
    },
    {
     "name": "stdout",
     "output_type": "stream",
     "text": [
      "[flaml.automl.automl: 02-26 19:52:34] {3508} INFO -  at 97.0s,\testimator lrl1's best error=0.4643,\tbest estimator lgbm's best error=0.0996\n",
      "[flaml.automl.automl: 02-26 19:52:34] {3323} INFO - iteration 207, current learner lrl1\n"
     ]
    },
    {
     "name": "stderr",
     "output_type": "stream",
     "text": [
      "C:\\Users\\Utilisateur\\anaconda3\\lib\\site-packages\\sklearn\\linear_model\\_sag.py:352: ConvergenceWarning: The max_iter was reached which means the coef_ did not converge\n",
      "  warnings.warn(\n",
      "C:\\Users\\Utilisateur\\anaconda3\\lib\\site-packages\\sklearn\\linear_model\\_sag.py:352: ConvergenceWarning: The max_iter was reached which means the coef_ did not converge\n",
      "  warnings.warn(\n",
      "C:\\Users\\Utilisateur\\anaconda3\\lib\\site-packages\\sklearn\\linear_model\\_sag.py:352: ConvergenceWarning: The max_iter was reached which means the coef_ did not converge\n",
      "  warnings.warn(\n",
      "C:\\Users\\Utilisateur\\anaconda3\\lib\\site-packages\\sklearn\\linear_model\\_sag.py:352: ConvergenceWarning: The max_iter was reached which means the coef_ did not converge\n",
      "  warnings.warn(\n",
      "C:\\Users\\Utilisateur\\anaconda3\\lib\\site-packages\\sklearn\\linear_model\\_sag.py:352: ConvergenceWarning: The max_iter was reached which means the coef_ did not converge\n",
      "  warnings.warn(\n",
      "C:\\Users\\Utilisateur\\anaconda3\\lib\\site-packages\\sklearn\\linear_model\\_sag.py:352: ConvergenceWarning: The max_iter was reached which means the coef_ did not converge\n",
      "  warnings.warn(\n"
     ]
    },
    {
     "name": "stdout",
     "output_type": "stream",
     "text": [
      "[flaml.automl.automl: 02-26 19:52:35] {3508} INFO -  at 97.5s,\testimator lrl1's best error=0.4643,\tbest estimator lgbm's best error=0.0996\n",
      "[flaml.automl.automl: 02-26 19:52:35] {3323} INFO - iteration 208, current learner lrl1\n"
     ]
    },
    {
     "name": "stderr",
     "output_type": "stream",
     "text": [
      "C:\\Users\\Utilisateur\\anaconda3\\lib\\site-packages\\sklearn\\linear_model\\_sag.py:352: ConvergenceWarning: The max_iter was reached which means the coef_ did not converge\n",
      "  warnings.warn(\n",
      "C:\\Users\\Utilisateur\\anaconda3\\lib\\site-packages\\sklearn\\linear_model\\_sag.py:352: ConvergenceWarning: The max_iter was reached which means the coef_ did not converge\n",
      "  warnings.warn(\n",
      "C:\\Users\\Utilisateur\\anaconda3\\lib\\site-packages\\sklearn\\linear_model\\_sag.py:352: ConvergenceWarning: The max_iter was reached which means the coef_ did not converge\n",
      "  warnings.warn(\n",
      "C:\\Users\\Utilisateur\\anaconda3\\lib\\site-packages\\sklearn\\linear_model\\_sag.py:352: ConvergenceWarning: The max_iter was reached which means the coef_ did not converge\n",
      "  warnings.warn(\n",
      "C:\\Users\\Utilisateur\\anaconda3\\lib\\site-packages\\sklearn\\linear_model\\_sag.py:352: ConvergenceWarning: The max_iter was reached which means the coef_ did not converge\n",
      "  warnings.warn(\n",
      "C:\\Users\\Utilisateur\\anaconda3\\lib\\site-packages\\sklearn\\linear_model\\_sag.py:352: ConvergenceWarning: The max_iter was reached which means the coef_ did not converge\n",
      "  warnings.warn(\n"
     ]
    },
    {
     "name": "stdout",
     "output_type": "stream",
     "text": [
      "[flaml.automl.automl: 02-26 19:52:35] {3508} INFO -  at 97.9s,\testimator lrl1's best error=0.4643,\tbest estimator lgbm's best error=0.0996\n",
      "[flaml.automl.automl: 02-26 19:52:35] {3323} INFO - iteration 209, current learner lrl1\n"
     ]
    },
    {
     "name": "stderr",
     "output_type": "stream",
     "text": [
      "C:\\Users\\Utilisateur\\anaconda3\\lib\\site-packages\\sklearn\\linear_model\\_sag.py:352: ConvergenceWarning: The max_iter was reached which means the coef_ did not converge\n",
      "  warnings.warn(\n",
      "C:\\Users\\Utilisateur\\anaconda3\\lib\\site-packages\\sklearn\\linear_model\\_sag.py:352: ConvergenceWarning: The max_iter was reached which means the coef_ did not converge\n",
      "  warnings.warn(\n",
      "C:\\Users\\Utilisateur\\anaconda3\\lib\\site-packages\\sklearn\\linear_model\\_sag.py:352: ConvergenceWarning: The max_iter was reached which means the coef_ did not converge\n",
      "  warnings.warn(\n",
      "C:\\Users\\Utilisateur\\anaconda3\\lib\\site-packages\\sklearn\\linear_model\\_sag.py:352: ConvergenceWarning: The max_iter was reached which means the coef_ did not converge\n",
      "  warnings.warn(\n",
      "C:\\Users\\Utilisateur\\anaconda3\\lib\\site-packages\\sklearn\\linear_model\\_sag.py:352: ConvergenceWarning: The max_iter was reached which means the coef_ did not converge\n",
      "  warnings.warn(\n"
     ]
    },
    {
     "name": "stdout",
     "output_type": "stream",
     "text": [
      "[flaml.automl.automl: 02-26 19:52:36] {3508} INFO -  at 98.3s,\testimator lrl1's best error=0.4643,\tbest estimator lgbm's best error=0.0996\n",
      "[flaml.automl.automl: 02-26 19:52:36] {3323} INFO - iteration 210, current learner lgbm\n"
     ]
    },
    {
     "name": "stderr",
     "output_type": "stream",
     "text": [
      "C:\\Users\\Utilisateur\\anaconda3\\lib\\site-packages\\sklearn\\linear_model\\_sag.py:352: ConvergenceWarning: The max_iter was reached which means the coef_ did not converge\n",
      "  warnings.warn(\n"
     ]
    },
    {
     "name": "stdout",
     "output_type": "stream",
     "text": [
      "[flaml.automl.automl: 02-26 19:52:36] {3508} INFO -  at 98.6s,\testimator lgbm's best error=0.0996,\tbest estimator lgbm's best error=0.0996\n",
      "[flaml.automl.automl: 02-26 19:52:36] {3323} INFO - iteration 211, current learner extra_tree\n",
      "[flaml.automl.automl: 02-26 19:52:36] {3508} INFO -  at 99.1s,\testimator extra_tree's best error=0.1388,\tbest estimator lgbm's best error=0.0996\n",
      "[flaml.automl.automl: 02-26 19:52:36] {3323} INFO - iteration 212, current learner extra_tree\n",
      "[flaml.automl.automl: 02-26 19:52:37] {3508} INFO -  at 99.5s,\testimator extra_tree's best error=0.1388,\tbest estimator lgbm's best error=0.0996\n",
      "[flaml.automl.automl: 02-26 19:52:37] {3323} INFO - iteration 213, current learner extra_tree\n",
      "[flaml.automl.automl: 02-26 19:52:37] {3508} INFO -  at 100.0s,\testimator extra_tree's best error=0.1388,\tbest estimator lgbm's best error=0.0996\n",
      "[flaml.automl.automl: 02-26 19:52:37] {3323} INFO - iteration 214, current learner lrl1\n"
     ]
    },
    {
     "name": "stderr",
     "output_type": "stream",
     "text": [
      "C:\\Users\\Utilisateur\\anaconda3\\lib\\site-packages\\sklearn\\linear_model\\_sag.py:352: ConvergenceWarning: The max_iter was reached which means the coef_ did not converge\n",
      "  warnings.warn(\n",
      "C:\\Users\\Utilisateur\\anaconda3\\lib\\site-packages\\sklearn\\linear_model\\_sag.py:352: ConvergenceWarning: The max_iter was reached which means the coef_ did not converge\n",
      "  warnings.warn(\n",
      "C:\\Users\\Utilisateur\\anaconda3\\lib\\site-packages\\sklearn\\linear_model\\_sag.py:352: ConvergenceWarning: The max_iter was reached which means the coef_ did not converge\n",
      "  warnings.warn(\n"
     ]
    },
    {
     "name": "stdout",
     "output_type": "stream",
     "text": [
      "[flaml.automl.automl: 02-26 19:52:38] {3508} INFO -  at 100.4s,\testimator lrl1's best error=0.4643,\tbest estimator lgbm's best error=0.0996\n",
      "[flaml.automl.automl: 02-26 19:52:38] {3323} INFO - iteration 215, current learner lrl1\n"
     ]
    },
    {
     "name": "stderr",
     "output_type": "stream",
     "text": [
      "C:\\Users\\Utilisateur\\anaconda3\\lib\\site-packages\\sklearn\\linear_model\\_sag.py:352: ConvergenceWarning: The max_iter was reached which means the coef_ did not converge\n",
      "  warnings.warn(\n",
      "C:\\Users\\Utilisateur\\anaconda3\\lib\\site-packages\\sklearn\\linear_model\\_sag.py:352: ConvergenceWarning: The max_iter was reached which means the coef_ did not converge\n",
      "  warnings.warn(\n",
      "C:\\Users\\Utilisateur\\anaconda3\\lib\\site-packages\\sklearn\\linear_model\\_sag.py:352: ConvergenceWarning: The max_iter was reached which means the coef_ did not converge\n",
      "  warnings.warn(\n",
      "C:\\Users\\Utilisateur\\anaconda3\\lib\\site-packages\\sklearn\\linear_model\\_sag.py:352: ConvergenceWarning: The max_iter was reached which means the coef_ did not converge\n",
      "  warnings.warn(\n",
      "C:\\Users\\Utilisateur\\anaconda3\\lib\\site-packages\\sklearn\\linear_model\\_sag.py:352: ConvergenceWarning: The max_iter was reached which means the coef_ did not converge\n",
      "  warnings.warn(\n"
     ]
    },
    {
     "name": "stdout",
     "output_type": "stream",
     "text": [
      "[flaml.automl.automl: 02-26 19:52:38] {3508} INFO -  at 100.9s,\testimator lrl1's best error=0.4643,\tbest estimator lgbm's best error=0.0996\n",
      "[flaml.automl.automl: 02-26 19:52:38] {3323} INFO - iteration 216, current learner extra_tree\n"
     ]
    },
    {
     "name": "stderr",
     "output_type": "stream",
     "text": [
      "C:\\Users\\Utilisateur\\anaconda3\\lib\\site-packages\\sklearn\\linear_model\\_sag.py:352: ConvergenceWarning: The max_iter was reached which means the coef_ did not converge\n",
      "  warnings.warn(\n",
      "C:\\Users\\Utilisateur\\anaconda3\\lib\\site-packages\\sklearn\\linear_model\\_sag.py:352: ConvergenceWarning: The max_iter was reached which means the coef_ did not converge\n",
      "  warnings.warn(\n"
     ]
    },
    {
     "name": "stdout",
     "output_type": "stream",
     "text": [
      "[flaml.automl.automl: 02-26 19:52:39] {3508} INFO -  at 101.4s,\testimator extra_tree's best error=0.1386,\tbest estimator lgbm's best error=0.0996\n",
      "[flaml.automl.automl: 02-26 19:52:39] {3323} INFO - iteration 217, current learner lrl1\n"
     ]
    },
    {
     "name": "stderr",
     "output_type": "stream",
     "text": [
      "C:\\Users\\Utilisateur\\anaconda3\\lib\\site-packages\\sklearn\\linear_model\\_sag.py:352: ConvergenceWarning: The max_iter was reached which means the coef_ did not converge\n",
      "  warnings.warn(\n",
      "C:\\Users\\Utilisateur\\anaconda3\\lib\\site-packages\\sklearn\\linear_model\\_sag.py:352: ConvergenceWarning: The max_iter was reached which means the coef_ did not converge\n",
      "  warnings.warn(\n",
      "C:\\Users\\Utilisateur\\anaconda3\\lib\\site-packages\\sklearn\\linear_model\\_sag.py:352: ConvergenceWarning: The max_iter was reached which means the coef_ did not converge\n",
      "  warnings.warn(\n"
     ]
    },
    {
     "name": "stdout",
     "output_type": "stream",
     "text": [
      "[flaml.automl.automl: 02-26 19:52:39] {3508} INFO -  at 101.8s,\testimator lrl1's best error=0.4643,\tbest estimator lgbm's best error=0.0996\n",
      "[flaml.automl.automl: 02-26 19:52:39] {3323} INFO - iteration 218, current learner lgbm\n"
     ]
    },
    {
     "name": "stderr",
     "output_type": "stream",
     "text": [
      "C:\\Users\\Utilisateur\\anaconda3\\lib\\site-packages\\sklearn\\linear_model\\_sag.py:352: ConvergenceWarning: The max_iter was reached which means the coef_ did not converge\n",
      "  warnings.warn(\n",
      "C:\\Users\\Utilisateur\\anaconda3\\lib\\site-packages\\sklearn\\linear_model\\_sag.py:352: ConvergenceWarning: The max_iter was reached which means the coef_ did not converge\n",
      "  warnings.warn(\n"
     ]
    },
    {
     "name": "stdout",
     "output_type": "stream",
     "text": [
      "[flaml.automl.automl: 02-26 19:52:40] {3508} INFO -  at 102.1s,\testimator lgbm's best error=0.0996,\tbest estimator lgbm's best error=0.0996\n",
      "[flaml.automl.automl: 02-26 19:52:40] {3323} INFO - iteration 219, current learner lgbm\n",
      "[flaml.automl.automl: 02-26 19:52:40] {3508} INFO -  at 102.6s,\testimator lgbm's best error=0.0996,\tbest estimator lgbm's best error=0.0996\n",
      "[flaml.automl.automl: 02-26 19:52:40] {3323} INFO - iteration 220, current learner lgbm\n",
      "[flaml.automl.automl: 02-26 19:52:40] {3508} INFO -  at 103.0s,\testimator lgbm's best error=0.0996,\tbest estimator lgbm's best error=0.0996\n",
      "[flaml.automl.automl: 02-26 19:52:40] {3323} INFO - iteration 221, current learner xgb_limitdepth\n",
      "[flaml.automl.automl: 02-26 19:52:41] {3508} INFO -  at 103.3s,\testimator xgb_limitdepth's best error=0.1084,\tbest estimator lgbm's best error=0.0996\n",
      "[flaml.automl.automl: 02-26 19:52:41] {3323} INFO - iteration 222, current learner lgbm\n",
      "[flaml.automl.automl: 02-26 19:52:42] {3508} INFO -  at 104.2s,\testimator lgbm's best error=0.0996,\tbest estimator lgbm's best error=0.0996\n",
      "[flaml.automl.automl: 02-26 19:52:42] {3323} INFO - iteration 223, current learner lrl1\n"
     ]
    },
    {
     "name": "stderr",
     "output_type": "stream",
     "text": [
      "C:\\Users\\Utilisateur\\anaconda3\\lib\\site-packages\\sklearn\\linear_model\\_sag.py:352: ConvergenceWarning: The max_iter was reached which means the coef_ did not converge\n",
      "  warnings.warn(\n",
      "C:\\Users\\Utilisateur\\anaconda3\\lib\\site-packages\\sklearn\\linear_model\\_sag.py:352: ConvergenceWarning: The max_iter was reached which means the coef_ did not converge\n",
      "  warnings.warn(\n",
      "C:\\Users\\Utilisateur\\anaconda3\\lib\\site-packages\\sklearn\\linear_model\\_sag.py:352: ConvergenceWarning: The max_iter was reached which means the coef_ did not converge\n",
      "  warnings.warn(\n",
      "C:\\Users\\Utilisateur\\anaconda3\\lib\\site-packages\\sklearn\\linear_model\\_sag.py:352: ConvergenceWarning: The max_iter was reached which means the coef_ did not converge\n",
      "  warnings.warn(\n"
     ]
    },
    {
     "name": "stdout",
     "output_type": "stream",
     "text": [
      "[flaml.automl.automl: 02-26 19:52:43] {3508} INFO -  at 105.5s,\testimator lrl1's best error=0.4643,\tbest estimator lgbm's best error=0.0996\n",
      "[flaml.automl.automl: 02-26 19:52:43] {3323} INFO - iteration 224, current learner xgb_limitdepth\n"
     ]
    },
    {
     "name": "stderr",
     "output_type": "stream",
     "text": [
      "C:\\Users\\Utilisateur\\anaconda3\\lib\\site-packages\\sklearn\\linear_model\\_sag.py:352: ConvergenceWarning: The max_iter was reached which means the coef_ did not converge\n",
      "  warnings.warn(\n"
     ]
    },
    {
     "name": "stdout",
     "output_type": "stream",
     "text": [
      "[flaml.automl.automl: 02-26 19:52:44] {3508} INFO -  at 107.0s,\testimator xgb_limitdepth's best error=0.1084,\tbest estimator lgbm's best error=0.0996\n",
      "[flaml.automl.automl: 02-26 19:52:44] {3323} INFO - iteration 225, current learner lgbm\n",
      "[flaml.automl.automl: 02-26 19:52:45] {3508} INFO -  at 107.8s,\testimator lgbm's best error=0.0996,\tbest estimator lgbm's best error=0.0996\n",
      "[flaml.automl.automl: 02-26 19:52:45] {3323} INFO - iteration 226, current learner lgbm\n",
      "[flaml.automl.automl: 02-26 19:52:45] {3508} INFO -  at 108.1s,\testimator lgbm's best error=0.0996,\tbest estimator lgbm's best error=0.0996\n",
      "[flaml.automl.automl: 02-26 19:52:45] {3323} INFO - iteration 227, current learner xgb_limitdepth\n",
      "[flaml.automl.automl: 02-26 19:52:46] {3508} INFO -  at 108.4s,\testimator xgb_limitdepth's best error=0.1084,\tbest estimator lgbm's best error=0.0996\n",
      "[flaml.automl.automl: 02-26 19:52:46] {3323} INFO - iteration 228, current learner lgbm\n",
      "[flaml.automl.automl: 02-26 19:52:47] {3508} INFO -  at 109.3s,\testimator lgbm's best error=0.0996,\tbest estimator lgbm's best error=0.0996\n",
      "[flaml.automl.automl: 02-26 19:52:47] {3323} INFO - iteration 229, current learner lrl1\n"
     ]
    },
    {
     "name": "stderr",
     "output_type": "stream",
     "text": [
      "C:\\Users\\Utilisateur\\anaconda3\\lib\\site-packages\\sklearn\\linear_model\\_sag.py:352: ConvergenceWarning: The max_iter was reached which means the coef_ did not converge\n",
      "  warnings.warn(\n",
      "C:\\Users\\Utilisateur\\anaconda3\\lib\\site-packages\\sklearn\\linear_model\\_sag.py:352: ConvergenceWarning: The max_iter was reached which means the coef_ did not converge\n",
      "  warnings.warn(\n",
      "C:\\Users\\Utilisateur\\anaconda3\\lib\\site-packages\\sklearn\\linear_model\\_sag.py:352: ConvergenceWarning: The max_iter was reached which means the coef_ did not converge\n",
      "  warnings.warn(\n"
     ]
    },
    {
     "name": "stdout",
     "output_type": "stream",
     "text": [
      "[flaml.automl.automl: 02-26 19:52:47] {3508} INFO -  at 109.8s,\testimator lrl1's best error=0.4643,\tbest estimator lgbm's best error=0.0996\n",
      "[flaml.automl.automl: 02-26 19:52:47] {3323} INFO - iteration 230, current learner xgb_limitdepth\n"
     ]
    },
    {
     "name": "stderr",
     "output_type": "stream",
     "text": [
      "C:\\Users\\Utilisateur\\anaconda3\\lib\\site-packages\\sklearn\\linear_model\\_sag.py:352: ConvergenceWarning: The max_iter was reached which means the coef_ did not converge\n",
      "  warnings.warn(\n",
      "C:\\Users\\Utilisateur\\anaconda3\\lib\\site-packages\\sklearn\\linear_model\\_sag.py:352: ConvergenceWarning: The max_iter was reached which means the coef_ did not converge\n",
      "  warnings.warn(\n"
     ]
    },
    {
     "name": "stdout",
     "output_type": "stream",
     "text": [
      "[flaml.automl.automl: 02-26 19:52:48] {3508} INFO -  at 110.3s,\testimator xgb_limitdepth's best error=0.1084,\tbest estimator lgbm's best error=0.0996\n",
      "[flaml.automl.automl: 02-26 19:52:48] {3323} INFO - iteration 231, current learner lrl1\n"
     ]
    },
    {
     "name": "stderr",
     "output_type": "stream",
     "text": [
      "C:\\Users\\Utilisateur\\anaconda3\\lib\\site-packages\\sklearn\\linear_model\\_sag.py:352: ConvergenceWarning: The max_iter was reached which means the coef_ did not converge\n",
      "  warnings.warn(\n",
      "C:\\Users\\Utilisateur\\anaconda3\\lib\\site-packages\\sklearn\\linear_model\\_sag.py:352: ConvergenceWarning: The max_iter was reached which means the coef_ did not converge\n",
      "  warnings.warn(\n",
      "C:\\Users\\Utilisateur\\anaconda3\\lib\\site-packages\\sklearn\\linear_model\\_sag.py:352: ConvergenceWarning: The max_iter was reached which means the coef_ did not converge\n",
      "  warnings.warn(\n"
     ]
    },
    {
     "name": "stdout",
     "output_type": "stream",
     "text": [
      "[flaml.automl.automl: 02-26 19:52:48] {3508} INFO -  at 110.8s,\testimator lrl1's best error=0.4643,\tbest estimator lgbm's best error=0.0996\n",
      "[flaml.automl.automl: 02-26 19:52:48] {3323} INFO - iteration 232, current learner xgb_limitdepth\n"
     ]
    },
    {
     "name": "stderr",
     "output_type": "stream",
     "text": [
      "C:\\Users\\Utilisateur\\anaconda3\\lib\\site-packages\\sklearn\\linear_model\\_sag.py:352: ConvergenceWarning: The max_iter was reached which means the coef_ did not converge\n",
      "  warnings.warn(\n",
      "C:\\Users\\Utilisateur\\anaconda3\\lib\\site-packages\\sklearn\\linear_model\\_sag.py:352: ConvergenceWarning: The max_iter was reached which means the coef_ did not converge\n",
      "  warnings.warn(\n"
     ]
    },
    {
     "name": "stdout",
     "output_type": "stream",
     "text": [
      "[flaml.automl.automl: 02-26 19:52:48] {3508} INFO -  at 111.1s,\testimator xgb_limitdepth's best error=0.1084,\tbest estimator lgbm's best error=0.0996\n",
      "[flaml.automl.automl: 02-26 19:52:48] {3323} INFO - iteration 233, current learner lrl1\n"
     ]
    },
    {
     "name": "stderr",
     "output_type": "stream",
     "text": [
      "C:\\Users\\Utilisateur\\anaconda3\\lib\\site-packages\\sklearn\\linear_model\\_sag.py:352: ConvergenceWarning: The max_iter was reached which means the coef_ did not converge\n",
      "  warnings.warn(\n",
      "C:\\Users\\Utilisateur\\anaconda3\\lib\\site-packages\\sklearn\\linear_model\\_sag.py:352: ConvergenceWarning: The max_iter was reached which means the coef_ did not converge\n",
      "  warnings.warn(\n",
      "C:\\Users\\Utilisateur\\anaconda3\\lib\\site-packages\\sklearn\\linear_model\\_sag.py:352: ConvergenceWarning: The max_iter was reached which means the coef_ did not converge\n",
      "  warnings.warn(\n",
      "C:\\Users\\Utilisateur\\anaconda3\\lib\\site-packages\\sklearn\\linear_model\\_sag.py:352: ConvergenceWarning: The max_iter was reached which means the coef_ did not converge\n",
      "  warnings.warn(\n",
      "C:\\Users\\Utilisateur\\anaconda3\\lib\\site-packages\\sklearn\\linear_model\\_sag.py:352: ConvergenceWarning: The max_iter was reached which means the coef_ did not converge\n",
      "  warnings.warn(\n"
     ]
    },
    {
     "name": "stdout",
     "output_type": "stream",
     "text": [
      "[flaml.automl.automl: 02-26 19:52:49] {3508} INFO -  at 111.6s,\testimator lrl1's best error=0.4643,\tbest estimator lgbm's best error=0.0996\n",
      "[flaml.automl.automl: 02-26 19:52:49] {3323} INFO - iteration 234, current learner lrl1\n"
     ]
    },
    {
     "name": "stderr",
     "output_type": "stream",
     "text": [
      "C:\\Users\\Utilisateur\\anaconda3\\lib\\site-packages\\sklearn\\linear_model\\_sag.py:352: ConvergenceWarning: The max_iter was reached which means the coef_ did not converge\n",
      "  warnings.warn(\n",
      "C:\\Users\\Utilisateur\\anaconda3\\lib\\site-packages\\sklearn\\linear_model\\_sag.py:352: ConvergenceWarning: The max_iter was reached which means the coef_ did not converge\n",
      "  warnings.warn(\n",
      "C:\\Users\\Utilisateur\\anaconda3\\lib\\site-packages\\sklearn\\linear_model\\_sag.py:352: ConvergenceWarning: The max_iter was reached which means the coef_ did not converge\n",
      "  warnings.warn(\n",
      "C:\\Users\\Utilisateur\\anaconda3\\lib\\site-packages\\sklearn\\linear_model\\_sag.py:352: ConvergenceWarning: The max_iter was reached which means the coef_ did not converge\n",
      "  warnings.warn(\n",
      "C:\\Users\\Utilisateur\\anaconda3\\lib\\site-packages\\sklearn\\linear_model\\_sag.py:352: ConvergenceWarning: The max_iter was reached which means the coef_ did not converge\n",
      "  warnings.warn(\n"
     ]
    },
    {
     "name": "stdout",
     "output_type": "stream",
     "text": [
      "[flaml.automl.automl: 02-26 19:52:49] {3508} INFO -  at 112.1s,\testimator lrl1's best error=0.4643,\tbest estimator lgbm's best error=0.0996\n",
      "[flaml.automl.automl: 02-26 19:52:50] {3323} INFO - iteration 235, current learner lrl1\n"
     ]
    },
    {
     "name": "stderr",
     "output_type": "stream",
     "text": [
      "C:\\Users\\Utilisateur\\anaconda3\\lib\\site-packages\\sklearn\\linear_model\\_sag.py:352: ConvergenceWarning: The max_iter was reached which means the coef_ did not converge\n",
      "  warnings.warn(\n",
      "C:\\Users\\Utilisateur\\anaconda3\\lib\\site-packages\\sklearn\\linear_model\\_sag.py:352: ConvergenceWarning: The max_iter was reached which means the coef_ did not converge\n",
      "  warnings.warn(\n",
      "C:\\Users\\Utilisateur\\anaconda3\\lib\\site-packages\\sklearn\\linear_model\\_sag.py:352: ConvergenceWarning: The max_iter was reached which means the coef_ did not converge\n",
      "  warnings.warn(\n",
      "C:\\Users\\Utilisateur\\anaconda3\\lib\\site-packages\\sklearn\\linear_model\\_sag.py:352: ConvergenceWarning: The max_iter was reached which means the coef_ did not converge\n",
      "  warnings.warn(\n"
     ]
    },
    {
     "name": "stdout",
     "output_type": "stream",
     "text": [
      "[flaml.automl.automl: 02-26 19:52:50] {3508} INFO -  at 112.5s,\testimator lrl1's best error=0.4643,\tbest estimator lgbm's best error=0.0996\n",
      "[flaml.automl.automl: 02-26 19:52:50] {3323} INFO - iteration 236, current learner xgb_limitdepth\n"
     ]
    },
    {
     "name": "stderr",
     "output_type": "stream",
     "text": [
      "C:\\Users\\Utilisateur\\anaconda3\\lib\\site-packages\\sklearn\\linear_model\\_sag.py:352: ConvergenceWarning: The max_iter was reached which means the coef_ did not converge\n",
      "  warnings.warn(\n"
     ]
    },
    {
     "name": "stdout",
     "output_type": "stream",
     "text": [
      "[flaml.automl.automl: 02-26 19:52:51] {3508} INFO -  at 113.5s,\testimator xgb_limitdepth's best error=0.1084,\tbest estimator lgbm's best error=0.0996\n",
      "[flaml.automl.automl: 02-26 19:52:51] {3323} INFO - iteration 237, current learner xgb_limitdepth\n",
      "[flaml.automl.automl: 02-26 19:52:51] {3508} INFO -  at 113.8s,\testimator xgb_limitdepth's best error=0.1084,\tbest estimator lgbm's best error=0.0996\n",
      "[flaml.automl.automl: 02-26 19:52:51] {3323} INFO - iteration 238, current learner lrl1\n"
     ]
    },
    {
     "name": "stderr",
     "output_type": "stream",
     "text": [
      "C:\\Users\\Utilisateur\\anaconda3\\lib\\site-packages\\sklearn\\linear_model\\_sag.py:352: ConvergenceWarning: The max_iter was reached which means the coef_ did not converge\n",
      "  warnings.warn(\n",
      "C:\\Users\\Utilisateur\\anaconda3\\lib\\site-packages\\sklearn\\linear_model\\_sag.py:352: ConvergenceWarning: The max_iter was reached which means the coef_ did not converge\n",
      "  warnings.warn(\n",
      "C:\\Users\\Utilisateur\\anaconda3\\lib\\site-packages\\sklearn\\linear_model\\_sag.py:352: ConvergenceWarning: The max_iter was reached which means the coef_ did not converge\n",
      "  warnings.warn(\n"
     ]
    },
    {
     "name": "stdout",
     "output_type": "stream",
     "text": [
      "[flaml.automl.automl: 02-26 19:52:52] {3508} INFO -  at 114.3s,\testimator lrl1's best error=0.4643,\tbest estimator lgbm's best error=0.0996\n",
      "[flaml.automl.automl: 02-26 19:52:52] {3323} INFO - iteration 239, current learner lgbm\n"
     ]
    },
    {
     "name": "stderr",
     "output_type": "stream",
     "text": [
      "C:\\Users\\Utilisateur\\anaconda3\\lib\\site-packages\\sklearn\\linear_model\\_sag.py:352: ConvergenceWarning: The max_iter was reached which means the coef_ did not converge\n",
      "  warnings.warn(\n",
      "C:\\Users\\Utilisateur\\anaconda3\\lib\\site-packages\\sklearn\\linear_model\\_sag.py:352: ConvergenceWarning: The max_iter was reached which means the coef_ did not converge\n",
      "  warnings.warn(\n"
     ]
    },
    {
     "name": "stdout",
     "output_type": "stream",
     "text": [
      "[flaml.automl.automl: 02-26 19:52:52] {3508} INFO -  at 114.6s,\testimator lgbm's best error=0.0996,\tbest estimator lgbm's best error=0.0996\n",
      "[flaml.automl.automl: 02-26 19:52:52] {3323} INFO - iteration 240, current learner xgb_limitdepth\n",
      "[flaml.automl.automl: 02-26 19:52:52] {3508} INFO -  at 114.9s,\testimator xgb_limitdepth's best error=0.1084,\tbest estimator lgbm's best error=0.0996\n",
      "[flaml.automl.automl: 02-26 19:52:52] {3323} INFO - iteration 241, current learner xgb_limitdepth\n",
      "[flaml.automl.automl: 02-26 19:52:53] {3508} INFO -  at 115.3s,\testimator xgb_limitdepth's best error=0.1084,\tbest estimator lgbm's best error=0.0996\n",
      "[flaml.automl.automl: 02-26 19:52:53] {3323} INFO - iteration 242, current learner lgbm\n",
      "[flaml.automl.automl: 02-26 19:52:54] {3508} INFO -  at 116.1s,\testimator lgbm's best error=0.0996,\tbest estimator lgbm's best error=0.0996\n",
      "[flaml.automl.automl: 02-26 19:52:54] {3323} INFO - iteration 243, current learner xgb_limitdepth\n",
      "[flaml.automl.automl: 02-26 19:52:54] {3508} INFO -  at 116.4s,\testimator xgb_limitdepth's best error=0.1084,\tbest estimator lgbm's best error=0.0996\n",
      "[flaml.automl.automl: 02-26 19:52:54] {3323} INFO - iteration 244, current learner xgb_limitdepth\n",
      "[flaml.automl.automl: 02-26 19:52:54] {3508} INFO -  at 117.1s,\testimator xgb_limitdepth's best error=0.1084,\tbest estimator lgbm's best error=0.0996\n",
      "[flaml.automl.automl: 02-26 19:52:54] {3323} INFO - iteration 245, current learner lrl1\n"
     ]
    },
    {
     "name": "stderr",
     "output_type": "stream",
     "text": [
      "C:\\Users\\Utilisateur\\anaconda3\\lib\\site-packages\\sklearn\\linear_model\\_sag.py:352: ConvergenceWarning: The max_iter was reached which means the coef_ did not converge\n",
      "  warnings.warn(\n",
      "C:\\Users\\Utilisateur\\anaconda3\\lib\\site-packages\\sklearn\\linear_model\\_sag.py:352: ConvergenceWarning: The max_iter was reached which means the coef_ did not converge\n",
      "  warnings.warn(\n",
      "C:\\Users\\Utilisateur\\anaconda3\\lib\\site-packages\\sklearn\\linear_model\\_sag.py:352: ConvergenceWarning: The max_iter was reached which means the coef_ did not converge\n",
      "  warnings.warn(\n"
     ]
    },
    {
     "name": "stdout",
     "output_type": "stream",
     "text": [
      "[flaml.automl.automl: 02-26 19:52:55] {3508} INFO -  at 117.6s,\testimator lrl1's best error=0.4643,\tbest estimator lgbm's best error=0.0996\n",
      "[flaml.automl.automl: 02-26 19:52:55] {3323} INFO - iteration 246, current learner lgbm\n"
     ]
    },
    {
     "name": "stderr",
     "output_type": "stream",
     "text": [
      "C:\\Users\\Utilisateur\\anaconda3\\lib\\site-packages\\sklearn\\linear_model\\_sag.py:352: ConvergenceWarning: The max_iter was reached which means the coef_ did not converge\n",
      "  warnings.warn(\n",
      "C:\\Users\\Utilisateur\\anaconda3\\lib\\site-packages\\sklearn\\linear_model\\_sag.py:352: ConvergenceWarning: The max_iter was reached which means the coef_ did not converge\n",
      "  warnings.warn(\n"
     ]
    },
    {
     "name": "stdout",
     "output_type": "stream",
     "text": [
      "[flaml.automl.automl: 02-26 19:52:55] {3508} INFO -  at 117.9s,\testimator lgbm's best error=0.0996,\tbest estimator lgbm's best error=0.0996\n",
      "[flaml.automl.automl: 02-26 19:52:55] {3323} INFO - iteration 247, current learner lrl1\n"
     ]
    },
    {
     "name": "stderr",
     "output_type": "stream",
     "text": [
      "C:\\Users\\Utilisateur\\anaconda3\\lib\\site-packages\\sklearn\\linear_model\\_sag.py:352: ConvergenceWarning: The max_iter was reached which means the coef_ did not converge\n",
      "  warnings.warn(\n",
      "C:\\Users\\Utilisateur\\anaconda3\\lib\\site-packages\\sklearn\\linear_model\\_sag.py:352: ConvergenceWarning: The max_iter was reached which means the coef_ did not converge\n",
      "  warnings.warn(\n",
      "C:\\Users\\Utilisateur\\anaconda3\\lib\\site-packages\\sklearn\\linear_model\\_sag.py:352: ConvergenceWarning: The max_iter was reached which means the coef_ did not converge\n",
      "  warnings.warn(\n"
     ]
    },
    {
     "name": "stdout",
     "output_type": "stream",
     "text": [
      "[flaml.automl.automl: 02-26 19:52:56] {3508} INFO -  at 118.4s,\testimator lrl1's best error=0.4643,\tbest estimator lgbm's best error=0.0996\n",
      "[flaml.automl.automl: 02-26 19:52:56] {3323} INFO - iteration 248, current learner xgb_limitdepth\n"
     ]
    },
    {
     "name": "stderr",
     "output_type": "stream",
     "text": [
      "C:\\Users\\Utilisateur\\anaconda3\\lib\\site-packages\\sklearn\\linear_model\\_sag.py:352: ConvergenceWarning: The max_iter was reached which means the coef_ did not converge\n",
      "  warnings.warn(\n",
      "C:\\Users\\Utilisateur\\anaconda3\\lib\\site-packages\\sklearn\\linear_model\\_sag.py:352: ConvergenceWarning: The max_iter was reached which means the coef_ did not converge\n",
      "  warnings.warn(\n"
     ]
    },
    {
     "name": "stdout",
     "output_type": "stream",
     "text": [
      "[flaml.automl.automl: 02-26 19:52:56] {3508} INFO -  at 118.5s,\testimator xgb_limitdepth's best error=0.1084,\tbest estimator lgbm's best error=0.0996\n",
      "[flaml.automl.automl: 02-26 19:52:56] {3323} INFO - iteration 249, current learner lgbm\n",
      "[flaml.automl.automl: 02-26 19:52:56] {3508} INFO -  at 118.8s,\testimator lgbm's best error=0.0996,\tbest estimator lgbm's best error=0.0996\n",
      "[flaml.automl.automl: 02-26 19:52:56] {3323} INFO - iteration 250, current learner lrl1\n"
     ]
    },
    {
     "name": "stderr",
     "output_type": "stream",
     "text": [
      "C:\\Users\\Utilisateur\\anaconda3\\lib\\site-packages\\sklearn\\linear_model\\_sag.py:352: ConvergenceWarning: The max_iter was reached which means the coef_ did not converge\n",
      "  warnings.warn(\n",
      "C:\\Users\\Utilisateur\\anaconda3\\lib\\site-packages\\sklearn\\linear_model\\_sag.py:352: ConvergenceWarning: The max_iter was reached which means the coef_ did not converge\n",
      "  warnings.warn(\n",
      "C:\\Users\\Utilisateur\\anaconda3\\lib\\site-packages\\sklearn\\linear_model\\_sag.py:352: ConvergenceWarning: The max_iter was reached which means the coef_ did not converge\n",
      "  warnings.warn(\n"
     ]
    },
    {
     "name": "stdout",
     "output_type": "stream",
     "text": [
      "[flaml.automl.automl: 02-26 19:52:57] {3508} INFO -  at 119.3s,\testimator lrl1's best error=0.4643,\tbest estimator lgbm's best error=0.0996\n",
      "[flaml.automl.automl: 02-26 19:52:57] {3323} INFO - iteration 251, current learner xgb_limitdepth\n"
     ]
    },
    {
     "name": "stderr",
     "output_type": "stream",
     "text": [
      "C:\\Users\\Utilisateur\\anaconda3\\lib\\site-packages\\sklearn\\linear_model\\_sag.py:352: ConvergenceWarning: The max_iter was reached which means the coef_ did not converge\n",
      "  warnings.warn(\n",
      "C:\\Users\\Utilisateur\\anaconda3\\lib\\site-packages\\sklearn\\linear_model\\_sag.py:352: ConvergenceWarning: The max_iter was reached which means the coef_ did not converge\n",
      "  warnings.warn(\n"
     ]
    },
    {
     "name": "stdout",
     "output_type": "stream",
     "text": [
      "[flaml.automl.automl: 02-26 19:52:57] {3508} INFO -  at 119.6s,\testimator xgb_limitdepth's best error=0.1084,\tbest estimator lgbm's best error=0.0996\n",
      "[flaml.automl.automl: 02-26 19:52:57] {3323} INFO - iteration 252, current learner lgbm\n",
      "[flaml.automl.automl: 02-26 19:52:58] {3508} INFO -  at 120.4s,\testimator lgbm's best error=0.0996,\tbest estimator lgbm's best error=0.0996\n",
      "[flaml.automl.automl: 02-26 19:52:58] {3323} INFO - iteration 253, current learner rf\n",
      "[flaml.automl.automl: 02-26 19:52:59] {3508} INFO -  at 122.0s,\testimator rf's best error=0.1297,\tbest estimator lgbm's best error=0.0996\n",
      "[flaml.automl.automl: 02-26 19:52:59] {3323} INFO - iteration 254, current learner xgb_limitdepth\n",
      "[flaml.automl.automl: 02-26 19:53:00] {3508} INFO -  at 122.5s,\testimator xgb_limitdepth's best error=0.1084,\tbest estimator lgbm's best error=0.0996\n",
      "[flaml.automl.automl: 02-26 19:53:00] {3323} INFO - iteration 255, current learner lrl1\n"
     ]
    },
    {
     "name": "stderr",
     "output_type": "stream",
     "text": [
      "C:\\Users\\Utilisateur\\anaconda3\\lib\\site-packages\\sklearn\\linear_model\\_sag.py:352: ConvergenceWarning: The max_iter was reached which means the coef_ did not converge\n",
      "  warnings.warn(\n",
      "C:\\Users\\Utilisateur\\anaconda3\\lib\\site-packages\\sklearn\\linear_model\\_sag.py:352: ConvergenceWarning: The max_iter was reached which means the coef_ did not converge\n",
      "  warnings.warn(\n",
      "C:\\Users\\Utilisateur\\anaconda3\\lib\\site-packages\\sklearn\\linear_model\\_sag.py:352: ConvergenceWarning: The max_iter was reached which means the coef_ did not converge\n",
      "  warnings.warn(\n",
      "C:\\Users\\Utilisateur\\anaconda3\\lib\\site-packages\\sklearn\\linear_model\\_sag.py:352: ConvergenceWarning: The max_iter was reached which means the coef_ did not converge\n",
      "  warnings.warn(\n"
     ]
    },
    {
     "name": "stdout",
     "output_type": "stream",
     "text": [
      "[flaml.automl.automl: 02-26 19:53:01] {3508} INFO -  at 123.2s,\testimator lrl1's best error=0.4643,\tbest estimator lgbm's best error=0.0996\n",
      "[flaml.automl.automl: 02-26 19:53:01] {3323} INFO - iteration 256, current learner lgbm\n"
     ]
    },
    {
     "name": "stderr",
     "output_type": "stream",
     "text": [
      "C:\\Users\\Utilisateur\\anaconda3\\lib\\site-packages\\sklearn\\linear_model\\_sag.py:352: ConvergenceWarning: The max_iter was reached which means the coef_ did not converge\n",
      "  warnings.warn(\n"
     ]
    },
    {
     "name": "stdout",
     "output_type": "stream",
     "text": [
      "[flaml.automl.automl: 02-26 19:53:01] {3508} INFO -  at 123.4s,\testimator lgbm's best error=0.0996,\tbest estimator lgbm's best error=0.0996\n",
      "[flaml.automl.automl: 02-26 19:53:01] {3323} INFO - iteration 257, current learner lrl1\n"
     ]
    },
    {
     "name": "stderr",
     "output_type": "stream",
     "text": [
      "C:\\Users\\Utilisateur\\anaconda3\\lib\\site-packages\\sklearn\\linear_model\\_sag.py:352: ConvergenceWarning: The max_iter was reached which means the coef_ did not converge\n",
      "  warnings.warn(\n",
      "C:\\Users\\Utilisateur\\anaconda3\\lib\\site-packages\\sklearn\\linear_model\\_sag.py:352: ConvergenceWarning: The max_iter was reached which means the coef_ did not converge\n",
      "  warnings.warn(\n",
      "C:\\Users\\Utilisateur\\anaconda3\\lib\\site-packages\\sklearn\\linear_model\\_sag.py:352: ConvergenceWarning: The max_iter was reached which means the coef_ did not converge\n",
      "  warnings.warn(\n",
      "C:\\Users\\Utilisateur\\anaconda3\\lib\\site-packages\\sklearn\\linear_model\\_sag.py:352: ConvergenceWarning: The max_iter was reached which means the coef_ did not converge\n",
      "  warnings.warn(\n"
     ]
    },
    {
     "name": "stdout",
     "output_type": "stream",
     "text": [
      "[flaml.automl.automl: 02-26 19:53:01] {3508} INFO -  at 124.1s,\testimator lrl1's best error=0.4643,\tbest estimator lgbm's best error=0.0996\n",
      "[flaml.automl.automl: 02-26 19:53:01] {3323} INFO - iteration 258, current learner lgbm\n"
     ]
    },
    {
     "name": "stderr",
     "output_type": "stream",
     "text": [
      "C:\\Users\\Utilisateur\\anaconda3\\lib\\site-packages\\sklearn\\linear_model\\_sag.py:352: ConvergenceWarning: The max_iter was reached which means the coef_ did not converge\n",
      "  warnings.warn(\n"
     ]
    },
    {
     "name": "stdout",
     "output_type": "stream",
     "text": [
      "[flaml.automl.automl: 02-26 19:53:02] {3508} INFO -  at 124.7s,\testimator lgbm's best error=0.0996,\tbest estimator lgbm's best error=0.0996\n",
      "[flaml.automl.automl: 02-26 19:53:02] {3323} INFO - iteration 259, current learner lrl1\n"
     ]
    },
    {
     "name": "stderr",
     "output_type": "stream",
     "text": [
      "C:\\Users\\Utilisateur\\anaconda3\\lib\\site-packages\\sklearn\\linear_model\\_sag.py:352: ConvergenceWarning: The max_iter was reached which means the coef_ did not converge\n",
      "  warnings.warn(\n",
      "C:\\Users\\Utilisateur\\anaconda3\\lib\\site-packages\\sklearn\\linear_model\\_sag.py:352: ConvergenceWarning: The max_iter was reached which means the coef_ did not converge\n",
      "  warnings.warn(\n",
      "C:\\Users\\Utilisateur\\anaconda3\\lib\\site-packages\\sklearn\\linear_model\\_sag.py:352: ConvergenceWarning: The max_iter was reached which means the coef_ did not converge\n",
      "  warnings.warn(\n",
      "C:\\Users\\Utilisateur\\anaconda3\\lib\\site-packages\\sklearn\\linear_model\\_sag.py:352: ConvergenceWarning: The max_iter was reached which means the coef_ did not converge\n",
      "  warnings.warn(\n"
     ]
    },
    {
     "name": "stdout",
     "output_type": "stream",
     "text": [
      "[flaml.automl.automl: 02-26 19:53:03] {3508} INFO -  at 125.2s,\testimator lrl1's best error=0.4643,\tbest estimator lgbm's best error=0.0996\n",
      "[flaml.automl.automl: 02-26 19:53:03] {3323} INFO - iteration 260, current learner xgb_limitdepth\n"
     ]
    },
    {
     "name": "stderr",
     "output_type": "stream",
     "text": [
      "C:\\Users\\Utilisateur\\anaconda3\\lib\\site-packages\\sklearn\\linear_model\\_sag.py:352: ConvergenceWarning: The max_iter was reached which means the coef_ did not converge\n",
      "  warnings.warn(\n"
     ]
    },
    {
     "name": "stdout",
     "output_type": "stream",
     "text": [
      "[flaml.automl.automl: 02-26 19:53:03] {3508} INFO -  at 125.7s,\testimator xgb_limitdepth's best error=0.1084,\tbest estimator lgbm's best error=0.0996\n",
      "[flaml.automl.automl: 02-26 19:53:03] {3323} INFO - iteration 261, current learner lrl1\n"
     ]
    },
    {
     "name": "stderr",
     "output_type": "stream",
     "text": [
      "C:\\Users\\Utilisateur\\anaconda3\\lib\\site-packages\\sklearn\\linear_model\\_sag.py:352: ConvergenceWarning: The max_iter was reached which means the coef_ did not converge\n",
      "  warnings.warn(\n",
      "C:\\Users\\Utilisateur\\anaconda3\\lib\\site-packages\\sklearn\\linear_model\\_sag.py:352: ConvergenceWarning: The max_iter was reached which means the coef_ did not converge\n",
      "  warnings.warn(\n",
      "C:\\Users\\Utilisateur\\anaconda3\\lib\\site-packages\\sklearn\\linear_model\\_sag.py:352: ConvergenceWarning: The max_iter was reached which means the coef_ did not converge\n",
      "  warnings.warn(\n",
      "C:\\Users\\Utilisateur\\anaconda3\\lib\\site-packages\\sklearn\\linear_model\\_sag.py:352: ConvergenceWarning: The max_iter was reached which means the coef_ did not converge\n",
      "  warnings.warn(\n"
     ]
    },
    {
     "name": "stdout",
     "output_type": "stream",
     "text": [
      "[flaml.automl.automl: 02-26 19:53:04] {3508} INFO -  at 126.3s,\testimator lrl1's best error=0.4643,\tbest estimator lgbm's best error=0.0996\n",
      "[flaml.automl.automl: 02-26 19:53:04] {3323} INFO - iteration 262, current learner xgb_limitdepth\n"
     ]
    },
    {
     "name": "stderr",
     "output_type": "stream",
     "text": [
      "C:\\Users\\Utilisateur\\anaconda3\\lib\\site-packages\\sklearn\\linear_model\\_sag.py:352: ConvergenceWarning: The max_iter was reached which means the coef_ did not converge\n",
      "  warnings.warn(\n"
     ]
    },
    {
     "name": "stdout",
     "output_type": "stream",
     "text": [
      "[flaml.automl.automl: 02-26 19:53:04] {3508} INFO -  at 126.6s,\testimator xgb_limitdepth's best error=0.1084,\tbest estimator lgbm's best error=0.0996\n",
      "[flaml.automl.automl: 02-26 19:53:04] {3323} INFO - iteration 263, current learner xgb_limitdepth\n",
      "[flaml.automl.automl: 02-26 19:53:04] {3508} INFO -  at 126.9s,\testimator xgb_limitdepth's best error=0.1084,\tbest estimator lgbm's best error=0.0996\n",
      "[flaml.automl.automl: 02-26 19:53:04] {3323} INFO - iteration 264, current learner lgbm\n",
      "[flaml.automl.automl: 02-26 19:53:05] {3508} INFO -  at 127.7s,\testimator lgbm's best error=0.0996,\tbest estimator lgbm's best error=0.0996\n",
      "[flaml.automl.automl: 02-26 19:53:05] {3323} INFO - iteration 265, current learner xgb_limitdepth\n",
      "[flaml.automl.automl: 02-26 19:53:06] {3508} INFO -  at 128.2s,\testimator xgb_limitdepth's best error=0.1084,\tbest estimator lgbm's best error=0.0996\n",
      "[flaml.automl.automl: 02-26 19:53:06] {3323} INFO - iteration 266, current learner lrl1\n"
     ]
    },
    {
     "name": "stderr",
     "output_type": "stream",
     "text": [
      "C:\\Users\\Utilisateur\\anaconda3\\lib\\site-packages\\sklearn\\linear_model\\_sag.py:352: ConvergenceWarning: The max_iter was reached which means the coef_ did not converge\n",
      "  warnings.warn(\n",
      "C:\\Users\\Utilisateur\\anaconda3\\lib\\site-packages\\sklearn\\linear_model\\_sag.py:352: ConvergenceWarning: The max_iter was reached which means the coef_ did not converge\n",
      "  warnings.warn(\n",
      "C:\\Users\\Utilisateur\\anaconda3\\lib\\site-packages\\sklearn\\linear_model\\_sag.py:352: ConvergenceWarning: The max_iter was reached which means the coef_ did not converge\n",
      "  warnings.warn(\n"
     ]
    },
    {
     "name": "stdout",
     "output_type": "stream",
     "text": [
      "[flaml.automl.automl: 02-26 19:53:06] {3508} INFO -  at 128.8s,\testimator lrl1's best error=0.4643,\tbest estimator lgbm's best error=0.0996\n",
      "[flaml.automl.automl: 02-26 19:53:06] {3323} INFO - iteration 267, current learner lrl1\n"
     ]
    },
    {
     "name": "stderr",
     "output_type": "stream",
     "text": [
      "C:\\Users\\Utilisateur\\anaconda3\\lib\\site-packages\\sklearn\\linear_model\\_sag.py:352: ConvergenceWarning: The max_iter was reached which means the coef_ did not converge\n",
      "  warnings.warn(\n",
      "C:\\Users\\Utilisateur\\anaconda3\\lib\\site-packages\\sklearn\\linear_model\\_sag.py:352: ConvergenceWarning: The max_iter was reached which means the coef_ did not converge\n",
      "  warnings.warn(\n",
      "C:\\Users\\Utilisateur\\anaconda3\\lib\\site-packages\\sklearn\\linear_model\\_sag.py:352: ConvergenceWarning: The max_iter was reached which means the coef_ did not converge\n",
      "  warnings.warn(\n",
      "C:\\Users\\Utilisateur\\anaconda3\\lib\\site-packages\\sklearn\\linear_model\\_sag.py:352: ConvergenceWarning: The max_iter was reached which means the coef_ did not converge\n",
      "  warnings.warn(\n",
      "C:\\Users\\Utilisateur\\anaconda3\\lib\\site-packages\\sklearn\\linear_model\\_sag.py:352: ConvergenceWarning: The max_iter was reached which means the coef_ did not converge\n",
      "  warnings.warn(\n",
      "C:\\Users\\Utilisateur\\anaconda3\\lib\\site-packages\\sklearn\\linear_model\\_sag.py:352: ConvergenceWarning: The max_iter was reached which means the coef_ did not converge\n",
      "  warnings.warn(\n"
     ]
    },
    {
     "name": "stdout",
     "output_type": "stream",
     "text": [
      "[flaml.automl.automl: 02-26 19:53:07] {3508} INFO -  at 129.2s,\testimator lrl1's best error=0.4643,\tbest estimator lgbm's best error=0.0996\n",
      "[flaml.automl.automl: 02-26 19:53:07] {3323} INFO - iteration 268, current learner lrl1\n"
     ]
    },
    {
     "name": "stderr",
     "output_type": "stream",
     "text": [
      "C:\\Users\\Utilisateur\\anaconda3\\lib\\site-packages\\sklearn\\linear_model\\_sag.py:352: ConvergenceWarning: The max_iter was reached which means the coef_ did not converge\n",
      "  warnings.warn(\n",
      "C:\\Users\\Utilisateur\\anaconda3\\lib\\site-packages\\sklearn\\linear_model\\_sag.py:352: ConvergenceWarning: The max_iter was reached which means the coef_ did not converge\n",
      "  warnings.warn(\n",
      "C:\\Users\\Utilisateur\\anaconda3\\lib\\site-packages\\sklearn\\linear_model\\_sag.py:352: ConvergenceWarning: The max_iter was reached which means the coef_ did not converge\n",
      "  warnings.warn(\n"
     ]
    },
    {
     "name": "stdout",
     "output_type": "stream",
     "text": [
      "[flaml.automl.automl: 02-26 19:53:07] {3508} INFO -  at 129.6s,\testimator lrl1's best error=0.4643,\tbest estimator lgbm's best error=0.0996\n",
      "[flaml.automl.automl: 02-26 19:53:07] {3323} INFO - iteration 269, current learner xgb_limitdepth\n"
     ]
    },
    {
     "name": "stderr",
     "output_type": "stream",
     "text": [
      "C:\\Users\\Utilisateur\\anaconda3\\lib\\site-packages\\sklearn\\linear_model\\_sag.py:352: ConvergenceWarning: The max_iter was reached which means the coef_ did not converge\n",
      "  warnings.warn(\n",
      "C:\\Users\\Utilisateur\\anaconda3\\lib\\site-packages\\sklearn\\linear_model\\_sag.py:352: ConvergenceWarning: The max_iter was reached which means the coef_ did not converge\n",
      "  warnings.warn(\n",
      "C:\\Users\\Utilisateur\\anaconda3\\lib\\site-packages\\sklearn\\linear_model\\_sag.py:352: ConvergenceWarning: The max_iter was reached which means the coef_ did not converge\n",
      "  warnings.warn(\n"
     ]
    },
    {
     "name": "stdout",
     "output_type": "stream",
     "text": [
      "[flaml.automl.automl: 02-26 19:53:07] {3508} INFO -  at 129.9s,\testimator xgb_limitdepth's best error=0.1084,\tbest estimator lgbm's best error=0.0996\n",
      "[flaml.automl.automl: 02-26 19:53:07] {3323} INFO - iteration 270, current learner lrl1\n"
     ]
    },
    {
     "name": "stderr",
     "output_type": "stream",
     "text": [
      "C:\\Users\\Utilisateur\\anaconda3\\lib\\site-packages\\sklearn\\linear_model\\_sag.py:352: ConvergenceWarning: The max_iter was reached which means the coef_ did not converge\n",
      "  warnings.warn(\n",
      "C:\\Users\\Utilisateur\\anaconda3\\lib\\site-packages\\sklearn\\linear_model\\_sag.py:352: ConvergenceWarning: The max_iter was reached which means the coef_ did not converge\n",
      "  warnings.warn(\n",
      "C:\\Users\\Utilisateur\\anaconda3\\lib\\site-packages\\sklearn\\linear_model\\_sag.py:352: ConvergenceWarning: The max_iter was reached which means the coef_ did not converge\n",
      "  warnings.warn(\n"
     ]
    },
    {
     "name": "stdout",
     "output_type": "stream",
     "text": [
      "[flaml.automl.automl: 02-26 19:53:08] {3508} INFO -  at 130.5s,\testimator lrl1's best error=0.4643,\tbest estimator lgbm's best error=0.0996\n",
      "[flaml.automl.automl: 02-26 19:53:08] {3323} INFO - iteration 271, current learner lgbm\n"
     ]
    },
    {
     "name": "stderr",
     "output_type": "stream",
     "text": [
      "C:\\Users\\Utilisateur\\anaconda3\\lib\\site-packages\\sklearn\\linear_model\\_sag.py:352: ConvergenceWarning: The max_iter was reached which means the coef_ did not converge\n",
      "  warnings.warn(\n",
      "C:\\Users\\Utilisateur\\anaconda3\\lib\\site-packages\\sklearn\\linear_model\\_sag.py:352: ConvergenceWarning: The max_iter was reached which means the coef_ did not converge\n",
      "  warnings.warn(\n"
     ]
    },
    {
     "name": "stdout",
     "output_type": "stream",
     "text": [
      "[flaml.automl.automl: 02-26 19:53:08] {3508} INFO -  at 130.7s,\testimator lgbm's best error=0.0996,\tbest estimator lgbm's best error=0.0996\n",
      "[flaml.automl.automl: 02-26 19:53:08] {3323} INFO - iteration 272, current learner xgb_limitdepth\n",
      "[flaml.automl.automl: 02-26 19:53:08] {3508} INFO -  at 131.0s,\testimator xgb_limitdepth's best error=0.1084,\tbest estimator lgbm's best error=0.0996\n",
      "[flaml.automl.automl: 02-26 19:53:08] {3323} INFO - iteration 273, current learner lgbm\n",
      "[flaml.automl.automl: 02-26 19:53:09] {3508} INFO -  at 131.4s,\testimator lgbm's best error=0.0996,\tbest estimator lgbm's best error=0.0996\n",
      "[flaml.automl.automl: 02-26 19:53:09] {3323} INFO - iteration 274, current learner lgbm\n",
      "[flaml.automl.automl: 02-26 19:53:09] {3508} INFO -  at 131.8s,\testimator lgbm's best error=0.0996,\tbest estimator lgbm's best error=0.0996\n",
      "[flaml.automl.automl: 02-26 19:53:09] {3323} INFO - iteration 275, current learner lgbm\n",
      "[flaml.automl.automl: 02-26 19:53:09] {3508} INFO -  at 132.0s,\testimator lgbm's best error=0.0996,\tbest estimator lgbm's best error=0.0996\n",
      "[flaml.automl.automl: 02-26 19:53:09] {3323} INFO - iteration 276, current learner lgbm\n",
      "[flaml.automl.automl: 02-26 19:53:10] {3508} INFO -  at 132.5s,\testimator lgbm's best error=0.0996,\tbest estimator lgbm's best error=0.0996\n",
      "[flaml.automl.automl: 02-26 19:53:10] {3323} INFO - iteration 277, current learner lgbm\n",
      "[flaml.automl.automl: 02-26 19:53:11] {3508} INFO -  at 133.6s,\testimator lgbm's best error=0.0996,\tbest estimator lgbm's best error=0.0996\n",
      "[flaml.automl.automl: 02-26 19:53:11] {3323} INFO - iteration 278, current learner xgb_limitdepth\n",
      "[flaml.automl.automl: 02-26 19:53:11] {3508} INFO -  at 133.9s,\testimator xgb_limitdepth's best error=0.1084,\tbest estimator lgbm's best error=0.0996\n",
      "[flaml.automl.automl: 02-26 19:53:11] {3323} INFO - iteration 279, current learner lgbm\n",
      "[flaml.automl.automl: 02-26 19:53:12] {3508} INFO -  at 134.1s,\testimator lgbm's best error=0.0996,\tbest estimator lgbm's best error=0.0996\n",
      "[flaml.automl.automl: 02-26 19:53:12] {3323} INFO - iteration 280, current learner lrl1\n"
     ]
    },
    {
     "name": "stderr",
     "output_type": "stream",
     "text": [
      "C:\\Users\\Utilisateur\\anaconda3\\lib\\site-packages\\sklearn\\linear_model\\_sag.py:352: ConvergenceWarning: The max_iter was reached which means the coef_ did not converge\n",
      "  warnings.warn(\n",
      "C:\\Users\\Utilisateur\\anaconda3\\lib\\site-packages\\sklearn\\linear_model\\_sag.py:352: ConvergenceWarning: The max_iter was reached which means the coef_ did not converge\n",
      "  warnings.warn(\n",
      "C:\\Users\\Utilisateur\\anaconda3\\lib\\site-packages\\sklearn\\linear_model\\_sag.py:352: ConvergenceWarning: The max_iter was reached which means the coef_ did not converge\n",
      "  warnings.warn(\n"
     ]
    },
    {
     "name": "stdout",
     "output_type": "stream",
     "text": [
      "[flaml.automl.automl: 02-26 19:53:12] {3508} INFO -  at 134.6s,\testimator lrl1's best error=0.4643,\tbest estimator lgbm's best error=0.0996\n",
      "[flaml.automl.automl: 02-26 19:53:12] {3323} INFO - iteration 281, current learner xgb_limitdepth\n"
     ]
    },
    {
     "name": "stderr",
     "output_type": "stream",
     "text": [
      "C:\\Users\\Utilisateur\\anaconda3\\lib\\site-packages\\sklearn\\linear_model\\_sag.py:352: ConvergenceWarning: The max_iter was reached which means the coef_ did not converge\n",
      "  warnings.warn(\n",
      "C:\\Users\\Utilisateur\\anaconda3\\lib\\site-packages\\sklearn\\linear_model\\_sag.py:352: ConvergenceWarning: The max_iter was reached which means the coef_ did not converge\n",
      "  warnings.warn(\n"
     ]
    },
    {
     "name": "stdout",
     "output_type": "stream",
     "text": [
      "[flaml.automl.automl: 02-26 19:53:12] {3508} INFO -  at 134.9s,\testimator xgb_limitdepth's best error=0.1084,\tbest estimator lgbm's best error=0.0996\n",
      "[flaml.automl.automl: 02-26 19:53:12] {3323} INFO - iteration 282, current learner lgbm\n",
      "[flaml.automl.automl: 02-26 19:53:13] {3508} INFO -  at 135.4s,\testimator lgbm's best error=0.0996,\tbest estimator lgbm's best error=0.0996\n",
      "[flaml.automl.automl: 02-26 19:53:13] {3323} INFO - iteration 283, current learner lgbm\n",
      "[flaml.automl.automl: 02-26 19:53:13] {3508} INFO -  at 135.8s,\testimator lgbm's best error=0.0996,\tbest estimator lgbm's best error=0.0996\n",
      "[flaml.automl.automl: 02-26 19:53:13] {3323} INFO - iteration 284, current learner lgbm\n",
      "[flaml.automl.automl: 02-26 19:53:14] {3508} INFO -  at 136.3s,\testimator lgbm's best error=0.0996,\tbest estimator lgbm's best error=0.0996\n",
      "[flaml.automl.automl: 02-26 19:53:14] {3323} INFO - iteration 285, current learner lrl1\n"
     ]
    },
    {
     "name": "stderr",
     "output_type": "stream",
     "text": [
      "C:\\Users\\Utilisateur\\anaconda3\\lib\\site-packages\\sklearn\\linear_model\\_sag.py:352: ConvergenceWarning: The max_iter was reached which means the coef_ did not converge\n",
      "  warnings.warn(\n",
      "C:\\Users\\Utilisateur\\anaconda3\\lib\\site-packages\\sklearn\\linear_model\\_sag.py:352: ConvergenceWarning: The max_iter was reached which means the coef_ did not converge\n",
      "  warnings.warn(\n",
      "C:\\Users\\Utilisateur\\anaconda3\\lib\\site-packages\\sklearn\\linear_model\\_sag.py:352: ConvergenceWarning: The max_iter was reached which means the coef_ did not converge\n",
      "  warnings.warn(\n"
     ]
    },
    {
     "name": "stdout",
     "output_type": "stream",
     "text": [
      "[flaml.automl.automl: 02-26 19:53:14] {3508} INFO -  at 136.8s,\testimator lrl1's best error=0.4643,\tbest estimator lgbm's best error=0.0996\n",
      "[flaml.automl.automl: 02-26 19:53:14] {3323} INFO - iteration 286, current learner lrl1\n"
     ]
    },
    {
     "name": "stderr",
     "output_type": "stream",
     "text": [
      "C:\\Users\\Utilisateur\\anaconda3\\lib\\site-packages\\sklearn\\linear_model\\_sag.py:352: ConvergenceWarning: The max_iter was reached which means the coef_ did not converge\n",
      "  warnings.warn(\n",
      "C:\\Users\\Utilisateur\\anaconda3\\lib\\site-packages\\sklearn\\linear_model\\_sag.py:352: ConvergenceWarning: The max_iter was reached which means the coef_ did not converge\n",
      "  warnings.warn(\n",
      "C:\\Users\\Utilisateur\\anaconda3\\lib\\site-packages\\sklearn\\linear_model\\_sag.py:352: ConvergenceWarning: The max_iter was reached which means the coef_ did not converge\n",
      "  warnings.warn(\n",
      "C:\\Users\\Utilisateur\\anaconda3\\lib\\site-packages\\sklearn\\linear_model\\_sag.py:352: ConvergenceWarning: The max_iter was reached which means the coef_ did not converge\n",
      "  warnings.warn(\n",
      "C:\\Users\\Utilisateur\\anaconda3\\lib\\site-packages\\sklearn\\linear_model\\_sag.py:352: ConvergenceWarning: The max_iter was reached which means the coef_ did not converge\n",
      "  warnings.warn(\n"
     ]
    },
    {
     "name": "stdout",
     "output_type": "stream",
     "text": [
      "[flaml.automl.automl: 02-26 19:53:15] {3508} INFO -  at 137.3s,\testimator lrl1's best error=0.4643,\tbest estimator lgbm's best error=0.0996\n",
      "[flaml.automl.automl: 02-26 19:53:15] {3323} INFO - iteration 287, current learner lrl1\n"
     ]
    },
    {
     "name": "stderr",
     "output_type": "stream",
     "text": [
      "C:\\Users\\Utilisateur\\anaconda3\\lib\\site-packages\\sklearn\\linear_model\\_sag.py:352: ConvergenceWarning: The max_iter was reached which means the coef_ did not converge\n",
      "  warnings.warn(\n",
      "C:\\Users\\Utilisateur\\anaconda3\\lib\\site-packages\\sklearn\\linear_model\\_sag.py:352: ConvergenceWarning: The max_iter was reached which means the coef_ did not converge\n",
      "  warnings.warn(\n",
      "C:\\Users\\Utilisateur\\anaconda3\\lib\\site-packages\\sklearn\\linear_model\\_sag.py:352: ConvergenceWarning: The max_iter was reached which means the coef_ did not converge\n",
      "  warnings.warn(\n",
      "C:\\Users\\Utilisateur\\anaconda3\\lib\\site-packages\\sklearn\\linear_model\\_sag.py:352: ConvergenceWarning: The max_iter was reached which means the coef_ did not converge\n",
      "  warnings.warn(\n",
      "C:\\Users\\Utilisateur\\anaconda3\\lib\\site-packages\\sklearn\\linear_model\\_sag.py:352: ConvergenceWarning: The max_iter was reached which means the coef_ did not converge\n",
      "  warnings.warn(\n",
      "C:\\Users\\Utilisateur\\anaconda3\\lib\\site-packages\\sklearn\\linear_model\\_sag.py:352: ConvergenceWarning: The max_iter was reached which means the coef_ did not converge\n",
      "  warnings.warn(\n"
     ]
    },
    {
     "name": "stdout",
     "output_type": "stream",
     "text": [
      "[flaml.automl.automl: 02-26 19:53:15] {3508} INFO -  at 137.7s,\testimator lrl1's best error=0.4643,\tbest estimator lgbm's best error=0.0996\n",
      "[flaml.automl.automl: 02-26 19:53:15] {3323} INFO - iteration 288, current learner xgb_limitdepth\n"
     ]
    },
    {
     "name": "stderr",
     "output_type": "stream",
     "text": [
      "C:\\Users\\Utilisateur\\anaconda3\\lib\\site-packages\\sklearn\\linear_model\\_sag.py:352: ConvergenceWarning: The max_iter was reached which means the coef_ did not converge\n",
      "  warnings.warn(\n"
     ]
    },
    {
     "name": "stdout",
     "output_type": "stream",
     "text": [
      "[flaml.automl.automl: 02-26 19:53:15] {3508} INFO -  at 138.0s,\testimator xgb_limitdepth's best error=0.1084,\tbest estimator lgbm's best error=0.0996\n",
      "[flaml.automl.automl: 02-26 19:53:15] {3323} INFO - iteration 289, current learner lgbm\n",
      "[flaml.automl.automl: 02-26 19:53:16] {3508} INFO -  at 138.4s,\testimator lgbm's best error=0.0996,\tbest estimator lgbm's best error=0.0996\n",
      "[flaml.automl.automl: 02-26 19:53:16] {3323} INFO - iteration 290, current learner lgbm\n",
      "[flaml.automl.automl: 02-26 19:53:16] {3508} INFO -  at 138.7s,\testimator lgbm's best error=0.0996,\tbest estimator lgbm's best error=0.0996\n",
      "[flaml.automl.automl: 02-26 19:53:16] {3323} INFO - iteration 291, current learner lrl1\n"
     ]
    },
    {
     "name": "stderr",
     "output_type": "stream",
     "text": [
      "C:\\Users\\Utilisateur\\anaconda3\\lib\\site-packages\\sklearn\\linear_model\\_sag.py:352: ConvergenceWarning: The max_iter was reached which means the coef_ did not converge\n",
      "  warnings.warn(\n",
      "C:\\Users\\Utilisateur\\anaconda3\\lib\\site-packages\\sklearn\\linear_model\\_sag.py:352: ConvergenceWarning: The max_iter was reached which means the coef_ did not converge\n",
      "  warnings.warn(\n",
      "C:\\Users\\Utilisateur\\anaconda3\\lib\\site-packages\\sklearn\\linear_model\\_sag.py:352: ConvergenceWarning: The max_iter was reached which means the coef_ did not converge\n",
      "  warnings.warn(\n"
     ]
    },
    {
     "name": "stdout",
     "output_type": "stream",
     "text": [
      "[flaml.automl.automl: 02-26 19:53:17] {3508} INFO -  at 139.2s,\testimator lrl1's best error=0.4643,\tbest estimator lgbm's best error=0.0996\n",
      "[flaml.automl.automl: 02-26 19:53:17] {3323} INFO - iteration 292, current learner extra_tree\n"
     ]
    },
    {
     "name": "stderr",
     "output_type": "stream",
     "text": [
      "C:\\Users\\Utilisateur\\anaconda3\\lib\\site-packages\\sklearn\\linear_model\\_sag.py:352: ConvergenceWarning: The max_iter was reached which means the coef_ did not converge\n",
      "  warnings.warn(\n",
      "C:\\Users\\Utilisateur\\anaconda3\\lib\\site-packages\\sklearn\\linear_model\\_sag.py:352: ConvergenceWarning: The max_iter was reached which means the coef_ did not converge\n",
      "  warnings.warn(\n"
     ]
    },
    {
     "name": "stdout",
     "output_type": "stream",
     "text": [
      "[flaml.automl.automl: 02-26 19:53:17] {3508} INFO -  at 139.7s,\testimator extra_tree's best error=0.1386,\tbest estimator lgbm's best error=0.0996\n",
      "[flaml.automl.automl: 02-26 19:53:17] {3323} INFO - iteration 293, current learner lrl1\n"
     ]
    },
    {
     "name": "stderr",
     "output_type": "stream",
     "text": [
      "C:\\Users\\Utilisateur\\anaconda3\\lib\\site-packages\\sklearn\\linear_model\\_sag.py:352: ConvergenceWarning: The max_iter was reached which means the coef_ did not converge\n",
      "  warnings.warn(\n",
      "C:\\Users\\Utilisateur\\anaconda3\\lib\\site-packages\\sklearn\\linear_model\\_sag.py:352: ConvergenceWarning: The max_iter was reached which means the coef_ did not converge\n",
      "  warnings.warn(\n",
      "C:\\Users\\Utilisateur\\anaconda3\\lib\\site-packages\\sklearn\\linear_model\\_sag.py:352: ConvergenceWarning: The max_iter was reached which means the coef_ did not converge\n",
      "  warnings.warn(\n"
     ]
    },
    {
     "name": "stdout",
     "output_type": "stream",
     "text": [
      "[flaml.automl.automl: 02-26 19:53:18] {3508} INFO -  at 140.1s,\testimator lrl1's best error=0.4643,\tbest estimator lgbm's best error=0.0996\n",
      "[flaml.automl.automl: 02-26 19:53:18] {3323} INFO - iteration 294, current learner xgb_limitdepth\n"
     ]
    },
    {
     "name": "stderr",
     "output_type": "stream",
     "text": [
      "C:\\Users\\Utilisateur\\anaconda3\\lib\\site-packages\\sklearn\\linear_model\\_sag.py:352: ConvergenceWarning: The max_iter was reached which means the coef_ did not converge\n",
      "  warnings.warn(\n",
      "C:\\Users\\Utilisateur\\anaconda3\\lib\\site-packages\\sklearn\\linear_model\\_sag.py:352: ConvergenceWarning: The max_iter was reached which means the coef_ did not converge\n",
      "  warnings.warn(\n"
     ]
    },
    {
     "name": "stdout",
     "output_type": "stream",
     "text": [
      "[flaml.automl.automl: 02-26 19:53:18] {3508} INFO -  at 140.5s,\testimator xgb_limitdepth's best error=0.1084,\tbest estimator lgbm's best error=0.0996\n",
      "[flaml.automl.automl: 02-26 19:53:18] {3323} INFO - iteration 295, current learner xgb_limitdepth\n",
      "[flaml.automl.automl: 02-26 19:53:18] {3508} INFO -  at 141.0s,\testimator xgb_limitdepth's best error=0.1084,\tbest estimator lgbm's best error=0.0996\n",
      "[flaml.automl.automl: 02-26 19:53:18] {3323} INFO - iteration 296, current learner rf\n",
      "[flaml.automl.automl: 02-26 19:53:19] {3508} INFO -  at 141.5s,\testimator rf's best error=0.1297,\tbest estimator lgbm's best error=0.0996\n",
      "[flaml.automl.automl: 02-26 19:53:19] {3323} INFO - iteration 297, current learner lrl1\n"
     ]
    },
    {
     "name": "stderr",
     "output_type": "stream",
     "text": [
      "C:\\Users\\Utilisateur\\anaconda3\\lib\\site-packages\\sklearn\\linear_model\\_sag.py:352: ConvergenceWarning: The max_iter was reached which means the coef_ did not converge\n",
      "  warnings.warn(\n",
      "C:\\Users\\Utilisateur\\anaconda3\\lib\\site-packages\\sklearn\\linear_model\\_sag.py:352: ConvergenceWarning: The max_iter was reached which means the coef_ did not converge\n",
      "  warnings.warn(\n",
      "C:\\Users\\Utilisateur\\anaconda3\\lib\\site-packages\\sklearn\\linear_model\\_sag.py:352: ConvergenceWarning: The max_iter was reached which means the coef_ did not converge\n",
      "  warnings.warn(\n"
     ]
    },
    {
     "name": "stdout",
     "output_type": "stream",
     "text": [
      "[flaml.automl.automl: 02-26 19:53:19] {3508} INFO -  at 141.9s,\testimator lrl1's best error=0.4643,\tbest estimator lgbm's best error=0.0996\n",
      "[flaml.automl.automl: 02-26 19:53:19] {3323} INFO - iteration 298, current learner xgb_limitdepth\n"
     ]
    },
    {
     "name": "stderr",
     "output_type": "stream",
     "text": [
      "C:\\Users\\Utilisateur\\anaconda3\\lib\\site-packages\\sklearn\\linear_model\\_sag.py:352: ConvergenceWarning: The max_iter was reached which means the coef_ did not converge\n",
      "  warnings.warn(\n",
      "C:\\Users\\Utilisateur\\anaconda3\\lib\\site-packages\\sklearn\\linear_model\\_sag.py:352: ConvergenceWarning: The max_iter was reached which means the coef_ did not converge\n",
      "  warnings.warn(\n"
     ]
    },
    {
     "name": "stdout",
     "output_type": "stream",
     "text": [
      "[flaml.automl.automl: 02-26 19:53:20] {3508} INFO -  at 142.1s,\testimator xgb_limitdepth's best error=0.1084,\tbest estimator lgbm's best error=0.0996\n",
      "[flaml.automl.automl: 02-26 19:53:20] {3323} INFO - iteration 299, current learner lgbm\n",
      "[flaml.automl.automl: 02-26 19:53:20] {3508} INFO -  at 142.6s,\testimator lgbm's best error=0.0996,\tbest estimator lgbm's best error=0.0996\n",
      "[flaml.automl.automl: 02-26 19:53:20] {3323} INFO - iteration 300, current learner lgbm\n",
      "[flaml.automl.automl: 02-26 19:53:20] {3508} INFO -  at 143.0s,\testimator lgbm's best error=0.0996,\tbest estimator lgbm's best error=0.0996\n",
      "[flaml.automl.automl: 02-26 19:53:20] {3323} INFO - iteration 301, current learner lgbm\n",
      "[flaml.automl.automl: 02-26 19:53:21] {3508} INFO -  at 143.5s,\testimator lgbm's best error=0.0996,\tbest estimator lgbm's best error=0.0996\n",
      "[flaml.automl.automl: 02-26 19:53:21] {3323} INFO - iteration 302, current learner lgbm\n",
      "[flaml.automl.automl: 02-26 19:53:22] {3508} INFO -  at 144.5s,\testimator lgbm's best error=0.0996,\tbest estimator lgbm's best error=0.0996\n",
      "[flaml.automl.automl: 02-26 19:53:22] {3323} INFO - iteration 303, current learner lgbm\n",
      "[flaml.automl.automl: 02-26 19:53:22] {3508} INFO -  at 144.7s,\testimator lgbm's best error=0.0996,\tbest estimator lgbm's best error=0.0996\n",
      "[flaml.automl.automl: 02-26 19:53:22] {3323} INFO - iteration 304, current learner lrl1\n"
     ]
    },
    {
     "name": "stderr",
     "output_type": "stream",
     "text": [
      "C:\\Users\\Utilisateur\\anaconda3\\lib\\site-packages\\sklearn\\linear_model\\_sag.py:352: ConvergenceWarning: The max_iter was reached which means the coef_ did not converge\n",
      "  warnings.warn(\n",
      "C:\\Users\\Utilisateur\\anaconda3\\lib\\site-packages\\sklearn\\linear_model\\_sag.py:352: ConvergenceWarning: The max_iter was reached which means the coef_ did not converge\n",
      "  warnings.warn(\n",
      "C:\\Users\\Utilisateur\\anaconda3\\lib\\site-packages\\sklearn\\linear_model\\_sag.py:352: ConvergenceWarning: The max_iter was reached which means the coef_ did not converge\n",
      "  warnings.warn(\n"
     ]
    },
    {
     "name": "stdout",
     "output_type": "stream",
     "text": [
      "[flaml.automl.automl: 02-26 19:53:23] {3508} INFO -  at 145.2s,\testimator lrl1's best error=0.4643,\tbest estimator lgbm's best error=0.0996\n",
      "[flaml.automl.automl: 02-26 19:53:23] {3323} INFO - iteration 305, current learner lgbm\n"
     ]
    },
    {
     "name": "stderr",
     "output_type": "stream",
     "text": [
      "C:\\Users\\Utilisateur\\anaconda3\\lib\\site-packages\\sklearn\\linear_model\\_sag.py:352: ConvergenceWarning: The max_iter was reached which means the coef_ did not converge\n",
      "  warnings.warn(\n",
      "C:\\Users\\Utilisateur\\anaconda3\\lib\\site-packages\\sklearn\\linear_model\\_sag.py:352: ConvergenceWarning: The max_iter was reached which means the coef_ did not converge\n",
      "  warnings.warn(\n"
     ]
    },
    {
     "name": "stdout",
     "output_type": "stream",
     "text": [
      "[flaml.automl.automl: 02-26 19:53:23] {3508} INFO -  at 145.5s,\testimator lgbm's best error=0.0954,\tbest estimator lgbm's best error=0.0954\n",
      "[flaml.automl.automl: 02-26 19:53:23] {3323} INFO - iteration 306, current learner lrl1\n"
     ]
    },
    {
     "name": "stderr",
     "output_type": "stream",
     "text": [
      "C:\\Users\\Utilisateur\\anaconda3\\lib\\site-packages\\sklearn\\linear_model\\_sag.py:352: ConvergenceWarning: The max_iter was reached which means the coef_ did not converge\n",
      "  warnings.warn(\n",
      "C:\\Users\\Utilisateur\\anaconda3\\lib\\site-packages\\sklearn\\linear_model\\_sag.py:352: ConvergenceWarning: The max_iter was reached which means the coef_ did not converge\n",
      "  warnings.warn(\n",
      "C:\\Users\\Utilisateur\\anaconda3\\lib\\site-packages\\sklearn\\linear_model\\_sag.py:352: ConvergenceWarning: The max_iter was reached which means the coef_ did not converge\n",
      "  warnings.warn(\n"
     ]
    },
    {
     "name": "stdout",
     "output_type": "stream",
     "text": [
      "[flaml.automl.automl: 02-26 19:53:23] {3508} INFO -  at 146.0s,\testimator lrl1's best error=0.4643,\tbest estimator lgbm's best error=0.0954\n",
      "[flaml.automl.automl: 02-26 19:53:23] {3323} INFO - iteration 307, current learner lrl1\n"
     ]
    },
    {
     "name": "stderr",
     "output_type": "stream",
     "text": [
      "C:\\Users\\Utilisateur\\anaconda3\\lib\\site-packages\\sklearn\\linear_model\\_sag.py:352: ConvergenceWarning: The max_iter was reached which means the coef_ did not converge\n",
      "  warnings.warn(\n",
      "C:\\Users\\Utilisateur\\anaconda3\\lib\\site-packages\\sklearn\\linear_model\\_sag.py:352: ConvergenceWarning: The max_iter was reached which means the coef_ did not converge\n",
      "  warnings.warn(\n",
      "C:\\Users\\Utilisateur\\anaconda3\\lib\\site-packages\\sklearn\\linear_model\\_sag.py:352: ConvergenceWarning: The max_iter was reached which means the coef_ did not converge\n",
      "  warnings.warn(\n",
      "C:\\Users\\Utilisateur\\anaconda3\\lib\\site-packages\\sklearn\\linear_model\\_sag.py:352: ConvergenceWarning: The max_iter was reached which means the coef_ did not converge\n",
      "  warnings.warn(\n",
      "C:\\Users\\Utilisateur\\anaconda3\\lib\\site-packages\\sklearn\\linear_model\\_sag.py:352: ConvergenceWarning: The max_iter was reached which means the coef_ did not converge\n",
      "  warnings.warn(\n"
     ]
    },
    {
     "name": "stdout",
     "output_type": "stream",
     "text": [
      "[flaml.automl.automl: 02-26 19:53:24] {3508} INFO -  at 146.5s,\testimator lrl1's best error=0.4643,\tbest estimator lgbm's best error=0.0954\n",
      "[flaml.automl.automl: 02-26 19:53:24] {3323} INFO - iteration 308, current learner xgb_limitdepth\n"
     ]
    },
    {
     "name": "stderr",
     "output_type": "stream",
     "text": [
      "C:\\Users\\Utilisateur\\anaconda3\\lib\\site-packages\\sklearn\\linear_model\\_sag.py:352: ConvergenceWarning: The max_iter was reached which means the coef_ did not converge\n",
      "  warnings.warn(\n",
      "C:\\Users\\Utilisateur\\anaconda3\\lib\\site-packages\\sklearn\\linear_model\\_sag.py:352: ConvergenceWarning: The max_iter was reached which means the coef_ did not converge\n",
      "  warnings.warn(\n"
     ]
    },
    {
     "name": "stdout",
     "output_type": "stream",
     "text": [
      "[flaml.automl.automl: 02-26 19:53:24] {3508} INFO -  at 147.0s,\testimator xgb_limitdepth's best error=0.1084,\tbest estimator lgbm's best error=0.0954\n",
      "[flaml.automl.automl: 02-26 19:53:24] {3323} INFO - iteration 309, current learner lgbm\n",
      "[flaml.automl.automl: 02-26 19:53:25] {3508} INFO -  at 147.4s,\testimator lgbm's best error=0.0954,\tbest estimator lgbm's best error=0.0954\n",
      "[flaml.automl.automl: 02-26 19:53:25] {3323} INFO - iteration 310, current learner lgbm\n",
      "[flaml.automl.automl: 02-26 19:53:25] {3508} INFO -  at 147.7s,\testimator lgbm's best error=0.0954,\tbest estimator lgbm's best error=0.0954\n",
      "[flaml.automl.automl: 02-26 19:53:25] {3323} INFO - iteration 311, current learner lgbm\n",
      "[flaml.automl.automl: 02-26 19:53:26] {3508} INFO -  at 148.4s,\testimator lgbm's best error=0.0954,\tbest estimator lgbm's best error=0.0954\n",
      "[flaml.automl.automl: 02-26 19:53:26] {3323} INFO - iteration 312, current learner lgbm\n",
      "[flaml.automl.automl: 02-26 19:53:27] {3508} INFO -  at 149.6s,\testimator lgbm's best error=0.0954,\tbest estimator lgbm's best error=0.0954\n",
      "[flaml.automl.automl: 02-26 19:53:27] {3323} INFO - iteration 313, current learner lgbm\n",
      "[flaml.automl.automl: 02-26 19:53:27] {3508} INFO -  at 149.8s,\testimator lgbm's best error=0.0954,\tbest estimator lgbm's best error=0.0954\n",
      "[flaml.automl.automl: 02-26 19:53:27] {3323} INFO - iteration 314, current learner rf\n",
      "[flaml.automl.automl: 02-26 19:53:28] {3508} INFO -  at 150.9s,\testimator rf's best error=0.1297,\tbest estimator lgbm's best error=0.0954\n",
      "[flaml.automl.automl: 02-26 19:53:28] {3323} INFO - iteration 315, current learner lgbm\n",
      "[flaml.automl.automl: 02-26 19:53:29] {3508} INFO -  at 151.2s,\testimator lgbm's best error=0.0954,\tbest estimator lgbm's best error=0.0954\n",
      "[flaml.automl.automl: 02-26 19:53:29] {3323} INFO - iteration 316, current learner lrl1\n"
     ]
    },
    {
     "name": "stderr",
     "output_type": "stream",
     "text": [
      "C:\\Users\\Utilisateur\\anaconda3\\lib\\site-packages\\sklearn\\linear_model\\_sag.py:352: ConvergenceWarning: The max_iter was reached which means the coef_ did not converge\n",
      "  warnings.warn(\n",
      "C:\\Users\\Utilisateur\\anaconda3\\lib\\site-packages\\sklearn\\linear_model\\_sag.py:352: ConvergenceWarning: The max_iter was reached which means the coef_ did not converge\n",
      "  warnings.warn(\n",
      "C:\\Users\\Utilisateur\\anaconda3\\lib\\site-packages\\sklearn\\linear_model\\_sag.py:352: ConvergenceWarning: The max_iter was reached which means the coef_ did not converge\n",
      "  warnings.warn(\n"
     ]
    },
    {
     "name": "stdout",
     "output_type": "stream",
     "text": [
      "[flaml.automl.automl: 02-26 19:53:29] {3508} INFO -  at 151.7s,\testimator lrl1's best error=0.4643,\tbest estimator lgbm's best error=0.0954\n",
      "[flaml.automl.automl: 02-26 19:53:29] {3323} INFO - iteration 317, current learner lrl1\n"
     ]
    },
    {
     "name": "stderr",
     "output_type": "stream",
     "text": [
      "C:\\Users\\Utilisateur\\anaconda3\\lib\\site-packages\\sklearn\\linear_model\\_sag.py:352: ConvergenceWarning: The max_iter was reached which means the coef_ did not converge\n",
      "  warnings.warn(\n",
      "C:\\Users\\Utilisateur\\anaconda3\\lib\\site-packages\\sklearn\\linear_model\\_sag.py:352: ConvergenceWarning: The max_iter was reached which means the coef_ did not converge\n",
      "  warnings.warn(\n",
      "C:\\Users\\Utilisateur\\anaconda3\\lib\\site-packages\\sklearn\\linear_model\\_sag.py:352: ConvergenceWarning: The max_iter was reached which means the coef_ did not converge\n",
      "  warnings.warn(\n",
      "C:\\Users\\Utilisateur\\anaconda3\\lib\\site-packages\\sklearn\\linear_model\\_sag.py:352: ConvergenceWarning: The max_iter was reached which means the coef_ did not converge\n",
      "  warnings.warn(\n",
      "C:\\Users\\Utilisateur\\anaconda3\\lib\\site-packages\\sklearn\\linear_model\\_sag.py:352: ConvergenceWarning: The max_iter was reached which means the coef_ did not converge\n",
      "  warnings.warn(\n"
     ]
    },
    {
     "name": "stdout",
     "output_type": "stream",
     "text": [
      "[flaml.automl.automl: 02-26 19:53:30] {3508} INFO -  at 152.2s,\testimator lrl1's best error=0.4643,\tbest estimator lgbm's best error=0.0954\n",
      "[flaml.automl.automl: 02-26 19:53:30] {3323} INFO - iteration 318, current learner lgbm\n"
     ]
    },
    {
     "name": "stderr",
     "output_type": "stream",
     "text": [
      "C:\\Users\\Utilisateur\\anaconda3\\lib\\site-packages\\sklearn\\linear_model\\_sag.py:352: ConvergenceWarning: The max_iter was reached which means the coef_ did not converge\n",
      "  warnings.warn(\n",
      "C:\\Users\\Utilisateur\\anaconda3\\lib\\site-packages\\sklearn\\linear_model\\_sag.py:352: ConvergenceWarning: The max_iter was reached which means the coef_ did not converge\n",
      "  warnings.warn(\n"
     ]
    },
    {
     "name": "stdout",
     "output_type": "stream",
     "text": [
      "[flaml.automl.automl: 02-26 19:53:30] {3508} INFO -  at 152.8s,\testimator lgbm's best error=0.0954,\tbest estimator lgbm's best error=0.0954\n",
      "[flaml.automl.automl: 02-26 19:53:30] {3323} INFO - iteration 319, current learner lgbm\n",
      "[flaml.automl.automl: 02-26 19:53:31] {3508} INFO -  at 153.6s,\testimator lgbm's best error=0.0954,\tbest estimator lgbm's best error=0.0954\n",
      "[flaml.automl.automl: 02-26 19:53:31] {3323} INFO - iteration 320, current learner lgbm\n",
      "[flaml.automl.automl: 02-26 19:53:31] {3508} INFO -  at 153.9s,\testimator lgbm's best error=0.0954,\tbest estimator lgbm's best error=0.0954\n",
      "[flaml.automl.automl: 02-26 19:53:31] {3323} INFO - iteration 321, current learner lgbm\n",
      "[flaml.automl.automl: 02-26 19:53:32] {3508} INFO -  at 154.2s,\testimator lgbm's best error=0.0954,\tbest estimator lgbm's best error=0.0954\n",
      "[flaml.automl.automl: 02-26 19:53:32] {3323} INFO - iteration 322, current learner xgb_limitdepth\n",
      "[flaml.automl.automl: 02-26 19:53:32] {3508} INFO -  at 154.4s,\testimator xgb_limitdepth's best error=0.1084,\tbest estimator lgbm's best error=0.0954\n",
      "[flaml.automl.automl: 02-26 19:53:32] {3323} INFO - iteration 323, current learner lgbm\n",
      "[flaml.automl.automl: 02-26 19:53:33] {3508} INFO -  at 155.5s,\testimator lgbm's best error=0.0954,\tbest estimator lgbm's best error=0.0954\n",
      "[flaml.automl.automl: 02-26 19:53:33] {3323} INFO - iteration 324, current learner lgbm\n",
      "[flaml.automl.automl: 02-26 19:53:33] {3508} INFO -  at 155.7s,\testimator lgbm's best error=0.0954,\tbest estimator lgbm's best error=0.0954\n",
      "[flaml.automl.automl: 02-26 19:53:33] {3323} INFO - iteration 325, current learner lrl1\n"
     ]
    },
    {
     "name": "stderr",
     "output_type": "stream",
     "text": [
      "C:\\Users\\Utilisateur\\anaconda3\\lib\\site-packages\\sklearn\\linear_model\\_sag.py:352: ConvergenceWarning: The max_iter was reached which means the coef_ did not converge\n",
      "  warnings.warn(\n",
      "C:\\Users\\Utilisateur\\anaconda3\\lib\\site-packages\\sklearn\\linear_model\\_sag.py:352: ConvergenceWarning: The max_iter was reached which means the coef_ did not converge\n",
      "  warnings.warn(\n",
      "C:\\Users\\Utilisateur\\anaconda3\\lib\\site-packages\\sklearn\\linear_model\\_sag.py:352: ConvergenceWarning: The max_iter was reached which means the coef_ did not converge\n",
      "  warnings.warn(\n"
     ]
    },
    {
     "name": "stdout",
     "output_type": "stream",
     "text": [
      "[flaml.automl.automl: 02-26 19:53:34] {3508} INFO -  at 156.2s,\testimator lrl1's best error=0.4643,\tbest estimator lgbm's best error=0.0954\n",
      "[flaml.automl.automl: 02-26 19:53:34] {3323} INFO - iteration 326, current learner lgbm\n"
     ]
    },
    {
     "name": "stderr",
     "output_type": "stream",
     "text": [
      "C:\\Users\\Utilisateur\\anaconda3\\lib\\site-packages\\sklearn\\linear_model\\_sag.py:352: ConvergenceWarning: The max_iter was reached which means the coef_ did not converge\n",
      "  warnings.warn(\n",
      "C:\\Users\\Utilisateur\\anaconda3\\lib\\site-packages\\sklearn\\linear_model\\_sag.py:352: ConvergenceWarning: The max_iter was reached which means the coef_ did not converge\n",
      "  warnings.warn(\n"
     ]
    },
    {
     "name": "stdout",
     "output_type": "stream",
     "text": [
      "[flaml.automl.automl: 02-26 19:53:35] {3508} INFO -  at 157.5s,\testimator lgbm's best error=0.0954,\tbest estimator lgbm's best error=0.0954\n",
      "[flaml.automl.automl: 02-26 19:53:35] {3323} INFO - iteration 327, current learner extra_tree\n",
      "[flaml.automl.automl: 02-26 19:53:36] {3508} INFO -  at 158.4s,\testimator extra_tree's best error=0.1386,\tbest estimator lgbm's best error=0.0954\n",
      "[flaml.automl.automl: 02-26 19:53:36] {3323} INFO - iteration 328, current learner lgbm\n",
      "[flaml.automl.automl: 02-26 19:53:36] {3508} INFO -  at 158.7s,\testimator lgbm's best error=0.0954,\tbest estimator lgbm's best error=0.0954\n",
      "[flaml.automl.automl: 02-26 19:53:36] {3323} INFO - iteration 329, current learner lgbm\n",
      "[flaml.automl.automl: 02-26 19:53:37] {3508} INFO -  at 159.7s,\testimator lgbm's best error=0.0954,\tbest estimator lgbm's best error=0.0954\n",
      "[flaml.automl.automl: 02-26 19:53:37] {3323} INFO - iteration 330, current learner lgbm\n",
      "[flaml.automl.automl: 02-26 19:53:37] {3508} INFO -  at 159.9s,\testimator lgbm's best error=0.0954,\tbest estimator lgbm's best error=0.0954\n",
      "[flaml.automl.automl: 02-26 19:53:37] {3323} INFO - iteration 331, current learner lgbm\n",
      "[flaml.automl.automl: 02-26 19:53:39] {3508} INFO -  at 161.1s,\testimator lgbm's best error=0.0954,\tbest estimator lgbm's best error=0.0954\n",
      "[flaml.automl.automl: 02-26 19:53:39] {3323} INFO - iteration 332, current learner lgbm\n",
      "[flaml.automl.automl: 02-26 19:53:39] {3508} INFO -  at 161.5s,\testimator lgbm's best error=0.0954,\tbest estimator lgbm's best error=0.0954\n",
      "[flaml.automl.automl: 02-26 19:53:39] {3323} INFO - iteration 333, current learner extra_tree\n",
      "[flaml.automl.automl: 02-26 19:53:39] {3508} INFO -  at 161.9s,\testimator extra_tree's best error=0.1386,\tbest estimator lgbm's best error=0.0954\n",
      "[flaml.automl.automl: 02-26 19:53:39] {3323} INFO - iteration 334, current learner lgbm\n",
      "[flaml.automl.automl: 02-26 19:53:40] {3508} INFO -  at 162.2s,\testimator lgbm's best error=0.0954,\tbest estimator lgbm's best error=0.0954\n",
      "[flaml.automl.automl: 02-26 19:53:40] {3323} INFO - iteration 335, current learner xgb_limitdepth\n",
      "[flaml.automl.automl: 02-26 19:53:40] {3508} INFO -  at 162.7s,\testimator xgb_limitdepth's best error=0.1084,\tbest estimator lgbm's best error=0.0954\n",
      "[flaml.automl.automl: 02-26 19:53:40] {3323} INFO - iteration 336, current learner lgbm\n",
      "[flaml.automl.automl: 02-26 19:53:40] {3508} INFO -  at 162.9s,\testimator lgbm's best error=0.0954,\tbest estimator lgbm's best error=0.0954\n",
      "[flaml.automl.automl: 02-26 19:53:40] {3323} INFO - iteration 337, current learner xgb_limitdepth\n",
      "[flaml.automl.automl: 02-26 19:53:41] {3508} INFO -  at 163.2s,\testimator xgb_limitdepth's best error=0.1084,\tbest estimator lgbm's best error=0.0954\n",
      "[flaml.automl.automl: 02-26 19:53:41] {3323} INFO - iteration 338, current learner lgbm\n",
      "[flaml.automl.automl: 02-26 19:53:41] {3508} INFO -  at 164.0s,\testimator lgbm's best error=0.0954,\tbest estimator lgbm's best error=0.0954\n",
      "[flaml.automl.automl: 02-26 19:53:41] {3323} INFO - iteration 339, current learner lgbm\n",
      "[flaml.automl.automl: 02-26 19:53:42] {3508} INFO -  at 164.6s,\testimator lgbm's best error=0.0954,\tbest estimator lgbm's best error=0.0954\n",
      "[flaml.automl.automl: 02-26 19:53:42] {3323} INFO - iteration 340, current learner lrl1\n"
     ]
    },
    {
     "name": "stderr",
     "output_type": "stream",
     "text": [
      "C:\\Users\\Utilisateur\\anaconda3\\lib\\site-packages\\sklearn\\linear_model\\_sag.py:352: ConvergenceWarning: The max_iter was reached which means the coef_ did not converge\n",
      "  warnings.warn(\n",
      "C:\\Users\\Utilisateur\\anaconda3\\lib\\site-packages\\sklearn\\linear_model\\_sag.py:352: ConvergenceWarning: The max_iter was reached which means the coef_ did not converge\n",
      "  warnings.warn(\n",
      "C:\\Users\\Utilisateur\\anaconda3\\lib\\site-packages\\sklearn\\linear_model\\_sag.py:352: ConvergenceWarning: The max_iter was reached which means the coef_ did not converge\n",
      "  warnings.warn(\n"
     ]
    },
    {
     "name": "stdout",
     "output_type": "stream",
     "text": [
      "[flaml.automl.automl: 02-26 19:53:43] {3508} INFO -  at 165.1s,\testimator lrl1's best error=0.4643,\tbest estimator lgbm's best error=0.0954\n",
      "[flaml.automl.automl: 02-26 19:53:43] {3323} INFO - iteration 341, current learner lgbm\n"
     ]
    },
    {
     "name": "stderr",
     "output_type": "stream",
     "text": [
      "C:\\Users\\Utilisateur\\anaconda3\\lib\\site-packages\\sklearn\\linear_model\\_sag.py:352: ConvergenceWarning: The max_iter was reached which means the coef_ did not converge\n",
      "  warnings.warn(\n",
      "C:\\Users\\Utilisateur\\anaconda3\\lib\\site-packages\\sklearn\\linear_model\\_sag.py:352: ConvergenceWarning: The max_iter was reached which means the coef_ did not converge\n",
      "  warnings.warn(\n"
     ]
    },
    {
     "name": "stdout",
     "output_type": "stream",
     "text": [
      "[flaml.automl.automl: 02-26 19:53:43] {3508} INFO -  at 165.5s,\testimator lgbm's best error=0.0954,\tbest estimator lgbm's best error=0.0954\n",
      "[flaml.automl.automl: 02-26 19:53:43] {3323} INFO - iteration 342, current learner lgbm\n",
      "[flaml.automl.automl: 02-26 19:53:43] {3508} INFO -  at 165.7s,\testimator lgbm's best error=0.0954,\tbest estimator lgbm's best error=0.0954\n",
      "[flaml.automl.automl: 02-26 19:53:43] {3323} INFO - iteration 343, current learner lrl1\n"
     ]
    },
    {
     "name": "stderr",
     "output_type": "stream",
     "text": [
      "C:\\Users\\Utilisateur\\anaconda3\\lib\\site-packages\\sklearn\\linear_model\\_sag.py:352: ConvergenceWarning: The max_iter was reached which means the coef_ did not converge\n",
      "  warnings.warn(\n",
      "C:\\Users\\Utilisateur\\anaconda3\\lib\\site-packages\\sklearn\\linear_model\\_sag.py:352: ConvergenceWarning: The max_iter was reached which means the coef_ did not converge\n",
      "  warnings.warn(\n",
      "C:\\Users\\Utilisateur\\anaconda3\\lib\\site-packages\\sklearn\\linear_model\\_sag.py:352: ConvergenceWarning: The max_iter was reached which means the coef_ did not converge\n",
      "  warnings.warn(\n"
     ]
    },
    {
     "name": "stdout",
     "output_type": "stream",
     "text": [
      "[flaml.automl.automl: 02-26 19:53:44] {3508} INFO -  at 166.2s,\testimator lrl1's best error=0.4643,\tbest estimator lgbm's best error=0.0954\n",
      "[flaml.automl.automl: 02-26 19:53:44] {3323} INFO - iteration 344, current learner lrl1\n"
     ]
    },
    {
     "name": "stderr",
     "output_type": "stream",
     "text": [
      "C:\\Users\\Utilisateur\\anaconda3\\lib\\site-packages\\sklearn\\linear_model\\_sag.py:352: ConvergenceWarning: The max_iter was reached which means the coef_ did not converge\n",
      "  warnings.warn(\n",
      "C:\\Users\\Utilisateur\\anaconda3\\lib\\site-packages\\sklearn\\linear_model\\_sag.py:352: ConvergenceWarning: The max_iter was reached which means the coef_ did not converge\n",
      "  warnings.warn(\n",
      "C:\\Users\\Utilisateur\\anaconda3\\lib\\site-packages\\sklearn\\linear_model\\_sag.py:352: ConvergenceWarning: The max_iter was reached which means the coef_ did not converge\n",
      "  warnings.warn(\n",
      "C:\\Users\\Utilisateur\\anaconda3\\lib\\site-packages\\sklearn\\linear_model\\_sag.py:352: ConvergenceWarning: The max_iter was reached which means the coef_ did not converge\n",
      "  warnings.warn(\n",
      "C:\\Users\\Utilisateur\\anaconda3\\lib\\site-packages\\sklearn\\linear_model\\_sag.py:352: ConvergenceWarning: The max_iter was reached which means the coef_ did not converge\n",
      "  warnings.warn(\n"
     ]
    },
    {
     "name": "stdout",
     "output_type": "stream",
     "text": [
      "[flaml.automl.automl: 02-26 19:53:44] {3508} INFO -  at 166.6s,\testimator lrl1's best error=0.4643,\tbest estimator lgbm's best error=0.0954\n",
      "[flaml.automl.automl: 02-26 19:53:44] {3323} INFO - iteration 345, current learner lgbm\n"
     ]
    },
    {
     "name": "stderr",
     "output_type": "stream",
     "text": [
      "C:\\Users\\Utilisateur\\anaconda3\\lib\\site-packages\\sklearn\\linear_model\\_sag.py:352: ConvergenceWarning: The max_iter was reached which means the coef_ did not converge\n",
      "  warnings.warn(\n",
      "C:\\Users\\Utilisateur\\anaconda3\\lib\\site-packages\\sklearn\\linear_model\\_sag.py:352: ConvergenceWarning: The max_iter was reached which means the coef_ did not converge\n",
      "  warnings.warn(\n"
     ]
    },
    {
     "name": "stdout",
     "output_type": "stream",
     "text": [
      "[flaml.automl.automl: 02-26 19:53:45] {3508} INFO -  at 167.5s,\testimator lgbm's best error=0.0954,\tbest estimator lgbm's best error=0.0954\n",
      "[flaml.automl.automl: 02-26 19:53:45] {3323} INFO - iteration 346, current learner lrl1\n"
     ]
    },
    {
     "name": "stderr",
     "output_type": "stream",
     "text": [
      "C:\\Users\\Utilisateur\\anaconda3\\lib\\site-packages\\sklearn\\linear_model\\_sag.py:352: ConvergenceWarning: The max_iter was reached which means the coef_ did not converge\n",
      "  warnings.warn(\n",
      "C:\\Users\\Utilisateur\\anaconda3\\lib\\site-packages\\sklearn\\linear_model\\_sag.py:352: ConvergenceWarning: The max_iter was reached which means the coef_ did not converge\n",
      "  warnings.warn(\n",
      "C:\\Users\\Utilisateur\\anaconda3\\lib\\site-packages\\sklearn\\linear_model\\_sag.py:352: ConvergenceWarning: The max_iter was reached which means the coef_ did not converge\n",
      "  warnings.warn(\n"
     ]
    },
    {
     "name": "stdout",
     "output_type": "stream",
     "text": [
      "[flaml.automl.automl: 02-26 19:53:45] {3508} INFO -  at 168.0s,\testimator lrl1's best error=0.4643,\tbest estimator lgbm's best error=0.0954\n",
      "[flaml.automl.automl: 02-26 19:53:45] {3323} INFO - iteration 347, current learner lrl1\n"
     ]
    },
    {
     "name": "stderr",
     "output_type": "stream",
     "text": [
      "C:\\Users\\Utilisateur\\anaconda3\\lib\\site-packages\\sklearn\\linear_model\\_sag.py:352: ConvergenceWarning: The max_iter was reached which means the coef_ did not converge\n",
      "  warnings.warn(\n",
      "C:\\Users\\Utilisateur\\anaconda3\\lib\\site-packages\\sklearn\\linear_model\\_sag.py:352: ConvergenceWarning: The max_iter was reached which means the coef_ did not converge\n",
      "  warnings.warn(\n",
      "C:\\Users\\Utilisateur\\anaconda3\\lib\\site-packages\\sklearn\\linear_model\\_sag.py:352: ConvergenceWarning: The max_iter was reached which means the coef_ did not converge\n",
      "  warnings.warn(\n",
      "C:\\Users\\Utilisateur\\anaconda3\\lib\\site-packages\\sklearn\\linear_model\\_sag.py:352: ConvergenceWarning: The max_iter was reached which means the coef_ did not converge\n",
      "  warnings.warn(\n",
      "C:\\Users\\Utilisateur\\anaconda3\\lib\\site-packages\\sklearn\\linear_model\\_sag.py:352: ConvergenceWarning: The max_iter was reached which means the coef_ did not converge\n",
      "  warnings.warn(\n",
      "C:\\Users\\Utilisateur\\anaconda3\\lib\\site-packages\\sklearn\\linear_model\\_sag.py:352: ConvergenceWarning: The max_iter was reached which means the coef_ did not converge\n",
      "  warnings.warn(\n"
     ]
    },
    {
     "name": "stdout",
     "output_type": "stream",
     "text": [
      "[flaml.automl.automl: 02-26 19:53:46] {3508} INFO -  at 168.4s,\testimator lrl1's best error=0.4643,\tbest estimator lgbm's best error=0.0954\n",
      "[flaml.automl.automl: 02-26 19:53:46] {3323} INFO - iteration 348, current learner lrl1\n"
     ]
    },
    {
     "name": "stderr",
     "output_type": "stream",
     "text": [
      "C:\\Users\\Utilisateur\\anaconda3\\lib\\site-packages\\sklearn\\linear_model\\_sag.py:352: ConvergenceWarning: The max_iter was reached which means the coef_ did not converge\n",
      "  warnings.warn(\n",
      "C:\\Users\\Utilisateur\\anaconda3\\lib\\site-packages\\sklearn\\linear_model\\_sag.py:352: ConvergenceWarning: The max_iter was reached which means the coef_ did not converge\n",
      "  warnings.warn(\n",
      "C:\\Users\\Utilisateur\\anaconda3\\lib\\site-packages\\sklearn\\linear_model\\_sag.py:352: ConvergenceWarning: The max_iter was reached which means the coef_ did not converge\n",
      "  warnings.warn(\n",
      "C:\\Users\\Utilisateur\\anaconda3\\lib\\site-packages\\sklearn\\linear_model\\_sag.py:352: ConvergenceWarning: The max_iter was reached which means the coef_ did not converge\n",
      "  warnings.warn(\n",
      "C:\\Users\\Utilisateur\\anaconda3\\lib\\site-packages\\sklearn\\linear_model\\_sag.py:352: ConvergenceWarning: The max_iter was reached which means the coef_ did not converge\n",
      "  warnings.warn(\n"
     ]
    },
    {
     "name": "stdout",
     "output_type": "stream",
     "text": [
      "[flaml.automl.automl: 02-26 19:53:46] {3508} INFO -  at 168.8s,\testimator lrl1's best error=0.4643,\tbest estimator lgbm's best error=0.0954\n",
      "[flaml.automl.automl: 02-26 19:53:46] {3323} INFO - iteration 349, current learner lrl1\n"
     ]
    },
    {
     "name": "stderr",
     "output_type": "stream",
     "text": [
      "C:\\Users\\Utilisateur\\anaconda3\\lib\\site-packages\\sklearn\\linear_model\\_sag.py:352: ConvergenceWarning: The max_iter was reached which means the coef_ did not converge\n",
      "  warnings.warn(\n",
      "C:\\Users\\Utilisateur\\anaconda3\\lib\\site-packages\\sklearn\\linear_model\\_sag.py:352: ConvergenceWarning: The max_iter was reached which means the coef_ did not converge\n",
      "  warnings.warn(\n",
      "C:\\Users\\Utilisateur\\anaconda3\\lib\\site-packages\\sklearn\\linear_model\\_sag.py:352: ConvergenceWarning: The max_iter was reached which means the coef_ did not converge\n",
      "  warnings.warn(\n",
      "C:\\Users\\Utilisateur\\anaconda3\\lib\\site-packages\\sklearn\\linear_model\\_sag.py:352: ConvergenceWarning: The max_iter was reached which means the coef_ did not converge\n",
      "  warnings.warn(\n",
      "C:\\Users\\Utilisateur\\anaconda3\\lib\\site-packages\\sklearn\\linear_model\\_sag.py:352: ConvergenceWarning: The max_iter was reached which means the coef_ did not converge\n",
      "  warnings.warn(\n",
      "C:\\Users\\Utilisateur\\anaconda3\\lib\\site-packages\\sklearn\\linear_model\\_sag.py:352: ConvergenceWarning: The max_iter was reached which means the coef_ did not converge\n",
      "  warnings.warn(\n"
     ]
    },
    {
     "name": "stdout",
     "output_type": "stream",
     "text": [
      "[flaml.automl.automl: 02-26 19:53:47] {3508} INFO -  at 169.3s,\testimator lrl1's best error=0.4643,\tbest estimator lgbm's best error=0.0954\n",
      "[flaml.automl.automl: 02-26 19:53:47] {3323} INFO - iteration 350, current learner lgbm\n",
      "[flaml.automl.automl: 02-26 19:53:48] {3508} INFO -  at 170.6s,\testimator lgbm's best error=0.0954,\tbest estimator lgbm's best error=0.0954\n",
      "[flaml.automl.automl: 02-26 19:53:48] {3323} INFO - iteration 351, current learner xgb_limitdepth\n",
      "[flaml.automl.automl: 02-26 19:53:48] {3508} INFO -  at 170.9s,\testimator xgb_limitdepth's best error=0.1084,\tbest estimator lgbm's best error=0.0954\n",
      "[flaml.automl.automl: 02-26 19:53:48] {3323} INFO - iteration 352, current learner xgb_limitdepth\n",
      "[flaml.automl.automl: 02-26 19:53:49] {3508} INFO -  at 171.2s,\testimator xgb_limitdepth's best error=0.1084,\tbest estimator lgbm's best error=0.0954\n",
      "[flaml.automl.automl: 02-26 19:53:49] {3323} INFO - iteration 353, current learner lgbm\n",
      "[flaml.automl.automl: 02-26 19:53:49] {3508} INFO -  at 171.4s,\testimator lgbm's best error=0.0954,\tbest estimator lgbm's best error=0.0954\n",
      "[flaml.automl.automl: 02-26 19:53:49] {3323} INFO - iteration 354, current learner lrl1\n"
     ]
    },
    {
     "name": "stderr",
     "output_type": "stream",
     "text": [
      "C:\\Users\\Utilisateur\\anaconda3\\lib\\site-packages\\sklearn\\linear_model\\_sag.py:352: ConvergenceWarning: The max_iter was reached which means the coef_ did not converge\n",
      "  warnings.warn(\n",
      "C:\\Users\\Utilisateur\\anaconda3\\lib\\site-packages\\sklearn\\linear_model\\_sag.py:352: ConvergenceWarning: The max_iter was reached which means the coef_ did not converge\n",
      "  warnings.warn(\n",
      "C:\\Users\\Utilisateur\\anaconda3\\lib\\site-packages\\sklearn\\linear_model\\_sag.py:352: ConvergenceWarning: The max_iter was reached which means the coef_ did not converge\n",
      "  warnings.warn(\n"
     ]
    },
    {
     "name": "stdout",
     "output_type": "stream",
     "text": [
      "[flaml.automl.automl: 02-26 19:53:49] {3508} INFO -  at 171.9s,\testimator lrl1's best error=0.4643,\tbest estimator lgbm's best error=0.0954\n",
      "[flaml.automl.automl: 02-26 19:53:49] {3323} INFO - iteration 355, current learner lgbm\n"
     ]
    },
    {
     "name": "stderr",
     "output_type": "stream",
     "text": [
      "C:\\Users\\Utilisateur\\anaconda3\\lib\\site-packages\\sklearn\\linear_model\\_sag.py:352: ConvergenceWarning: The max_iter was reached which means the coef_ did not converge\n",
      "  warnings.warn(\n",
      "C:\\Users\\Utilisateur\\anaconda3\\lib\\site-packages\\sklearn\\linear_model\\_sag.py:352: ConvergenceWarning: The max_iter was reached which means the coef_ did not converge\n",
      "  warnings.warn(\n"
     ]
    },
    {
     "name": "stdout",
     "output_type": "stream",
     "text": [
      "[flaml.automl.automl: 02-26 19:53:50] {3508} INFO -  at 172.1s,\testimator lgbm's best error=0.0954,\tbest estimator lgbm's best error=0.0954\n",
      "[flaml.automl.automl: 02-26 19:53:50] {3323} INFO - iteration 356, current learner xgb_limitdepth\n",
      "[flaml.automl.automl: 02-26 19:53:50] {3508} INFO -  at 172.6s,\testimator xgb_limitdepth's best error=0.1084,\tbest estimator lgbm's best error=0.0954\n",
      "[flaml.automl.automl: 02-26 19:53:50] {3323} INFO - iteration 357, current learner xgb_limitdepth\n",
      "[flaml.automl.automl: 02-26 19:53:50] {3508} INFO -  at 172.8s,\testimator xgb_limitdepth's best error=0.1084,\tbest estimator lgbm's best error=0.0954\n",
      "[flaml.automl.automl: 02-26 19:53:50] {3323} INFO - iteration 358, current learner lgbm\n",
      "[flaml.automl.automl: 02-26 19:53:51] {3508} INFO -  at 174.0s,\testimator lgbm's best error=0.0954,\tbest estimator lgbm's best error=0.0954\n",
      "[flaml.automl.automl: 02-26 19:53:51] {3323} INFO - iteration 359, current learner lgbm\n",
      "[flaml.automl.automl: 02-26 19:53:52] {3508} INFO -  at 174.4s,\testimator lgbm's best error=0.0954,\tbest estimator lgbm's best error=0.0954\n",
      "[flaml.automl.automl: 02-26 19:53:52] {3323} INFO - iteration 360, current learner rf\n",
      "[flaml.automl.automl: 02-26 19:53:53] {3508} INFO -  at 175.2s,\testimator rf's best error=0.1297,\tbest estimator lgbm's best error=0.0954\n",
      "[flaml.automl.automl: 02-26 19:53:53] {3323} INFO - iteration 361, current learner lgbm\n",
      "[flaml.automl.automl: 02-26 19:53:53] {3508} INFO -  at 175.6s,\testimator lgbm's best error=0.0954,\tbest estimator lgbm's best error=0.0954\n",
      "[flaml.automl.automl: 02-26 19:53:53] {3323} INFO - iteration 362, current learner lrl1\n"
     ]
    },
    {
     "name": "stderr",
     "output_type": "stream",
     "text": [
      "C:\\Users\\Utilisateur\\anaconda3\\lib\\site-packages\\sklearn\\linear_model\\_sag.py:352: ConvergenceWarning: The max_iter was reached which means the coef_ did not converge\n",
      "  warnings.warn(\n",
      "C:\\Users\\Utilisateur\\anaconda3\\lib\\site-packages\\sklearn\\linear_model\\_sag.py:352: ConvergenceWarning: The max_iter was reached which means the coef_ did not converge\n",
      "  warnings.warn(\n",
      "C:\\Users\\Utilisateur\\anaconda3\\lib\\site-packages\\sklearn\\linear_model\\_sag.py:352: ConvergenceWarning: The max_iter was reached which means the coef_ did not converge\n",
      "  warnings.warn(\n"
     ]
    },
    {
     "name": "stdout",
     "output_type": "stream",
     "text": [
      "[flaml.automl.automl: 02-26 19:53:53] {3508} INFO -  at 176.1s,\testimator lrl1's best error=0.4643,\tbest estimator lgbm's best error=0.0954\n",
      "[flaml.automl.automl: 02-26 19:53:53] {3323} INFO - iteration 363, current learner lgbm\n"
     ]
    },
    {
     "name": "stderr",
     "output_type": "stream",
     "text": [
      "C:\\Users\\Utilisateur\\anaconda3\\lib\\site-packages\\sklearn\\linear_model\\_sag.py:352: ConvergenceWarning: The max_iter was reached which means the coef_ did not converge\n",
      "  warnings.warn(\n",
      "C:\\Users\\Utilisateur\\anaconda3\\lib\\site-packages\\sklearn\\linear_model\\_sag.py:352: ConvergenceWarning: The max_iter was reached which means the coef_ did not converge\n",
      "  warnings.warn(\n"
     ]
    },
    {
     "name": "stdout",
     "output_type": "stream",
     "text": [
      "[flaml.automl.automl: 02-26 19:53:54] {3508} INFO -  at 176.6s,\testimator lgbm's best error=0.0954,\tbest estimator lgbm's best error=0.0954\n",
      "[flaml.automl.automl: 02-26 19:53:54] {3323} INFO - iteration 364, current learner lrl1\n"
     ]
    },
    {
     "name": "stderr",
     "output_type": "stream",
     "text": [
      "C:\\Users\\Utilisateur\\anaconda3\\lib\\site-packages\\sklearn\\linear_model\\_sag.py:352: ConvergenceWarning: The max_iter was reached which means the coef_ did not converge\n",
      "  warnings.warn(\n",
      "C:\\Users\\Utilisateur\\anaconda3\\lib\\site-packages\\sklearn\\linear_model\\_sag.py:352: ConvergenceWarning: The max_iter was reached which means the coef_ did not converge\n",
      "  warnings.warn(\n",
      "C:\\Users\\Utilisateur\\anaconda3\\lib\\site-packages\\sklearn\\linear_model\\_sag.py:352: ConvergenceWarning: The max_iter was reached which means the coef_ did not converge\n",
      "  warnings.warn(\n"
     ]
    },
    {
     "name": "stdout",
     "output_type": "stream",
     "text": [
      "[flaml.automl.automl: 02-26 19:53:54] {3508} INFO -  at 177.0s,\testimator lrl1's best error=0.4643,\tbest estimator lgbm's best error=0.0954\n",
      "[flaml.automl.automl: 02-26 19:53:54] {3323} INFO - iteration 365, current learner lrl1\n"
     ]
    },
    {
     "name": "stderr",
     "output_type": "stream",
     "text": [
      "C:\\Users\\Utilisateur\\anaconda3\\lib\\site-packages\\sklearn\\linear_model\\_sag.py:352: ConvergenceWarning: The max_iter was reached which means the coef_ did not converge\n",
      "  warnings.warn(\n",
      "C:\\Users\\Utilisateur\\anaconda3\\lib\\site-packages\\sklearn\\linear_model\\_sag.py:352: ConvergenceWarning: The max_iter was reached which means the coef_ did not converge\n",
      "  warnings.warn(\n",
      "C:\\Users\\Utilisateur\\anaconda3\\lib\\site-packages\\sklearn\\linear_model\\_sag.py:352: ConvergenceWarning: The max_iter was reached which means the coef_ did not converge\n",
      "  warnings.warn(\n",
      "C:\\Users\\Utilisateur\\anaconda3\\lib\\site-packages\\sklearn\\linear_model\\_sag.py:352: ConvergenceWarning: The max_iter was reached which means the coef_ did not converge\n",
      "  warnings.warn(\n",
      "C:\\Users\\Utilisateur\\anaconda3\\lib\\site-packages\\sklearn\\linear_model\\_sag.py:352: ConvergenceWarning: The max_iter was reached which means the coef_ did not converge\n",
      "  warnings.warn(\n",
      "C:\\Users\\Utilisateur\\anaconda3\\lib\\site-packages\\sklearn\\linear_model\\_sag.py:352: ConvergenceWarning: The max_iter was reached which means the coef_ did not converge\n",
      "  warnings.warn(\n"
     ]
    },
    {
     "name": "stdout",
     "output_type": "stream",
     "text": [
      "[flaml.automl.automl: 02-26 19:53:55] {3508} INFO -  at 177.5s,\testimator lrl1's best error=0.4643,\tbest estimator lgbm's best error=0.0954\n",
      "[flaml.automl.automl: 02-26 19:53:55] {3323} INFO - iteration 366, current learner lgbm\n"
     ]
    },
    {
     "name": "stderr",
     "output_type": "stream",
     "text": [
      "C:\\Users\\Utilisateur\\anaconda3\\lib\\site-packages\\sklearn\\linear_model\\_sag.py:352: ConvergenceWarning: The max_iter was reached which means the coef_ did not converge\n",
      "  warnings.warn(\n"
     ]
    },
    {
     "name": "stdout",
     "output_type": "stream",
     "text": [
      "[flaml.automl.automl: 02-26 19:53:55] {3508} INFO -  at 177.9s,\testimator lgbm's best error=0.0954,\tbest estimator lgbm's best error=0.0954\n",
      "[flaml.automl.automl: 02-26 19:53:55] {3323} INFO - iteration 367, current learner lgbm\n",
      "[flaml.automl.automl: 02-26 19:53:56] {3508} INFO -  at 178.3s,\testimator lgbm's best error=0.0954,\tbest estimator lgbm's best error=0.0954\n",
      "[flaml.automl.automl: 02-26 19:53:56] {3323} INFO - iteration 368, current learner lrl1\n"
     ]
    },
    {
     "name": "stderr",
     "output_type": "stream",
     "text": [
      "C:\\Users\\Utilisateur\\anaconda3\\lib\\site-packages\\sklearn\\linear_model\\_sag.py:352: ConvergenceWarning: The max_iter was reached which means the coef_ did not converge\n",
      "  warnings.warn(\n",
      "C:\\Users\\Utilisateur\\anaconda3\\lib\\site-packages\\sklearn\\linear_model\\_sag.py:352: ConvergenceWarning: The max_iter was reached which means the coef_ did not converge\n",
      "  warnings.warn(\n",
      "C:\\Users\\Utilisateur\\anaconda3\\lib\\site-packages\\sklearn\\linear_model\\_sag.py:352: ConvergenceWarning: The max_iter was reached which means the coef_ did not converge\n",
      "  warnings.warn(\n"
     ]
    },
    {
     "name": "stdout",
     "output_type": "stream",
     "text": [
      "[flaml.automl.automl: 02-26 19:53:56] {3508} INFO -  at 178.8s,\testimator lrl1's best error=0.4643,\tbest estimator lgbm's best error=0.0954\n",
      "[flaml.automl.automl: 02-26 19:53:56] {3323} INFO - iteration 369, current learner lgbm\n"
     ]
    },
    {
     "name": "stderr",
     "output_type": "stream",
     "text": [
      "C:\\Users\\Utilisateur\\anaconda3\\lib\\site-packages\\sklearn\\linear_model\\_sag.py:352: ConvergenceWarning: The max_iter was reached which means the coef_ did not converge\n",
      "  warnings.warn(\n",
      "C:\\Users\\Utilisateur\\anaconda3\\lib\\site-packages\\sklearn\\linear_model\\_sag.py:352: ConvergenceWarning: The max_iter was reached which means the coef_ did not converge\n",
      "  warnings.warn(\n"
     ]
    },
    {
     "name": "stdout",
     "output_type": "stream",
     "text": [
      "[flaml.automl.automl: 02-26 19:53:57] {3508} INFO -  at 179.3s,\testimator lgbm's best error=0.0954,\tbest estimator lgbm's best error=0.0954\n",
      "[flaml.automl.automl: 02-26 19:53:57] {3323} INFO - iteration 370, current learner lrl1\n"
     ]
    },
    {
     "name": "stderr",
     "output_type": "stream",
     "text": [
      "C:\\Users\\Utilisateur\\anaconda3\\lib\\site-packages\\sklearn\\linear_model\\_sag.py:352: ConvergenceWarning: The max_iter was reached which means the coef_ did not converge\n",
      "  warnings.warn(\n",
      "C:\\Users\\Utilisateur\\anaconda3\\lib\\site-packages\\sklearn\\linear_model\\_sag.py:352: ConvergenceWarning: The max_iter was reached which means the coef_ did not converge\n",
      "  warnings.warn(\n",
      "C:\\Users\\Utilisateur\\anaconda3\\lib\\site-packages\\sklearn\\linear_model\\_sag.py:352: ConvergenceWarning: The max_iter was reached which means the coef_ did not converge\n",
      "  warnings.warn(\n"
     ]
    },
    {
     "name": "stdout",
     "output_type": "stream",
     "text": [
      "[flaml.automl.automl: 02-26 19:53:57] {3508} INFO -  at 179.7s,\testimator lrl1's best error=0.4643,\tbest estimator lgbm's best error=0.0954\n",
      "[flaml.automl.automl: 02-26 19:53:57] {3323} INFO - iteration 371, current learner lgbm\n"
     ]
    },
    {
     "name": "stderr",
     "output_type": "stream",
     "text": [
      "C:\\Users\\Utilisateur\\anaconda3\\lib\\site-packages\\sklearn\\linear_model\\_sag.py:352: ConvergenceWarning: The max_iter was reached which means the coef_ did not converge\n",
      "  warnings.warn(\n",
      "C:\\Users\\Utilisateur\\anaconda3\\lib\\site-packages\\sklearn\\linear_model\\_sag.py:352: ConvergenceWarning: The max_iter was reached which means the coef_ did not converge\n",
      "  warnings.warn(\n"
     ]
    },
    {
     "name": "stdout",
     "output_type": "stream",
     "text": [
      "[flaml.automl.automl: 02-26 19:53:58] {3508} INFO -  at 180.2s,\testimator lgbm's best error=0.0954,\tbest estimator lgbm's best error=0.0954\n",
      "[flaml.automl.automl: 02-26 19:53:58] {3323} INFO - iteration 372, current learner lrl1\n"
     ]
    },
    {
     "name": "stderr",
     "output_type": "stream",
     "text": [
      "C:\\Users\\Utilisateur\\anaconda3\\lib\\site-packages\\sklearn\\linear_model\\_sag.py:352: ConvergenceWarning: The max_iter was reached which means the coef_ did not converge\n",
      "  warnings.warn(\n",
      "C:\\Users\\Utilisateur\\anaconda3\\lib\\site-packages\\sklearn\\linear_model\\_sag.py:352: ConvergenceWarning: The max_iter was reached which means the coef_ did not converge\n",
      "  warnings.warn(\n",
      "C:\\Users\\Utilisateur\\anaconda3\\lib\\site-packages\\sklearn\\linear_model\\_sag.py:352: ConvergenceWarning: The max_iter was reached which means the coef_ did not converge\n",
      "  warnings.warn(\n"
     ]
    },
    {
     "name": "stdout",
     "output_type": "stream",
     "text": [
      "[flaml.automl.automl: 02-26 19:53:58] {3508} INFO -  at 180.7s,\testimator lrl1's best error=0.4643,\tbest estimator lgbm's best error=0.0954\n",
      "[flaml.automl.automl: 02-26 19:53:58] {3323} INFO - iteration 373, current learner lgbm\n"
     ]
    },
    {
     "name": "stderr",
     "output_type": "stream",
     "text": [
      "C:\\Users\\Utilisateur\\anaconda3\\lib\\site-packages\\sklearn\\linear_model\\_sag.py:352: ConvergenceWarning: The max_iter was reached which means the coef_ did not converge\n",
      "  warnings.warn(\n",
      "C:\\Users\\Utilisateur\\anaconda3\\lib\\site-packages\\sklearn\\linear_model\\_sag.py:352: ConvergenceWarning: The max_iter was reached which means the coef_ did not converge\n",
      "  warnings.warn(\n"
     ]
    },
    {
     "name": "stdout",
     "output_type": "stream",
     "text": [
      "[flaml.automl.automl: 02-26 19:53:58] {3508} INFO -  at 181.0s,\testimator lgbm's best error=0.0954,\tbest estimator lgbm's best error=0.0954\n",
      "[flaml.automl.automl: 02-26 19:53:58] {3323} INFO - iteration 374, current learner lgbm\n",
      "[flaml.automl.automl: 02-26 19:53:59] {3508} INFO -  at 181.2s,\testimator lgbm's best error=0.0954,\tbest estimator lgbm's best error=0.0954\n",
      "[flaml.automl.automl: 02-26 19:53:59] {3323} INFO - iteration 375, current learner lgbm\n",
      "[flaml.automl.automl: 02-26 19:54:01] {3508} INFO -  at 183.3s,\testimator lgbm's best error=0.0954,\tbest estimator lgbm's best error=0.0954\n",
      "[flaml.automl.automl: 02-26 19:54:01] {3323} INFO - iteration 376, current learner lgbm\n",
      "[flaml.automl.automl: 02-26 19:54:01] {3508} INFO -  at 183.5s,\testimator lgbm's best error=0.0954,\tbest estimator lgbm's best error=0.0954\n",
      "[flaml.automl.automl: 02-26 19:54:01] {3323} INFO - iteration 377, current learner lgbm\n",
      "[flaml.automl.automl: 02-26 19:54:02] {3508} INFO -  at 184.5s,\testimator lgbm's best error=0.0954,\tbest estimator lgbm's best error=0.0954\n",
      "[flaml.automl.automl: 02-26 19:54:02] {3323} INFO - iteration 378, current learner lgbm\n",
      "[flaml.automl.automl: 02-26 19:54:02] {3508} INFO -  at 185.0s,\testimator lgbm's best error=0.0954,\tbest estimator lgbm's best error=0.0954\n",
      "[flaml.automl.automl: 02-26 19:54:02] {3323} INFO - iteration 379, current learner xgb_limitdepth\n",
      "[flaml.automl.automl: 02-26 19:54:03] {3508} INFO -  at 185.3s,\testimator xgb_limitdepth's best error=0.1084,\tbest estimator lgbm's best error=0.0954\n",
      "[flaml.automl.automl: 02-26 19:54:03] {3323} INFO - iteration 380, current learner lgbm\n",
      "[flaml.automl.automl: 02-26 19:54:03] {3508} INFO -  at 185.6s,\testimator lgbm's best error=0.0954,\tbest estimator lgbm's best error=0.0954\n",
      "[flaml.automl.automl: 02-26 19:54:03] {3323} INFO - iteration 381, current learner lgbm\n",
      "[flaml.automl.automl: 02-26 19:54:04] {3508} INFO -  at 186.3s,\testimator lgbm's best error=0.0954,\tbest estimator lgbm's best error=0.0954\n",
      "[flaml.automl.automl: 02-26 19:54:04] {3323} INFO - iteration 382, current learner lrl1\n"
     ]
    },
    {
     "name": "stderr",
     "output_type": "stream",
     "text": [
      "C:\\Users\\Utilisateur\\anaconda3\\lib\\site-packages\\sklearn\\linear_model\\_sag.py:352: ConvergenceWarning: The max_iter was reached which means the coef_ did not converge\n",
      "  warnings.warn(\n",
      "C:\\Users\\Utilisateur\\anaconda3\\lib\\site-packages\\sklearn\\linear_model\\_sag.py:352: ConvergenceWarning: The max_iter was reached which means the coef_ did not converge\n",
      "  warnings.warn(\n",
      "C:\\Users\\Utilisateur\\anaconda3\\lib\\site-packages\\sklearn\\linear_model\\_sag.py:352: ConvergenceWarning: The max_iter was reached which means the coef_ did not converge\n",
      "  warnings.warn(\n"
     ]
    },
    {
     "name": "stdout",
     "output_type": "stream",
     "text": [
      "[flaml.automl.automl: 02-26 19:54:04] {3508} INFO -  at 186.7s,\testimator lrl1's best error=0.4643,\tbest estimator lgbm's best error=0.0954\n",
      "[flaml.automl.automl: 02-26 19:54:04] {3323} INFO - iteration 383, current learner xgb_limitdepth\n"
     ]
    },
    {
     "name": "stderr",
     "output_type": "stream",
     "text": [
      "C:\\Users\\Utilisateur\\anaconda3\\lib\\site-packages\\sklearn\\linear_model\\_sag.py:352: ConvergenceWarning: The max_iter was reached which means the coef_ did not converge\n",
      "  warnings.warn(\n",
      "C:\\Users\\Utilisateur\\anaconda3\\lib\\site-packages\\sklearn\\linear_model\\_sag.py:352: ConvergenceWarning: The max_iter was reached which means the coef_ did not converge\n",
      "  warnings.warn(\n"
     ]
    },
    {
     "name": "stdout",
     "output_type": "stream",
     "text": [
      "[flaml.automl.automl: 02-26 19:54:05] {3508} INFO -  at 187.2s,\testimator xgb_limitdepth's best error=0.1084,\tbest estimator lgbm's best error=0.0954\n",
      "[flaml.automl.automl: 02-26 19:54:05] {3323} INFO - iteration 384, current learner xgboost\n",
      "[flaml.automl.automl: 02-26 19:54:09] {3508} INFO -  at 191.2s,\testimator xgboost's best error=0.1448,\tbest estimator lgbm's best error=0.0954\n",
      "[flaml.automl.automl: 02-26 19:54:09] {3323} INFO - iteration 385, current learner lgbm\n",
      "[flaml.automl.automl: 02-26 19:54:09] {3508} INFO -  at 191.5s,\testimator lgbm's best error=0.0954,\tbest estimator lgbm's best error=0.0954\n",
      "[flaml.automl.automl: 02-26 19:54:09] {3323} INFO - iteration 386, current learner lgbm\n",
      "[flaml.automl.automl: 02-26 19:54:09] {3508} INFO -  at 192.0s,\testimator lgbm's best error=0.0954,\tbest estimator lgbm's best error=0.0954\n",
      "[flaml.automl.automl: 02-26 19:54:09] {3323} INFO - iteration 387, current learner lgbm\n",
      "[flaml.automl.automl: 02-26 19:54:10] {3508} INFO -  at 192.3s,\testimator lgbm's best error=0.0954,\tbest estimator lgbm's best error=0.0954\n",
      "[flaml.automl.automl: 02-26 19:54:10] {3323} INFO - iteration 388, current learner lrl1\n"
     ]
    },
    {
     "name": "stderr",
     "output_type": "stream",
     "text": [
      "C:\\Users\\Utilisateur\\anaconda3\\lib\\site-packages\\sklearn\\linear_model\\_sag.py:352: ConvergenceWarning: The max_iter was reached which means the coef_ did not converge\n",
      "  warnings.warn(\n",
      "C:\\Users\\Utilisateur\\anaconda3\\lib\\site-packages\\sklearn\\linear_model\\_sag.py:352: ConvergenceWarning: The max_iter was reached which means the coef_ did not converge\n",
      "  warnings.warn(\n",
      "C:\\Users\\Utilisateur\\anaconda3\\lib\\site-packages\\sklearn\\linear_model\\_sag.py:352: ConvergenceWarning: The max_iter was reached which means the coef_ did not converge\n",
      "  warnings.warn(\n",
      "C:\\Users\\Utilisateur\\anaconda3\\lib\\site-packages\\sklearn\\linear_model\\_sag.py:352: ConvergenceWarning: The max_iter was reached which means the coef_ did not converge\n",
      "  warnings.warn(\n",
      "C:\\Users\\Utilisateur\\anaconda3\\lib\\site-packages\\sklearn\\linear_model\\_sag.py:352: ConvergenceWarning: The max_iter was reached which means the coef_ did not converge\n",
      "  warnings.warn(\n"
     ]
    },
    {
     "name": "stdout",
     "output_type": "stream",
     "text": [
      "[flaml.automl.automl: 02-26 19:54:10] {3508} INFO -  at 192.9s,\testimator lrl1's best error=0.4643,\tbest estimator lgbm's best error=0.0954\n",
      "[flaml.automl.automl: 02-26 19:54:10] {3323} INFO - iteration 389, current learner lgbm\n",
      "[flaml.automl.automl: 02-26 19:54:11] {3508} INFO -  at 193.6s,\testimator lgbm's best error=0.0954,\tbest estimator lgbm's best error=0.0954\n",
      "[flaml.automl.automl: 02-26 19:54:11] {3323} INFO - iteration 390, current learner lgbm\n",
      "[flaml.automl.automl: 02-26 19:54:11] {3508} INFO -  at 193.9s,\testimator lgbm's best error=0.0954,\tbest estimator lgbm's best error=0.0954\n",
      "[flaml.automl.automl: 02-26 19:54:11] {3323} INFO - iteration 391, current learner lgbm\n",
      "[flaml.automl.automl: 02-26 19:54:12] {3508} INFO -  at 194.5s,\testimator lgbm's best error=0.0954,\tbest estimator lgbm's best error=0.0954\n",
      "[flaml.automl.automl: 02-26 19:54:12] {3323} INFO - iteration 392, current learner lrl1\n"
     ]
    },
    {
     "name": "stderr",
     "output_type": "stream",
     "text": [
      "C:\\Users\\Utilisateur\\anaconda3\\lib\\site-packages\\sklearn\\linear_model\\_sag.py:352: ConvergenceWarning: The max_iter was reached which means the coef_ did not converge\n",
      "  warnings.warn(\n",
      "C:\\Users\\Utilisateur\\anaconda3\\lib\\site-packages\\sklearn\\linear_model\\_sag.py:352: ConvergenceWarning: The max_iter was reached which means the coef_ did not converge\n",
      "  warnings.warn(\n",
      "C:\\Users\\Utilisateur\\anaconda3\\lib\\site-packages\\sklearn\\linear_model\\_sag.py:352: ConvergenceWarning: The max_iter was reached which means the coef_ did not converge\n",
      "  warnings.warn(\n"
     ]
    },
    {
     "name": "stdout",
     "output_type": "stream",
     "text": [
      "[flaml.automl.automl: 02-26 19:54:12] {3508} INFO -  at 195.0s,\testimator lrl1's best error=0.4643,\tbest estimator lgbm's best error=0.0954\n",
      "[flaml.automl.automl: 02-26 19:54:12] {3323} INFO - iteration 393, current learner lgbm\n"
     ]
    },
    {
     "name": "stderr",
     "output_type": "stream",
     "text": [
      "C:\\Users\\Utilisateur\\anaconda3\\lib\\site-packages\\sklearn\\linear_model\\_sag.py:352: ConvergenceWarning: The max_iter was reached which means the coef_ did not converge\n",
      "  warnings.warn(\n",
      "C:\\Users\\Utilisateur\\anaconda3\\lib\\site-packages\\sklearn\\linear_model\\_sag.py:352: ConvergenceWarning: The max_iter was reached which means the coef_ did not converge\n",
      "  warnings.warn(\n"
     ]
    },
    {
     "name": "stdout",
     "output_type": "stream",
     "text": [
      "[flaml.automl.automl: 02-26 19:54:13] {3508} INFO -  at 195.3s,\testimator lgbm's best error=0.0954,\tbest estimator lgbm's best error=0.0954\n",
      "[flaml.automl.automl: 02-26 19:54:13] {3323} INFO - iteration 394, current learner lgbm\n",
      "[flaml.automl.automl: 02-26 19:54:13] {3508} INFO -  at 195.7s,\testimator lgbm's best error=0.0954,\tbest estimator lgbm's best error=0.0954\n",
      "[flaml.automl.automl: 02-26 19:54:13] {3323} INFO - iteration 395, current learner lgbm\n",
      "[flaml.automl.automl: 02-26 19:54:14] {3508} INFO -  at 196.1s,\testimator lgbm's best error=0.0954,\tbest estimator lgbm's best error=0.0954\n",
      "[flaml.automl.automl: 02-26 19:54:14] {3323} INFO - iteration 396, current learner lgbm\n",
      "[flaml.automl.automl: 02-26 19:54:14] {3508} INFO -  at 196.8s,\testimator lgbm's best error=0.0954,\tbest estimator lgbm's best error=0.0954\n",
      "[flaml.automl.automl: 02-26 19:54:14] {3323} INFO - iteration 397, current learner lrl1\n"
     ]
    },
    {
     "name": "stderr",
     "output_type": "stream",
     "text": [
      "C:\\Users\\Utilisateur\\anaconda3\\lib\\site-packages\\sklearn\\linear_model\\_sag.py:352: ConvergenceWarning: The max_iter was reached which means the coef_ did not converge\n",
      "  warnings.warn(\n",
      "C:\\Users\\Utilisateur\\anaconda3\\lib\\site-packages\\sklearn\\linear_model\\_sag.py:352: ConvergenceWarning: The max_iter was reached which means the coef_ did not converge\n",
      "  warnings.warn(\n",
      "C:\\Users\\Utilisateur\\anaconda3\\lib\\site-packages\\sklearn\\linear_model\\_sag.py:352: ConvergenceWarning: The max_iter was reached which means the coef_ did not converge\n",
      "  warnings.warn(\n",
      "C:\\Users\\Utilisateur\\anaconda3\\lib\\site-packages\\sklearn\\linear_model\\_sag.py:352: ConvergenceWarning: The max_iter was reached which means the coef_ did not converge\n",
      "  warnings.warn(\n",
      "C:\\Users\\Utilisateur\\anaconda3\\lib\\site-packages\\sklearn\\linear_model\\_sag.py:352: ConvergenceWarning: The max_iter was reached which means the coef_ did not converge\n",
      "  warnings.warn(\n"
     ]
    },
    {
     "name": "stdout",
     "output_type": "stream",
     "text": [
      "[flaml.automl.automl: 02-26 19:54:15] {3508} INFO -  at 197.4s,\testimator lrl1's best error=0.4643,\tbest estimator lgbm's best error=0.0954\n",
      "[flaml.automl.automl: 02-26 19:54:15] {3323} INFO - iteration 398, current learner lgbm\n",
      "[flaml.automl.automl: 02-26 19:54:15] {3508} INFO -  at 197.7s,\testimator lgbm's best error=0.0954,\tbest estimator lgbm's best error=0.0954\n",
      "[flaml.automl.automl: 02-26 19:54:15] {3323} INFO - iteration 399, current learner lgbm\n",
      "[flaml.automl.automl: 02-26 19:54:16] {3508} INFO -  at 198.6s,\testimator lgbm's best error=0.0954,\tbest estimator lgbm's best error=0.0954\n",
      "[flaml.automl.automl: 02-26 19:54:16] {3323} INFO - iteration 400, current learner lgbm\n",
      "[flaml.automl.automl: 02-26 19:54:16] {3508} INFO -  at 198.9s,\testimator lgbm's best error=0.0954,\tbest estimator lgbm's best error=0.0954\n",
      "[flaml.automl.automl: 02-26 19:54:16] {3323} INFO - iteration 401, current learner lrl1\n"
     ]
    },
    {
     "name": "stderr",
     "output_type": "stream",
     "text": [
      "C:\\Users\\Utilisateur\\anaconda3\\lib\\site-packages\\sklearn\\linear_model\\_sag.py:352: ConvergenceWarning: The max_iter was reached which means the coef_ did not converge\n",
      "  warnings.warn(\n",
      "C:\\Users\\Utilisateur\\anaconda3\\lib\\site-packages\\sklearn\\linear_model\\_sag.py:352: ConvergenceWarning: The max_iter was reached which means the coef_ did not converge\n",
      "  warnings.warn(\n",
      "C:\\Users\\Utilisateur\\anaconda3\\lib\\site-packages\\sklearn\\linear_model\\_sag.py:352: ConvergenceWarning: The max_iter was reached which means the coef_ did not converge\n",
      "  warnings.warn(\n",
      "C:\\Users\\Utilisateur\\anaconda3\\lib\\site-packages\\sklearn\\linear_model\\_sag.py:352: ConvergenceWarning: The max_iter was reached which means the coef_ did not converge\n",
      "  warnings.warn(\n"
     ]
    },
    {
     "name": "stdout",
     "output_type": "stream",
     "text": [
      "[flaml.automl.automl: 02-26 19:54:17] {3508} INFO -  at 199.5s,\testimator lrl1's best error=0.4643,\tbest estimator lgbm's best error=0.0954\n",
      "[flaml.automl.automl: 02-26 19:54:17] {3323} INFO - iteration 402, current learner lgbm\n"
     ]
    },
    {
     "name": "stderr",
     "output_type": "stream",
     "text": [
      "C:\\Users\\Utilisateur\\anaconda3\\lib\\site-packages\\sklearn\\linear_model\\_sag.py:352: ConvergenceWarning: The max_iter was reached which means the coef_ did not converge\n",
      "  warnings.warn(\n"
     ]
    },
    {
     "name": "stdout",
     "output_type": "stream",
     "text": [
      "[flaml.automl.automl: 02-26 19:54:18] {3508} INFO -  at 200.3s,\testimator lgbm's best error=0.0954,\tbest estimator lgbm's best error=0.0954\n",
      "[flaml.automl.automl: 02-26 19:54:18] {3323} INFO - iteration 403, current learner lrl1\n"
     ]
    },
    {
     "name": "stderr",
     "output_type": "stream",
     "text": [
      "C:\\Users\\Utilisateur\\anaconda3\\lib\\site-packages\\sklearn\\linear_model\\_sag.py:352: ConvergenceWarning: The max_iter was reached which means the coef_ did not converge\n",
      "  warnings.warn(\n",
      "C:\\Users\\Utilisateur\\anaconda3\\lib\\site-packages\\sklearn\\linear_model\\_sag.py:352: ConvergenceWarning: The max_iter was reached which means the coef_ did not converge\n",
      "  warnings.warn(\n",
      "C:\\Users\\Utilisateur\\anaconda3\\lib\\site-packages\\sklearn\\linear_model\\_sag.py:352: ConvergenceWarning: The max_iter was reached which means the coef_ did not converge\n",
      "  warnings.warn(\n"
     ]
    },
    {
     "name": "stdout",
     "output_type": "stream",
     "text": [
      "[flaml.automl.automl: 02-26 19:54:18] {3508} INFO -  at 200.8s,\testimator lrl1's best error=0.4643,\tbest estimator lgbm's best error=0.0954\n",
      "[flaml.automl.automl: 02-26 19:54:18] {3323} INFO - iteration 404, current learner lgbm\n"
     ]
    },
    {
     "name": "stderr",
     "output_type": "stream",
     "text": [
      "C:\\Users\\Utilisateur\\anaconda3\\lib\\site-packages\\sklearn\\linear_model\\_sag.py:352: ConvergenceWarning: The max_iter was reached which means the coef_ did not converge\n",
      "  warnings.warn(\n",
      "C:\\Users\\Utilisateur\\anaconda3\\lib\\site-packages\\sklearn\\linear_model\\_sag.py:352: ConvergenceWarning: The max_iter was reached which means the coef_ did not converge\n",
      "  warnings.warn(\n"
     ]
    },
    {
     "name": "stdout",
     "output_type": "stream",
     "text": [
      "[flaml.automl.automl: 02-26 19:54:19] {3508} INFO -  at 201.2s,\testimator lgbm's best error=0.0954,\tbest estimator lgbm's best error=0.0954\n",
      "[flaml.automl.automl: 02-26 19:54:19] {3323} INFO - iteration 405, current learner lgbm\n",
      "[flaml.automl.automl: 02-26 19:54:19] {3508} INFO -  at 201.5s,\testimator lgbm's best error=0.0954,\tbest estimator lgbm's best error=0.0954\n",
      "[flaml.automl.automl: 02-26 19:54:19] {3323} INFO - iteration 406, current learner lrl1\n"
     ]
    },
    {
     "name": "stderr",
     "output_type": "stream",
     "text": [
      "C:\\Users\\Utilisateur\\anaconda3\\lib\\site-packages\\sklearn\\linear_model\\_sag.py:352: ConvergenceWarning: The max_iter was reached which means the coef_ did not converge\n",
      "  warnings.warn(\n",
      "C:\\Users\\Utilisateur\\anaconda3\\lib\\site-packages\\sklearn\\linear_model\\_sag.py:352: ConvergenceWarning: The max_iter was reached which means the coef_ did not converge\n",
      "  warnings.warn(\n"
     ]
    },
    {
     "name": "stdout",
     "output_type": "stream",
     "text": [
      "[flaml.automl.automl: 02-26 19:54:19] {3508} INFO -  at 202.0s,\testimator lrl1's best error=0.4643,\tbest estimator lgbm's best error=0.0954\n",
      "[flaml.automl.automl: 02-26 19:54:19] {3323} INFO - iteration 407, current learner lrl1\n"
     ]
    },
    {
     "name": "stderr",
     "output_type": "stream",
     "text": [
      "C:\\Users\\Utilisateur\\anaconda3\\lib\\site-packages\\sklearn\\linear_model\\_sag.py:352: ConvergenceWarning: The max_iter was reached which means the coef_ did not converge\n",
      "  warnings.warn(\n",
      "C:\\Users\\Utilisateur\\anaconda3\\lib\\site-packages\\sklearn\\linear_model\\_sag.py:352: ConvergenceWarning: The max_iter was reached which means the coef_ did not converge\n",
      "  warnings.warn(\n",
      "C:\\Users\\Utilisateur\\anaconda3\\lib\\site-packages\\sklearn\\linear_model\\_sag.py:352: ConvergenceWarning: The max_iter was reached which means the coef_ did not converge\n",
      "  warnings.warn(\n",
      "C:\\Users\\Utilisateur\\anaconda3\\lib\\site-packages\\sklearn\\linear_model\\_sag.py:352: ConvergenceWarning: The max_iter was reached which means the coef_ did not converge\n",
      "  warnings.warn(\n",
      "C:\\Users\\Utilisateur\\anaconda3\\lib\\site-packages\\sklearn\\linear_model\\_sag.py:352: ConvergenceWarning: The max_iter was reached which means the coef_ did not converge\n",
      "  warnings.warn(\n",
      "C:\\Users\\Utilisateur\\anaconda3\\lib\\site-packages\\sklearn\\linear_model\\_sag.py:352: ConvergenceWarning: The max_iter was reached which means the coef_ did not converge\n",
      "  warnings.warn(\n",
      "C:\\Users\\Utilisateur\\anaconda3\\lib\\site-packages\\sklearn\\linear_model\\_sag.py:352: ConvergenceWarning: The max_iter was reached which means the coef_ did not converge\n",
      "  warnings.warn(\n"
     ]
    },
    {
     "name": "stdout",
     "output_type": "stream",
     "text": [
      "[flaml.automl.automl: 02-26 19:54:20] {3508} INFO -  at 202.5s,\testimator lrl1's best error=0.4643,\tbest estimator lgbm's best error=0.0954\n",
      "[flaml.automl.automl: 02-26 19:54:20] {3323} INFO - iteration 408, current learner lgbm\n"
     ]
    },
    {
     "name": "stderr",
     "output_type": "stream",
     "text": [
      "C:\\Users\\Utilisateur\\anaconda3\\lib\\site-packages\\sklearn\\linear_model\\_sag.py:352: ConvergenceWarning: The max_iter was reached which means the coef_ did not converge\n",
      "  warnings.warn(\n"
     ]
    },
    {
     "name": "stdout",
     "output_type": "stream",
     "text": [
      "[flaml.automl.automl: 02-26 19:54:21] {3508} INFO -  at 203.4s,\testimator lgbm's best error=0.0954,\tbest estimator lgbm's best error=0.0954\n",
      "[flaml.automl.automl: 02-26 19:54:21] {3323} INFO - iteration 409, current learner lrl1\n"
     ]
    },
    {
     "name": "stderr",
     "output_type": "stream",
     "text": [
      "C:\\Users\\Utilisateur\\anaconda3\\lib\\site-packages\\sklearn\\linear_model\\_sag.py:352: ConvergenceWarning: The max_iter was reached which means the coef_ did not converge\n",
      "  warnings.warn(\n",
      "C:\\Users\\Utilisateur\\anaconda3\\lib\\site-packages\\sklearn\\linear_model\\_sag.py:352: ConvergenceWarning: The max_iter was reached which means the coef_ did not converge\n",
      "  warnings.warn(\n",
      "C:\\Users\\Utilisateur\\anaconda3\\lib\\site-packages\\sklearn\\linear_model\\_sag.py:352: ConvergenceWarning: The max_iter was reached which means the coef_ did not converge\n",
      "  warnings.warn(\n"
     ]
    },
    {
     "name": "stdout",
     "output_type": "stream",
     "text": [
      "[flaml.automl.automl: 02-26 19:54:21] {3508} INFO -  at 203.9s,\testimator lrl1's best error=0.4643,\tbest estimator lgbm's best error=0.0954\n",
      "[flaml.automl.automl: 02-26 19:54:21] {3323} INFO - iteration 410, current learner lgbm\n"
     ]
    },
    {
     "name": "stderr",
     "output_type": "stream",
     "text": [
      "C:\\Users\\Utilisateur\\anaconda3\\lib\\site-packages\\sklearn\\linear_model\\_sag.py:352: ConvergenceWarning: The max_iter was reached which means the coef_ did not converge\n",
      "  warnings.warn(\n",
      "C:\\Users\\Utilisateur\\anaconda3\\lib\\site-packages\\sklearn\\linear_model\\_sag.py:352: ConvergenceWarning: The max_iter was reached which means the coef_ did not converge\n",
      "  warnings.warn(\n"
     ]
    },
    {
     "name": "stdout",
     "output_type": "stream",
     "text": [
      "[flaml.automl.automl: 02-26 19:54:22] {3508} INFO -  at 204.7s,\testimator lgbm's best error=0.0954,\tbest estimator lgbm's best error=0.0954\n",
      "[flaml.automl.automl: 02-26 19:54:22] {3323} INFO - iteration 411, current learner lrl1\n"
     ]
    },
    {
     "name": "stderr",
     "output_type": "stream",
     "text": [
      "C:\\Users\\Utilisateur\\anaconda3\\lib\\site-packages\\sklearn\\linear_model\\_sag.py:352: ConvergenceWarning: The max_iter was reached which means the coef_ did not converge\n",
      "  warnings.warn(\n",
      "C:\\Users\\Utilisateur\\anaconda3\\lib\\site-packages\\sklearn\\linear_model\\_sag.py:352: ConvergenceWarning: The max_iter was reached which means the coef_ did not converge\n",
      "  warnings.warn(\n",
      "C:\\Users\\Utilisateur\\anaconda3\\lib\\site-packages\\sklearn\\linear_model\\_sag.py:352: ConvergenceWarning: The max_iter was reached which means the coef_ did not converge\n",
      "  warnings.warn(\n"
     ]
    },
    {
     "name": "stdout",
     "output_type": "stream",
     "text": [
      "[flaml.automl.automl: 02-26 19:54:23] {3508} INFO -  at 205.2s,\testimator lrl1's best error=0.4643,\tbest estimator lgbm's best error=0.0954\n",
      "[flaml.automl.automl: 02-26 19:54:23] {3323} INFO - iteration 412, current learner lgbm\n"
     ]
    },
    {
     "name": "stderr",
     "output_type": "stream",
     "text": [
      "C:\\Users\\Utilisateur\\anaconda3\\lib\\site-packages\\sklearn\\linear_model\\_sag.py:352: ConvergenceWarning: The max_iter was reached which means the coef_ did not converge\n",
      "  warnings.warn(\n",
      "C:\\Users\\Utilisateur\\anaconda3\\lib\\site-packages\\sklearn\\linear_model\\_sag.py:352: ConvergenceWarning: The max_iter was reached which means the coef_ did not converge\n",
      "  warnings.warn(\n"
     ]
    },
    {
     "name": "stdout",
     "output_type": "stream",
     "text": [
      "[flaml.automl.automl: 02-26 19:54:23] {3508} INFO -  at 205.4s,\testimator lgbm's best error=0.0954,\tbest estimator lgbm's best error=0.0954\n",
      "[flaml.automl.automl: 02-26 19:54:23] {3323} INFO - iteration 413, current learner lgbm\n",
      "[flaml.automl.automl: 02-26 19:54:23] {3508} INFO -  at 206.0s,\testimator lgbm's best error=0.0954,\tbest estimator lgbm's best error=0.0954\n",
      "[flaml.automl.automl: 02-26 19:54:23] {3323} INFO - iteration 414, current learner lgbm\n",
      "[flaml.automl.automl: 02-26 19:54:24] {3508} INFO -  at 206.3s,\testimator lgbm's best error=0.0954,\tbest estimator lgbm's best error=0.0954\n",
      "[flaml.automl.automl: 02-26 19:54:24] {3323} INFO - iteration 415, current learner lgbm\n",
      "[flaml.automl.automl: 02-26 19:54:24] {3508} INFO -  at 206.5s,\testimator lgbm's best error=0.0954,\tbest estimator lgbm's best error=0.0954\n",
      "[flaml.automl.automl: 02-26 19:54:24] {3323} INFO - iteration 416, current learner lgbm\n",
      "[flaml.automl.automl: 02-26 19:54:25] {3508} INFO -  at 207.2s,\testimator lgbm's best error=0.0954,\tbest estimator lgbm's best error=0.0954\n",
      "[flaml.automl.automl: 02-26 19:54:25] {3323} INFO - iteration 417, current learner xgboost\n",
      "[flaml.automl.automl: 02-26 19:54:26] {3508} INFO -  at 208.8s,\testimator xgboost's best error=0.1448,\tbest estimator lgbm's best error=0.0954\n",
      "[flaml.automl.automl: 02-26 19:54:26] {3323} INFO - iteration 418, current learner lrl1\n"
     ]
    },
    {
     "name": "stderr",
     "output_type": "stream",
     "text": [
      "C:\\Users\\Utilisateur\\anaconda3\\lib\\site-packages\\sklearn\\linear_model\\_sag.py:352: ConvergenceWarning: The max_iter was reached which means the coef_ did not converge\n",
      "  warnings.warn(\n",
      "C:\\Users\\Utilisateur\\anaconda3\\lib\\site-packages\\sklearn\\linear_model\\_sag.py:352: ConvergenceWarning: The max_iter was reached which means the coef_ did not converge\n",
      "  warnings.warn(\n",
      "C:\\Users\\Utilisateur\\anaconda3\\lib\\site-packages\\sklearn\\linear_model\\_sag.py:352: ConvergenceWarning: The max_iter was reached which means the coef_ did not converge\n",
      "  warnings.warn(\n"
     ]
    },
    {
     "name": "stdout",
     "output_type": "stream",
     "text": [
      "[flaml.automl.automl: 02-26 19:54:27] {3508} INFO -  at 209.3s,\testimator lrl1's best error=0.4643,\tbest estimator lgbm's best error=0.0954\n",
      "[flaml.automl.automl: 02-26 19:54:27] {3323} INFO - iteration 419, current learner lrl1\n"
     ]
    },
    {
     "name": "stderr",
     "output_type": "stream",
     "text": [
      "C:\\Users\\Utilisateur\\anaconda3\\lib\\site-packages\\sklearn\\linear_model\\_sag.py:352: ConvergenceWarning: The max_iter was reached which means the coef_ did not converge\n",
      "  warnings.warn(\n",
      "C:\\Users\\Utilisateur\\anaconda3\\lib\\site-packages\\sklearn\\linear_model\\_sag.py:352: ConvergenceWarning: The max_iter was reached which means the coef_ did not converge\n",
      "  warnings.warn(\n",
      "C:\\Users\\Utilisateur\\anaconda3\\lib\\site-packages\\sklearn\\linear_model\\_sag.py:352: ConvergenceWarning: The max_iter was reached which means the coef_ did not converge\n",
      "  warnings.warn(\n",
      "C:\\Users\\Utilisateur\\anaconda3\\lib\\site-packages\\sklearn\\linear_model\\_sag.py:352: ConvergenceWarning: The max_iter was reached which means the coef_ did not converge\n",
      "  warnings.warn(\n",
      "C:\\Users\\Utilisateur\\anaconda3\\lib\\site-packages\\sklearn\\linear_model\\_sag.py:352: ConvergenceWarning: The max_iter was reached which means the coef_ did not converge\n",
      "  warnings.warn(\n"
     ]
    },
    {
     "name": "stdout",
     "output_type": "stream",
     "text": [
      "[flaml.automl.automl: 02-26 19:54:27] {3508} INFO -  at 209.7s,\testimator lrl1's best error=0.4643,\tbest estimator lgbm's best error=0.0954\n",
      "[flaml.automl.automl: 02-26 19:54:27] {3323} INFO - iteration 420, current learner lrl1\n"
     ]
    },
    {
     "name": "stderr",
     "output_type": "stream",
     "text": [
      "C:\\Users\\Utilisateur\\anaconda3\\lib\\site-packages\\sklearn\\linear_model\\_sag.py:352: ConvergenceWarning: The max_iter was reached which means the coef_ did not converge\n",
      "  warnings.warn(\n",
      "C:\\Users\\Utilisateur\\anaconda3\\lib\\site-packages\\sklearn\\linear_model\\_sag.py:352: ConvergenceWarning: The max_iter was reached which means the coef_ did not converge\n",
      "  warnings.warn(\n",
      "C:\\Users\\Utilisateur\\anaconda3\\lib\\site-packages\\sklearn\\linear_model\\_sag.py:352: ConvergenceWarning: The max_iter was reached which means the coef_ did not converge\n",
      "  warnings.warn(\n",
      "C:\\Users\\Utilisateur\\anaconda3\\lib\\site-packages\\sklearn\\linear_model\\_sag.py:352: ConvergenceWarning: The max_iter was reached which means the coef_ did not converge\n",
      "  warnings.warn(\n",
      "C:\\Users\\Utilisateur\\anaconda3\\lib\\site-packages\\sklearn\\linear_model\\_sag.py:352: ConvergenceWarning: The max_iter was reached which means the coef_ did not converge\n",
      "  warnings.warn(\n",
      "C:\\Users\\Utilisateur\\anaconda3\\lib\\site-packages\\sklearn\\linear_model\\_sag.py:352: ConvergenceWarning: The max_iter was reached which means the coef_ did not converge\n",
      "  warnings.warn(\n"
     ]
    },
    {
     "name": "stdout",
     "output_type": "stream",
     "text": [
      "[flaml.automl.automl: 02-26 19:54:28] {3508} INFO -  at 210.1s,\testimator lrl1's best error=0.4643,\tbest estimator lgbm's best error=0.0954\n",
      "[flaml.automl.automl: 02-26 19:54:28] {3323} INFO - iteration 421, current learner lgbm\n"
     ]
    },
    {
     "name": "stderr",
     "output_type": "stream",
     "text": [
      "C:\\Users\\Utilisateur\\anaconda3\\lib\\site-packages\\sklearn\\linear_model\\_sag.py:352: ConvergenceWarning: The max_iter was reached which means the coef_ did not converge\n",
      "  warnings.warn(\n"
     ]
    },
    {
     "name": "stdout",
     "output_type": "stream",
     "text": [
      "[flaml.automl.automl: 02-26 19:54:28] {3508} INFO -  at 210.8s,\testimator lgbm's best error=0.0954,\tbest estimator lgbm's best error=0.0954\n",
      "[flaml.automl.automl: 02-26 19:54:28] {3323} INFO - iteration 422, current learner lrl1\n"
     ]
    },
    {
     "name": "stderr",
     "output_type": "stream",
     "text": [
      "C:\\Users\\Utilisateur\\anaconda3\\lib\\site-packages\\sklearn\\linear_model\\_sag.py:352: ConvergenceWarning: The max_iter was reached which means the coef_ did not converge\n",
      "  warnings.warn(\n",
      "C:\\Users\\Utilisateur\\anaconda3\\lib\\site-packages\\sklearn\\linear_model\\_sag.py:352: ConvergenceWarning: The max_iter was reached which means the coef_ did not converge\n",
      "  warnings.warn(\n",
      "C:\\Users\\Utilisateur\\anaconda3\\lib\\site-packages\\sklearn\\linear_model\\_sag.py:352: ConvergenceWarning: The max_iter was reached which means the coef_ did not converge\n",
      "  warnings.warn(\n"
     ]
    },
    {
     "name": "stdout",
     "output_type": "stream",
     "text": [
      "[flaml.automl.automl: 02-26 19:54:29] {3508} INFO -  at 211.3s,\testimator lrl1's best error=0.4643,\tbest estimator lgbm's best error=0.0954\n",
      "[flaml.automl.automl: 02-26 19:54:29] {3323} INFO - iteration 423, current learner lgbm\n"
     ]
    },
    {
     "name": "stderr",
     "output_type": "stream",
     "text": [
      "C:\\Users\\Utilisateur\\anaconda3\\lib\\site-packages\\sklearn\\linear_model\\_sag.py:352: ConvergenceWarning: The max_iter was reached which means the coef_ did not converge\n",
      "  warnings.warn(\n",
      "C:\\Users\\Utilisateur\\anaconda3\\lib\\site-packages\\sklearn\\linear_model\\_sag.py:352: ConvergenceWarning: The max_iter was reached which means the coef_ did not converge\n",
      "  warnings.warn(\n"
     ]
    },
    {
     "name": "stdout",
     "output_type": "stream",
     "text": [
      "[flaml.automl.automl: 02-26 19:54:29] {3508} INFO -  at 211.6s,\testimator lgbm's best error=0.0954,\tbest estimator lgbm's best error=0.0954\n",
      "[flaml.automl.automl: 02-26 19:54:29] {3323} INFO - iteration 424, current learner lrl1\n"
     ]
    },
    {
     "name": "stderr",
     "output_type": "stream",
     "text": [
      "C:\\Users\\Utilisateur\\anaconda3\\lib\\site-packages\\sklearn\\linear_model\\_sag.py:352: ConvergenceWarning: The max_iter was reached which means the coef_ did not converge\n",
      "  warnings.warn(\n",
      "C:\\Users\\Utilisateur\\anaconda3\\lib\\site-packages\\sklearn\\linear_model\\_sag.py:352: ConvergenceWarning: The max_iter was reached which means the coef_ did not converge\n",
      "  warnings.warn(\n",
      "C:\\Users\\Utilisateur\\anaconda3\\lib\\site-packages\\sklearn\\linear_model\\_sag.py:352: ConvergenceWarning: The max_iter was reached which means the coef_ did not converge\n",
      "  warnings.warn(\n"
     ]
    },
    {
     "name": "stdout",
     "output_type": "stream",
     "text": [
      "[flaml.automl.automl: 02-26 19:54:29] {3508} INFO -  at 212.0s,\testimator lrl1's best error=0.4643,\tbest estimator lgbm's best error=0.0954\n",
      "[flaml.automl.automl: 02-26 19:54:29] {3323} INFO - iteration 425, current learner rf\n"
     ]
    },
    {
     "name": "stderr",
     "output_type": "stream",
     "text": [
      "C:\\Users\\Utilisateur\\anaconda3\\lib\\site-packages\\sklearn\\linear_model\\_sag.py:352: ConvergenceWarning: The max_iter was reached which means the coef_ did not converge\n",
      "  warnings.warn(\n",
      "C:\\Users\\Utilisateur\\anaconda3\\lib\\site-packages\\sklearn\\linear_model\\_sag.py:352: ConvergenceWarning: The max_iter was reached which means the coef_ did not converge\n",
      "  warnings.warn(\n"
     ]
    },
    {
     "name": "stdout",
     "output_type": "stream",
     "text": [
      "[flaml.automl.automl: 02-26 19:54:31] {3508} INFO -  at 213.3s,\testimator rf's best error=0.1297,\tbest estimator lgbm's best error=0.0954\n",
      "[flaml.automl.automl: 02-26 19:54:31] {3323} INFO - iteration 426, current learner lgbm\n",
      "[flaml.automl.automl: 02-26 19:54:31] {3508} INFO -  at 214.0s,\testimator lgbm's best error=0.0954,\tbest estimator lgbm's best error=0.0954\n",
      "[flaml.automl.automl: 02-26 19:54:31] {3323} INFO - iteration 427, current learner lgbm\n",
      "[flaml.automl.automl: 02-26 19:54:32] {3508} INFO -  at 214.4s,\testimator lgbm's best error=0.0954,\tbest estimator lgbm's best error=0.0954\n",
      "[flaml.automl.automl: 02-26 19:54:32] {3323} INFO - iteration 428, current learner lgbm\n",
      "[flaml.automl.automl: 02-26 19:54:32] {3508} INFO -  at 214.8s,\testimator lgbm's best error=0.0954,\tbest estimator lgbm's best error=0.0954\n",
      "[flaml.automl.automl: 02-26 19:54:32] {3323} INFO - iteration 429, current learner lgbm\n",
      "[flaml.automl.automl: 02-26 19:54:33] {3508} INFO -  at 215.2s,\testimator lgbm's best error=0.0954,\tbest estimator lgbm's best error=0.0954\n",
      "[flaml.automl.automl: 02-26 19:54:33] {3323} INFO - iteration 430, current learner lgbm\n",
      "[flaml.automl.automl: 02-26 19:54:33] {3508} INFO -  at 215.5s,\testimator lgbm's best error=0.0954,\tbest estimator lgbm's best error=0.0954\n",
      "[flaml.automl.automl: 02-26 19:54:33] {3323} INFO - iteration 431, current learner lgbm\n",
      "[flaml.automl.automl: 02-26 19:54:33] {3508} INFO -  at 216.1s,\testimator lgbm's best error=0.0954,\tbest estimator lgbm's best error=0.0954\n",
      "[flaml.automl.automl: 02-26 19:54:34] {3323} INFO - iteration 432, current learner lgbm\n",
      "[flaml.automl.automl: 02-26 19:54:34] {3508} INFO -  at 216.4s,\testimator lgbm's best error=0.0954,\tbest estimator lgbm's best error=0.0954\n",
      "[flaml.automl.automl: 02-26 19:54:34] {3323} INFO - iteration 433, current learner lrl1\n"
     ]
    },
    {
     "name": "stderr",
     "output_type": "stream",
     "text": [
      "C:\\Users\\Utilisateur\\anaconda3\\lib\\site-packages\\sklearn\\linear_model\\_sag.py:352: ConvergenceWarning: The max_iter was reached which means the coef_ did not converge\n",
      "  warnings.warn(\n",
      "C:\\Users\\Utilisateur\\anaconda3\\lib\\site-packages\\sklearn\\linear_model\\_sag.py:352: ConvergenceWarning: The max_iter was reached which means the coef_ did not converge\n",
      "  warnings.warn(\n",
      "C:\\Users\\Utilisateur\\anaconda3\\lib\\site-packages\\sklearn\\linear_model\\_sag.py:352: ConvergenceWarning: The max_iter was reached which means the coef_ did not converge\n",
      "  warnings.warn(\n"
     ]
    },
    {
     "name": "stdout",
     "output_type": "stream",
     "text": [
      "[flaml.automl.automl: 02-26 19:54:34] {3508} INFO -  at 216.9s,\testimator lrl1's best error=0.4643,\tbest estimator lgbm's best error=0.0954\n",
      "[flaml.automl.automl: 02-26 19:54:34] {3323} INFO - iteration 434, current learner lgbm\n"
     ]
    },
    {
     "name": "stderr",
     "output_type": "stream",
     "text": [
      "C:\\Users\\Utilisateur\\anaconda3\\lib\\site-packages\\sklearn\\linear_model\\_sag.py:352: ConvergenceWarning: The max_iter was reached which means the coef_ did not converge\n",
      "  warnings.warn(\n",
      "C:\\Users\\Utilisateur\\anaconda3\\lib\\site-packages\\sklearn\\linear_model\\_sag.py:352: ConvergenceWarning: The max_iter was reached which means the coef_ did not converge\n",
      "  warnings.warn(\n"
     ]
    },
    {
     "name": "stdout",
     "output_type": "stream",
     "text": [
      "[flaml.automl.automl: 02-26 19:54:35] {3508} INFO -  at 217.5s,\testimator lgbm's best error=0.0954,\tbest estimator lgbm's best error=0.0954\n",
      "[flaml.automl.automl: 02-26 19:54:35] {3323} INFO - iteration 435, current learner lrl1\n"
     ]
    },
    {
     "name": "stderr",
     "output_type": "stream",
     "text": [
      "C:\\Users\\Utilisateur\\anaconda3\\lib\\site-packages\\sklearn\\linear_model\\_sag.py:352: ConvergenceWarning: The max_iter was reached which means the coef_ did not converge\n",
      "  warnings.warn(\n",
      "C:\\Users\\Utilisateur\\anaconda3\\lib\\site-packages\\sklearn\\linear_model\\_sag.py:352: ConvergenceWarning: The max_iter was reached which means the coef_ did not converge\n",
      "  warnings.warn(\n",
      "C:\\Users\\Utilisateur\\anaconda3\\lib\\site-packages\\sklearn\\linear_model\\_sag.py:352: ConvergenceWarning: The max_iter was reached which means the coef_ did not converge\n",
      "  warnings.warn(\n"
     ]
    },
    {
     "name": "stdout",
     "output_type": "stream",
     "text": [
      "[flaml.automl.automl: 02-26 19:54:35] {3508} INFO -  at 217.9s,\testimator lrl1's best error=0.4643,\tbest estimator lgbm's best error=0.0954\n",
      "[flaml.automl.automl: 02-26 19:54:35] {3323} INFO - iteration 436, current learner lgbm\n"
     ]
    },
    {
     "name": "stderr",
     "output_type": "stream",
     "text": [
      "C:\\Users\\Utilisateur\\anaconda3\\lib\\site-packages\\sklearn\\linear_model\\_sag.py:352: ConvergenceWarning: The max_iter was reached which means the coef_ did not converge\n",
      "  warnings.warn(\n",
      "C:\\Users\\Utilisateur\\anaconda3\\lib\\site-packages\\sklearn\\linear_model\\_sag.py:352: ConvergenceWarning: The max_iter was reached which means the coef_ did not converge\n",
      "  warnings.warn(\n"
     ]
    },
    {
     "name": "stdout",
     "output_type": "stream",
     "text": [
      "[flaml.automl.automl: 02-26 19:54:36] {3508} INFO -  at 218.2s,\testimator lgbm's best error=0.0954,\tbest estimator lgbm's best error=0.0954\n",
      "[flaml.automl.automl: 02-26 19:54:36] {3323} INFO - iteration 437, current learner lgbm\n",
      "[flaml.automl.automl: 02-26 19:54:36] {3508} INFO -  at 218.9s,\testimator lgbm's best error=0.0954,\tbest estimator lgbm's best error=0.0954\n",
      "[flaml.automl.automl: 02-26 19:54:36] {3323} INFO - iteration 438, current learner lgbm\n",
      "[flaml.automl.automl: 02-26 19:54:37] {3508} INFO -  at 219.4s,\testimator lgbm's best error=0.0954,\tbest estimator lgbm's best error=0.0954\n",
      "[flaml.automl.automl: 02-26 19:54:37] {3323} INFO - iteration 439, current learner lgbm\n",
      "[flaml.automl.automl: 02-26 19:54:37] {3508} INFO -  at 219.9s,\testimator lgbm's best error=0.0954,\tbest estimator lgbm's best error=0.0954\n",
      "[flaml.automl.automl: 02-26 19:54:37] {3323} INFO - iteration 440, current learner lrl1\n"
     ]
    },
    {
     "name": "stderr",
     "output_type": "stream",
     "text": [
      "C:\\Users\\Utilisateur\\anaconda3\\lib\\site-packages\\sklearn\\linear_model\\_sag.py:352: ConvergenceWarning: The max_iter was reached which means the coef_ did not converge\n",
      "  warnings.warn(\n",
      "C:\\Users\\Utilisateur\\anaconda3\\lib\\site-packages\\sklearn\\linear_model\\_sag.py:352: ConvergenceWarning: The max_iter was reached which means the coef_ did not converge\n",
      "  warnings.warn(\n",
      "C:\\Users\\Utilisateur\\anaconda3\\lib\\site-packages\\sklearn\\linear_model\\_sag.py:352: ConvergenceWarning: The max_iter was reached which means the coef_ did not converge\n",
      "  warnings.warn(\n"
     ]
    },
    {
     "name": "stdout",
     "output_type": "stream",
     "text": [
      "[flaml.automl.automl: 02-26 19:54:38] {3508} INFO -  at 220.4s,\testimator lrl1's best error=0.4643,\tbest estimator lgbm's best error=0.0954\n",
      "[flaml.automl.automl: 02-26 19:54:38] {3323} INFO - iteration 441, current learner lgbm\n"
     ]
    },
    {
     "name": "stderr",
     "output_type": "stream",
     "text": [
      "C:\\Users\\Utilisateur\\anaconda3\\lib\\site-packages\\sklearn\\linear_model\\_sag.py:352: ConvergenceWarning: The max_iter was reached which means the coef_ did not converge\n",
      "  warnings.warn(\n",
      "C:\\Users\\Utilisateur\\anaconda3\\lib\\site-packages\\sklearn\\linear_model\\_sag.py:352: ConvergenceWarning: The max_iter was reached which means the coef_ did not converge\n",
      "  warnings.warn(\n"
     ]
    },
    {
     "name": "stdout",
     "output_type": "stream",
     "text": [
      "[flaml.automl.automl: 02-26 19:54:39] {3508} INFO -  at 222.0s,\testimator lgbm's best error=0.0954,\tbest estimator lgbm's best error=0.0954\n",
      "[flaml.automl.automl: 02-26 19:54:39] {3323} INFO - iteration 442, current learner lrl1\n"
     ]
    },
    {
     "name": "stderr",
     "output_type": "stream",
     "text": [
      "C:\\Users\\Utilisateur\\anaconda3\\lib\\site-packages\\sklearn\\linear_model\\_sag.py:352: ConvergenceWarning: The max_iter was reached which means the coef_ did not converge\n",
      "  warnings.warn(\n",
      "C:\\Users\\Utilisateur\\anaconda3\\lib\\site-packages\\sklearn\\linear_model\\_sag.py:352: ConvergenceWarning: The max_iter was reached which means the coef_ did not converge\n",
      "  warnings.warn(\n"
     ]
    },
    {
     "name": "stdout",
     "output_type": "stream",
     "text": [
      "[flaml.automl.automl: 02-26 19:54:40] {3508} INFO -  at 222.5s,\testimator lrl1's best error=0.4643,\tbest estimator lgbm's best error=0.0954\n",
      "[flaml.automl.automl: 02-26 19:54:40] {3323} INFO - iteration 443, current learner lgbm\n"
     ]
    },
    {
     "name": "stderr",
     "output_type": "stream",
     "text": [
      "C:\\Users\\Utilisateur\\anaconda3\\lib\\site-packages\\sklearn\\linear_model\\_sag.py:352: ConvergenceWarning: The max_iter was reached which means the coef_ did not converge\n",
      "  warnings.warn(\n",
      "C:\\Users\\Utilisateur\\anaconda3\\lib\\site-packages\\sklearn\\linear_model\\_sag.py:352: ConvergenceWarning: The max_iter was reached which means the coef_ did not converge\n",
      "  warnings.warn(\n",
      "C:\\Users\\Utilisateur\\anaconda3\\lib\\site-packages\\sklearn\\linear_model\\_sag.py:352: ConvergenceWarning: The max_iter was reached which means the coef_ did not converge\n",
      "  warnings.warn(\n"
     ]
    },
    {
     "name": "stdout",
     "output_type": "stream",
     "text": [
      "[flaml.automl.automl: 02-26 19:54:40] {3508} INFO -  at 222.7s,\testimator lgbm's best error=0.0954,\tbest estimator lgbm's best error=0.0954\n",
      "[flaml.automl.automl: 02-26 19:54:40] {3323} INFO - iteration 444, current learner lrl1\n"
     ]
    },
    {
     "name": "stderr",
     "output_type": "stream",
     "text": [
      "C:\\Users\\Utilisateur\\anaconda3\\lib\\site-packages\\sklearn\\linear_model\\_sag.py:352: ConvergenceWarning: The max_iter was reached which means the coef_ did not converge\n",
      "  warnings.warn(\n",
      "C:\\Users\\Utilisateur\\anaconda3\\lib\\site-packages\\sklearn\\linear_model\\_sag.py:352: ConvergenceWarning: The max_iter was reached which means the coef_ did not converge\n",
      "  warnings.warn(\n",
      "C:\\Users\\Utilisateur\\anaconda3\\lib\\site-packages\\sklearn\\linear_model\\_sag.py:352: ConvergenceWarning: The max_iter was reached which means the coef_ did not converge\n",
      "  warnings.warn(\n"
     ]
    },
    {
     "name": "stdout",
     "output_type": "stream",
     "text": [
      "[flaml.automl.automl: 02-26 19:54:41] {3508} INFO -  at 223.2s,\testimator lrl1's best error=0.4643,\tbest estimator lgbm's best error=0.0954\n",
      "[flaml.automl.automl: 02-26 19:54:41] {3323} INFO - iteration 445, current learner lgbm\n"
     ]
    },
    {
     "name": "stderr",
     "output_type": "stream",
     "text": [
      "C:\\Users\\Utilisateur\\anaconda3\\lib\\site-packages\\sklearn\\linear_model\\_sag.py:352: ConvergenceWarning: The max_iter was reached which means the coef_ did not converge\n",
      "  warnings.warn(\n",
      "C:\\Users\\Utilisateur\\anaconda3\\lib\\site-packages\\sklearn\\linear_model\\_sag.py:352: ConvergenceWarning: The max_iter was reached which means the coef_ did not converge\n",
      "  warnings.warn(\n"
     ]
    },
    {
     "name": "stdout",
     "output_type": "stream",
     "text": [
      "[flaml.automl.automl: 02-26 19:54:41] {3508} INFO -  at 223.5s,\testimator lgbm's best error=0.0954,\tbest estimator lgbm's best error=0.0954\n",
      "[flaml.automl.automl: 02-26 19:54:41] {3323} INFO - iteration 446, current learner extra_tree\n",
      "[flaml.automl.automl: 02-26 19:54:42] {3508} INFO -  at 224.1s,\testimator extra_tree's best error=0.1386,\tbest estimator lgbm's best error=0.0954\n",
      "[flaml.automl.automl: 02-26 19:54:42] {3323} INFO - iteration 447, current learner lgbm\n",
      "[flaml.automl.automl: 02-26 19:54:42] {3508} INFO -  at 225.0s,\testimator lgbm's best error=0.0954,\tbest estimator lgbm's best error=0.0954\n",
      "[flaml.automl.automl: 02-26 19:54:42] {3323} INFO - iteration 448, current learner lgbm\n",
      "[flaml.automl.automl: 02-26 19:54:43] {3508} INFO -  at 225.9s,\testimator lgbm's best error=0.0954,\tbest estimator lgbm's best error=0.0954\n",
      "[flaml.automl.automl: 02-26 19:54:43] {3323} INFO - iteration 449, current learner lgbm\n",
      "[flaml.automl.automl: 02-26 19:54:44] {3508} INFO -  at 226.2s,\testimator lgbm's best error=0.0954,\tbest estimator lgbm's best error=0.0954\n",
      "[flaml.automl.automl: 02-26 19:54:44] {3323} INFO - iteration 450, current learner lrl1\n"
     ]
    },
    {
     "name": "stderr",
     "output_type": "stream",
     "text": [
      "C:\\Users\\Utilisateur\\anaconda3\\lib\\site-packages\\sklearn\\linear_model\\_sag.py:352: ConvergenceWarning: The max_iter was reached which means the coef_ did not converge\n",
      "  warnings.warn(\n",
      "C:\\Users\\Utilisateur\\anaconda3\\lib\\site-packages\\sklearn\\linear_model\\_sag.py:352: ConvergenceWarning: The max_iter was reached which means the coef_ did not converge\n",
      "  warnings.warn(\n",
      "C:\\Users\\Utilisateur\\anaconda3\\lib\\site-packages\\sklearn\\linear_model\\_sag.py:352: ConvergenceWarning: The max_iter was reached which means the coef_ did not converge\n",
      "  warnings.warn(\n"
     ]
    },
    {
     "name": "stdout",
     "output_type": "stream",
     "text": [
      "[flaml.automl.automl: 02-26 19:54:44] {3508} INFO -  at 226.7s,\testimator lrl1's best error=0.4643,\tbest estimator lgbm's best error=0.0954\n",
      "[flaml.automl.automl: 02-26 19:54:44] {3323} INFO - iteration 451, current learner lrl1\n"
     ]
    },
    {
     "name": "stderr",
     "output_type": "stream",
     "text": [
      "C:\\Users\\Utilisateur\\anaconda3\\lib\\site-packages\\sklearn\\linear_model\\_sag.py:352: ConvergenceWarning: The max_iter was reached which means the coef_ did not converge\n",
      "  warnings.warn(\n",
      "C:\\Users\\Utilisateur\\anaconda3\\lib\\site-packages\\sklearn\\linear_model\\_sag.py:352: ConvergenceWarning: The max_iter was reached which means the coef_ did not converge\n",
      "  warnings.warn(\n",
      "C:\\Users\\Utilisateur\\anaconda3\\lib\\site-packages\\sklearn\\linear_model\\_sag.py:352: ConvergenceWarning: The max_iter was reached which means the coef_ did not converge\n",
      "  warnings.warn(\n",
      "C:\\Users\\Utilisateur\\anaconda3\\lib\\site-packages\\sklearn\\linear_model\\_sag.py:352: ConvergenceWarning: The max_iter was reached which means the coef_ did not converge\n",
      "  warnings.warn(\n",
      "C:\\Users\\Utilisateur\\anaconda3\\lib\\site-packages\\sklearn\\linear_model\\_sag.py:352: ConvergenceWarning: The max_iter was reached which means the coef_ did not converge\n",
      "  warnings.warn(\n"
     ]
    },
    {
     "name": "stdout",
     "output_type": "stream",
     "text": [
      "[flaml.automl.automl: 02-26 19:54:45] {3508} INFO -  at 227.1s,\testimator lrl1's best error=0.4643,\tbest estimator lgbm's best error=0.0954\n",
      "[flaml.automl.automl: 02-26 19:54:45] {3323} INFO - iteration 452, current learner lrl1\n"
     ]
    },
    {
     "name": "stderr",
     "output_type": "stream",
     "text": [
      "C:\\Users\\Utilisateur\\anaconda3\\lib\\site-packages\\sklearn\\linear_model\\_sag.py:352: ConvergenceWarning: The max_iter was reached which means the coef_ did not converge\n",
      "  warnings.warn(\n",
      "C:\\Users\\Utilisateur\\anaconda3\\lib\\site-packages\\sklearn\\linear_model\\_sag.py:352: ConvergenceWarning: The max_iter was reached which means the coef_ did not converge\n",
      "  warnings.warn(\n",
      "C:\\Users\\Utilisateur\\anaconda3\\lib\\site-packages\\sklearn\\linear_model\\_sag.py:352: ConvergenceWarning: The max_iter was reached which means the coef_ did not converge\n",
      "  warnings.warn(\n",
      "C:\\Users\\Utilisateur\\anaconda3\\lib\\site-packages\\sklearn\\linear_model\\_sag.py:352: ConvergenceWarning: The max_iter was reached which means the coef_ did not converge\n",
      "  warnings.warn(\n",
      "C:\\Users\\Utilisateur\\anaconda3\\lib\\site-packages\\sklearn\\linear_model\\_sag.py:352: ConvergenceWarning: The max_iter was reached which means the coef_ did not converge\n",
      "  warnings.warn(\n",
      "C:\\Users\\Utilisateur\\anaconda3\\lib\\site-packages\\sklearn\\linear_model\\_sag.py:352: ConvergenceWarning: The max_iter was reached which means the coef_ did not converge\n",
      "  warnings.warn(\n"
     ]
    },
    {
     "name": "stdout",
     "output_type": "stream",
     "text": [
      "[flaml.automl.automl: 02-26 19:54:45] {3508} INFO -  at 227.5s,\testimator lrl1's best error=0.4643,\tbest estimator lgbm's best error=0.0954\n",
      "[flaml.automl.automl: 02-26 19:54:45] {3323} INFO - iteration 453, current learner lrl1\n"
     ]
    },
    {
     "name": "stderr",
     "output_type": "stream",
     "text": [
      "C:\\Users\\Utilisateur\\anaconda3\\lib\\site-packages\\sklearn\\linear_model\\_sag.py:352: ConvergenceWarning: The max_iter was reached which means the coef_ did not converge\n",
      "  warnings.warn(\n",
      "C:\\Users\\Utilisateur\\anaconda3\\lib\\site-packages\\sklearn\\linear_model\\_sag.py:352: ConvergenceWarning: The max_iter was reached which means the coef_ did not converge\n",
      "  warnings.warn(\n",
      "C:\\Users\\Utilisateur\\anaconda3\\lib\\site-packages\\sklearn\\linear_model\\_sag.py:352: ConvergenceWarning: The max_iter was reached which means the coef_ did not converge\n",
      "  warnings.warn(\n"
     ]
    },
    {
     "name": "stdout",
     "output_type": "stream",
     "text": [
      "[flaml.automl.automl: 02-26 19:54:45] {3508} INFO -  at 228.0s,\testimator lrl1's best error=0.4643,\tbest estimator lgbm's best error=0.0954\n",
      "[flaml.automl.automl: 02-26 19:54:45] {3323} INFO - iteration 454, current learner lgbm\n"
     ]
    },
    {
     "name": "stderr",
     "output_type": "stream",
     "text": [
      "C:\\Users\\Utilisateur\\anaconda3\\lib\\site-packages\\sklearn\\linear_model\\_sag.py:352: ConvergenceWarning: The max_iter was reached which means the coef_ did not converge\n",
      "  warnings.warn(\n",
      "C:\\Users\\Utilisateur\\anaconda3\\lib\\site-packages\\sklearn\\linear_model\\_sag.py:352: ConvergenceWarning: The max_iter was reached which means the coef_ did not converge\n",
      "  warnings.warn(\n",
      "C:\\Users\\Utilisateur\\anaconda3\\lib\\site-packages\\sklearn\\linear_model\\_sag.py:352: ConvergenceWarning: The max_iter was reached which means the coef_ did not converge\n",
      "  warnings.warn(\n"
     ]
    },
    {
     "name": "stdout",
     "output_type": "stream",
     "text": [
      "[flaml.automl.automl: 02-26 19:54:46] {3508} INFO -  at 228.2s,\testimator lgbm's best error=0.0954,\tbest estimator lgbm's best error=0.0954\n",
      "[flaml.automl.automl: 02-26 19:54:46] {3323} INFO - iteration 455, current learner lgbm\n",
      "[flaml.automl.automl: 02-26 19:54:46] {3508} INFO -  at 228.8s,\testimator lgbm's best error=0.0954,\tbest estimator lgbm's best error=0.0954\n",
      "[flaml.automl.automl: 02-26 19:54:46] {3323} INFO - iteration 456, current learner lgbm\n",
      "[flaml.automl.automl: 02-26 19:54:47] {3508} INFO -  at 229.2s,\testimator lgbm's best error=0.0954,\tbest estimator lgbm's best error=0.0954\n",
      "[flaml.automl.automl: 02-26 19:54:47] {3323} INFO - iteration 457, current learner extra_tree\n",
      "[flaml.automl.automl: 02-26 19:54:47] {3508} INFO -  at 229.8s,\testimator extra_tree's best error=0.1386,\tbest estimator lgbm's best error=0.0954\n",
      "[flaml.automl.automl: 02-26 19:54:47] {3323} INFO - iteration 458, current learner lrl1\n"
     ]
    },
    {
     "name": "stderr",
     "output_type": "stream",
     "text": [
      "C:\\Users\\Utilisateur\\anaconda3\\lib\\site-packages\\sklearn\\linear_model\\_sag.py:352: ConvergenceWarning: The max_iter was reached which means the coef_ did not converge\n",
      "  warnings.warn(\n",
      "C:\\Users\\Utilisateur\\anaconda3\\lib\\site-packages\\sklearn\\linear_model\\_sag.py:352: ConvergenceWarning: The max_iter was reached which means the coef_ did not converge\n",
      "  warnings.warn(\n",
      "C:\\Users\\Utilisateur\\anaconda3\\lib\\site-packages\\sklearn\\linear_model\\_sag.py:352: ConvergenceWarning: The max_iter was reached which means the coef_ did not converge\n",
      "  warnings.warn(\n"
     ]
    },
    {
     "name": "stdout",
     "output_type": "stream",
     "text": [
      "[flaml.automl.automl: 02-26 19:54:48] {3508} INFO -  at 230.2s,\testimator lrl1's best error=0.4643,\tbest estimator lgbm's best error=0.0954\n",
      "[flaml.automl.automl: 02-26 19:54:48] {3323} INFO - iteration 459, current learner lrl1\n"
     ]
    },
    {
     "name": "stderr",
     "output_type": "stream",
     "text": [
      "C:\\Users\\Utilisateur\\anaconda3\\lib\\site-packages\\sklearn\\linear_model\\_sag.py:352: ConvergenceWarning: The max_iter was reached which means the coef_ did not converge\n",
      "  warnings.warn(\n",
      "C:\\Users\\Utilisateur\\anaconda3\\lib\\site-packages\\sklearn\\linear_model\\_sag.py:352: ConvergenceWarning: The max_iter was reached which means the coef_ did not converge\n",
      "  warnings.warn(\n",
      "C:\\Users\\Utilisateur\\anaconda3\\lib\\site-packages\\sklearn\\linear_model\\_sag.py:352: ConvergenceWarning: The max_iter was reached which means the coef_ did not converge\n",
      "  warnings.warn(\n",
      "C:\\Users\\Utilisateur\\anaconda3\\lib\\site-packages\\sklearn\\linear_model\\_sag.py:352: ConvergenceWarning: The max_iter was reached which means the coef_ did not converge\n",
      "  warnings.warn(\n",
      "C:\\Users\\Utilisateur\\anaconda3\\lib\\site-packages\\sklearn\\linear_model\\_sag.py:352: ConvergenceWarning: The max_iter was reached which means the coef_ did not converge\n",
      "  warnings.warn(\n"
     ]
    },
    {
     "name": "stdout",
     "output_type": "stream",
     "text": [
      "[flaml.automl.automl: 02-26 19:54:48] {3508} INFO -  at 230.7s,\testimator lrl1's best error=0.4643,\tbest estimator lgbm's best error=0.0954\n",
      "[flaml.automl.automl: 02-26 19:54:48] {3323} INFO - iteration 460, current learner lrl1\n"
     ]
    },
    {
     "name": "stderr",
     "output_type": "stream",
     "text": [
      "C:\\Users\\Utilisateur\\anaconda3\\lib\\site-packages\\sklearn\\linear_model\\_sag.py:352: ConvergenceWarning: The max_iter was reached which means the coef_ did not converge\n",
      "  warnings.warn(\n",
      "C:\\Users\\Utilisateur\\anaconda3\\lib\\site-packages\\sklearn\\linear_model\\_sag.py:352: ConvergenceWarning: The max_iter was reached which means the coef_ did not converge\n",
      "  warnings.warn(\n",
      "C:\\Users\\Utilisateur\\anaconda3\\lib\\site-packages\\sklearn\\linear_model\\_sag.py:352: ConvergenceWarning: The max_iter was reached which means the coef_ did not converge\n",
      "  warnings.warn(\n",
      "C:\\Users\\Utilisateur\\anaconda3\\lib\\site-packages\\sklearn\\linear_model\\_sag.py:352: ConvergenceWarning: The max_iter was reached which means the coef_ did not converge\n",
      "  warnings.warn(\n",
      "C:\\Users\\Utilisateur\\anaconda3\\lib\\site-packages\\sklearn\\linear_model\\_sag.py:352: ConvergenceWarning: The max_iter was reached which means the coef_ did not converge\n",
      "  warnings.warn(\n",
      "C:\\Users\\Utilisateur\\anaconda3\\lib\\site-packages\\sklearn\\linear_model\\_sag.py:352: ConvergenceWarning: The max_iter was reached which means the coef_ did not converge\n",
      "  warnings.warn(\n"
     ]
    },
    {
     "name": "stdout",
     "output_type": "stream",
     "text": [
      "[flaml.automl.automl: 02-26 19:54:49] {3508} INFO -  at 231.1s,\testimator lrl1's best error=0.4643,\tbest estimator lgbm's best error=0.0954\n",
      "[flaml.automl.automl: 02-26 19:54:49] {3323} INFO - iteration 461, current learner lrl1\n"
     ]
    },
    {
     "name": "stderr",
     "output_type": "stream",
     "text": [
      "C:\\Users\\Utilisateur\\anaconda3\\lib\\site-packages\\sklearn\\linear_model\\_sag.py:352: ConvergenceWarning: The max_iter was reached which means the coef_ did not converge\n",
      "  warnings.warn(\n",
      "C:\\Users\\Utilisateur\\anaconda3\\lib\\site-packages\\sklearn\\linear_model\\_sag.py:352: ConvergenceWarning: The max_iter was reached which means the coef_ did not converge\n",
      "  warnings.warn(\n",
      "C:\\Users\\Utilisateur\\anaconda3\\lib\\site-packages\\sklearn\\linear_model\\_sag.py:352: ConvergenceWarning: The max_iter was reached which means the coef_ did not converge\n",
      "  warnings.warn(\n",
      "C:\\Users\\Utilisateur\\anaconda3\\lib\\site-packages\\sklearn\\linear_model\\_sag.py:352: ConvergenceWarning: The max_iter was reached which means the coef_ did not converge\n",
      "  warnings.warn(\n",
      "C:\\Users\\Utilisateur\\anaconda3\\lib\\site-packages\\sklearn\\linear_model\\_sag.py:352: ConvergenceWarning: The max_iter was reached which means the coef_ did not converge\n",
      "  warnings.warn(\n"
     ]
    },
    {
     "name": "stdout",
     "output_type": "stream",
     "text": [
      "[flaml.automl.automl: 02-26 19:54:49] {3508} INFO -  at 231.6s,\testimator lrl1's best error=0.4643,\tbest estimator lgbm's best error=0.0954\n",
      "[flaml.automl.automl: 02-26 19:54:49] {3323} INFO - iteration 462, current learner lrl1\n"
     ]
    },
    {
     "name": "stderr",
     "output_type": "stream",
     "text": [
      "C:\\Users\\Utilisateur\\anaconda3\\lib\\site-packages\\sklearn\\linear_model\\_sag.py:352: ConvergenceWarning: The max_iter was reached which means the coef_ did not converge\n",
      "  warnings.warn(\n",
      "C:\\Users\\Utilisateur\\anaconda3\\lib\\site-packages\\sklearn\\linear_model\\_sag.py:352: ConvergenceWarning: The max_iter was reached which means the coef_ did not converge\n",
      "  warnings.warn(\n",
      "C:\\Users\\Utilisateur\\anaconda3\\lib\\site-packages\\sklearn\\linear_model\\_sag.py:352: ConvergenceWarning: The max_iter was reached which means the coef_ did not converge\n",
      "  warnings.warn(\n",
      "C:\\Users\\Utilisateur\\anaconda3\\lib\\site-packages\\sklearn\\linear_model\\_sag.py:352: ConvergenceWarning: The max_iter was reached which means the coef_ did not converge\n",
      "  warnings.warn(\n",
      "C:\\Users\\Utilisateur\\anaconda3\\lib\\site-packages\\sklearn\\linear_model\\_sag.py:352: ConvergenceWarning: The max_iter was reached which means the coef_ did not converge\n",
      "  warnings.warn(\n"
     ]
    },
    {
     "name": "stdout",
     "output_type": "stream",
     "text": [
      "[flaml.automl.automl: 02-26 19:54:49] {3508} INFO -  at 232.0s,\testimator lrl1's best error=0.4643,\tbest estimator lgbm's best error=0.0954\n",
      "[flaml.automl.automl: 02-26 19:54:49] {3323} INFO - iteration 463, current learner lgbm\n"
     ]
    },
    {
     "name": "stderr",
     "output_type": "stream",
     "text": [
      "C:\\Users\\Utilisateur\\anaconda3\\lib\\site-packages\\sklearn\\linear_model\\_sag.py:352: ConvergenceWarning: The max_iter was reached which means the coef_ did not converge\n",
      "  warnings.warn(\n"
     ]
    },
    {
     "name": "stdout",
     "output_type": "stream",
     "text": [
      "[flaml.automl.automl: 02-26 19:54:50] {3508} INFO -  at 232.4s,\testimator lgbm's best error=0.0954,\tbest estimator lgbm's best error=0.0954\n",
      "[flaml.automl.automl: 02-26 19:54:50] {3323} INFO - iteration 464, current learner lgbm\n",
      "[flaml.automl.automl: 02-26 19:54:50] {3508} INFO -  at 232.6s,\testimator lgbm's best error=0.0954,\tbest estimator lgbm's best error=0.0954\n",
      "[flaml.automl.automl: 02-26 19:54:50] {3323} INFO - iteration 465, current learner lgbm\n",
      "[flaml.automl.automl: 02-26 19:54:51] {3508} INFO -  at 233.4s,\testimator lgbm's best error=0.0954,\tbest estimator lgbm's best error=0.0954\n",
      "[flaml.automl.automl: 02-26 19:54:51] {3323} INFO - iteration 466, current learner lgbm\n",
      "[flaml.automl.automl: 02-26 19:54:51] {3508} INFO -  at 233.9s,\testimator lgbm's best error=0.0954,\tbest estimator lgbm's best error=0.0954\n",
      "[flaml.automl.automl: 02-26 19:54:51] {3323} INFO - iteration 467, current learner lrl1\n"
     ]
    },
    {
     "name": "stderr",
     "output_type": "stream",
     "text": [
      "C:\\Users\\Utilisateur\\anaconda3\\lib\\site-packages\\sklearn\\linear_model\\_sag.py:352: ConvergenceWarning: The max_iter was reached which means the coef_ did not converge\n",
      "  warnings.warn(\n",
      "C:\\Users\\Utilisateur\\anaconda3\\lib\\site-packages\\sklearn\\linear_model\\_sag.py:352: ConvergenceWarning: The max_iter was reached which means the coef_ did not converge\n",
      "  warnings.warn(\n",
      "C:\\Users\\Utilisateur\\anaconda3\\lib\\site-packages\\sklearn\\linear_model\\_sag.py:352: ConvergenceWarning: The max_iter was reached which means the coef_ did not converge\n",
      "  warnings.warn(\n"
     ]
    },
    {
     "name": "stdout",
     "output_type": "stream",
     "text": [
      "[flaml.automl.automl: 02-26 19:54:52] {3508} INFO -  at 234.4s,\testimator lrl1's best error=0.4643,\tbest estimator lgbm's best error=0.0954\n",
      "[flaml.automl.automl: 02-26 19:54:52] {3323} INFO - iteration 468, current learner lgbm\n"
     ]
    },
    {
     "name": "stderr",
     "output_type": "stream",
     "text": [
      "C:\\Users\\Utilisateur\\anaconda3\\lib\\site-packages\\sklearn\\linear_model\\_sag.py:352: ConvergenceWarning: The max_iter was reached which means the coef_ did not converge\n",
      "  warnings.warn(\n",
      "C:\\Users\\Utilisateur\\anaconda3\\lib\\site-packages\\sklearn\\linear_model\\_sag.py:352: ConvergenceWarning: The max_iter was reached which means the coef_ did not converge\n",
      "  warnings.warn(\n"
     ]
    },
    {
     "name": "stdout",
     "output_type": "stream",
     "text": [
      "[flaml.automl.automl: 02-26 19:54:52] {3508} INFO -  at 234.8s,\testimator lgbm's best error=0.0954,\tbest estimator lgbm's best error=0.0954\n",
      "[flaml.automl.automl: 02-26 19:54:52] {3323} INFO - iteration 469, current learner lgbm\n",
      "[flaml.automl.automl: 02-26 19:54:53] {3508} INFO -  at 235.7s,\testimator lgbm's best error=0.0954,\tbest estimator lgbm's best error=0.0954\n",
      "[flaml.automl.automl: 02-26 19:54:53] {3323} INFO - iteration 470, current learner lrl1\n"
     ]
    },
    {
     "name": "stderr",
     "output_type": "stream",
     "text": [
      "C:\\Users\\Utilisateur\\anaconda3\\lib\\site-packages\\sklearn\\linear_model\\_sag.py:352: ConvergenceWarning: The max_iter was reached which means the coef_ did not converge\n",
      "  warnings.warn(\n",
      "C:\\Users\\Utilisateur\\anaconda3\\lib\\site-packages\\sklearn\\linear_model\\_sag.py:352: ConvergenceWarning: The max_iter was reached which means the coef_ did not converge\n",
      "  warnings.warn(\n",
      "C:\\Users\\Utilisateur\\anaconda3\\lib\\site-packages\\sklearn\\linear_model\\_sag.py:352: ConvergenceWarning: The max_iter was reached which means the coef_ did not converge\n",
      "  warnings.warn(\n"
     ]
    },
    {
     "name": "stdout",
     "output_type": "stream",
     "text": [
      "[flaml.automl.automl: 02-26 19:54:54] {3508} INFO -  at 236.2s,\testimator lrl1's best error=0.4643,\tbest estimator lgbm's best error=0.0954\n",
      "[flaml.automl.automl: 02-26 19:54:54] {3323} INFO - iteration 471, current learner lgbm\n"
     ]
    },
    {
     "name": "stderr",
     "output_type": "stream",
     "text": [
      "C:\\Users\\Utilisateur\\anaconda3\\lib\\site-packages\\sklearn\\linear_model\\_sag.py:352: ConvergenceWarning: The max_iter was reached which means the coef_ did not converge\n",
      "  warnings.warn(\n",
      "C:\\Users\\Utilisateur\\anaconda3\\lib\\site-packages\\sklearn\\linear_model\\_sag.py:352: ConvergenceWarning: The max_iter was reached which means the coef_ did not converge\n",
      "  warnings.warn(\n"
     ]
    },
    {
     "name": "stdout",
     "output_type": "stream",
     "text": [
      "[flaml.automl.automl: 02-26 19:54:54] {3508} INFO -  at 236.5s,\testimator lgbm's best error=0.0954,\tbest estimator lgbm's best error=0.0954\n",
      "[flaml.automl.automl: 02-26 19:54:54] {3323} INFO - iteration 472, current learner lrl1\n"
     ]
    },
    {
     "name": "stderr",
     "output_type": "stream",
     "text": [
      "C:\\Users\\Utilisateur\\anaconda3\\lib\\site-packages\\sklearn\\linear_model\\_sag.py:352: ConvergenceWarning: The max_iter was reached which means the coef_ did not converge\n",
      "  warnings.warn(\n",
      "C:\\Users\\Utilisateur\\anaconda3\\lib\\site-packages\\sklearn\\linear_model\\_sag.py:352: ConvergenceWarning: The max_iter was reached which means the coef_ did not converge\n",
      "  warnings.warn(\n",
      "C:\\Users\\Utilisateur\\anaconda3\\lib\\site-packages\\sklearn\\linear_model\\_sag.py:352: ConvergenceWarning: The max_iter was reached which means the coef_ did not converge\n",
      "  warnings.warn(\n",
      "C:\\Users\\Utilisateur\\anaconda3\\lib\\site-packages\\sklearn\\linear_model\\_sag.py:352: ConvergenceWarning: The max_iter was reached which means the coef_ did not converge\n",
      "  warnings.warn(\n",
      "C:\\Users\\Utilisateur\\anaconda3\\lib\\site-packages\\sklearn\\linear_model\\_sag.py:352: ConvergenceWarning: The max_iter was reached which means the coef_ did not converge\n",
      "  warnings.warn(\n"
     ]
    },
    {
     "name": "stdout",
     "output_type": "stream",
     "text": [
      "[flaml.automl.automl: 02-26 19:54:55] {3508} INFO -  at 237.2s,\testimator lrl1's best error=0.4643,\tbest estimator lgbm's best error=0.0954\n",
      "[flaml.automl.automl: 02-26 19:54:55] {3323} INFO - iteration 473, current learner lgbm\n",
      "[flaml.automl.automl: 02-26 19:54:55] {3508} INFO -  at 237.9s,\testimator lgbm's best error=0.0954,\tbest estimator lgbm's best error=0.0954\n",
      "[flaml.automl.automl: 02-26 19:54:55] {3323} INFO - iteration 474, current learner lgbm\n",
      "[flaml.automl.automl: 02-26 19:54:56] {3508} INFO -  at 238.1s,\testimator lgbm's best error=0.0954,\tbest estimator lgbm's best error=0.0954\n",
      "[flaml.automl.automl: 02-26 19:54:56] {3323} INFO - iteration 475, current learner lgbm\n",
      "[flaml.automl.automl: 02-26 19:54:57] {3508} INFO -  at 239.4s,\testimator lgbm's best error=0.0954,\tbest estimator lgbm's best error=0.0954\n",
      "[flaml.automl.automl: 02-26 19:54:57] {3323} INFO - iteration 476, current learner lrl1\n"
     ]
    },
    {
     "name": "stderr",
     "output_type": "stream",
     "text": [
      "C:\\Users\\Utilisateur\\anaconda3\\lib\\site-packages\\sklearn\\linear_model\\_sag.py:352: ConvergenceWarning: The max_iter was reached which means the coef_ did not converge\n",
      "  warnings.warn(\n",
      "C:\\Users\\Utilisateur\\anaconda3\\lib\\site-packages\\sklearn\\linear_model\\_sag.py:352: ConvergenceWarning: The max_iter was reached which means the coef_ did not converge\n",
      "  warnings.warn(\n",
      "C:\\Users\\Utilisateur\\anaconda3\\lib\\site-packages\\sklearn\\linear_model\\_sag.py:352: ConvergenceWarning: The max_iter was reached which means the coef_ did not converge\n",
      "  warnings.warn(\n"
     ]
    },
    {
     "name": "stdout",
     "output_type": "stream",
     "text": [
      "[flaml.automl.automl: 02-26 19:54:57] {3508} INFO -  at 239.9s,\testimator lrl1's best error=0.4643,\tbest estimator lgbm's best error=0.0954\n",
      "[flaml.automl.automl: 02-26 19:54:57] {3323} INFO - iteration 477, current learner lgbm\n"
     ]
    },
    {
     "name": "stderr",
     "output_type": "stream",
     "text": [
      "C:\\Users\\Utilisateur\\anaconda3\\lib\\site-packages\\sklearn\\linear_model\\_sag.py:352: ConvergenceWarning: The max_iter was reached which means the coef_ did not converge\n",
      "  warnings.warn(\n",
      "C:\\Users\\Utilisateur\\anaconda3\\lib\\site-packages\\sklearn\\linear_model\\_sag.py:352: ConvergenceWarning: The max_iter was reached which means the coef_ did not converge\n",
      "  warnings.warn(\n"
     ]
    },
    {
     "name": "stdout",
     "output_type": "stream",
     "text": [
      "[flaml.automl.automl: 02-26 19:54:58] {3508} INFO -  at 240.1s,\testimator lgbm's best error=0.0954,\tbest estimator lgbm's best error=0.0954\n",
      "[flaml.automl.automl: 02-26 19:54:58] {3323} INFO - iteration 478, current learner lgbm\n",
      "[flaml.automl.automl: 02-26 19:54:58] {3508} INFO -  at 240.6s,\testimator lgbm's best error=0.0954,\tbest estimator lgbm's best error=0.0954\n",
      "[flaml.automl.automl: 02-26 19:54:58] {3323} INFO - iteration 479, current learner lgbm\n",
      "[flaml.automl.automl: 02-26 19:54:59] {3508} INFO -  at 241.3s,\testimator lgbm's best error=0.0954,\tbest estimator lgbm's best error=0.0954\n",
      "[flaml.automl.automl: 02-26 19:54:59] {3323} INFO - iteration 480, current learner lrl1\n"
     ]
    },
    {
     "name": "stderr",
     "output_type": "stream",
     "text": [
      "C:\\Users\\Utilisateur\\anaconda3\\lib\\site-packages\\sklearn\\linear_model\\_sag.py:352: ConvergenceWarning: The max_iter was reached which means the coef_ did not converge\n",
      "  warnings.warn(\n",
      "C:\\Users\\Utilisateur\\anaconda3\\lib\\site-packages\\sklearn\\linear_model\\_sag.py:352: ConvergenceWarning: The max_iter was reached which means the coef_ did not converge\n",
      "  warnings.warn(\n",
      "C:\\Users\\Utilisateur\\anaconda3\\lib\\site-packages\\sklearn\\linear_model\\_sag.py:352: ConvergenceWarning: The max_iter was reached which means the coef_ did not converge\n",
      "  warnings.warn(\n"
     ]
    },
    {
     "name": "stdout",
     "output_type": "stream",
     "text": [
      "[flaml.automl.automl: 02-26 19:54:59] {3508} INFO -  at 241.8s,\testimator lrl1's best error=0.4643,\tbest estimator lgbm's best error=0.0954\n",
      "[flaml.automl.automl: 02-26 19:54:59] {3323} INFO - iteration 481, current learner lgbm\n"
     ]
    },
    {
     "name": "stderr",
     "output_type": "stream",
     "text": [
      "C:\\Users\\Utilisateur\\anaconda3\\lib\\site-packages\\sklearn\\linear_model\\_sag.py:352: ConvergenceWarning: The max_iter was reached which means the coef_ did not converge\n",
      "  warnings.warn(\n",
      "C:\\Users\\Utilisateur\\anaconda3\\lib\\site-packages\\sklearn\\linear_model\\_sag.py:352: ConvergenceWarning: The max_iter was reached which means the coef_ did not converge\n",
      "  warnings.warn(\n"
     ]
    },
    {
     "name": "stdout",
     "output_type": "stream",
     "text": [
      "[flaml.automl.automl: 02-26 19:55:00] {3508} INFO -  at 242.6s,\testimator lgbm's best error=0.0954,\tbest estimator lgbm's best error=0.0954\n",
      "[flaml.automl.automl: 02-26 19:55:00] {3323} INFO - iteration 482, current learner lrl1\n"
     ]
    },
    {
     "name": "stderr",
     "output_type": "stream",
     "text": [
      "C:\\Users\\Utilisateur\\anaconda3\\lib\\site-packages\\sklearn\\linear_model\\_sag.py:352: ConvergenceWarning: The max_iter was reached which means the coef_ did not converge\n",
      "  warnings.warn(\n",
      "C:\\Users\\Utilisateur\\anaconda3\\lib\\site-packages\\sklearn\\linear_model\\_sag.py:352: ConvergenceWarning: The max_iter was reached which means the coef_ did not converge\n",
      "  warnings.warn(\n",
      "C:\\Users\\Utilisateur\\anaconda3\\lib\\site-packages\\sklearn\\linear_model\\_sag.py:352: ConvergenceWarning: The max_iter was reached which means the coef_ did not converge\n",
      "  warnings.warn(\n"
     ]
    },
    {
     "name": "stdout",
     "output_type": "stream",
     "text": [
      "[flaml.automl.automl: 02-26 19:55:00] {3508} INFO -  at 243.1s,\testimator lrl1's best error=0.4643,\tbest estimator lgbm's best error=0.0954\n",
      "[flaml.automl.automl: 02-26 19:55:00] {3323} INFO - iteration 483, current learner lrl1\n"
     ]
    },
    {
     "name": "stderr",
     "output_type": "stream",
     "text": [
      "C:\\Users\\Utilisateur\\anaconda3\\lib\\site-packages\\sklearn\\linear_model\\_sag.py:352: ConvergenceWarning: The max_iter was reached which means the coef_ did not converge\n",
      "  warnings.warn(\n",
      "C:\\Users\\Utilisateur\\anaconda3\\lib\\site-packages\\sklearn\\linear_model\\_sag.py:352: ConvergenceWarning: The max_iter was reached which means the coef_ did not converge\n",
      "  warnings.warn(\n",
      "C:\\Users\\Utilisateur\\anaconda3\\lib\\site-packages\\sklearn\\linear_model\\_sag.py:352: ConvergenceWarning: The max_iter was reached which means the coef_ did not converge\n",
      "  warnings.warn(\n",
      "C:\\Users\\Utilisateur\\anaconda3\\lib\\site-packages\\sklearn\\linear_model\\_sag.py:352: ConvergenceWarning: The max_iter was reached which means the coef_ did not converge\n",
      "  warnings.warn(\n",
      "C:\\Users\\Utilisateur\\anaconda3\\lib\\site-packages\\sklearn\\linear_model\\_sag.py:352: ConvergenceWarning: The max_iter was reached which means the coef_ did not converge\n",
      "  warnings.warn(\n",
      "C:\\Users\\Utilisateur\\anaconda3\\lib\\site-packages\\sklearn\\linear_model\\_sag.py:352: ConvergenceWarning: The max_iter was reached which means the coef_ did not converge\n",
      "  warnings.warn(\n"
     ]
    },
    {
     "name": "stdout",
     "output_type": "stream",
     "text": [
      "[flaml.automl.automl: 02-26 19:55:01] {3508} INFO -  at 243.5s,\testimator lrl1's best error=0.4643,\tbest estimator lgbm's best error=0.0954\n",
      "[flaml.automl.automl: 02-26 19:55:01] {3323} INFO - iteration 484, current learner lgbm\n"
     ]
    },
    {
     "name": "stderr",
     "output_type": "stream",
     "text": [
      "C:\\Users\\Utilisateur\\anaconda3\\lib\\site-packages\\sklearn\\linear_model\\_sag.py:352: ConvergenceWarning: The max_iter was reached which means the coef_ did not converge\n",
      "  warnings.warn(\n"
     ]
    },
    {
     "name": "stdout",
     "output_type": "stream",
     "text": [
      "[flaml.automl.automl: 02-26 19:55:01] {3508} INFO -  at 243.8s,\testimator lgbm's best error=0.0954,\tbest estimator lgbm's best error=0.0954\n",
      "[flaml.automl.automl: 02-26 19:55:01] {3323} INFO - iteration 485, current learner lgbm\n",
      "[flaml.automl.automl: 02-26 19:55:02] {3508} INFO -  at 244.2s,\testimator lgbm's best error=0.0954,\tbest estimator lgbm's best error=0.0954\n",
      "[flaml.automl.automl: 02-26 19:55:02] {3323} INFO - iteration 486, current learner lgbm\n",
      "[flaml.automl.automl: 02-26 19:55:02] {3508} INFO -  at 244.5s,\testimator lgbm's best error=0.0954,\tbest estimator lgbm's best error=0.0954\n",
      "[flaml.automl.automl: 02-26 19:55:02] {3323} INFO - iteration 487, current learner lrl1\n"
     ]
    },
    {
     "name": "stderr",
     "output_type": "stream",
     "text": [
      "C:\\Users\\Utilisateur\\anaconda3\\lib\\site-packages\\sklearn\\linear_model\\_sag.py:352: ConvergenceWarning: The max_iter was reached which means the coef_ did not converge\n",
      "  warnings.warn(\n",
      "C:\\Users\\Utilisateur\\anaconda3\\lib\\site-packages\\sklearn\\linear_model\\_sag.py:352: ConvergenceWarning: The max_iter was reached which means the coef_ did not converge\n",
      "  warnings.warn(\n",
      "C:\\Users\\Utilisateur\\anaconda3\\lib\\site-packages\\sklearn\\linear_model\\_sag.py:352: ConvergenceWarning: The max_iter was reached which means the coef_ did not converge\n",
      "  warnings.warn(\n"
     ]
    },
    {
     "name": "stdout",
     "output_type": "stream",
     "text": [
      "[flaml.automl.automl: 02-26 19:55:02] {3508} INFO -  at 245.0s,\testimator lrl1's best error=0.4643,\tbest estimator lgbm's best error=0.0954\n",
      "[flaml.automl.automl: 02-26 19:55:02] {3323} INFO - iteration 488, current learner lgbm\n"
     ]
    },
    {
     "name": "stderr",
     "output_type": "stream",
     "text": [
      "C:\\Users\\Utilisateur\\anaconda3\\lib\\site-packages\\sklearn\\linear_model\\_sag.py:352: ConvergenceWarning: The max_iter was reached which means the coef_ did not converge\n",
      "  warnings.warn(\n",
      "C:\\Users\\Utilisateur\\anaconda3\\lib\\site-packages\\sklearn\\linear_model\\_sag.py:352: ConvergenceWarning: The max_iter was reached which means the coef_ did not converge\n",
      "  warnings.warn(\n"
     ]
    },
    {
     "name": "stdout",
     "output_type": "stream",
     "text": [
      "[flaml.automl.automl: 02-26 19:55:03] {3508} INFO -  at 245.3s,\testimator lgbm's best error=0.0954,\tbest estimator lgbm's best error=0.0954\n",
      "[flaml.automl.automl: 02-26 19:55:03] {3323} INFO - iteration 489, current learner lrl1\n"
     ]
    },
    {
     "name": "stderr",
     "output_type": "stream",
     "text": [
      "C:\\Users\\Utilisateur\\anaconda3\\lib\\site-packages\\sklearn\\linear_model\\_sag.py:352: ConvergenceWarning: The max_iter was reached which means the coef_ did not converge\n",
      "  warnings.warn(\n",
      "C:\\Users\\Utilisateur\\anaconda3\\lib\\site-packages\\sklearn\\linear_model\\_sag.py:352: ConvergenceWarning: The max_iter was reached which means the coef_ did not converge\n",
      "  warnings.warn(\n",
      "C:\\Users\\Utilisateur\\anaconda3\\lib\\site-packages\\sklearn\\linear_model\\_sag.py:352: ConvergenceWarning: The max_iter was reached which means the coef_ did not converge\n",
      "  warnings.warn(\n"
     ]
    },
    {
     "name": "stdout",
     "output_type": "stream",
     "text": [
      "[flaml.automl.automl: 02-26 19:55:03] {3508} INFO -  at 245.8s,\testimator lrl1's best error=0.4643,\tbest estimator lgbm's best error=0.0954\n",
      "[flaml.automl.automl: 02-26 19:55:03] {3323} INFO - iteration 490, current learner lgbm\n"
     ]
    },
    {
     "name": "stderr",
     "output_type": "stream",
     "text": [
      "C:\\Users\\Utilisateur\\anaconda3\\lib\\site-packages\\sklearn\\linear_model\\_sag.py:352: ConvergenceWarning: The max_iter was reached which means the coef_ did not converge\n",
      "  warnings.warn(\n",
      "C:\\Users\\Utilisateur\\anaconda3\\lib\\site-packages\\sklearn\\linear_model\\_sag.py:352: ConvergenceWarning: The max_iter was reached which means the coef_ did not converge\n",
      "  warnings.warn(\n"
     ]
    },
    {
     "name": "stdout",
     "output_type": "stream",
     "text": [
      "[flaml.automl.automl: 02-26 19:55:04] {3508} INFO -  at 246.6s,\testimator lgbm's best error=0.0954,\tbest estimator lgbm's best error=0.0954\n",
      "[flaml.automl.automl: 02-26 19:55:04] {3323} INFO - iteration 491, current learner lrl1\n"
     ]
    },
    {
     "name": "stderr",
     "output_type": "stream",
     "text": [
      "C:\\Users\\Utilisateur\\anaconda3\\lib\\site-packages\\sklearn\\linear_model\\_sag.py:352: ConvergenceWarning: The max_iter was reached which means the coef_ did not converge\n",
      "  warnings.warn(\n",
      "C:\\Users\\Utilisateur\\anaconda3\\lib\\site-packages\\sklearn\\linear_model\\_sag.py:352: ConvergenceWarning: The max_iter was reached which means the coef_ did not converge\n",
      "  warnings.warn(\n",
      "C:\\Users\\Utilisateur\\anaconda3\\lib\\site-packages\\sklearn\\linear_model\\_sag.py:352: ConvergenceWarning: The max_iter was reached which means the coef_ did not converge\n",
      "  warnings.warn(\n"
     ]
    },
    {
     "name": "stdout",
     "output_type": "stream",
     "text": [
      "[flaml.automl.automl: 02-26 19:55:05] {3508} INFO -  at 247.1s,\testimator lrl1's best error=0.4643,\tbest estimator lgbm's best error=0.0954\n",
      "[flaml.automl.automl: 02-26 19:55:05] {3323} INFO - iteration 492, current learner lgbm\n"
     ]
    },
    {
     "name": "stderr",
     "output_type": "stream",
     "text": [
      "C:\\Users\\Utilisateur\\anaconda3\\lib\\site-packages\\sklearn\\linear_model\\_sag.py:352: ConvergenceWarning: The max_iter was reached which means the coef_ did not converge\n",
      "  warnings.warn(\n",
      "C:\\Users\\Utilisateur\\anaconda3\\lib\\site-packages\\sklearn\\linear_model\\_sag.py:352: ConvergenceWarning: The max_iter was reached which means the coef_ did not converge\n",
      "  warnings.warn(\n"
     ]
    },
    {
     "name": "stdout",
     "output_type": "stream",
     "text": [
      "[flaml.automl.automl: 02-26 19:55:05] {3508} INFO -  at 247.4s,\testimator lgbm's best error=0.0954,\tbest estimator lgbm's best error=0.0954\n",
      "[flaml.automl.automl: 02-26 19:55:05] {3323} INFO - iteration 493, current learner lgbm\n",
      "[flaml.automl.automl: 02-26 19:55:05] {3508} INFO -  at 248.0s,\testimator lgbm's best error=0.0954,\tbest estimator lgbm's best error=0.0954\n",
      "[flaml.automl.automl: 02-26 19:55:05] {3323} INFO - iteration 494, current learner rf\n",
      "[flaml.automl.automl: 02-26 19:55:06] {3508} INFO -  at 248.8s,\testimator rf's best error=0.1297,\tbest estimator lgbm's best error=0.0954\n",
      "[flaml.automl.automl: 02-26 19:55:06] {3323} INFO - iteration 495, current learner lgbm\n",
      "[flaml.automl.automl: 02-26 19:55:06] {3508} INFO -  at 249.0s,\testimator lgbm's best error=0.0954,\tbest estimator lgbm's best error=0.0954\n",
      "[flaml.automl.automl: 02-26 19:55:06] {3323} INFO - iteration 496, current learner lgbm\n",
      "[flaml.automl.automl: 02-26 19:55:07] {3508} INFO -  at 249.8s,\testimator lgbm's best error=0.0954,\tbest estimator lgbm's best error=0.0954\n",
      "[flaml.automl.automl: 02-26 19:55:07] {3323} INFO - iteration 497, current learner lrl1\n"
     ]
    },
    {
     "name": "stderr",
     "output_type": "stream",
     "text": [
      "C:\\Users\\Utilisateur\\anaconda3\\lib\\site-packages\\sklearn\\linear_model\\_sag.py:352: ConvergenceWarning: The max_iter was reached which means the coef_ did not converge\n",
      "  warnings.warn(\n",
      "C:\\Users\\Utilisateur\\anaconda3\\lib\\site-packages\\sklearn\\linear_model\\_sag.py:352: ConvergenceWarning: The max_iter was reached which means the coef_ did not converge\n",
      "  warnings.warn(\n",
      "C:\\Users\\Utilisateur\\anaconda3\\lib\\site-packages\\sklearn\\linear_model\\_sag.py:352: ConvergenceWarning: The max_iter was reached which means the coef_ did not converge\n",
      "  warnings.warn(\n"
     ]
    },
    {
     "name": "stdout",
     "output_type": "stream",
     "text": [
      "[flaml.automl.automl: 02-26 19:55:08] {3508} INFO -  at 250.3s,\testimator lrl1's best error=0.4643,\tbest estimator lgbm's best error=0.0954\n",
      "[flaml.automl.automl: 02-26 19:55:08] {3323} INFO - iteration 498, current learner lgbm\n"
     ]
    },
    {
     "name": "stderr",
     "output_type": "stream",
     "text": [
      "C:\\Users\\Utilisateur\\anaconda3\\lib\\site-packages\\sklearn\\linear_model\\_sag.py:352: ConvergenceWarning: The max_iter was reached which means the coef_ did not converge\n",
      "  warnings.warn(\n",
      "C:\\Users\\Utilisateur\\anaconda3\\lib\\site-packages\\sklearn\\linear_model\\_sag.py:352: ConvergenceWarning: The max_iter was reached which means the coef_ did not converge\n",
      "  warnings.warn(\n"
     ]
    },
    {
     "name": "stdout",
     "output_type": "stream",
     "text": [
      "[flaml.automl.automl: 02-26 19:55:08] {3508} INFO -  at 250.7s,\testimator lgbm's best error=0.0954,\tbest estimator lgbm's best error=0.0954\n",
      "[flaml.automl.automl: 02-26 19:55:08] {3323} INFO - iteration 499, current learner lgbm\n",
      "[flaml.automl.automl: 02-26 19:55:09] {3508} INFO -  at 251.3s,\testimator lgbm's best error=0.0954,\tbest estimator lgbm's best error=0.0954\n",
      "[flaml.automl.automl: 02-26 19:55:09] {3323} INFO - iteration 500, current learner lgbm\n",
      "[flaml.automl.automl: 02-26 19:55:09] {3508} INFO -  at 251.8s,\testimator lgbm's best error=0.0954,\tbest estimator lgbm's best error=0.0954\n",
      "[flaml.automl.automl: 02-26 19:55:09] {3323} INFO - iteration 501, current learner lrl1\n"
     ]
    },
    {
     "name": "stderr",
     "output_type": "stream",
     "text": [
      "C:\\Users\\Utilisateur\\anaconda3\\lib\\site-packages\\sklearn\\linear_model\\_sag.py:352: ConvergenceWarning: The max_iter was reached which means the coef_ did not converge\n",
      "  warnings.warn(\n",
      "C:\\Users\\Utilisateur\\anaconda3\\lib\\site-packages\\sklearn\\linear_model\\_sag.py:352: ConvergenceWarning: The max_iter was reached which means the coef_ did not converge\n",
      "  warnings.warn(\n",
      "C:\\Users\\Utilisateur\\anaconda3\\lib\\site-packages\\sklearn\\linear_model\\_sag.py:352: ConvergenceWarning: The max_iter was reached which means the coef_ did not converge\n",
      "  warnings.warn(\n"
     ]
    },
    {
     "name": "stdout",
     "output_type": "stream",
     "text": [
      "[flaml.automl.automl: 02-26 19:55:10] {3508} INFO -  at 252.3s,\testimator lrl1's best error=0.4643,\tbest estimator lgbm's best error=0.0954\n",
      "[flaml.automl.automl: 02-26 19:55:10] {3323} INFO - iteration 502, current learner lrl1\n"
     ]
    },
    {
     "name": "stderr",
     "output_type": "stream",
     "text": [
      "C:\\Users\\Utilisateur\\anaconda3\\lib\\site-packages\\sklearn\\linear_model\\_sag.py:352: ConvergenceWarning: The max_iter was reached which means the coef_ did not converge\n",
      "  warnings.warn(\n",
      "C:\\Users\\Utilisateur\\anaconda3\\lib\\site-packages\\sklearn\\linear_model\\_sag.py:352: ConvergenceWarning: The max_iter was reached which means the coef_ did not converge\n",
      "  warnings.warn(\n",
      "C:\\Users\\Utilisateur\\anaconda3\\lib\\site-packages\\sklearn\\linear_model\\_sag.py:352: ConvergenceWarning: The max_iter was reached which means the coef_ did not converge\n",
      "  warnings.warn(\n",
      "C:\\Users\\Utilisateur\\anaconda3\\lib\\site-packages\\sklearn\\linear_model\\_sag.py:352: ConvergenceWarning: The max_iter was reached which means the coef_ did not converge\n",
      "  warnings.warn(\n",
      "C:\\Users\\Utilisateur\\anaconda3\\lib\\site-packages\\sklearn\\linear_model\\_sag.py:352: ConvergenceWarning: The max_iter was reached which means the coef_ did not converge\n",
      "  warnings.warn(\n",
      "C:\\Users\\Utilisateur\\anaconda3\\lib\\site-packages\\sklearn\\linear_model\\_sag.py:352: ConvergenceWarning: The max_iter was reached which means the coef_ did not converge\n",
      "  warnings.warn(\n"
     ]
    },
    {
     "name": "stdout",
     "output_type": "stream",
     "text": [
      "[flaml.automl.automl: 02-26 19:55:10] {3508} INFO -  at 252.8s,\testimator lrl1's best error=0.4643,\tbest estimator lgbm's best error=0.0954\n",
      "[flaml.automl.automl: 02-26 19:55:10] {3323} INFO - iteration 503, current learner lrl1\n"
     ]
    },
    {
     "name": "stderr",
     "output_type": "stream",
     "text": [
      "C:\\Users\\Utilisateur\\anaconda3\\lib\\site-packages\\sklearn\\linear_model\\_sag.py:352: ConvergenceWarning: The max_iter was reached which means the coef_ did not converge\n",
      "  warnings.warn(\n",
      "C:\\Users\\Utilisateur\\anaconda3\\lib\\site-packages\\sklearn\\linear_model\\_sag.py:352: ConvergenceWarning: The max_iter was reached which means the coef_ did not converge\n",
      "  warnings.warn(\n",
      "C:\\Users\\Utilisateur\\anaconda3\\lib\\site-packages\\sklearn\\linear_model\\_sag.py:352: ConvergenceWarning: The max_iter was reached which means the coef_ did not converge\n",
      "  warnings.warn(\n"
     ]
    },
    {
     "name": "stdout",
     "output_type": "stream",
     "text": [
      "[flaml.automl.automl: 02-26 19:55:11] {3508} INFO -  at 253.2s,\testimator lrl1's best error=0.4643,\tbest estimator lgbm's best error=0.0954\n",
      "[flaml.automl.automl: 02-26 19:55:11] {3323} INFO - iteration 504, current learner lrl1\n"
     ]
    },
    {
     "name": "stderr",
     "output_type": "stream",
     "text": [
      "C:\\Users\\Utilisateur\\anaconda3\\lib\\site-packages\\sklearn\\linear_model\\_sag.py:352: ConvergenceWarning: The max_iter was reached which means the coef_ did not converge\n",
      "  warnings.warn(\n",
      "C:\\Users\\Utilisateur\\anaconda3\\lib\\site-packages\\sklearn\\linear_model\\_sag.py:352: ConvergenceWarning: The max_iter was reached which means the coef_ did not converge\n",
      "  warnings.warn(\n",
      "C:\\Users\\Utilisateur\\anaconda3\\lib\\site-packages\\sklearn\\linear_model\\_sag.py:352: ConvergenceWarning: The max_iter was reached which means the coef_ did not converge\n",
      "  warnings.warn(\n",
      "C:\\Users\\Utilisateur\\anaconda3\\lib\\site-packages\\sklearn\\linear_model\\_sag.py:352: ConvergenceWarning: The max_iter was reached which means the coef_ did not converge\n",
      "  warnings.warn(\n",
      "C:\\Users\\Utilisateur\\anaconda3\\lib\\site-packages\\sklearn\\linear_model\\_sag.py:352: ConvergenceWarning: The max_iter was reached which means the coef_ did not converge\n",
      "  warnings.warn(\n",
      "C:\\Users\\Utilisateur\\anaconda3\\lib\\site-packages\\sklearn\\linear_model\\_sag.py:352: ConvergenceWarning: The max_iter was reached which means the coef_ did not converge\n",
      "  warnings.warn(\n"
     ]
    },
    {
     "name": "stdout",
     "output_type": "stream",
     "text": [
      "[flaml.automl.automl: 02-26 19:55:11] {3508} INFO -  at 253.7s,\testimator lrl1's best error=0.4643,\tbest estimator lgbm's best error=0.0954\n",
      "[flaml.automl.automl: 02-26 19:55:11] {3323} INFO - iteration 505, current learner lgbm\n"
     ]
    },
    {
     "name": "stderr",
     "output_type": "stream",
     "text": [
      "C:\\Users\\Utilisateur\\anaconda3\\lib\\site-packages\\sklearn\\linear_model\\_sag.py:352: ConvergenceWarning: The max_iter was reached which means the coef_ did not converge\n",
      "  warnings.warn(\n",
      "C:\\Users\\Utilisateur\\anaconda3\\lib\\site-packages\\sklearn\\linear_model\\_sag.py:352: ConvergenceWarning: The max_iter was reached which means the coef_ did not converge\n",
      "  warnings.warn(\n"
     ]
    },
    {
     "name": "stdout",
     "output_type": "stream",
     "text": [
      "[flaml.automl.automl: 02-26 19:55:11] {3508} INFO -  at 254.1s,\testimator lgbm's best error=0.0954,\tbest estimator lgbm's best error=0.0954\n",
      "[flaml.automl.automl: 02-26 19:55:11] {3323} INFO - iteration 506, current learner lgbm\n",
      "[flaml.automl.automl: 02-26 19:55:12] {3508} INFO -  at 254.4s,\testimator lgbm's best error=0.0954,\tbest estimator lgbm's best error=0.0954\n",
      "[flaml.automl.automl: 02-26 19:55:12] {3323} INFO - iteration 507, current learner lgbm\n",
      "[flaml.automl.automl: 02-26 19:55:12] {3508} INFO -  at 255.0s,\testimator lgbm's best error=0.0954,\tbest estimator lgbm's best error=0.0954\n",
      "[flaml.automl.automl: 02-26 19:55:12] {3323} INFO - iteration 508, current learner lgbm\n",
      "[flaml.automl.automl: 02-26 19:55:13] {3508} INFO -  at 255.4s,\testimator lgbm's best error=0.0954,\tbest estimator lgbm's best error=0.0954\n",
      "[flaml.automl.automl: 02-26 19:55:13] {3323} INFO - iteration 509, current learner lgbm\n",
      "[flaml.automl.automl: 02-26 19:55:13] {3508} INFO -  at 255.8s,\testimator lgbm's best error=0.0954,\tbest estimator lgbm's best error=0.0954\n",
      "[flaml.automl.automl: 02-26 19:55:13] {3323} INFO - iteration 510, current learner extra_tree\n",
      "[flaml.automl.automl: 02-26 19:55:14] {3508} INFO -  at 256.6s,\testimator extra_tree's best error=0.1386,\tbest estimator lgbm's best error=0.0954\n",
      "[flaml.automl.automl: 02-26 19:55:14] {3323} INFO - iteration 511, current learner lgbm\n",
      "[flaml.automl.automl: 02-26 19:55:15] {3508} INFO -  at 257.4s,\testimator lgbm's best error=0.0954,\tbest estimator lgbm's best error=0.0954\n",
      "[flaml.automl.automl: 02-26 19:55:15] {3323} INFO - iteration 512, current learner lrl1\n"
     ]
    },
    {
     "name": "stderr",
     "output_type": "stream",
     "text": [
      "C:\\Users\\Utilisateur\\anaconda3\\lib\\site-packages\\sklearn\\linear_model\\_sag.py:352: ConvergenceWarning: The max_iter was reached which means the coef_ did not converge\n",
      "  warnings.warn(\n",
      "C:\\Users\\Utilisateur\\anaconda3\\lib\\site-packages\\sklearn\\linear_model\\_sag.py:352: ConvergenceWarning: The max_iter was reached which means the coef_ did not converge\n",
      "  warnings.warn(\n",
      "C:\\Users\\Utilisateur\\anaconda3\\lib\\site-packages\\sklearn\\linear_model\\_sag.py:352: ConvergenceWarning: The max_iter was reached which means the coef_ did not converge\n",
      "  warnings.warn(\n"
     ]
    },
    {
     "name": "stdout",
     "output_type": "stream",
     "text": [
      "[flaml.automl.automl: 02-26 19:55:15] {3508} INFO -  at 257.9s,\testimator lrl1's best error=0.4643,\tbest estimator lgbm's best error=0.0954\n",
      "[flaml.automl.automl: 02-26 19:55:15] {3323} INFO - iteration 513, current learner lgbm\n"
     ]
    },
    {
     "name": "stderr",
     "output_type": "stream",
     "text": [
      "C:\\Users\\Utilisateur\\anaconda3\\lib\\site-packages\\sklearn\\linear_model\\_sag.py:352: ConvergenceWarning: The max_iter was reached which means the coef_ did not converge\n",
      "  warnings.warn(\n",
      "C:\\Users\\Utilisateur\\anaconda3\\lib\\site-packages\\sklearn\\linear_model\\_sag.py:352: ConvergenceWarning: The max_iter was reached which means the coef_ did not converge\n",
      "  warnings.warn(\n"
     ]
    },
    {
     "name": "stdout",
     "output_type": "stream",
     "text": [
      "[flaml.automl.automl: 02-26 19:55:16] {3508} INFO -  at 258.1s,\testimator lgbm's best error=0.0954,\tbest estimator lgbm's best error=0.0954\n",
      "[flaml.automl.automl: 02-26 19:55:16] {3323} INFO - iteration 514, current learner lrl1\n"
     ]
    },
    {
     "name": "stderr",
     "output_type": "stream",
     "text": [
      "C:\\Users\\Utilisateur\\anaconda3\\lib\\site-packages\\sklearn\\linear_model\\_sag.py:352: ConvergenceWarning: The max_iter was reached which means the coef_ did not converge\n",
      "  warnings.warn(\n",
      "C:\\Users\\Utilisateur\\anaconda3\\lib\\site-packages\\sklearn\\linear_model\\_sag.py:352: ConvergenceWarning: The max_iter was reached which means the coef_ did not converge\n",
      "  warnings.warn(\n",
      "C:\\Users\\Utilisateur\\anaconda3\\lib\\site-packages\\sklearn\\linear_model\\_sag.py:352: ConvergenceWarning: The max_iter was reached which means the coef_ did not converge\n",
      "  warnings.warn(\n"
     ]
    },
    {
     "name": "stdout",
     "output_type": "stream",
     "text": [
      "[flaml.automl.automl: 02-26 19:55:16] {3508} INFO -  at 258.6s,\testimator lrl1's best error=0.4643,\tbest estimator lgbm's best error=0.0954\n",
      "[flaml.automl.automl: 02-26 19:55:16] {3323} INFO - iteration 515, current learner lgbm\n"
     ]
    },
    {
     "name": "stderr",
     "output_type": "stream",
     "text": [
      "C:\\Users\\Utilisateur\\anaconda3\\lib\\site-packages\\sklearn\\linear_model\\_sag.py:352: ConvergenceWarning: The max_iter was reached which means the coef_ did not converge\n",
      "  warnings.warn(\n",
      "C:\\Users\\Utilisateur\\anaconda3\\lib\\site-packages\\sklearn\\linear_model\\_sag.py:352: ConvergenceWarning: The max_iter was reached which means the coef_ did not converge\n",
      "  warnings.warn(\n"
     ]
    },
    {
     "name": "stdout",
     "output_type": "stream",
     "text": [
      "[flaml.automl.automl: 02-26 19:55:17] {3508} INFO -  at 259.3s,\testimator lgbm's best error=0.0954,\tbest estimator lgbm's best error=0.0954\n",
      "[flaml.automl.automl: 02-26 19:55:17] {3323} INFO - iteration 516, current learner rf\n",
      "[flaml.automl.automl: 02-26 19:55:18] {3508} INFO -  at 260.1s,\testimator rf's best error=0.1297,\tbest estimator lgbm's best error=0.0954\n",
      "[flaml.automl.automl: 02-26 19:55:18] {3323} INFO - iteration 517, current learner lgbm\n",
      "[flaml.automl.automl: 02-26 19:55:18] {3508} INFO -  at 260.4s,\testimator lgbm's best error=0.0954,\tbest estimator lgbm's best error=0.0954\n",
      "[flaml.automl.automl: 02-26 19:55:18] {3323} INFO - iteration 518, current learner lgbm\n",
      "[flaml.automl.automl: 02-26 19:55:18] {3508} INFO -  at 261.0s,\testimator lgbm's best error=0.0954,\tbest estimator lgbm's best error=0.0954\n",
      "[flaml.automl.automl: 02-26 19:55:18] {3323} INFO - iteration 519, current learner lgbm\n",
      "[flaml.automl.automl: 02-26 19:55:19] {3508} INFO -  at 261.4s,\testimator lgbm's best error=0.0954,\tbest estimator lgbm's best error=0.0954\n",
      "[flaml.automl.automl: 02-26 19:55:19] {3323} INFO - iteration 520, current learner lrl1\n"
     ]
    },
    {
     "name": "stderr",
     "output_type": "stream",
     "text": [
      "C:\\Users\\Utilisateur\\anaconda3\\lib\\site-packages\\sklearn\\linear_model\\_sag.py:352: ConvergenceWarning: The max_iter was reached which means the coef_ did not converge\n",
      "  warnings.warn(\n",
      "C:\\Users\\Utilisateur\\anaconda3\\lib\\site-packages\\sklearn\\linear_model\\_sag.py:352: ConvergenceWarning: The max_iter was reached which means the coef_ did not converge\n",
      "  warnings.warn(\n",
      "C:\\Users\\Utilisateur\\anaconda3\\lib\\site-packages\\sklearn\\linear_model\\_sag.py:352: ConvergenceWarning: The max_iter was reached which means the coef_ did not converge\n",
      "  warnings.warn(\n",
      "C:\\Users\\Utilisateur\\anaconda3\\lib\\site-packages\\sklearn\\linear_model\\_sag.py:352: ConvergenceWarning: The max_iter was reached which means the coef_ did not converge\n",
      "  warnings.warn(\n",
      "C:\\Users\\Utilisateur\\anaconda3\\lib\\site-packages\\sklearn\\linear_model\\_sag.py:352: ConvergenceWarning: The max_iter was reached which means the coef_ did not converge\n",
      "  warnings.warn(\n"
     ]
    },
    {
     "name": "stdout",
     "output_type": "stream",
     "text": [
      "[flaml.automl.automl: 02-26 19:55:19] {3508} INFO -  at 262.1s,\testimator lrl1's best error=0.4643,\tbest estimator lgbm's best error=0.0954\n",
      "[flaml.automl.automl: 02-26 19:55:19] {3323} INFO - iteration 521, current learner lgbm\n",
      "[flaml.automl.automl: 02-26 19:55:20] {3508} INFO -  at 262.4s,\testimator lgbm's best error=0.0954,\tbest estimator lgbm's best error=0.0954\n",
      "[flaml.automl.automl: 02-26 19:55:20] {3323} INFO - iteration 522, current learner lgbm\n",
      "[flaml.automl.automl: 02-26 19:55:21] {3508} INFO -  at 263.5s,\testimator lgbm's best error=0.0954,\tbest estimator lgbm's best error=0.0954\n",
      "[flaml.automl.automl: 02-26 19:55:21] {3323} INFO - iteration 523, current learner lgbm\n",
      "[flaml.automl.automl: 02-26 19:55:22] {3508} INFO -  at 264.4s,\testimator lgbm's best error=0.0954,\tbest estimator lgbm's best error=0.0954\n",
      "[flaml.automl.automl: 02-26 19:55:22] {3323} INFO - iteration 524, current learner xgboost\n",
      "[flaml.automl.automl: 02-26 19:55:24] {3508} INFO -  at 266.4s,\testimator xgboost's best error=0.1448,\tbest estimator lgbm's best error=0.0954\n",
      "[flaml.automl.automl: 02-26 19:55:24] {3323} INFO - iteration 525, current learner lrl1\n"
     ]
    },
    {
     "name": "stderr",
     "output_type": "stream",
     "text": [
      "C:\\Users\\Utilisateur\\anaconda3\\lib\\site-packages\\sklearn\\linear_model\\_sag.py:352: ConvergenceWarning: The max_iter was reached which means the coef_ did not converge\n",
      "  warnings.warn(\n",
      "C:\\Users\\Utilisateur\\anaconda3\\lib\\site-packages\\sklearn\\linear_model\\_sag.py:352: ConvergenceWarning: The max_iter was reached which means the coef_ did not converge\n",
      "  warnings.warn(\n",
      "C:\\Users\\Utilisateur\\anaconda3\\lib\\site-packages\\sklearn\\linear_model\\_sag.py:352: ConvergenceWarning: The max_iter was reached which means the coef_ did not converge\n",
      "  warnings.warn(\n"
     ]
    },
    {
     "name": "stdout",
     "output_type": "stream",
     "text": [
      "[flaml.automl.automl: 02-26 19:55:24] {3508} INFO -  at 266.9s,\testimator lrl1's best error=0.4643,\tbest estimator lgbm's best error=0.0954\n",
      "[flaml.automl.automl: 02-26 19:55:24] {3323} INFO - iteration 526, current learner lrl1\n"
     ]
    },
    {
     "name": "stderr",
     "output_type": "stream",
     "text": [
      "C:\\Users\\Utilisateur\\anaconda3\\lib\\site-packages\\sklearn\\linear_model\\_sag.py:352: ConvergenceWarning: The max_iter was reached which means the coef_ did not converge\n",
      "  warnings.warn(\n",
      "C:\\Users\\Utilisateur\\anaconda3\\lib\\site-packages\\sklearn\\linear_model\\_sag.py:352: ConvergenceWarning: The max_iter was reached which means the coef_ did not converge\n",
      "  warnings.warn(\n",
      "C:\\Users\\Utilisateur\\anaconda3\\lib\\site-packages\\sklearn\\linear_model\\_sag.py:352: ConvergenceWarning: The max_iter was reached which means the coef_ did not converge\n",
      "  warnings.warn(\n",
      "C:\\Users\\Utilisateur\\anaconda3\\lib\\site-packages\\sklearn\\linear_model\\_sag.py:352: ConvergenceWarning: The max_iter was reached which means the coef_ did not converge\n",
      "  warnings.warn(\n",
      "C:\\Users\\Utilisateur\\anaconda3\\lib\\site-packages\\sklearn\\linear_model\\_sag.py:352: ConvergenceWarning: The max_iter was reached which means the coef_ did not converge\n",
      "  warnings.warn(\n",
      "C:\\Users\\Utilisateur\\anaconda3\\lib\\site-packages\\sklearn\\linear_model\\_sag.py:352: ConvergenceWarning: The max_iter was reached which means the coef_ did not converge\n",
      "  warnings.warn(\n",
      "C:\\Users\\Utilisateur\\anaconda3\\lib\\site-packages\\sklearn\\linear_model\\_sag.py:352: ConvergenceWarning: The max_iter was reached which means the coef_ did not converge\n",
      "  warnings.warn(\n"
     ]
    },
    {
     "name": "stdout",
     "output_type": "stream",
     "text": [
      "[flaml.automl.automl: 02-26 19:55:25] {3508} INFO -  at 267.4s,\testimator lrl1's best error=0.4643,\tbest estimator lgbm's best error=0.0954\n",
      "[flaml.automl.automl: 02-26 19:55:25] {3323} INFO - iteration 527, current learner extra_tree\n",
      "[flaml.automl.automl: 02-26 19:55:25] {3508} INFO -  at 267.8s,\testimator extra_tree's best error=0.1386,\tbest estimator lgbm's best error=0.0954\n",
      "[flaml.automl.automl: 02-26 19:55:25] {3323} INFO - iteration 528, current learner lrl1\n"
     ]
    },
    {
     "name": "stderr",
     "output_type": "stream",
     "text": [
      "C:\\Users\\Utilisateur\\anaconda3\\lib\\site-packages\\sklearn\\linear_model\\_sag.py:352: ConvergenceWarning: The max_iter was reached which means the coef_ did not converge\n",
      "  warnings.warn(\n",
      "C:\\Users\\Utilisateur\\anaconda3\\lib\\site-packages\\sklearn\\linear_model\\_sag.py:352: ConvergenceWarning: The max_iter was reached which means the coef_ did not converge\n",
      "  warnings.warn(\n",
      "C:\\Users\\Utilisateur\\anaconda3\\lib\\site-packages\\sklearn\\linear_model\\_sag.py:352: ConvergenceWarning: The max_iter was reached which means the coef_ did not converge\n",
      "  warnings.warn(\n"
     ]
    },
    {
     "name": "stdout",
     "output_type": "stream",
     "text": [
      "[flaml.automl.automl: 02-26 19:55:26] {3508} INFO -  at 268.2s,\testimator lrl1's best error=0.4643,\tbest estimator lgbm's best error=0.0954\n",
      "[flaml.automl.automl: 02-26 19:55:26] {3323} INFO - iteration 529, current learner lrl1\n"
     ]
    },
    {
     "name": "stderr",
     "output_type": "stream",
     "text": [
      "C:\\Users\\Utilisateur\\anaconda3\\lib\\site-packages\\sklearn\\linear_model\\_sag.py:352: ConvergenceWarning: The max_iter was reached which means the coef_ did not converge\n",
      "  warnings.warn(\n",
      "C:\\Users\\Utilisateur\\anaconda3\\lib\\site-packages\\sklearn\\linear_model\\_sag.py:352: ConvergenceWarning: The max_iter was reached which means the coef_ did not converge\n",
      "  warnings.warn(\n",
      "C:\\Users\\Utilisateur\\anaconda3\\lib\\site-packages\\sklearn\\linear_model\\_sag.py:352: ConvergenceWarning: The max_iter was reached which means the coef_ did not converge\n",
      "  warnings.warn(\n",
      "C:\\Users\\Utilisateur\\anaconda3\\lib\\site-packages\\sklearn\\linear_model\\_sag.py:352: ConvergenceWarning: The max_iter was reached which means the coef_ did not converge\n",
      "  warnings.warn(\n",
      "C:\\Users\\Utilisateur\\anaconda3\\lib\\site-packages\\sklearn\\linear_model\\_sag.py:352: ConvergenceWarning: The max_iter was reached which means the coef_ did not converge\n",
      "  warnings.warn(\n",
      "C:\\Users\\Utilisateur\\anaconda3\\lib\\site-packages\\sklearn\\linear_model\\_sag.py:352: ConvergenceWarning: The max_iter was reached which means the coef_ did not converge\n",
      "  warnings.warn(\n",
      "C:\\Users\\Utilisateur\\anaconda3\\lib\\site-packages\\sklearn\\linear_model\\_sag.py:352: ConvergenceWarning: The max_iter was reached which means the coef_ did not converge\n",
      "  warnings.warn(\n"
     ]
    },
    {
     "name": "stdout",
     "output_type": "stream",
     "text": [
      "[flaml.automl.automl: 02-26 19:55:26] {3508} INFO -  at 268.7s,\testimator lrl1's best error=0.4643,\tbest estimator lgbm's best error=0.0954\n",
      "[flaml.automl.automl: 02-26 19:55:26] {3323} INFO - iteration 530, current learner extra_tree\n",
      "[flaml.automl.automl: 02-26 19:55:27] {3508} INFO -  at 269.2s,\testimator extra_tree's best error=0.1386,\tbest estimator lgbm's best error=0.0954\n",
      "[flaml.automl.automl: 02-26 19:55:27] {3323} INFO - iteration 531, current learner lgbm\n",
      "[flaml.automl.automl: 02-26 19:55:27] {3508} INFO -  at 269.5s,\testimator lgbm's best error=0.0954,\tbest estimator lgbm's best error=0.0954\n",
      "[flaml.automl.automl: 02-26 19:55:27] {3323} INFO - iteration 532, current learner lgbm\n",
      "[flaml.automl.automl: 02-26 19:55:28] {3508} INFO -  at 270.4s,\testimator lgbm's best error=0.0954,\tbest estimator lgbm's best error=0.0954\n",
      "[flaml.automl.automl: 02-26 19:55:28] {3323} INFO - iteration 533, current learner lgbm\n",
      "[flaml.automl.automl: 02-26 19:55:28] {3508} INFO -  at 270.6s,\testimator lgbm's best error=0.0954,\tbest estimator lgbm's best error=0.0954\n",
      "[flaml.automl.automl: 02-26 19:55:28] {3323} INFO - iteration 534, current learner lgbm\n",
      "[flaml.automl.automl: 02-26 19:55:29] {3508} INFO -  at 271.4s,\testimator lgbm's best error=0.0954,\tbest estimator lgbm's best error=0.0954\n",
      "[flaml.automl.automl: 02-26 19:55:29] {3323} INFO - iteration 535, current learner lgbm\n",
      "[flaml.automl.automl: 02-26 19:55:29] {3508} INFO -  at 271.6s,\testimator lgbm's best error=0.0954,\tbest estimator lgbm's best error=0.0954\n",
      "[flaml.automl.automl: 02-26 19:55:29] {3323} INFO - iteration 536, current learner lrl1\n"
     ]
    },
    {
     "name": "stderr",
     "output_type": "stream",
     "text": [
      "C:\\Users\\Utilisateur\\anaconda3\\lib\\site-packages\\sklearn\\linear_model\\_sag.py:352: ConvergenceWarning: The max_iter was reached which means the coef_ did not converge\n",
      "  warnings.warn(\n",
      "C:\\Users\\Utilisateur\\anaconda3\\lib\\site-packages\\sklearn\\linear_model\\_sag.py:352: ConvergenceWarning: The max_iter was reached which means the coef_ did not converge\n",
      "  warnings.warn(\n",
      "C:\\Users\\Utilisateur\\anaconda3\\lib\\site-packages\\sklearn\\linear_model\\_sag.py:352: ConvergenceWarning: The max_iter was reached which means the coef_ did not converge\n",
      "  warnings.warn(\n"
     ]
    },
    {
     "name": "stdout",
     "output_type": "stream",
     "text": [
      "[flaml.automl.automl: 02-26 19:55:30] {3508} INFO -  at 272.1s,\testimator lrl1's best error=0.4643,\tbest estimator lgbm's best error=0.0954\n",
      "[flaml.automl.automl: 02-26 19:55:30] {3323} INFO - iteration 537, current learner lgbm\n"
     ]
    },
    {
     "name": "stderr",
     "output_type": "stream",
     "text": [
      "C:\\Users\\Utilisateur\\anaconda3\\lib\\site-packages\\sklearn\\linear_model\\_sag.py:352: ConvergenceWarning: The max_iter was reached which means the coef_ did not converge\n",
      "  warnings.warn(\n",
      "C:\\Users\\Utilisateur\\anaconda3\\lib\\site-packages\\sklearn\\linear_model\\_sag.py:352: ConvergenceWarning: The max_iter was reached which means the coef_ did not converge\n",
      "  warnings.warn(\n"
     ]
    },
    {
     "name": "stdout",
     "output_type": "stream",
     "text": [
      "[flaml.automl.automl: 02-26 19:55:30] {3508} INFO -  at 272.7s,\testimator lgbm's best error=0.0954,\tbest estimator lgbm's best error=0.0954\n",
      "[flaml.automl.automl: 02-26 19:55:30] {3323} INFO - iteration 538, current learner lrl1\n"
     ]
    },
    {
     "name": "stderr",
     "output_type": "stream",
     "text": [
      "C:\\Users\\Utilisateur\\anaconda3\\lib\\site-packages\\sklearn\\linear_model\\_sag.py:352: ConvergenceWarning: The max_iter was reached which means the coef_ did not converge\n",
      "  warnings.warn(\n",
      "C:\\Users\\Utilisateur\\anaconda3\\lib\\site-packages\\sklearn\\linear_model\\_sag.py:352: ConvergenceWarning: The max_iter was reached which means the coef_ did not converge\n",
      "  warnings.warn(\n",
      "C:\\Users\\Utilisateur\\anaconda3\\lib\\site-packages\\sklearn\\linear_model\\_sag.py:352: ConvergenceWarning: The max_iter was reached which means the coef_ did not converge\n",
      "  warnings.warn(\n"
     ]
    },
    {
     "name": "stdout",
     "output_type": "stream",
     "text": [
      "[flaml.automl.automl: 02-26 19:55:31] {3508} INFO -  at 273.2s,\testimator lrl1's best error=0.4643,\tbest estimator lgbm's best error=0.0954\n",
      "[flaml.automl.automl: 02-26 19:55:31] {3323} INFO - iteration 539, current learner lrl1\n"
     ]
    },
    {
     "name": "stderr",
     "output_type": "stream",
     "text": [
      "C:\\Users\\Utilisateur\\anaconda3\\lib\\site-packages\\sklearn\\linear_model\\_sag.py:352: ConvergenceWarning: The max_iter was reached which means the coef_ did not converge\n",
      "  warnings.warn(\n",
      "C:\\Users\\Utilisateur\\anaconda3\\lib\\site-packages\\sklearn\\linear_model\\_sag.py:352: ConvergenceWarning: The max_iter was reached which means the coef_ did not converge\n",
      "  warnings.warn(\n",
      "C:\\Users\\Utilisateur\\anaconda3\\lib\\site-packages\\sklearn\\linear_model\\_sag.py:352: ConvergenceWarning: The max_iter was reached which means the coef_ did not converge\n",
      "  warnings.warn(\n",
      "C:\\Users\\Utilisateur\\anaconda3\\lib\\site-packages\\sklearn\\linear_model\\_sag.py:352: ConvergenceWarning: The max_iter was reached which means the coef_ did not converge\n",
      "  warnings.warn(\n",
      "C:\\Users\\Utilisateur\\anaconda3\\lib\\site-packages\\sklearn\\linear_model\\_sag.py:352: ConvergenceWarning: The max_iter was reached which means the coef_ did not converge\n",
      "  warnings.warn(\n",
      "C:\\Users\\Utilisateur\\anaconda3\\lib\\site-packages\\sklearn\\linear_model\\_sag.py:352: ConvergenceWarning: The max_iter was reached which means the coef_ did not converge\n",
      "  warnings.warn(\n"
     ]
    },
    {
     "name": "stdout",
     "output_type": "stream",
     "text": [
      "[flaml.automl.automl: 02-26 19:55:31] {3508} INFO -  at 273.6s,\testimator lrl1's best error=0.4643,\tbest estimator lgbm's best error=0.0954\n",
      "[flaml.automl.automl: 02-26 19:55:31] {3323} INFO - iteration 540, current learner lrl1\n"
     ]
    },
    {
     "name": "stderr",
     "output_type": "stream",
     "text": [
      "C:\\Users\\Utilisateur\\anaconda3\\lib\\site-packages\\sklearn\\linear_model\\_sag.py:352: ConvergenceWarning: The max_iter was reached which means the coef_ did not converge\n",
      "  warnings.warn(\n",
      "C:\\Users\\Utilisateur\\anaconda3\\lib\\site-packages\\sklearn\\linear_model\\_sag.py:352: ConvergenceWarning: The max_iter was reached which means the coef_ did not converge\n",
      "  warnings.warn(\n",
      "C:\\Users\\Utilisateur\\anaconda3\\lib\\site-packages\\sklearn\\linear_model\\_sag.py:352: ConvergenceWarning: The max_iter was reached which means the coef_ did not converge\n",
      "  warnings.warn(\n"
     ]
    },
    {
     "name": "stdout",
     "output_type": "stream",
     "text": [
      "[flaml.automl.automl: 02-26 19:55:31] {3508} INFO -  at 274.0s,\testimator lrl1's best error=0.4643,\tbest estimator lgbm's best error=0.0954\n",
      "[flaml.automl.automl: 02-26 19:55:31] {3323} INFO - iteration 541, current learner lrl1\n"
     ]
    },
    {
     "name": "stderr",
     "output_type": "stream",
     "text": [
      "C:\\Users\\Utilisateur\\anaconda3\\lib\\site-packages\\sklearn\\linear_model\\_sag.py:352: ConvergenceWarning: The max_iter was reached which means the coef_ did not converge\n",
      "  warnings.warn(\n",
      "C:\\Users\\Utilisateur\\anaconda3\\lib\\site-packages\\sklearn\\linear_model\\_sag.py:352: ConvergenceWarning: The max_iter was reached which means the coef_ did not converge\n",
      "  warnings.warn(\n",
      "C:\\Users\\Utilisateur\\anaconda3\\lib\\site-packages\\sklearn\\linear_model\\_sag.py:352: ConvergenceWarning: The max_iter was reached which means the coef_ did not converge\n",
      "  warnings.warn(\n",
      "C:\\Users\\Utilisateur\\anaconda3\\lib\\site-packages\\sklearn\\linear_model\\_sag.py:352: ConvergenceWarning: The max_iter was reached which means the coef_ did not converge\n",
      "  warnings.warn(\n",
      "C:\\Users\\Utilisateur\\anaconda3\\lib\\site-packages\\sklearn\\linear_model\\_sag.py:352: ConvergenceWarning: The max_iter was reached which means the coef_ did not converge\n",
      "  warnings.warn(\n",
      "C:\\Users\\Utilisateur\\anaconda3\\lib\\site-packages\\sklearn\\linear_model\\_sag.py:352: ConvergenceWarning: The max_iter was reached which means the coef_ did not converge\n",
      "  warnings.warn(\n"
     ]
    },
    {
     "name": "stdout",
     "output_type": "stream",
     "text": [
      "[flaml.automl.automl: 02-26 19:55:32] {3508} INFO -  at 274.5s,\testimator lrl1's best error=0.4643,\tbest estimator lgbm's best error=0.0954\n",
      "[flaml.automl.automl: 02-26 19:55:32] {3323} INFO - iteration 542, current learner lrl1\n"
     ]
    },
    {
     "name": "stderr",
     "output_type": "stream",
     "text": [
      "C:\\Users\\Utilisateur\\anaconda3\\lib\\site-packages\\sklearn\\linear_model\\_sag.py:352: ConvergenceWarning: The max_iter was reached which means the coef_ did not converge\n",
      "  warnings.warn(\n",
      "C:\\Users\\Utilisateur\\anaconda3\\lib\\site-packages\\sklearn\\linear_model\\_sag.py:352: ConvergenceWarning: The max_iter was reached which means the coef_ did not converge\n",
      "  warnings.warn(\n",
      "C:\\Users\\Utilisateur\\anaconda3\\lib\\site-packages\\sklearn\\linear_model\\_sag.py:352: ConvergenceWarning: The max_iter was reached which means the coef_ did not converge\n",
      "  warnings.warn(\n",
      "C:\\Users\\Utilisateur\\anaconda3\\lib\\site-packages\\sklearn\\linear_model\\_sag.py:352: ConvergenceWarning: The max_iter was reached which means the coef_ did not converge\n",
      "  warnings.warn(\n",
      "C:\\Users\\Utilisateur\\anaconda3\\lib\\site-packages\\sklearn\\linear_model\\_sag.py:352: ConvergenceWarning: The max_iter was reached which means the coef_ did not converge\n",
      "  warnings.warn(\n",
      "C:\\Users\\Utilisateur\\anaconda3\\lib\\site-packages\\sklearn\\linear_model\\_sag.py:352: ConvergenceWarning: The max_iter was reached which means the coef_ did not converge\n",
      "  warnings.warn(\n"
     ]
    },
    {
     "name": "stdout",
     "output_type": "stream",
     "text": [
      "[flaml.automl.automl: 02-26 19:55:32] {3508} INFO -  at 274.9s,\testimator lrl1's best error=0.4643,\tbest estimator lgbm's best error=0.0954\n",
      "[flaml.automl.automl: 02-26 19:55:32] {3323} INFO - iteration 543, current learner lgbm\n"
     ]
    },
    {
     "name": "stderr",
     "output_type": "stream",
     "text": [
      "C:\\Users\\Utilisateur\\anaconda3\\lib\\site-packages\\sklearn\\linear_model\\_sag.py:352: ConvergenceWarning: The max_iter was reached which means the coef_ did not converge\n",
      "  warnings.warn(\n"
     ]
    },
    {
     "name": "stdout",
     "output_type": "stream",
     "text": [
      "[flaml.automl.automl: 02-26 19:55:33] {3508} INFO -  at 275.3s,\testimator lgbm's best error=0.0954,\tbest estimator lgbm's best error=0.0954\n",
      "[flaml.automl.automl: 02-26 19:55:33] {3323} INFO - iteration 544, current learner lgbm\n",
      "[flaml.automl.automl: 02-26 19:55:33] {3508} INFO -  at 275.8s,\testimator lgbm's best error=0.0954,\tbest estimator lgbm's best error=0.0954\n",
      "[flaml.automl.automl: 02-26 19:55:33] {3323} INFO - iteration 545, current learner lgbm\n",
      "[flaml.automl.automl: 02-26 19:55:34] {3508} INFO -  at 276.2s,\testimator lgbm's best error=0.0954,\tbest estimator lgbm's best error=0.0954\n",
      "[flaml.automl.automl: 02-26 19:55:34] {3323} INFO - iteration 546, current learner lgbm\n",
      "[flaml.automl.automl: 02-26 19:55:34] {3508} INFO -  at 276.9s,\testimator lgbm's best error=0.0954,\tbest estimator lgbm's best error=0.0954\n",
      "[flaml.automl.automl: 02-26 19:55:34] {3323} INFO - iteration 547, current learner lrl1\n"
     ]
    },
    {
     "name": "stderr",
     "output_type": "stream",
     "text": [
      "C:\\Users\\Utilisateur\\anaconda3\\lib\\site-packages\\sklearn\\linear_model\\_sag.py:352: ConvergenceWarning: The max_iter was reached which means the coef_ did not converge\n",
      "  warnings.warn(\n",
      "C:\\Users\\Utilisateur\\anaconda3\\lib\\site-packages\\sklearn\\linear_model\\_sag.py:352: ConvergenceWarning: The max_iter was reached which means the coef_ did not converge\n",
      "  warnings.warn(\n",
      "C:\\Users\\Utilisateur\\anaconda3\\lib\\site-packages\\sklearn\\linear_model\\_sag.py:352: ConvergenceWarning: The max_iter was reached which means the coef_ did not converge\n",
      "  warnings.warn(\n",
      "C:\\Users\\Utilisateur\\anaconda3\\lib\\site-packages\\sklearn\\linear_model\\_sag.py:352: ConvergenceWarning: The max_iter was reached which means the coef_ did not converge\n",
      "  warnings.warn(\n",
      "C:\\Users\\Utilisateur\\anaconda3\\lib\\site-packages\\sklearn\\linear_model\\_sag.py:352: ConvergenceWarning: The max_iter was reached which means the coef_ did not converge\n",
      "  warnings.warn(\n"
     ]
    },
    {
     "name": "stdout",
     "output_type": "stream",
     "text": [
      "[flaml.automl.automl: 02-26 19:55:35] {3508} INFO -  at 277.5s,\testimator lrl1's best error=0.4643,\tbest estimator lgbm's best error=0.0954\n",
      "[flaml.automl.automl: 02-26 19:55:35] {3323} INFO - iteration 548, current learner lgbm\n",
      "[flaml.automl.automl: 02-26 19:55:35] {3508} INFO -  at 277.8s,\testimator lgbm's best error=0.0954,\tbest estimator lgbm's best error=0.0954\n",
      "[flaml.automl.automl: 02-26 19:55:35] {3323} INFO - iteration 549, current learner lgbm\n",
      "[flaml.automl.automl: 02-26 19:55:36] {3508} INFO -  at 278.1s,\testimator lgbm's best error=0.0954,\tbest estimator lgbm's best error=0.0954\n",
      "[flaml.automl.automl: 02-26 19:55:36] {3323} INFO - iteration 550, current learner lgbm\n",
      "[flaml.automl.automl: 02-26 19:55:37] {3508} INFO -  at 279.2s,\testimator lgbm's best error=0.0954,\tbest estimator lgbm's best error=0.0954\n",
      "[flaml.automl.automl: 02-26 19:55:37] {3323} INFO - iteration 551, current learner lgbm\n",
      "[flaml.automl.automl: 02-26 19:55:38] {3508} INFO -  at 280.2s,\testimator lgbm's best error=0.0954,\tbest estimator lgbm's best error=0.0954\n",
      "[flaml.automl.automl: 02-26 19:55:38] {3323} INFO - iteration 552, current learner lrl1\n"
     ]
    },
    {
     "name": "stderr",
     "output_type": "stream",
     "text": [
      "C:\\Users\\Utilisateur\\anaconda3\\lib\\site-packages\\sklearn\\linear_model\\_sag.py:352: ConvergenceWarning: The max_iter was reached which means the coef_ did not converge\n",
      "  warnings.warn(\n",
      "C:\\Users\\Utilisateur\\anaconda3\\lib\\site-packages\\sklearn\\linear_model\\_sag.py:352: ConvergenceWarning: The max_iter was reached which means the coef_ did not converge\n",
      "  warnings.warn(\n",
      "C:\\Users\\Utilisateur\\anaconda3\\lib\\site-packages\\sklearn\\linear_model\\_sag.py:352: ConvergenceWarning: The max_iter was reached which means the coef_ did not converge\n",
      "  warnings.warn(\n"
     ]
    },
    {
     "name": "stdout",
     "output_type": "stream",
     "text": [
      "[flaml.automl.automl: 02-26 19:55:38] {3508} INFO -  at 280.7s,\testimator lrl1's best error=0.4643,\tbest estimator lgbm's best error=0.0954\n",
      "[flaml.automl.automl: 02-26 19:55:38] {3323} INFO - iteration 553, current learner lgbm\n"
     ]
    },
    {
     "name": "stderr",
     "output_type": "stream",
     "text": [
      "C:\\Users\\Utilisateur\\anaconda3\\lib\\site-packages\\sklearn\\linear_model\\_sag.py:352: ConvergenceWarning: The max_iter was reached which means the coef_ did not converge\n",
      "  warnings.warn(\n",
      "C:\\Users\\Utilisateur\\anaconda3\\lib\\site-packages\\sklearn\\linear_model\\_sag.py:352: ConvergenceWarning: The max_iter was reached which means the coef_ did not converge\n",
      "  warnings.warn(\n"
     ]
    },
    {
     "name": "stdout",
     "output_type": "stream",
     "text": [
      "[flaml.automl.automl: 02-26 19:55:38] {3508} INFO -  at 280.9s,\testimator lgbm's best error=0.0954,\tbest estimator lgbm's best error=0.0954\n",
      "[flaml.automl.automl: 02-26 19:55:38] {3323} INFO - iteration 554, current learner lrl1\n"
     ]
    },
    {
     "name": "stderr",
     "output_type": "stream",
     "text": [
      "C:\\Users\\Utilisateur\\anaconda3\\lib\\site-packages\\sklearn\\linear_model\\_sag.py:352: ConvergenceWarning: The max_iter was reached which means the coef_ did not converge\n",
      "  warnings.warn(\n",
      "C:\\Users\\Utilisateur\\anaconda3\\lib\\site-packages\\sklearn\\linear_model\\_sag.py:352: ConvergenceWarning: The max_iter was reached which means the coef_ did not converge\n",
      "  warnings.warn(\n",
      "C:\\Users\\Utilisateur\\anaconda3\\lib\\site-packages\\sklearn\\linear_model\\_sag.py:352: ConvergenceWarning: The max_iter was reached which means the coef_ did not converge\n",
      "  warnings.warn(\n"
     ]
    },
    {
     "name": "stdout",
     "output_type": "stream",
     "text": [
      "[flaml.automl.automl: 02-26 19:55:39] {3508} INFO -  at 281.4s,\testimator lrl1's best error=0.4643,\tbest estimator lgbm's best error=0.0954\n",
      "[flaml.automl.automl: 02-26 19:55:39] {3323} INFO - iteration 555, current learner lgbm\n"
     ]
    },
    {
     "name": "stderr",
     "output_type": "stream",
     "text": [
      "C:\\Users\\Utilisateur\\anaconda3\\lib\\site-packages\\sklearn\\linear_model\\_sag.py:352: ConvergenceWarning: The max_iter was reached which means the coef_ did not converge\n",
      "  warnings.warn(\n",
      "C:\\Users\\Utilisateur\\anaconda3\\lib\\site-packages\\sklearn\\linear_model\\_sag.py:352: ConvergenceWarning: The max_iter was reached which means the coef_ did not converge\n",
      "  warnings.warn(\n"
     ]
    },
    {
     "name": "stdout",
     "output_type": "stream",
     "text": [
      "[flaml.automl.automl: 02-26 19:55:40] {3508} INFO -  at 282.2s,\testimator lgbm's best error=0.0954,\tbest estimator lgbm's best error=0.0954\n",
      "[flaml.automl.automl: 02-26 19:55:40] {3323} INFO - iteration 556, current learner lgbm\n",
      "[flaml.automl.automl: 02-26 19:55:40] {3508} INFO -  at 282.4s,\testimator lgbm's best error=0.0954,\tbest estimator lgbm's best error=0.0954\n",
      "[flaml.automl.automl: 02-26 19:55:40] {3323} INFO - iteration 557, current learner lgbm\n",
      "[flaml.automl.automl: 02-26 19:55:41] {3508} INFO -  at 283.1s,\testimator lgbm's best error=0.0954,\tbest estimator lgbm's best error=0.0954\n",
      "[flaml.automl.automl: 02-26 19:55:41] {3323} INFO - iteration 558, current learner lrl1\n"
     ]
    },
    {
     "name": "stderr",
     "output_type": "stream",
     "text": [
      "C:\\Users\\Utilisateur\\anaconda3\\lib\\site-packages\\sklearn\\linear_model\\_sag.py:352: ConvergenceWarning: The max_iter was reached which means the coef_ did not converge\n",
      "  warnings.warn(\n",
      "C:\\Users\\Utilisateur\\anaconda3\\lib\\site-packages\\sklearn\\linear_model\\_sag.py:352: ConvergenceWarning: The max_iter was reached which means the coef_ did not converge\n",
      "  warnings.warn(\n",
      "C:\\Users\\Utilisateur\\anaconda3\\lib\\site-packages\\sklearn\\linear_model\\_sag.py:352: ConvergenceWarning: The max_iter was reached which means the coef_ did not converge\n",
      "  warnings.warn(\n"
     ]
    },
    {
     "name": "stdout",
     "output_type": "stream",
     "text": [
      "[flaml.automl.automl: 02-26 19:55:41] {3508} INFO -  at 283.6s,\testimator lrl1's best error=0.4643,\tbest estimator lgbm's best error=0.0954\n",
      "[flaml.automl.automl: 02-26 19:55:41] {3323} INFO - iteration 559, current learner lgbm\n"
     ]
    },
    {
     "name": "stderr",
     "output_type": "stream",
     "text": [
      "C:\\Users\\Utilisateur\\anaconda3\\lib\\site-packages\\sklearn\\linear_model\\_sag.py:352: ConvergenceWarning: The max_iter was reached which means the coef_ did not converge\n",
      "  warnings.warn(\n",
      "C:\\Users\\Utilisateur\\anaconda3\\lib\\site-packages\\sklearn\\linear_model\\_sag.py:352: ConvergenceWarning: The max_iter was reached which means the coef_ did not converge\n",
      "  warnings.warn(\n"
     ]
    },
    {
     "name": "stdout",
     "output_type": "stream",
     "text": [
      "[flaml.automl.automl: 02-26 19:55:41] {3508} INFO -  at 283.9s,\testimator lgbm's best error=0.0954,\tbest estimator lgbm's best error=0.0954\n",
      "[flaml.automl.automl: 02-26 19:55:41] {3323} INFO - iteration 560, current learner lgbm\n",
      "[flaml.automl.automl: 02-26 19:55:42] {3508} INFO -  at 284.1s,\testimator lgbm's best error=0.0954,\tbest estimator lgbm's best error=0.0954\n",
      "[flaml.automl.automl: 02-26 19:55:42] {3323} INFO - iteration 561, current learner lgbm\n",
      "[flaml.automl.automl: 02-26 19:55:42] {3508} INFO -  at 284.9s,\testimator lgbm's best error=0.0954,\tbest estimator lgbm's best error=0.0954\n",
      "[flaml.automl.automl: 02-26 19:55:42] {3323} INFO - iteration 562, current learner lgbm\n",
      "[flaml.automl.automl: 02-26 19:55:43] {3508} INFO -  at 285.1s,\testimator lgbm's best error=0.0954,\tbest estimator lgbm's best error=0.0954\n",
      "[flaml.automl.automl: 02-26 19:55:43] {3323} INFO - iteration 563, current learner lrl1\n"
     ]
    },
    {
     "name": "stderr",
     "output_type": "stream",
     "text": [
      "C:\\Users\\Utilisateur\\anaconda3\\lib\\site-packages\\sklearn\\linear_model\\_sag.py:352: ConvergenceWarning: The max_iter was reached which means the coef_ did not converge\n",
      "  warnings.warn(\n",
      "C:\\Users\\Utilisateur\\anaconda3\\lib\\site-packages\\sklearn\\linear_model\\_sag.py:352: ConvergenceWarning: The max_iter was reached which means the coef_ did not converge\n",
      "  warnings.warn(\n",
      "C:\\Users\\Utilisateur\\anaconda3\\lib\\site-packages\\sklearn\\linear_model\\_sag.py:352: ConvergenceWarning: The max_iter was reached which means the coef_ did not converge\n",
      "  warnings.warn(\n"
     ]
    },
    {
     "name": "stdout",
     "output_type": "stream",
     "text": [
      "[flaml.automl.automl: 02-26 19:55:43] {3508} INFO -  at 285.6s,\testimator lrl1's best error=0.4643,\tbest estimator lgbm's best error=0.0954\n",
      "[flaml.automl.automl: 02-26 19:55:43] {3323} INFO - iteration 564, current learner lrl1\n"
     ]
    },
    {
     "name": "stderr",
     "output_type": "stream",
     "text": [
      "C:\\Users\\Utilisateur\\anaconda3\\lib\\site-packages\\sklearn\\linear_model\\_sag.py:352: ConvergenceWarning: The max_iter was reached which means the coef_ did not converge\n",
      "  warnings.warn(\n",
      "C:\\Users\\Utilisateur\\anaconda3\\lib\\site-packages\\sklearn\\linear_model\\_sag.py:352: ConvergenceWarning: The max_iter was reached which means the coef_ did not converge\n",
      "  warnings.warn(\n",
      "C:\\Users\\Utilisateur\\anaconda3\\lib\\site-packages\\sklearn\\linear_model\\_sag.py:352: ConvergenceWarning: The max_iter was reached which means the coef_ did not converge\n",
      "  warnings.warn(\n",
      "C:\\Users\\Utilisateur\\anaconda3\\lib\\site-packages\\sklearn\\linear_model\\_sag.py:352: ConvergenceWarning: The max_iter was reached which means the coef_ did not converge\n",
      "  warnings.warn(\n",
      "C:\\Users\\Utilisateur\\anaconda3\\lib\\site-packages\\sklearn\\linear_model\\_sag.py:352: ConvergenceWarning: The max_iter was reached which means the coef_ did not converge\n",
      "  warnings.warn(\n"
     ]
    },
    {
     "name": "stdout",
     "output_type": "stream",
     "text": [
      "[flaml.automl.automl: 02-26 19:55:43] {3508} INFO -  at 286.1s,\testimator lrl1's best error=0.4643,\tbest estimator lgbm's best error=0.0954\n",
      "[flaml.automl.automl: 02-26 19:55:43] {3323} INFO - iteration 565, current learner lgbm\n"
     ]
    },
    {
     "name": "stderr",
     "output_type": "stream",
     "text": [
      "C:\\Users\\Utilisateur\\anaconda3\\lib\\site-packages\\sklearn\\linear_model\\_sag.py:352: ConvergenceWarning: The max_iter was reached which means the coef_ did not converge\n",
      "  warnings.warn(\n",
      "C:\\Users\\Utilisateur\\anaconda3\\lib\\site-packages\\sklearn\\linear_model\\_sag.py:352: ConvergenceWarning: The max_iter was reached which means the coef_ did not converge\n",
      "  warnings.warn(\n"
     ]
    },
    {
     "name": "stdout",
     "output_type": "stream",
     "text": [
      "[flaml.automl.automl: 02-26 19:55:44] {3508} INFO -  at 287.0s,\testimator lgbm's best error=0.0954,\tbest estimator lgbm's best error=0.0954\n",
      "[flaml.automl.automl: 02-26 19:55:44] {3323} INFO - iteration 566, current learner lgbm\n",
      "[flaml.automl.automl: 02-26 19:55:45] {3508} INFO -  at 287.5s,\testimator lgbm's best error=0.0954,\tbest estimator lgbm's best error=0.0954\n",
      "[flaml.automl.automl: 02-26 19:55:45] {3323} INFO - iteration 567, current learner lgbm\n",
      "[flaml.automl.automl: 02-26 19:55:45] {3508} INFO -  at 287.8s,\testimator lgbm's best error=0.0954,\tbest estimator lgbm's best error=0.0954\n",
      "[flaml.automl.automl: 02-26 19:55:45] {3323} INFO - iteration 568, current learner lrl1\n"
     ]
    },
    {
     "name": "stderr",
     "output_type": "stream",
     "text": [
      "C:\\Users\\Utilisateur\\anaconda3\\lib\\site-packages\\sklearn\\linear_model\\_sag.py:352: ConvergenceWarning: The max_iter was reached which means the coef_ did not converge\n",
      "  warnings.warn(\n",
      "C:\\Users\\Utilisateur\\anaconda3\\lib\\site-packages\\sklearn\\linear_model\\_sag.py:352: ConvergenceWarning: The max_iter was reached which means the coef_ did not converge\n",
      "  warnings.warn(\n",
      "C:\\Users\\Utilisateur\\anaconda3\\lib\\site-packages\\sklearn\\linear_model\\_sag.py:352: ConvergenceWarning: The max_iter was reached which means the coef_ did not converge\n",
      "  warnings.warn(\n"
     ]
    },
    {
     "name": "stdout",
     "output_type": "stream",
     "text": [
      "[flaml.automl.automl: 02-26 19:55:46] {3508} INFO -  at 288.3s,\testimator lrl1's best error=0.4643,\tbest estimator lgbm's best error=0.0954\n",
      "[flaml.automl.automl: 02-26 19:55:46] {3323} INFO - iteration 569, current learner lgbm\n"
     ]
    },
    {
     "name": "stderr",
     "output_type": "stream",
     "text": [
      "C:\\Users\\Utilisateur\\anaconda3\\lib\\site-packages\\sklearn\\linear_model\\_sag.py:352: ConvergenceWarning: The max_iter was reached which means the coef_ did not converge\n",
      "  warnings.warn(\n",
      "C:\\Users\\Utilisateur\\anaconda3\\lib\\site-packages\\sklearn\\linear_model\\_sag.py:352: ConvergenceWarning: The max_iter was reached which means the coef_ did not converge\n",
      "  warnings.warn(\n"
     ]
    },
    {
     "name": "stdout",
     "output_type": "stream",
     "text": [
      "[flaml.automl.automl: 02-26 19:55:46] {3508} INFO -  at 288.8s,\testimator lgbm's best error=0.0954,\tbest estimator lgbm's best error=0.0954\n",
      "[flaml.automl.automl: 02-26 19:55:46] {3323} INFO - iteration 570, current learner lrl1\n"
     ]
    },
    {
     "name": "stderr",
     "output_type": "stream",
     "text": [
      "C:\\Users\\Utilisateur\\anaconda3\\lib\\site-packages\\sklearn\\linear_model\\_sag.py:352: ConvergenceWarning: The max_iter was reached which means the coef_ did not converge\n",
      "  warnings.warn(\n",
      "C:\\Users\\Utilisateur\\anaconda3\\lib\\site-packages\\sklearn\\linear_model\\_sag.py:352: ConvergenceWarning: The max_iter was reached which means the coef_ did not converge\n",
      "  warnings.warn(\n",
      "C:\\Users\\Utilisateur\\anaconda3\\lib\\site-packages\\sklearn\\linear_model\\_sag.py:352: ConvergenceWarning: The max_iter was reached which means the coef_ did not converge\n",
      "  warnings.warn(\n",
      "C:\\Users\\Utilisateur\\anaconda3\\lib\\site-packages\\sklearn\\linear_model\\_sag.py:352: ConvergenceWarning: The max_iter was reached which means the coef_ did not converge\n",
      "  warnings.warn(\n",
      "C:\\Users\\Utilisateur\\anaconda3\\lib\\site-packages\\sklearn\\linear_model\\_sag.py:352: ConvergenceWarning: The max_iter was reached which means the coef_ did not converge\n",
      "  warnings.warn(\n"
     ]
    },
    {
     "name": "stdout",
     "output_type": "stream",
     "text": [
      "[flaml.automl.automl: 02-26 19:55:47] {3508} INFO -  at 289.4s,\testimator lrl1's best error=0.4643,\tbest estimator lgbm's best error=0.0954\n",
      "[flaml.automl.automl: 02-26 19:55:47] {3323} INFO - iteration 571, current learner lrl1\n"
     ]
    },
    {
     "name": "stderr",
     "output_type": "stream",
     "text": [
      "C:\\Users\\Utilisateur\\anaconda3\\lib\\site-packages\\sklearn\\linear_model\\_sag.py:352: ConvergenceWarning: The max_iter was reached which means the coef_ did not converge\n",
      "  warnings.warn(\n",
      "C:\\Users\\Utilisateur\\anaconda3\\lib\\site-packages\\sklearn\\linear_model\\_sag.py:352: ConvergenceWarning: The max_iter was reached which means the coef_ did not converge\n",
      "  warnings.warn(\n",
      "C:\\Users\\Utilisateur\\anaconda3\\lib\\site-packages\\sklearn\\linear_model\\_sag.py:352: ConvergenceWarning: The max_iter was reached which means the coef_ did not converge\n",
      "  warnings.warn(\n",
      "C:\\Users\\Utilisateur\\anaconda3\\lib\\site-packages\\sklearn\\linear_model\\_sag.py:352: ConvergenceWarning: The max_iter was reached which means the coef_ did not converge\n",
      "  warnings.warn(\n"
     ]
    },
    {
     "name": "stdout",
     "output_type": "stream",
     "text": [
      "[flaml.automl.automl: 02-26 19:55:47] {3508} INFO -  at 289.8s,\testimator lrl1's best error=0.4643,\tbest estimator lgbm's best error=0.0954\n",
      "[flaml.automl.automl: 02-26 19:55:47] {3323} INFO - iteration 572, current learner lgbm\n"
     ]
    },
    {
     "name": "stderr",
     "output_type": "stream",
     "text": [
      "C:\\Users\\Utilisateur\\anaconda3\\lib\\site-packages\\sklearn\\linear_model\\_sag.py:352: ConvergenceWarning: The max_iter was reached which means the coef_ did not converge\n",
      "  warnings.warn(\n"
     ]
    },
    {
     "name": "stdout",
     "output_type": "stream",
     "text": [
      "[flaml.automl.automl: 02-26 19:55:48] {3508} INFO -  at 290.4s,\testimator lgbm's best error=0.0954,\tbest estimator lgbm's best error=0.0954\n",
      "[flaml.automl.automl: 02-26 19:55:48] {3323} INFO - iteration 573, current learner lrl1\n"
     ]
    },
    {
     "name": "stderr",
     "output_type": "stream",
     "text": [
      "C:\\Users\\Utilisateur\\anaconda3\\lib\\site-packages\\sklearn\\linear_model\\_sag.py:352: ConvergenceWarning: The max_iter was reached which means the coef_ did not converge\n",
      "  warnings.warn(\n",
      "C:\\Users\\Utilisateur\\anaconda3\\lib\\site-packages\\sklearn\\linear_model\\_sag.py:352: ConvergenceWarning: The max_iter was reached which means the coef_ did not converge\n",
      "  warnings.warn(\n",
      "C:\\Users\\Utilisateur\\anaconda3\\lib\\site-packages\\sklearn\\linear_model\\_sag.py:352: ConvergenceWarning: The max_iter was reached which means the coef_ did not converge\n",
      "  warnings.warn(\n"
     ]
    },
    {
     "name": "stdout",
     "output_type": "stream",
     "text": [
      "[flaml.automl.automl: 02-26 19:55:48] {3508} INFO -  at 290.9s,\testimator lrl1's best error=0.4643,\tbest estimator lgbm's best error=0.0954\n",
      "[flaml.automl.automl: 02-26 19:55:48] {3323} INFO - iteration 574, current learner lrl1\n"
     ]
    },
    {
     "name": "stderr",
     "output_type": "stream",
     "text": [
      "C:\\Users\\Utilisateur\\anaconda3\\lib\\site-packages\\sklearn\\linear_model\\_sag.py:352: ConvergenceWarning: The max_iter was reached which means the coef_ did not converge\n",
      "  warnings.warn(\n",
      "C:\\Users\\Utilisateur\\anaconda3\\lib\\site-packages\\sklearn\\linear_model\\_sag.py:352: ConvergenceWarning: The max_iter was reached which means the coef_ did not converge\n",
      "  warnings.warn(\n",
      "C:\\Users\\Utilisateur\\anaconda3\\lib\\site-packages\\sklearn\\linear_model\\_sag.py:352: ConvergenceWarning: The max_iter was reached which means the coef_ did not converge\n",
      "  warnings.warn(\n",
      "C:\\Users\\Utilisateur\\anaconda3\\lib\\site-packages\\sklearn\\linear_model\\_sag.py:352: ConvergenceWarning: The max_iter was reached which means the coef_ did not converge\n",
      "  warnings.warn(\n",
      "C:\\Users\\Utilisateur\\anaconda3\\lib\\site-packages\\sklearn\\linear_model\\_sag.py:352: ConvergenceWarning: The max_iter was reached which means the coef_ did not converge\n",
      "  warnings.warn(\n",
      "C:\\Users\\Utilisateur\\anaconda3\\lib\\site-packages\\sklearn\\linear_model\\_sag.py:352: ConvergenceWarning: The max_iter was reached which means the coef_ did not converge\n",
      "  warnings.warn(\n"
     ]
    },
    {
     "name": "stdout",
     "output_type": "stream",
     "text": [
      "[flaml.automl.automl: 02-26 19:55:49] {3508} INFO -  at 291.3s,\testimator lrl1's best error=0.4643,\tbest estimator lgbm's best error=0.0954\n",
      "[flaml.automl.automl: 02-26 19:55:49] {3323} INFO - iteration 575, current learner lgbm\n"
     ]
    },
    {
     "name": "stderr",
     "output_type": "stream",
     "text": [
      "C:\\Users\\Utilisateur\\anaconda3\\lib\\site-packages\\sklearn\\linear_model\\_sag.py:352: ConvergenceWarning: The max_iter was reached which means the coef_ did not converge\n",
      "  warnings.warn(\n"
     ]
    },
    {
     "name": "stdout",
     "output_type": "stream",
     "text": [
      "[flaml.automl.automl: 02-26 19:55:50] {3508} INFO -  at 293.0s,\testimator lgbm's best error=0.0954,\tbest estimator lgbm's best error=0.0954\n",
      "[flaml.automl.automl: 02-26 19:55:50] {3323} INFO - iteration 576, current learner lgbm\n",
      "[flaml.automl.automl: 02-26 19:55:51] {3508} INFO -  at 293.1s,\testimator lgbm's best error=0.0954,\tbest estimator lgbm's best error=0.0954\n",
      "[flaml.automl.automl: 02-26 19:55:51] {3323} INFO - iteration 577, current learner lrl1\n"
     ]
    },
    {
     "name": "stderr",
     "output_type": "stream",
     "text": [
      "C:\\Users\\Utilisateur\\anaconda3\\lib\\site-packages\\sklearn\\linear_model\\_sag.py:352: ConvergenceWarning: The max_iter was reached which means the coef_ did not converge\n",
      "  warnings.warn(\n",
      "C:\\Users\\Utilisateur\\anaconda3\\lib\\site-packages\\sklearn\\linear_model\\_sag.py:352: ConvergenceWarning: The max_iter was reached which means the coef_ did not converge\n",
      "  warnings.warn(\n",
      "C:\\Users\\Utilisateur\\anaconda3\\lib\\site-packages\\sklearn\\linear_model\\_sag.py:352: ConvergenceWarning: The max_iter was reached which means the coef_ did not converge\n",
      "  warnings.warn(\n"
     ]
    },
    {
     "name": "stdout",
     "output_type": "stream",
     "text": [
      "[flaml.automl.automl: 02-26 19:55:51] {3508} INFO -  at 293.6s,\testimator lrl1's best error=0.4643,\tbest estimator lgbm's best error=0.0954\n",
      "[flaml.automl.automl: 02-26 19:55:51] {3323} INFO - iteration 578, current learner lrl1\n"
     ]
    },
    {
     "name": "stderr",
     "output_type": "stream",
     "text": [
      "C:\\Users\\Utilisateur\\anaconda3\\lib\\site-packages\\sklearn\\linear_model\\_sag.py:352: ConvergenceWarning: The max_iter was reached which means the coef_ did not converge\n",
      "  warnings.warn(\n",
      "C:\\Users\\Utilisateur\\anaconda3\\lib\\site-packages\\sklearn\\linear_model\\_sag.py:352: ConvergenceWarning: The max_iter was reached which means the coef_ did not converge\n",
      "  warnings.warn(\n",
      "C:\\Users\\Utilisateur\\anaconda3\\lib\\site-packages\\sklearn\\linear_model\\_sag.py:352: ConvergenceWarning: The max_iter was reached which means the coef_ did not converge\n",
      "  warnings.warn(\n",
      "C:\\Users\\Utilisateur\\anaconda3\\lib\\site-packages\\sklearn\\linear_model\\_sag.py:352: ConvergenceWarning: The max_iter was reached which means the coef_ did not converge\n",
      "  warnings.warn(\n",
      "C:\\Users\\Utilisateur\\anaconda3\\lib\\site-packages\\sklearn\\linear_model\\_sag.py:352: ConvergenceWarning: The max_iter was reached which means the coef_ did not converge\n",
      "  warnings.warn(\n"
     ]
    },
    {
     "name": "stdout",
     "output_type": "stream",
     "text": [
      "[flaml.automl.automl: 02-26 19:55:51] {3508} INFO -  at 294.0s,\testimator lrl1's best error=0.4643,\tbest estimator lgbm's best error=0.0954\n",
      "[flaml.automl.automl: 02-26 19:55:51] {3323} INFO - iteration 579, current learner lrl1\n"
     ]
    },
    {
     "name": "stderr",
     "output_type": "stream",
     "text": [
      "C:\\Users\\Utilisateur\\anaconda3\\lib\\site-packages\\sklearn\\linear_model\\_sag.py:352: ConvergenceWarning: The max_iter was reached which means the coef_ did not converge\n",
      "  warnings.warn(\n",
      "C:\\Users\\Utilisateur\\anaconda3\\lib\\site-packages\\sklearn\\linear_model\\_sag.py:352: ConvergenceWarning: The max_iter was reached which means the coef_ did not converge\n",
      "  warnings.warn(\n",
      "C:\\Users\\Utilisateur\\anaconda3\\lib\\site-packages\\sklearn\\linear_model\\_sag.py:352: ConvergenceWarning: The max_iter was reached which means the coef_ did not converge\n",
      "  warnings.warn(\n",
      "C:\\Users\\Utilisateur\\anaconda3\\lib\\site-packages\\sklearn\\linear_model\\_sag.py:352: ConvergenceWarning: The max_iter was reached which means the coef_ did not converge\n",
      "  warnings.warn(\n",
      "C:\\Users\\Utilisateur\\anaconda3\\lib\\site-packages\\sklearn\\linear_model\\_sag.py:352: ConvergenceWarning: The max_iter was reached which means the coef_ did not converge\n",
      "  warnings.warn(\n",
      "C:\\Users\\Utilisateur\\anaconda3\\lib\\site-packages\\sklearn\\linear_model\\_sag.py:352: ConvergenceWarning: The max_iter was reached which means the coef_ did not converge\n",
      "  warnings.warn(\n"
     ]
    },
    {
     "name": "stdout",
     "output_type": "stream",
     "text": [
      "[flaml.automl.automl: 02-26 19:55:52] {3508} INFO -  at 294.5s,\testimator lrl1's best error=0.4643,\tbest estimator lgbm's best error=0.0954\n",
      "[flaml.automl.automl: 02-26 19:55:52] {3323} INFO - iteration 580, current learner lrl1\n"
     ]
    },
    {
     "name": "stderr",
     "output_type": "stream",
     "text": [
      "C:\\Users\\Utilisateur\\anaconda3\\lib\\site-packages\\sklearn\\linear_model\\_sag.py:352: ConvergenceWarning: The max_iter was reached which means the coef_ did not converge\n",
      "  warnings.warn(\n",
      "C:\\Users\\Utilisateur\\anaconda3\\lib\\site-packages\\sklearn\\linear_model\\_sag.py:352: ConvergenceWarning: The max_iter was reached which means the coef_ did not converge\n",
      "  warnings.warn(\n",
      "C:\\Users\\Utilisateur\\anaconda3\\lib\\site-packages\\sklearn\\linear_model\\_sag.py:352: ConvergenceWarning: The max_iter was reached which means the coef_ did not converge\n",
      "  warnings.warn(\n",
      "C:\\Users\\Utilisateur\\anaconda3\\lib\\site-packages\\sklearn\\linear_model\\_sag.py:352: ConvergenceWarning: The max_iter was reached which means the coef_ did not converge\n",
      "  warnings.warn(\n",
      "C:\\Users\\Utilisateur\\anaconda3\\lib\\site-packages\\sklearn\\linear_model\\_sag.py:352: ConvergenceWarning: The max_iter was reached which means the coef_ did not converge\n",
      "  warnings.warn(\n"
     ]
    },
    {
     "name": "stdout",
     "output_type": "stream",
     "text": [
      "[flaml.automl.automl: 02-26 19:55:52] {3508} INFO -  at 295.0s,\testimator lrl1's best error=0.4643,\tbest estimator lgbm's best error=0.0954\n",
      "[flaml.automl.automl: 02-26 19:55:52] {3323} INFO - iteration 581, current learner extra_tree\n"
     ]
    },
    {
     "name": "stderr",
     "output_type": "stream",
     "text": [
      "C:\\Users\\Utilisateur\\anaconda3\\lib\\site-packages\\sklearn\\linear_model\\_sag.py:352: ConvergenceWarning: The max_iter was reached which means the coef_ did not converge\n",
      "  warnings.warn(\n"
     ]
    },
    {
     "name": "stdout",
     "output_type": "stream",
     "text": [
      "[flaml.automl.automl: 02-26 19:55:53] {3508} INFO -  at 295.5s,\testimator extra_tree's best error=0.1386,\tbest estimator lgbm's best error=0.0954\n",
      "[flaml.automl.automl: 02-26 19:55:53] {3323} INFO - iteration 582, current learner lgbm\n",
      "[flaml.automl.automl: 02-26 19:55:53] {3508} INFO -  at 295.8s,\testimator lgbm's best error=0.0954,\tbest estimator lgbm's best error=0.0954\n",
      "[flaml.automl.automl: 02-26 19:55:53] {3323} INFO - iteration 583, current learner rf\n",
      "[flaml.automl.automl: 02-26 19:55:54] {3508} INFO -  at 296.8s,\testimator rf's best error=0.1297,\tbest estimator lgbm's best error=0.0954\n",
      "[flaml.automl.automl: 02-26 19:55:54] {3323} INFO - iteration 584, current learner lrl1\n"
     ]
    },
    {
     "name": "stderr",
     "output_type": "stream",
     "text": [
      "C:\\Users\\Utilisateur\\anaconda3\\lib\\site-packages\\sklearn\\linear_model\\_sag.py:352: ConvergenceWarning: The max_iter was reached which means the coef_ did not converge\n",
      "  warnings.warn(\n",
      "C:\\Users\\Utilisateur\\anaconda3\\lib\\site-packages\\sklearn\\linear_model\\_sag.py:352: ConvergenceWarning: The max_iter was reached which means the coef_ did not converge\n",
      "  warnings.warn(\n",
      "C:\\Users\\Utilisateur\\anaconda3\\lib\\site-packages\\sklearn\\linear_model\\_sag.py:352: ConvergenceWarning: The max_iter was reached which means the coef_ did not converge\n",
      "  warnings.warn(\n"
     ]
    },
    {
     "name": "stdout",
     "output_type": "stream",
     "text": [
      "[flaml.automl.automl: 02-26 19:55:55] {3508} INFO -  at 297.3s,\testimator lrl1's best error=0.4643,\tbest estimator lgbm's best error=0.0954\n",
      "[flaml.automl.automl: 02-26 19:55:55] {3323} INFO - iteration 585, current learner lgbm\n"
     ]
    },
    {
     "name": "stderr",
     "output_type": "stream",
     "text": [
      "C:\\Users\\Utilisateur\\anaconda3\\lib\\site-packages\\sklearn\\linear_model\\_sag.py:352: ConvergenceWarning: The max_iter was reached which means the coef_ did not converge\n",
      "  warnings.warn(\n",
      "C:\\Users\\Utilisateur\\anaconda3\\lib\\site-packages\\sklearn\\linear_model\\_sag.py:352: ConvergenceWarning: The max_iter was reached which means the coef_ did not converge\n",
      "  warnings.warn(\n"
     ]
    },
    {
     "name": "stdout",
     "output_type": "stream",
     "text": [
      "[flaml.automl.automl: 02-26 19:55:55] {3508} INFO -  at 297.9s,\testimator lgbm's best error=0.0954,\tbest estimator lgbm's best error=0.0954\n",
      "[flaml.automl.automl: 02-26 19:55:55] {3323} INFO - iteration 586, current learner lrl1\n"
     ]
    },
    {
     "name": "stderr",
     "output_type": "stream",
     "text": [
      "C:\\Users\\Utilisateur\\anaconda3\\lib\\site-packages\\sklearn\\linear_model\\_sag.py:352: ConvergenceWarning: The max_iter was reached which means the coef_ did not converge\n",
      "  warnings.warn(\n",
      "C:\\Users\\Utilisateur\\anaconda3\\lib\\site-packages\\sklearn\\linear_model\\_sag.py:352: ConvergenceWarning: The max_iter was reached which means the coef_ did not converge\n",
      "  warnings.warn(\n",
      "C:\\Users\\Utilisateur\\anaconda3\\lib\\site-packages\\sklearn\\linear_model\\_sag.py:352: ConvergenceWarning: The max_iter was reached which means the coef_ did not converge\n",
      "  warnings.warn(\n"
     ]
    },
    {
     "name": "stdout",
     "output_type": "stream",
     "text": [
      "[flaml.automl.automl: 02-26 19:55:56] {3508} INFO -  at 298.4s,\testimator lrl1's best error=0.4643,\tbest estimator lgbm's best error=0.0954\n",
      "[flaml.automl.automl: 02-26 19:55:56] {3323} INFO - iteration 587, current learner lgbm\n"
     ]
    },
    {
     "name": "stderr",
     "output_type": "stream",
     "text": [
      "C:\\Users\\Utilisateur\\anaconda3\\lib\\site-packages\\sklearn\\linear_model\\_sag.py:352: ConvergenceWarning: The max_iter was reached which means the coef_ did not converge\n",
      "  warnings.warn(\n",
      "C:\\Users\\Utilisateur\\anaconda3\\lib\\site-packages\\sklearn\\linear_model\\_sag.py:352: ConvergenceWarning: The max_iter was reached which means the coef_ did not converge\n",
      "  warnings.warn(\n"
     ]
    },
    {
     "name": "stdout",
     "output_type": "stream",
     "text": [
      "[flaml.automl.automl: 02-26 19:55:57] {3508} INFO -  at 299.2s,\testimator lgbm's best error=0.0954,\tbest estimator lgbm's best error=0.0954\n",
      "[flaml.automl.automl: 02-26 19:55:57] {3323} INFO - iteration 588, current learner lrl1\n"
     ]
    },
    {
     "name": "stderr",
     "output_type": "stream",
     "text": [
      "C:\\Users\\Utilisateur\\anaconda3\\lib\\site-packages\\sklearn\\linear_model\\_sag.py:352: ConvergenceWarning: The max_iter was reached which means the coef_ did not converge\n",
      "  warnings.warn(\n",
      "C:\\Users\\Utilisateur\\anaconda3\\lib\\site-packages\\sklearn\\linear_model\\_sag.py:352: ConvergenceWarning: The max_iter was reached which means the coef_ did not converge\n",
      "  warnings.warn(\n",
      "C:\\Users\\Utilisateur\\anaconda3\\lib\\site-packages\\sklearn\\linear_model\\_sag.py:352: ConvergenceWarning: The max_iter was reached which means the coef_ did not converge\n",
      "  warnings.warn(\n"
     ]
    },
    {
     "name": "stdout",
     "output_type": "stream",
     "text": [
      "[flaml.automl.automl: 02-26 19:55:57] {3508} INFO -  at 299.6s,\testimator lrl1's best error=0.4643,\tbest estimator lgbm's best error=0.0954\n",
      "[flaml.automl.automl: 02-26 19:55:57] {3772} INFO - retrain lgbm for 0.1s\n",
      "[flaml.automl.automl: 02-26 19:55:57] {3779} INFO - retrained model: LGBMClassifier(colsample_bytree=0.5223764518778524,\n",
      "               learning_rate=0.9767143812351506, max_bin=127,\n",
      "               min_child_samples=2, n_estimators=162, num_leaves=4,\n",
      "               reg_alpha=0.005538025503472038, reg_lambda=1.2047944836579794,\n",
      "               verbose=-1)\n",
      "[flaml.automl.automl: 02-26 19:55:57] {3024} INFO - fit succeeded\n",
      "[flaml.automl.automl: 02-26 19:55:57] {3025} INFO - Time taken to find the best model: 145.52301406860352\n"
     ]
    },
    {
     "name": "stderr",
     "output_type": "stream",
     "text": [
      "C:\\Users\\Utilisateur\\anaconda3\\lib\\site-packages\\sklearn\\linear_model\\_sag.py:352: ConvergenceWarning: The max_iter was reached which means the coef_ did not converge\n",
      "  warnings.warn(\n",
      "C:\\Users\\Utilisateur\\anaconda3\\lib\\site-packages\\sklearn\\linear_model\\_sag.py:352: ConvergenceWarning: The max_iter was reached which means the coef_ did not converge\n",
      "  warnings.warn(\n"
     ]
    }
   ],
   "source": [
    "automl.fit(X_train, y_train, task=\"classification\",metric='f1',time_budget=300)"
   ]
  },
  {
   "cell_type": "code",
   "execution_count": 15,
   "metadata": {
    "execution": {
     "iopub.execute_input": "2022-04-03T20:45:34.009519Z",
     "iopub.status.busy": "2022-04-03T20:45:34.008838Z",
     "iopub.status.idle": "2022-04-03T20:45:34.01637Z",
     "shell.execute_reply": "2022-04-03T20:45:34.015633Z",
     "shell.execute_reply.started": "2022-04-03T20:45:34.009468Z"
    }
   },
   "outputs": [
    {
     "name": "stdout",
     "output_type": "stream",
     "text": [
      "Best ML leaner: lgbm\n",
      "Best hyperparmeter config: {'n_estimators': 162, 'num_leaves': 4, 'min_child_samples': 2, 'learning_rate': 0.9767143812351506, 'log_max_bin': 7, 'colsample_bytree': 0.5223764518778524, 'reg_alpha': 0.005538025503472038, 'reg_lambda': 1.2047944836579794}\n",
      "Best f1 on validation data: 0.9046\n",
      "Training duration of best run: 0.0625 s\n"
     ]
    }
   ],
   "source": [
    "print('Best ML leaner:', automl.best_estimator)\n",
    "print('Best hyperparmeter config:', automl.best_config)\n",
    "print('Best f1 on validation data: {0:.4g}'.format(1-automl.best_loss))\n",
    "print('Training duration of best run: {0:.4g} s'.format(automl.best_config_train_time))"
   ]
  },
  {
   "cell_type": "code",
   "execution_count": 16,
   "metadata": {
    "execution": {
     "iopub.execute_input": "2022-04-03T20:45:34.01848Z",
     "iopub.status.busy": "2022-04-03T20:45:34.017455Z",
     "iopub.status.idle": "2022-04-03T20:45:34.112589Z",
     "shell.execute_reply": "2022-04-03T20:45:34.111569Z",
     "shell.execute_reply.started": "2022-04-03T20:45:34.018416Z"
    }
   },
   "outputs": [
    {
     "name": "stdout",
     "output_type": "stream",
     "text": [
      "                   precision    recall  f1-score   support\n",
      "\n",
      "Kirmizi_Pistachio       1.00      1.00      1.00       788\n",
      "  Siirt_Pistachio       1.00      1.00      1.00       586\n",
      "\n",
      "         accuracy                           1.00      1374\n",
      "        macro avg       1.00      1.00      1.00      1374\n",
      "     weighted avg       1.00      1.00      1.00      1374\n",
      "\n"
     ]
    }
   ],
   "source": [
    "from sklearn.metrics import classification_report\n",
    "print(classification_report(y_train, automl.predict(X_train)))"
   ]
  },
  {
   "cell_type": "code",
   "execution_count": 17,
   "metadata": {
    "execution": {
     "iopub.execute_input": "2022-04-03T20:45:34.113931Z",
     "iopub.status.busy": "2022-04-03T20:45:34.113719Z",
     "iopub.status.idle": "2022-04-03T20:45:34.153294Z",
     "shell.execute_reply": "2022-04-03T20:45:34.152473Z",
     "shell.execute_reply.started": "2022-04-03T20:45:34.113904Z"
    }
   },
   "outputs": [
    {
     "name": "stdout",
     "output_type": "stream",
     "text": [
      "                   precision    recall  f1-score   support\n",
      "\n",
      "Kirmizi_Pistachio       0.93      0.97      0.95       197\n",
      "  Siirt_Pistachio       0.96      0.90      0.93       147\n",
      "\n",
      "         accuracy                           0.94       344\n",
      "        macro avg       0.94      0.94      0.94       344\n",
      "     weighted avg       0.94      0.94      0.94       344\n",
      "\n"
     ]
    }
   ],
   "source": [
    "print(classification_report(y_test, automl.predict(X_test)))"
   ]
  },
  {
   "cell_type": "code",
   "execution_count": 18,
   "metadata": {
    "execution": {
     "iopub.execute_input": "2022-04-03T20:45:34.155062Z",
     "iopub.status.busy": "2022-04-03T20:45:34.154738Z",
     "iopub.status.idle": "2022-04-03T20:45:34.190342Z",
     "shell.execute_reply": "2022-04-03T20:45:34.189769Z",
     "shell.execute_reply.started": "2022-04-03T20:45:34.155019Z"
    }
   },
   "outputs": [
    {
     "data": {
      "text/html": [
       "<div>\n",
       "<style scoped>\n",
       "    .dataframe tbody tr th:only-of-type {\n",
       "        vertical-align: middle;\n",
       "    }\n",
       "\n",
       "    .dataframe tbody tr th {\n",
       "        vertical-align: top;\n",
       "    }\n",
       "\n",
       "    .dataframe thead th {\n",
       "        text-align: right;\n",
       "    }\n",
       "</style>\n",
       "<table border=\"1\" class=\"dataframe\">\n",
       "  <thead>\n",
       "    <tr style=\"text-align: right;\">\n",
       "      <th></th>\n",
       "      <th>Area</th>\n",
       "      <th>Perimeter</th>\n",
       "      <th>Major_Axis</th>\n",
       "      <th>Minor_Axis</th>\n",
       "      <th>Eccentricity</th>\n",
       "      <th>Eqdiasq</th>\n",
       "      <th>Solidity</th>\n",
       "      <th>Convex_Area</th>\n",
       "      <th>Extent</th>\n",
       "      <th>Aspect_Ratio</th>\n",
       "      <th>Roundness</th>\n",
       "      <th>Compactness</th>\n",
       "      <th>Shapefactor_1</th>\n",
       "      <th>Shapefactor_2</th>\n",
       "      <th>Shapefactor_3</th>\n",
       "      <th>Shapefactor_4</th>\n",
       "      <th>Mean_RR</th>\n",
       "      <th>Mean_RG</th>\n",
       "      <th>Mean_RB</th>\n",
       "      <th>StdDev_RR</th>\n",
       "      <th>StdDev_RG</th>\n",
       "      <th>StdDev_RB</th>\n",
       "      <th>Skew_RR</th>\n",
       "      <th>Skew_RG</th>\n",
       "      <th>Skew_RB</th>\n",
       "      <th>Kurtosis_RR</th>\n",
       "      <th>Kurtosis_RG</th>\n",
       "      <th>Kurtosis_RB</th>\n",
       "    </tr>\n",
       "  </thead>\n",
       "  <tbody>\n",
       "    <tr>\n",
       "      <th>577</th>\n",
       "      <td>54954</td>\n",
       "      <td>1991.1689</td>\n",
       "      <td>377.7057</td>\n",
       "      <td>268.5568</td>\n",
       "      <td>0.7032</td>\n",
       "      <td>264.5177</td>\n",
       "      <td>0.7181</td>\n",
       "      <td>76523</td>\n",
       "      <td>0.5836</td>\n",
       "      <td>1.4064</td>\n",
       "      <td>0.1742</td>\n",
       "      <td>0.7003</td>\n",
       "      <td>0.0069</td>\n",
       "      <td>0.0049</td>\n",
       "      <td>0.4905</td>\n",
       "      <td>0.6898</td>\n",
       "      <td>207.8837</td>\n",
       "      <td>198.9771</td>\n",
       "      <td>178.5853</td>\n",
       "      <td>19.6093</td>\n",
       "      <td>20.5269</td>\n",
       "      <td>20.1938</td>\n",
       "      <td>-0.5010</td>\n",
       "      <td>-0.3800</td>\n",
       "      <td>0.1060</td>\n",
       "      <td>2.7310</td>\n",
       "      <td>2.6726</td>\n",
       "      <td>3.3208</td>\n",
       "    </tr>\n",
       "    <tr>\n",
       "      <th>276</th>\n",
       "      <td>59436</td>\n",
       "      <td>1029.4280</td>\n",
       "      <td>368.6095</td>\n",
       "      <td>215.9985</td>\n",
       "      <td>0.8103</td>\n",
       "      <td>275.0932</td>\n",
       "      <td>0.9111</td>\n",
       "      <td>65234</td>\n",
       "      <td>0.6900</td>\n",
       "      <td>1.7065</td>\n",
       "      <td>0.7048</td>\n",
       "      <td>0.7463</td>\n",
       "      <td>0.0062</td>\n",
       "      <td>0.0036</td>\n",
       "      <td>0.5570</td>\n",
       "      <td>0.9505</td>\n",
       "      <td>220.5810</td>\n",
       "      <td>206.6638</td>\n",
       "      <td>190.3557</td>\n",
       "      <td>25.4084</td>\n",
       "      <td>26.1638</td>\n",
       "      <td>21.8229</td>\n",
       "      <td>-0.8076</td>\n",
       "      <td>-0.8771</td>\n",
       "      <td>-0.6426</td>\n",
       "      <td>2.6906</td>\n",
       "      <td>2.8111</td>\n",
       "      <td>2.8745</td>\n",
       "    </tr>\n",
       "    <tr>\n",
       "      <th>1389</th>\n",
       "      <td>92622</td>\n",
       "      <td>1246.8101</td>\n",
       "      <td>440.5182</td>\n",
       "      <td>274.9561</td>\n",
       "      <td>0.7813</td>\n",
       "      <td>343.4094</td>\n",
       "      <td>0.9469</td>\n",
       "      <td>97815</td>\n",
       "      <td>0.7474</td>\n",
       "      <td>1.6021</td>\n",
       "      <td>0.7487</td>\n",
       "      <td>0.7796</td>\n",
       "      <td>0.0048</td>\n",
       "      <td>0.0030</td>\n",
       "      <td>0.6077</td>\n",
       "      <td>0.9736</td>\n",
       "      <td>214.2755</td>\n",
       "      <td>201.9517</td>\n",
       "      <td>187.6998</td>\n",
       "      <td>22.2758</td>\n",
       "      <td>24.2760</td>\n",
       "      <td>21.2102</td>\n",
       "      <td>-0.5595</td>\n",
       "      <td>-0.5248</td>\n",
       "      <td>-0.6329</td>\n",
       "      <td>2.3393</td>\n",
       "      <td>2.2999</td>\n",
       "      <td>2.8516</td>\n",
       "    </tr>\n",
       "    <tr>\n",
       "      <th>2000</th>\n",
       "      <td>91065</td>\n",
       "      <td>1180.9480</td>\n",
       "      <td>459.1751</td>\n",
       "      <td>255.8426</td>\n",
       "      <td>0.8304</td>\n",
       "      <td>340.5107</td>\n",
       "      <td>0.9748</td>\n",
       "      <td>93420</td>\n",
       "      <td>0.7610</td>\n",
       "      <td>1.7948</td>\n",
       "      <td>0.8205</td>\n",
       "      <td>0.7416</td>\n",
       "      <td>0.0050</td>\n",
       "      <td>0.0028</td>\n",
       "      <td>0.5499</td>\n",
       "      <td>0.9870</td>\n",
       "      <td>226.4929</td>\n",
       "      <td>218.8884</td>\n",
       "      <td>207.8690</td>\n",
       "      <td>21.8763</td>\n",
       "      <td>24.8122</td>\n",
       "      <td>24.8889</td>\n",
       "      <td>-0.9050</td>\n",
       "      <td>-0.6982</td>\n",
       "      <td>-0.5003</td>\n",
       "      <td>3.0654</td>\n",
       "      <td>2.5753</td>\n",
       "      <td>2.0758</td>\n",
       "    </tr>\n",
       "    <tr>\n",
       "      <th>472</th>\n",
       "      <td>71434</td>\n",
       "      <td>1126.9850</td>\n",
       "      <td>450.9001</td>\n",
       "      <td>203.1362</td>\n",
       "      <td>0.8928</td>\n",
       "      <td>301.5835</td>\n",
       "      <td>0.9805</td>\n",
       "      <td>72855</td>\n",
       "      <td>0.7453</td>\n",
       "      <td>2.2197</td>\n",
       "      <td>0.7068</td>\n",
       "      <td>0.6688</td>\n",
       "      <td>0.0063</td>\n",
       "      <td>0.0028</td>\n",
       "      <td>0.4474</td>\n",
       "      <td>0.9930</td>\n",
       "      <td>206.3199</td>\n",
       "      <td>195.7308</td>\n",
       "      <td>194.4896</td>\n",
       "      <td>16.9980</td>\n",
       "      <td>16.9808</td>\n",
       "      <td>18.0184</td>\n",
       "      <td>-1.1067</td>\n",
       "      <td>-0.9704</td>\n",
       "      <td>-0.7605</td>\n",
       "      <td>3.5429</td>\n",
       "      <td>3.5330</td>\n",
       "      <td>3.2537</td>\n",
       "    </tr>\n",
       "  </tbody>\n",
       "</table>\n",
       "</div>"
      ],
      "text/plain": [
       "       Area  Perimeter  Major_Axis  Minor_Axis  Eccentricity   Eqdiasq  \\\n",
       "577   54954  1991.1689    377.7057    268.5568        0.7032  264.5177   \n",
       "276   59436  1029.4280    368.6095    215.9985        0.8103  275.0932   \n",
       "1389  92622  1246.8101    440.5182    274.9561        0.7813  343.4094   \n",
       "2000  91065  1180.9480    459.1751    255.8426        0.8304  340.5107   \n",
       "472   71434  1126.9850    450.9001    203.1362        0.8928  301.5835   \n",
       "\n",
       "      Solidity  Convex_Area  Extent  Aspect_Ratio  Roundness  Compactness  \\\n",
       "577     0.7181        76523  0.5836        1.4064     0.1742       0.7003   \n",
       "276     0.9111        65234  0.6900        1.7065     0.7048       0.7463   \n",
       "1389    0.9469        97815  0.7474        1.6021     0.7487       0.7796   \n",
       "2000    0.9748        93420  0.7610        1.7948     0.8205       0.7416   \n",
       "472     0.9805        72855  0.7453        2.2197     0.7068       0.6688   \n",
       "\n",
       "      Shapefactor_1  Shapefactor_2  Shapefactor_3  Shapefactor_4   Mean_RR  \\\n",
       "577          0.0069         0.0049         0.4905         0.6898  207.8837   \n",
       "276          0.0062         0.0036         0.5570         0.9505  220.5810   \n",
       "1389         0.0048         0.0030         0.6077         0.9736  214.2755   \n",
       "2000         0.0050         0.0028         0.5499         0.9870  226.4929   \n",
       "472          0.0063         0.0028         0.4474         0.9930  206.3199   \n",
       "\n",
       "       Mean_RG   Mean_RB  StdDev_RR  StdDev_RG  StdDev_RB  Skew_RR  Skew_RG  \\\n",
       "577   198.9771  178.5853    19.6093    20.5269    20.1938  -0.5010  -0.3800   \n",
       "276   206.6638  190.3557    25.4084    26.1638    21.8229  -0.8076  -0.8771   \n",
       "1389  201.9517  187.6998    22.2758    24.2760    21.2102  -0.5595  -0.5248   \n",
       "2000  218.8884  207.8690    21.8763    24.8122    24.8889  -0.9050  -0.6982   \n",
       "472   195.7308  194.4896    16.9980    16.9808    18.0184  -1.1067  -0.9704   \n",
       "\n",
       "      Skew_RB  Kurtosis_RR  Kurtosis_RG  Kurtosis_RB  \n",
       "577    0.1060       2.7310       2.6726       3.3208  \n",
       "276   -0.6426       2.6906       2.8111       2.8745  \n",
       "1389  -0.6329       2.3393       2.2999       2.8516  \n",
       "2000  -0.5003       3.0654       2.5753       2.0758  \n",
       "472   -0.7605       3.5429       3.5330       3.2537  "
      ]
     },
     "execution_count": 18,
     "metadata": {},
     "output_type": "execute_result"
    }
   ],
   "source": [
    "test_=test.drop('Class',axis=1)\n",
    "test_.head()"
   ]
  },
  {
   "cell_type": "code",
   "execution_count": 19,
   "metadata": {
    "execution": {
     "iopub.execute_input": "2022-04-03T20:45:34.192006Z",
     "iopub.status.busy": "2022-04-03T20:45:34.191302Z",
     "iopub.status.idle": "2022-04-03T20:45:34.213403Z",
     "shell.execute_reply": "2022-04-03T20:45:34.212613Z",
     "shell.execute_reply.started": "2022-04-03T20:45:34.191969Z"
    }
   },
   "outputs": [
    {
     "data": {
      "text/plain": [
       "array(['Kirmizi_Pistachio', 'Kirmizi_Pistachio', 'Siirt_Pistachio',\n",
       "       'Siirt_Pistachio', 'Kirmizi_Pistachio'], dtype=object)"
      ]
     },
     "execution_count": 19,
     "metadata": {},
     "output_type": "execute_result"
    }
   ],
   "source": [
    "y_pred = automl.predict(test_)\n",
    "y_pred[:5]"
   ]
  },
  {
   "cell_type": "code",
   "execution_count": 20,
   "metadata": {
    "execution": {
     "iopub.execute_input": "2022-04-03T20:45:34.215039Z",
     "iopub.status.busy": "2022-04-03T20:45:34.214552Z",
     "iopub.status.idle": "2022-04-03T20:45:34.225391Z",
     "shell.execute_reply": "2022-04-03T20:45:34.224524Z",
     "shell.execute_reply.started": "2022-04-03T20:45:34.215005Z"
    }
   },
   "outputs": [
    {
     "data": {
      "text/html": [
       "<div>\n",
       "<style scoped>\n",
       "    .dataframe tbody tr th:only-of-type {\n",
       "        vertical-align: middle;\n",
       "    }\n",
       "\n",
       "    .dataframe tbody tr th {\n",
       "        vertical-align: top;\n",
       "    }\n",
       "\n",
       "    .dataframe thead th {\n",
       "        text-align: right;\n",
       "    }\n",
       "</style>\n",
       "<table border=\"1\" class=\"dataframe\">\n",
       "  <thead>\n",
       "    <tr style=\"text-align: right;\">\n",
       "      <th></th>\n",
       "      <th>Class</th>\n",
       "    </tr>\n",
       "  </thead>\n",
       "  <tbody>\n",
       "    <tr>\n",
       "      <th>0</th>\n",
       "      <td>Kirmizi_Pistachio</td>\n",
       "    </tr>\n",
       "    <tr>\n",
       "      <th>1</th>\n",
       "      <td>Kirmizi_Pistachio</td>\n",
       "    </tr>\n",
       "    <tr>\n",
       "      <th>2</th>\n",
       "      <td>Siirt_Pistachio</td>\n",
       "    </tr>\n",
       "    <tr>\n",
       "      <th>3</th>\n",
       "      <td>Siirt_Pistachio</td>\n",
       "    </tr>\n",
       "    <tr>\n",
       "      <th>4</th>\n",
       "      <td>Kirmizi_Pistachio</td>\n",
       "    </tr>\n",
       "  </tbody>\n",
       "</table>\n",
       "</div>"
      ],
      "text/plain": [
       "               Class\n",
       "0  Kirmizi_Pistachio\n",
       "1  Kirmizi_Pistachio\n",
       "2    Siirt_Pistachio\n",
       "3    Siirt_Pistachio\n",
       "4  Kirmizi_Pistachio"
      ]
     },
     "execution_count": 20,
     "metadata": {},
     "output_type": "execute_result"
    }
   ],
   "source": [
    "df = pd.DataFrame(y_pred,columns=['Class'])\n",
    "df.head()"
   ]
  },
  {
   "cell_type": "code",
   "execution_count": 21,
   "metadata": {
    "execution": {
     "iopub.execute_input": "2022-04-03T20:45:34.227232Z",
     "iopub.status.busy": "2022-04-03T20:45:34.226864Z",
     "iopub.status.idle": "2022-04-03T20:45:34.259904Z",
     "shell.execute_reply": "2022-04-03T20:45:34.259001Z",
     "shell.execute_reply.started": "2022-04-03T20:45:34.227189Z"
    }
   },
   "outputs": [
    {
     "name": "stdout",
     "output_type": "stream",
     "text": [
      "                   precision    recall  f1-score   support\n",
      "\n",
      "Kirmizi_Pistachio       0.90      0.93      0.91       247\n",
      "  Siirt_Pistachio       0.90      0.86      0.88       183\n",
      "\n",
      "         accuracy                           0.90       430\n",
      "        macro avg       0.90      0.89      0.89       430\n",
      "     weighted avg       0.90      0.90      0.90       430\n",
      "\n"
     ]
    }
   ],
   "source": [
    "print(classification_report(test.Class, df.Class))"
   ]
  },
  {
   "cell_type": "code",
   "execution_count": null,
   "metadata": {},
   "outputs": [],
   "source": []
  }
 ],
 "metadata": {
  "kernelspec": {
   "display_name": "Python 3 (ipykernel)",
   "language": "python",
   "name": "python3"
  },
  "language_info": {
   "codemirror_mode": {
    "name": "ipython",
    "version": 3
   },
   "file_extension": ".py",
   "mimetype": "text/x-python",
   "name": "python",
   "nbconvert_exporter": "python",
   "pygments_lexer": "ipython3",
   "version": "3.9.12"
  }
 },
 "nbformat": 4,
 "nbformat_minor": 4
}
