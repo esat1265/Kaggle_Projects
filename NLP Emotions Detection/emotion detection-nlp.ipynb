{
 "cells": [
  {
   "cell_type": "markdown",
   "metadata": {
    "id": "CrYJAcPMbJz1"
   },
   "source": [
    "# Data Information\n",
    "### Emotion detection NLP"
   ]
  },
  {
   "cell_type": "code",
   "execution_count": 3,
   "metadata": {
    "id": "ZV6pCb3TVGAs",
    "outputId": "7b24346f-7ba8-4986-c863-50b303b7661e"
   },
   "outputs": [
    {
     "name": "stderr",
     "output_type": "stream",
     "text": [
      "[nltk_data] Downloading package wordnet to\n",
      "[nltk_data]     C:\\Users\\Utilisateur\\AppData\\Roaming\\nltk_data...\n",
      "[nltk_data] Downloading package stopwords to\n",
      "[nltk_data]     C:\\Users\\Utilisateur\\AppData\\Roaming\\nltk_data...\n",
      "[nltk_data]   Package stopwords is already up-to-date!\n"
     ]
    }
   ],
   "source": [
    "import numpy as np\n",
    "import pandas as pd\n",
    "import matplotlib.pyplot as plt\n",
    "import math\n",
    "import sklearn.cluster as cluster\n",
    "import sklearn.neighbors\n",
    "import sklearn.metrics as metrics\n",
    "import re\n",
    "from nltk.corpus import stopwords\n",
    "from sklearn.feature_extraction.text import CountVectorizer\n",
    "from sklearn.metrics.pairwise import cosine_similarity\n",
    "import string\n",
    "from sklearn.metrics import ConfusionMatrixDisplay\n",
    "from sklearn.linear_model import LogisticRegression\n",
    "from sklearn.model_selection import train_test_split\n",
    "from sklearn.model_selection import cross_val_score\n",
    "from sklearn.feature_extraction.text import TfidfTransformer\n",
    "from sklearn.naive_bayes import MultinomialNB\n",
    "from sklearn.metrics import classification_report,confusion_matrix, roc_curve, auc, precision_score, recall_score, f1_score, precision_recall_curve\n",
    "import nltk\n",
    "nltk.download('wordnet')\n",
    "nltk.download('stopwords')\n",
    "from nltk.tokenize import word_tokenize \n",
    "from nltk.tokenize import RegexpTokenizer\n",
    "import warnings\n",
    "warnings.filterwarnings('ignore')\n"
   ]
  },
  {
   "cell_type": "markdown",
   "metadata": {
    "id": "AYsKygirDHXw"
   },
   "source": [
    "## Load and explore the data"
   ]
  },
  {
   "cell_type": "code",
   "execution_count": 5,
   "metadata": {
    "id": "-cLXFN-aVGAv",
    "outputId": "6e6916a1-ce2b-4a67-904f-690be3c74468"
   },
   "outputs": [
    {
     "name": "stdout",
     "output_type": "stream",
     "text": [
      "Total data: (20000, 2)\n"
     ]
    }
   ],
   "source": [
    "train_data = pd.read_csv('train.txt',names=['sentence','emotion'],header=None, sep=';')\n",
    "test_data = pd.read_csv('test.txt',names=['sentence','emotion'],header=None, sep=';')\n",
    "val_data= pd.read_csv('val.txt',names=['sentence','emotion'],header=None, sep=';')\n",
    "df = pd.concat([train_data,test_data, val_data])\n",
    "print('Total data:',df.shape)"
   ]
  },
  {
   "cell_type": "code",
   "execution_count": 6,
   "metadata": {
    "id": "K-Rc1a0xPAbz",
    "outputId": "4011ce2d-0dd9-43d1-f3dd-3ee62e71310f"
   },
   "outputs": [
    {
     "data": {
      "text/plain": [
       "sentence    0\n",
       "emotion     0\n",
       "dtype: int64"
      ]
     },
     "execution_count": 6,
     "metadata": {},
     "output_type": "execute_result"
    }
   ],
   "source": [
    "# Null Check\n",
    "train_data.isnull().sum()\n",
    "test_data.isnull().sum()\n",
    "val_data.isnull().sum()"
   ]
  },
  {
   "cell_type": "code",
   "execution_count": 7,
   "metadata": {
    "id": "geUnupErPFz2",
    "outputId": "2af4ba68-dc3b-4f9c-b1b8-fec87bdea82c"
   },
   "outputs": [
    {
     "data": {
      "text/plain": [
       "(19999, 2)"
      ]
     },
     "execution_count": 7,
     "metadata": {},
     "output_type": "execute_result"
    }
   ],
   "source": [
    "df = df.drop_duplicates(keep=\"first\") # Drop duplicated data and reindex the data\n",
    "df_reidx = df.reset_index(drop=True)\n",
    "df_reidx.shape"
   ]
  },
  {
   "cell_type": "code",
   "execution_count": 8,
   "metadata": {
    "id": "K_Z9aL_vm5f9"
   },
   "outputs": [],
   "source": [
    "# convert the emotions to binary labels. love and joy emotions are \"not-stressed ==1\", and sadness, anger, fear, and surprise are \"stressed == 0\".\n",
    "df_reidx['label']=df_reidx['emotion'].replace({'joy': \"not-stressed\" , 'love': \"not-stressed\", \n",
    "                                   'sadness': \"stressed\", 'anger': \"stressed\", 'fear': \"stressed\",'surprise': \"stressed\"})"
   ]
  },
  {
   "cell_type": "code",
   "execution_count": 9,
   "metadata": {
    "id": "jqlwmw4XbpjL",
    "outputId": "67edd2a9-240d-4f1b-9428-b6d14a5f9e84"
   },
   "outputs": [
    {
     "data": {
      "text/plain": [
       "stressed        11598\n",
       "not-stressed     8401\n",
       "Name: label, dtype: int64"
      ]
     },
     "execution_count": 9,
     "metadata": {},
     "output_type": "execute_result"
    }
   ],
   "source": [
    "# check if pos and neg sentiments\n",
    "df_reidx.label.value_counts()"
   ]
  },
  {
   "cell_type": "code",
   "execution_count": 10,
   "metadata": {
    "id": "YjHjxw4LdIsg",
    "outputId": "56d50b13-a28f-460a-9288-ee030af8fc55"
   },
   "outputs": [
    {
     "data": {
      "text/plain": [
       "count    19999.000000\n",
       "mean        96.671784\n",
       "std         55.778779\n",
       "min          7.000000\n",
       "25%         53.000000\n",
       "50%         86.000000\n",
       "75%        129.000000\n",
       "max        300.000000\n",
       "Name: length, dtype: float64"
      ]
     },
     "execution_count": 10,
     "metadata": {},
     "output_type": "execute_result"
    }
   ],
   "source": [
    "df_reidx['length'] = df_reidx['sentence'].apply(len) # number of characters\n",
    "df_reidx['length'].describe() # info()"
   ]
  },
  {
   "cell_type": "code",
   "execution_count": 11,
   "metadata": {
    "id": "zFlicA05VGAy",
    "outputId": "569bbab1-abb1-40e9-b9bf-caa472910c62"
   },
   "outputs": [
    {
     "data": {
      "text/html": [
       "<div>\n",
       "<style scoped>\n",
       "    .dataframe tbody tr th:only-of-type {\n",
       "        vertical-align: middle;\n",
       "    }\n",
       "\n",
       "    .dataframe tbody tr th {\n",
       "        vertical-align: top;\n",
       "    }\n",
       "\n",
       "    .dataframe thead th {\n",
       "        text-align: right;\n",
       "    }\n",
       "</style>\n",
       "<table border=\"1\" class=\"dataframe\">\n",
       "  <thead>\n",
       "    <tr style=\"text-align: right;\">\n",
       "      <th></th>\n",
       "      <th>sentence</th>\n",
       "      <th>emotion</th>\n",
       "      <th>label</th>\n",
       "      <th>length</th>\n",
       "    </tr>\n",
       "  </thead>\n",
       "  <tbody>\n",
       "    <tr>\n",
       "      <th>19994</th>\n",
       "      <td>im having ssa examination tomorrow in the morn...</td>\n",
       "      <td>sadness</td>\n",
       "      <td>stressed</td>\n",
       "      <td>191</td>\n",
       "    </tr>\n",
       "    <tr>\n",
       "      <th>19995</th>\n",
       "      <td>i constantly worry about their fight against n...</td>\n",
       "      <td>joy</td>\n",
       "      <td>not-stressed</td>\n",
       "      <td>173</td>\n",
       "    </tr>\n",
       "    <tr>\n",
       "      <th>19996</th>\n",
       "      <td>i feel its important to share this info for th...</td>\n",
       "      <td>joy</td>\n",
       "      <td>not-stressed</td>\n",
       "      <td>80</td>\n",
       "    </tr>\n",
       "    <tr>\n",
       "      <th>19997</th>\n",
       "      <td>i truly feel that if you are passionate enough...</td>\n",
       "      <td>joy</td>\n",
       "      <td>not-stressed</td>\n",
       "      <td>105</td>\n",
       "    </tr>\n",
       "    <tr>\n",
       "      <th>19998</th>\n",
       "      <td>i feel like i just wanna buy any cute make up ...</td>\n",
       "      <td>joy</td>\n",
       "      <td>not-stressed</td>\n",
       "      <td>74</td>\n",
       "    </tr>\n",
       "  </tbody>\n",
       "</table>\n",
       "</div>"
      ],
      "text/plain": [
       "                                                sentence  emotion  \\\n",
       "19994  im having ssa examination tomorrow in the morn...  sadness   \n",
       "19995  i constantly worry about their fight against n...      joy   \n",
       "19996  i feel its important to share this info for th...      joy   \n",
       "19997  i truly feel that if you are passionate enough...      joy   \n",
       "19998  i feel like i just wanna buy any cute make up ...      joy   \n",
       "\n",
       "              label  length  \n",
       "19994      stressed     191  \n",
       "19995  not-stressed     173  \n",
       "19996  not-stressed      80  \n",
       "19997  not-stressed     105  \n",
       "19998  not-stressed      74  "
      ]
     },
     "execution_count": 11,
     "metadata": {},
     "output_type": "execute_result"
    }
   ],
   "source": [
    "df_reidx.tail()"
   ]
  },
  {
   "cell_type": "markdown",
   "metadata": {
    "id": "KptVLKp2dtfr"
   },
   "source": [
    "#### To clean the sentences,we do text preprocessing."
   ]
  },
  {
   "cell_type": "code",
   "execution_count": 12,
   "metadata": {
    "id": "RTfGwvFpes_X",
    "outputId": "64ebe5dc-1ee7-4a5f-d8e8-8d148e60c036"
   },
   "outputs": [
    {
     "name": "stderr",
     "output_type": "stream",
     "text": [
      "100%|██████████████████████████████████████████████████████████████████████████| 19999/19999 [00:07<00:00, 2831.95it/s]\n"
     ]
    },
    {
     "data": {
      "text/html": [
       "<div>\n",
       "<style scoped>\n",
       "    .dataframe tbody tr th:only-of-type {\n",
       "        vertical-align: middle;\n",
       "    }\n",
       "\n",
       "    .dataframe tbody tr th {\n",
       "        vertical-align: top;\n",
       "    }\n",
       "\n",
       "    .dataframe thead th {\n",
       "        text-align: right;\n",
       "    }\n",
       "</style>\n",
       "<table border=\"1\" class=\"dataframe\">\n",
       "  <thead>\n",
       "    <tr style=\"text-align: right;\">\n",
       "      <th></th>\n",
       "      <th>sentence</th>\n",
       "      <th>emotion</th>\n",
       "      <th>label</th>\n",
       "      <th>length</th>\n",
       "      <th>cleaned_sentence</th>\n",
       "    </tr>\n",
       "  </thead>\n",
       "  <tbody>\n",
       "    <tr>\n",
       "      <th>0</th>\n",
       "      <td>i didnt feel humiliated</td>\n",
       "      <td>sadness</td>\n",
       "      <td>stressed</td>\n",
       "      <td>23</td>\n",
       "      <td>i did not feel humiliated</td>\n",
       "    </tr>\n",
       "    <tr>\n",
       "      <th>1</th>\n",
       "      <td>i can go from feeling so hopeless to so damned...</td>\n",
       "      <td>sadness</td>\n",
       "      <td>stressed</td>\n",
       "      <td>108</td>\n",
       "      <td>i can go from feeling so hopeless to so damned...</td>\n",
       "    </tr>\n",
       "    <tr>\n",
       "      <th>2</th>\n",
       "      <td>im grabbing a minute to post i feel greedy wrong</td>\n",
       "      <td>anger</td>\n",
       "      <td>stressed</td>\n",
       "      <td>48</td>\n",
       "      <td>i am grabbing a minute to post i feel greedy w...</td>\n",
       "    </tr>\n",
       "    <tr>\n",
       "      <th>3</th>\n",
       "      <td>i am ever feeling nostalgic about the fireplac...</td>\n",
       "      <td>love</td>\n",
       "      <td>not-stressed</td>\n",
       "      <td>92</td>\n",
       "      <td>i am ever feeling nostalgic about the fireplac...</td>\n",
       "    </tr>\n",
       "    <tr>\n",
       "      <th>4</th>\n",
       "      <td>i am feeling grouchy</td>\n",
       "      <td>anger</td>\n",
       "      <td>stressed</td>\n",
       "      <td>20</td>\n",
       "      <td>i am feeling grouchy</td>\n",
       "    </tr>\n",
       "  </tbody>\n",
       "</table>\n",
       "</div>"
      ],
      "text/plain": [
       "                                            sentence  emotion         label  \\\n",
       "0                            i didnt feel humiliated  sadness      stressed   \n",
       "1  i can go from feeling so hopeless to so damned...  sadness      stressed   \n",
       "2   im grabbing a minute to post i feel greedy wrong    anger      stressed   \n",
       "3  i am ever feeling nostalgic about the fireplac...     love  not-stressed   \n",
       "4                               i am feeling grouchy    anger      stressed   \n",
       "\n",
       "   length                                   cleaned_sentence  \n",
       "0      23                          i did not feel humiliated  \n",
       "1     108  i can go from feeling so hopeless to so damned...  \n",
       "2      48  i am grabbing a minute to post i feel greedy w...  \n",
       "3      92  i am ever feeling nostalgic about the fireplac...  \n",
       "4      20                               i am feeling grouchy  "
      ]
     },
     "execution_count": 12,
     "metadata": {},
     "output_type": "execute_result"
    }
   ],
   "source": [
    "from tqdm import tqdm\n",
    "import re\n",
    "from bs4 import BeautifulSoup\n",
    "from nltk.stem import PorterStemmer\n",
    "from nltk.stem import WordNetLemmatizer\n",
    "\n",
    "def decontracted(phrase):\n",
    "    \"\"\"\n",
    "    We first define a function to expand the contracted phrase into normal words\n",
    "    \"\"\"\n",
    "    # specific\n",
    "    phrase = re.sub(r\"wont\", \"will not\", phrase)\n",
    "    phrase = re.sub(r\"wouldnt\", \"would not\", phrase)\n",
    "    phrase = re.sub(r\"shouldnt\", \"should not\", phrase)\n",
    "    phrase = re.sub(r\"couldnt\", \"could not\", phrase)\n",
    "    phrase = re.sub(r\"cudnt\", \"could not\", phrase)\n",
    "    phrase = re.sub(r\"cant\", \"can not\", phrase)\n",
    "    phrase = re.sub(r\"dont\", \"do not\", phrase)\n",
    "    phrase = re.sub(r\"doesnt\", \"does not\", phrase)\n",
    "    phrase = re.sub(r\"didnt\", \"did not\", phrase)\n",
    "    phrase = re.sub(r\"wasnt\", \"was not\", phrase)\n",
    "    phrase = re.sub(r\"werent\", \"were not\", phrase)\n",
    "    phrase = re.sub(r\"havent\", \"have not\", phrase)\n",
    "    phrase = re.sub(r\"hadnt\", \"had not\", phrase)\n",
    "\n",
    "    # general\n",
    "    phrase = re.sub(r\"n\\ t\", \" not\", phrase)\n",
    "    #phrase = re.sub(r\"\\re\", \" are\", phrase)\n",
    "    phrase = re.sub(r\"\\ s \", \" is \", phrase) # prime \n",
    "    phrase = re.sub(r\"\\ d \", \" would \", phrase)\n",
    "    phrase = re.sub(r\"\\ ll \", \" will \", phrase)\n",
    "    phrase = re.sub(r\"\\dunno\", \"do not \", phrase)\n",
    "    phrase = re.sub(r\"ive \", \"i have \", phrase)\n",
    "    phrase = re.sub(r\"im \", \"i am \", phrase)\n",
    "    phrase = re.sub(r\"i m \", \"i am \", phrase)\n",
    "    phrase = re.sub(r\" w \", \" with \", phrase)\n",
    "    \n",
    "    return phrase\n",
    "\n",
    "    \n",
    "def clean_text(df):\n",
    "    \"\"\"\n",
    "    Clean the review texts\n",
    "    \"\"\"\n",
    "    cleaned_review = []\n",
    "\n",
    "    for review_text in tqdm(df['sentence']):\n",
    "        \n",
    "        # expand the contracted words\n",
    "        review_text = decontracted(review_text)\n",
    "        #remove html tags\n",
    "        review_text = BeautifulSoup(review_text, 'lxml').get_text().strip() # re.sub(r'<.*?>', '', text)\n",
    "        \n",
    "        #remove non-alphabetic characters\n",
    "        review_text = re.sub(\"[^a-zA-Z]\",\" \", review_text)\n",
    "    \n",
    "        #remove url \n",
    "        review_text = re.sub(r'https?://\\S+|www\\.\\S+', '', review_text)\n",
    "        \n",
    "        #Removing punctutation, string.punctuation in python consists of !\"#$%&\\'()*+,-./:;<=>?@[\\\\]^_{|}~`\n",
    "        review_text = review_text.translate(str.maketrans('', '', string.punctuation))\n",
    "        # ''.join([char for char in movie_text_data if char not in string.punctuation])\n",
    "        \n",
    "        # remove emails\n",
    "        review_text = re.sub(r\"(^[a-zA-Z0-9_.+-]+@[a-zA-Z0-9-]+\\.[a-zA-Z0-9-.]+$)\", '', review_text)\n",
    "    \n",
    "        cleaned_review.append(review_text)\n",
    "\n",
    "    return cleaned_review  \n",
    "\n",
    "df_reidx['cleaned_sentence'] = clean_text(df_reidx)\n",
    "df_reidx.head()  "
   ]
  },
  {
   "cell_type": "markdown",
   "metadata": {
    "id": "NWRKxc1vECx0"
   },
   "source": [
    "###### additional lemmatization"
   ]
  },
  {
   "cell_type": "code",
   "execution_count": 13,
   "metadata": {
    "id": "sNgR75EbVGA1",
    "outputId": "e709836d-3e3c-4b17-d20f-b5828b0f9891"
   },
   "outputs": [
    {
     "name": "stderr",
     "output_type": "stream",
     "text": [
      "[nltk_data] Downloading package punkt to\n",
      "[nltk_data]     C:\\Users\\Utilisateur\\AppData\\Roaming\\nltk_data...\n",
      "[nltk_data]   Package punkt is already up-to-date!\n",
      "100%|██████████████████████████████████████████████████████████████████████████| 19999/19999 [00:04<00:00, 4012.54it/s]\n"
     ]
    },
    {
     "data": {
      "text/html": [
       "<div>\n",
       "<style scoped>\n",
       "    .dataframe tbody tr th:only-of-type {\n",
       "        vertical-align: middle;\n",
       "    }\n",
       "\n",
       "    .dataframe tbody tr th {\n",
       "        vertical-align: top;\n",
       "    }\n",
       "\n",
       "    .dataframe thead th {\n",
       "        text-align: right;\n",
       "    }\n",
       "</style>\n",
       "<table border=\"1\" class=\"dataframe\">\n",
       "  <thead>\n",
       "    <tr style=\"text-align: right;\">\n",
       "      <th></th>\n",
       "      <th>sentence</th>\n",
       "      <th>emotion</th>\n",
       "      <th>label</th>\n",
       "      <th>length</th>\n",
       "      <th>cleaned_sentence</th>\n",
       "    </tr>\n",
       "  </thead>\n",
       "  <tbody>\n",
       "    <tr>\n",
       "      <th>0</th>\n",
       "      <td>i didnt feel humiliated</td>\n",
       "      <td>sadness</td>\n",
       "      <td>stressed</td>\n",
       "      <td>23</td>\n",
       "      <td>[feel, humiliated]</td>\n",
       "    </tr>\n",
       "    <tr>\n",
       "      <th>1</th>\n",
       "      <td>i can go from feeling so hopeless to so damned...</td>\n",
       "      <td>sadness</td>\n",
       "      <td>stressed</td>\n",
       "      <td>108</td>\n",
       "      <td>[go, feeling, hopeless, damned, hopeful, aroun...</td>\n",
       "    </tr>\n",
       "    <tr>\n",
       "      <th>2</th>\n",
       "      <td>im grabbing a minute to post i feel greedy wrong</td>\n",
       "      <td>anger</td>\n",
       "      <td>stressed</td>\n",
       "      <td>48</td>\n",
       "      <td>[grabbing, minute, post, feel, greedy, wrong]</td>\n",
       "    </tr>\n",
       "    <tr>\n",
       "      <th>3</th>\n",
       "      <td>i am ever feeling nostalgic about the fireplac...</td>\n",
       "      <td>love</td>\n",
       "      <td>not-stressed</td>\n",
       "      <td>92</td>\n",
       "      <td>[ever, feeling, nostalgic, fireplace, know, st...</td>\n",
       "    </tr>\n",
       "    <tr>\n",
       "      <th>4</th>\n",
       "      <td>i am feeling grouchy</td>\n",
       "      <td>anger</td>\n",
       "      <td>stressed</td>\n",
       "      <td>20</td>\n",
       "      <td>[feeling, grouchy]</td>\n",
       "    </tr>\n",
       "  </tbody>\n",
       "</table>\n",
       "</div>"
      ],
      "text/plain": [
       "                                            sentence  emotion         label  \\\n",
       "0                            i didnt feel humiliated  sadness      stressed   \n",
       "1  i can go from feeling so hopeless to so damned...  sadness      stressed   \n",
       "2   im grabbing a minute to post i feel greedy wrong    anger      stressed   \n",
       "3  i am ever feeling nostalgic about the fireplac...     love  not-stressed   \n",
       "4                               i am feeling grouchy    anger      stressed   \n",
       "\n",
       "   length                                   cleaned_sentence  \n",
       "0      23                                 [feel, humiliated]  \n",
       "1     108  [go, feeling, hopeless, damned, hopeful, aroun...  \n",
       "2      48      [grabbing, minute, post, feel, greedy, wrong]  \n",
       "3      92  [ever, feeling, nostalgic, fireplace, know, st...  \n",
       "4      20                                 [feeling, grouchy]  "
      ]
     },
     "execution_count": 13,
     "metadata": {},
     "output_type": "execute_result"
    }
   ],
   "source": [
    "import nltk\n",
    "nltk.download('punkt')\n",
    "def remove_stopwords(phrase):\n",
    "    remove_sw = []\n",
    "    tokenizer = RegexpTokenizer(r'[a-zA-Z0-9]+')\n",
    "    stop_words = stopwords.words('english')\n",
    "    \n",
    "    for review_text in tqdm(phrase):\n",
    "        tokens = word_tokenize(review_text)\n",
    "        tokens = [word for word in tokens if not word in stop_words]\n",
    "        remove_sw.append(tokens)\n",
    "    return remove_sw\n",
    "\n",
    "df_reidx['cleaned_sentence'] = remove_stopwords(df_reidx['cleaned_sentence'])\n",
    "df_reidx.head()"
   ]
  },
  {
   "cell_type": "code",
   "execution_count": 14,
   "metadata": {
    "id": "UdFbKacIgGU_",
    "outputId": "0c231497-0676-4ef7-85a8-7347db660979"
   },
   "outputs": [
    {
     "name": "stderr",
     "output_type": "stream",
     "text": [
      "100%|██████████████████████████████████████████████████████████████████████████| 19999/19999 [00:06<00:00, 3308.35it/s]\n"
     ]
    },
    {
     "data": {
      "text/plain": [
       "0                                       [feel, humili]\n",
       "1    [go, feel, hopeless, damn, hope, around, someo...\n",
       "2             [grab, minut, post, feel, greedi, wrong]\n",
       "3    [ever, feel, nostalg, fireplac, know, still, n...\n",
       "4                                      [feel, grouchi]\n",
       "Name: cleaned_sentence, dtype: object"
      ]
     },
     "execution_count": 14,
     "metadata": {},
     "output_type": "execute_result"
    }
   ],
   "source": [
    "#stemming for extract the actual meaning of the words\n",
    "from nltk.stem import PorterStemmer\n",
    "\n",
    "def stemming(phrase):\n",
    "    stemmer = PorterStemmer()\n",
    "    stem_output=[]\n",
    "    stemmed=[]\n",
    "    for review_text in tqdm(phrase):\n",
    "        stemmed = [stemmer.stem(word) for word in review_text]\n",
    "        stem_output.append(stemmed)\n",
    "    return stem_output\n",
    "\n",
    "df_reidx['cleaned_sentence'] = stemming(df_reidx['cleaned_sentence'])\n",
    "df_reidx['cleaned_sentence'].head()"
   ]
  },
  {
   "cell_type": "code",
   "execution_count": 15,
   "metadata": {
    "id": "zDHtFBENVGA1",
    "outputId": "327594ed-2590-4b3d-cfe8-4fa0af0bb357"
   },
   "outputs": [
    {
     "name": "stderr",
     "output_type": "stream",
     "text": [
      "100%|████████████████████████████████████████████████████████████████████████| 19999/19999 [00:00<00:00, 625326.23it/s]\n"
     ]
    },
    {
     "data": {
      "text/plain": [
       "0                                          feel humili\n",
       "1    go feel hopeless damn hope around someon care ...\n",
       "2                    grab minut post feel greedi wrong\n",
       "3    ever feel nostalg fireplac know still noth pro...\n",
       "4                                         feel grouchi\n",
       "Name: cleaned_sentence, dtype: object"
      ]
     },
     "execution_count": 15,
     "metadata": {},
     "output_type": "execute_result"
    }
   ],
   "source": [
    "def to_sentence(phrase):\n",
    "    sentence=[]\n",
    "    for words in tqdm(phrase):\n",
    "        sentence.append((\" \").join(words))\n",
    "    return sentence\n",
    "df_reidx['cleaned_sentence']=to_sentence(df_reidx['cleaned_sentence'])\n",
    "df_reidx['cleaned_sentence'].head()"
   ]
  },
  {
   "cell_type": "markdown",
   "metadata": {
    "id": "tt6Tbl3xlBhE"
   },
   "source": [
    "# Feature Engineering"
   ]
  },
  {
   "cell_type": "markdown",
   "metadata": {
    "id": "Ln-1lwjhlfS7"
   },
   "source": [
    "### CounterVectorize: tokenization: "
   ]
  },
  {
   "cell_type": "code",
   "execution_count": 16,
   "metadata": {
    "id": "jT3nRcj9v-mL",
    "outputId": "ed5e8c98-798d-46a7-e9dc-77946552e3c4"
   },
   "outputs": [
    {
     "name": "stdout",
     "output_type": "stream",
     "text": [
      "X.shape :  (19999, 4374)\n",
      "y.shape :  (19999,)\n"
     ]
    }
   ],
   "source": [
    "# convert the cleaned sentences to vectors\n",
    "token = RegexpTokenizer(r'[a-zA-Z0-9]+')\n",
    "\n",
    "vectorizer = CountVectorizer(stop_words='english', max_df=0.5, min_df=3, ngram_range=(1,1),tokenizer = token.tokenize)\n",
    "x = vectorizer.fit_transform(df_reidx.cleaned_sentence)\n",
    "y = df_reidx.label.values\n",
    "\n",
    "print(\"X.shape : \",x.shape)\n",
    "print(\"y.shape : \",y.shape)"
   ]
  },
  {
   "cell_type": "markdown",
   "metadata": {
    "id": "l1kNPsDNm_f4"
   },
   "source": [
    "# Train Test split"
   ]
  },
  {
   "cell_type": "code",
   "execution_count": 17,
   "metadata": {
    "id": "OqtP1s3WnOEj",
    "outputId": "a541305b-9d77-45e8-cd63-f62f9c0a44b4"
   },
   "outputs": [
    {
     "name": "stdout",
     "output_type": "stream",
     "text": [
      "Number of training examples:13999\n",
      "Number of testing examples:6000\n",
      "\n",
      "Training data: X_train : (13999, 4374), y_train : (13999,)\n",
      "Testing data: X_test : (6000, 4374), y_test : (6000,)\n"
     ]
    }
   ],
   "source": [
    "train_idx, test_idx = train_test_split(np.arange(df_reidx.shape[0]), test_size=0.3,shuffle=True, random_state=42)\n",
    "\n",
    "x_train = x[train_idx]\n",
    "y_train = y[train_idx]\n",
    "\n",
    "x_test = x[test_idx]\n",
    "y_test = y[test_idx]\n",
    "print(\"Number of training examples:{}\".format(len(train_idx)))\n",
    "print(\"Number of testing examples:{}\\n\".format(len(test_idx)))\n",
    "print(\"Training data: X_train : {}, y_train : {}\".format(x_train.shape, y_train.shape))\n",
    "print(\"Testing data: X_test : {}, y_test : {}\".format(x_test.shape, y_test.shape))\n"
   ]
  },
  {
   "cell_type": "code",
   "execution_count": 18,
   "metadata": {
    "id": "v1YE9wUuVGA3",
    "outputId": "c6a48ec2-bccf-4caa-986d-f9e88c562c51"
   },
   "outputs": [
    {
     "data": {
      "text/plain": [
       "(13999, 4374)"
      ]
     },
     "execution_count": 18,
     "metadata": {},
     "output_type": "execute_result"
    }
   ],
   "source": [
    "x_train.shape"
   ]
  },
  {
   "cell_type": "markdown",
   "metadata": {
    "id": "m1fK2NLdzysQ"
   },
   "source": [
    "# Model Training"
   ]
  },
  {
   "cell_type": "markdown",
   "metadata": {
    "id": "Dwtb2azVm2U8"
   },
   "source": [
    "#### Logistic Regression"
   ]
  },
  {
   "cell_type": "code",
   "execution_count": 19,
   "metadata": {
    "id": "2gfpybeIm7NX",
    "outputId": "fe4b4dfa-3e87-4af9-e135-125300b33f24"
   },
   "outputs": [
    {
     "name": "stdout",
     "output_type": "stream",
     "text": [
      "              precision    recall  f1-score   support\n",
      "\n",
      "not-stressed       0.95      0.93      0.94      2491\n",
      "    stressed       0.95      0.96      0.96      3509\n",
      "\n",
      "    accuracy                           0.95      6000\n",
      "   macro avg       0.95      0.95      0.95      6000\n",
      "weighted avg       0.95      0.95      0.95      6000\n",
      "\n",
      "\n",
      "Accuracy for Logistic Regression model: 0.9486666666666667\n",
      "\n",
      "\n"
     ]
    },
    {
     "data": {
      "image/png": "[encoded data removed]",
      "text/plain": [
       "<Figure size 432x288 with 2 Axes>"
      ]
     },
     "metadata": {
      "needs_background": "light"
     },
     "output_type": "display_data"
    }
   ],
   "source": [
    "# fit a logistic regression classifier on the training data use default settings\n",
    "lr_clf = LogisticRegression()\n",
    "lr_clf.fit(x_train, y_train)\n",
    "\n",
    "# make prediction on testing data\n",
    "y_pred_test_lr = lr_clf.predict(x_test)\n",
    "y_predprob_lr = lr_clf.predict_proba(x_test)\n",
    "matrix_lr = confusion_matrix(y_test,y_pred_test_lr)\n",
    "print(classification_report(y_test, y_pred_test_lr))\n",
    "print(\"\\nAccuracy for Logistic Regression model:\",metrics.accuracy_score(y_test, y_pred_test_lr))\n",
    "print(\"\\n\")\n",
    "y_predict = lr_clf.predict(x_test)\n",
    "matrix_display = ConfusionMatrixDisplay(matrix_lr).plot()"
   ]
  },
  {
   "cell_type": "code",
   "execution_count": 20,
   "metadata": {
    "id": "wLfvVX1_77P7",
    "outputId": "ffb572de-d25a-452c-9229-b2dab6060020"
   },
   "outputs": [
    {
     "name": "stdout",
     "output_type": "stream",
     "text": [
      "              precision    recall  f1-score   support\n",
      "\n",
      "not-stressed       0.92      0.88      0.90      2491\n",
      "    stressed       0.92      0.94      0.93      3509\n",
      "\n",
      "    accuracy                           0.92      6000\n",
      "   macro avg       0.92      0.91      0.92      6000\n",
      "weighted avg       0.92      0.92      0.92      6000\n",
      "\n",
      "\n",
      "Accuracy for Bernouli Naive Bayes model: 0.9188333333333333\n",
      "\n",
      "\n"
     ]
    },
    {
     "data": {
      "image/png": "[encoded data removed]",
      "text/plain": [
       "<Figure size 432x288 with 2 Axes>"
      ]
     },
     "metadata": {
      "needs_background": "light"
     },
     "output_type": "display_data"
    }
   ],
   "source": [
    "from sklearn.naive_bayes import BernoulliNB\n",
    "nb_clf = BernoulliNB()\n",
    "nb_clf.fit(x_train, y_train)\n",
    "# make prediction on testing data\n",
    "y_pred_test_nb = nb_clf.predict(x_test)\n",
    "y_predprob_nb = nb_clf.predict_proba(x_test)\n",
    "matrix_nb = confusion_matrix(y_test,y_pred_test_nb)\n",
    "print(classification_report(y_test, y_pred_test_nb))\n",
    "print(\"\\nAccuracy for Bernouli Naive Bayes model:\",metrics.accuracy_score(y_test, y_pred_test_nb))\n",
    "print(\"\\n\")\n",
    "matrix_display = ConfusionMatrixDisplay(matrix_nb).plot()"
   ]
  },
  {
   "cell_type": "code",
   "execution_count": 21,
   "metadata": {
    "id": "0szXmLlOphy3",
    "outputId": "819ac2ab-ddf0-4b63-99b1-f108e41ad6c6"
   },
   "outputs": [
    {
     "name": "stdout",
     "output_type": "stream",
     "text": [
      "              precision    recall  f1-score   support\n",
      "\n",
      "not-stressed       0.93      0.90      0.91      2491\n",
      "    stressed       0.93      0.95      0.94      3509\n",
      "\n",
      "    accuracy                           0.93      6000\n",
      "   macro avg       0.93      0.92      0.93      6000\n",
      "weighted avg       0.93      0.93      0.93      6000\n",
      "\n",
      "\n",
      "Accuracy for multinominal Naive Bayes model: 0.9291666666666667\n",
      "\n",
      "\n"
     ]
    },
    {
     "data": {
      "image/png": "[encoded data removed]",
      "text/plain": [
       "<Figure size 432x288 with 2 Axes>"
      ]
     },
     "metadata": {
      "needs_background": "light"
     },
     "output_type": "display_data"
    }
   ],
   "source": [
    "mnb = MultinomialNB()\n",
    "mnb.fit(x_train, y_train)\n",
    "# make prediction on testing data\n",
    "y_pred_test_mnb = mnb.predict(x_test)\n",
    "y_predprob_mnb = mnb.predict_proba(x_test)\n",
    "matrix = confusion_matrix(y_test,y_pred_test_mnb)\n",
    "print(classification_report(y_test, y_pred_test_mnb))\n",
    "print(\"\\nAccuracy for multinominal Naive Bayes model:\",metrics.accuracy_score(y_test, y_pred_test_mnb))\n",
    "print(\"\\n\")\n",
    "\n",
    "y_predict = mnb.predict(x_test)\n",
    "cm = confusion_matrix(y_test, y_predict)\n",
    "cm_display = ConfusionMatrixDisplay(cm).plot()"
   ]
  },
  {
   "cell_type": "code",
   "execution_count": 22,
   "metadata": {
    "id": "kO0UOIPNnsaZ",
    "outputId": "94f24074-f6ce-4c0f-a012-8a555d4a10bc"
   },
   "outputs": [
    {
     "name": "stdout",
     "output_type": "stream",
     "text": [
      "Logistic Regression Model\n",
      "\n",
      "Accuracy: 94.87%\n",
      "Precision: 94.82%\n",
      "Recall: 94.60%\n",
      "F1 Score:  0.9159408365025967\n",
      "[[2317  174]\n",
      " [ 134 3375]]\n"
     ]
    }
   ],
   "source": [
    "acc_score_lr = metrics.accuracy_score(y_pred_test_lr,y_test)\n",
    "prec_score_lr = precision_score(y_test,y_pred_test_lr, average='macro')\n",
    "recall_lr = recall_score(y_test, y_pred_test_lr,average='macro')\n",
    "f1_lr = f1_score(y_test,y_pred_test_nb,average='macro')\n",
    "matrix_lr = confusion_matrix(y_test,y_pred_test_lr)\n",
    "print('Logistic Regression Model\\n')\n",
    "print(str('Accuracy: '+'{:04.2f}'.format(acc_score_lr*100))+'%')\n",
    "print(str('Precision: '+'{:04.2f}'.format(prec_score_lr*100))+'%')\n",
    "print(str('Recall: '+'{:04.2f}'.format(recall_lr*100))+'%')\n",
    "print('F1 Score: ',f1_lr)\n",
    "print(matrix_lr)"
   ]
  },
  {
   "cell_type": "markdown",
   "metadata": {
    "id": "av7z4Hnzn_aw"
   },
   "source": [
    "##### BernouliNB"
   ]
  },
  {
   "cell_type": "code",
   "execution_count": 23,
   "metadata": {
    "id": "BL4jUTnHwQAA",
    "outputId": "b1360869-33f6-4fce-af51-b3078a7949e0"
   },
   "outputs": [
    {
     "name": "stdout",
     "output_type": "stream",
     "text": [
      "Bernouli Naive Bayes Model\n",
      "\n",
      "Accuracy: 91.88%\n",
      "Precision: 91.87%\n",
      "Recall: 91.37%\n",
      "F1 Score:  0.9159408365025967\n",
      "[[2200  291]\n",
      " [ 196 3313]]\n"
     ]
    }
   ],
   "source": [
    "acc_score_nb = metrics.accuracy_score(y_pred_test_nb,y_test)\n",
    "prec_score_nb = precision_score(y_test,y_pred_test_nb, average='macro')\n",
    "recall_nb = recall_score(y_test, y_pred_test_nb,average='macro')\n",
    "f1_nb = f1_score(y_test,y_pred_test_nb,average='macro')\n",
    "matrix_nb = confusion_matrix(y_test,y_pred_test_nb)\n",
    "print('Bernouli Naive Bayes Model\\n')\n",
    "print(str('Accuracy: '+'{:04.2f}'.format(acc_score_nb*100))+'%')\n",
    "print(str('Precision: '+'{:04.2f}'.format(prec_score_nb*100))+'%')\n",
    "print(str('Recall: '+'{:04.2f}'.format(recall_nb*100))+'%')\n",
    "print('F1 Score: ',f1_nb)\n",
    "print(matrix_nb)"
   ]
  },
  {
   "cell_type": "markdown",
   "metadata": {
    "id": "0_SSgCmHoX3p"
   },
   "source": [
    "##### MultinominaliNB"
   ]
  },
  {
   "cell_type": "code",
   "execution_count": 24,
   "metadata": {
    "id": "nwGHeF5Xv60e",
    "outputId": "66e10535-dcf9-45cc-ab8b-57065cba8bbb"
   },
   "outputs": [
    {
     "name": "stdout",
     "output_type": "stream",
     "text": [
      "Multimominal Naive Bayes Model\n",
      "\n",
      "Accuracy: 92.92%\n",
      "Precision: 92.93%\n",
      "Recall: 92.45%\n",
      "F1 Score:  0.9266705125826067\n",
      "[[2234  257]\n",
      " [ 168 3341]]\n"
     ]
    }
   ],
   "source": [
    "acc_score_mnb = metrics.accuracy_score(y_pred_test_mnb,y_test)\n",
    "prec_score_mnb = precision_score(y_test,y_pred_test_mnb, average='macro')\n",
    "recall_mnb = recall_score(y_test, y_pred_test_mnb,average='macro')\n",
    "f1_mnb = f1_score(y_test,y_pred_test_mnb,average='macro')\n",
    "matrix_mnb = confusion_matrix(y_test,y_pred_test_mnb)\n",
    "print('Multimominal Naive Bayes Model\\n')\n",
    "print(str('Accuracy: '+'{:04.2f}'.format(acc_score_mnb*100))+'%')\n",
    "print(str('Precision: '+'{:04.2f}'.format(prec_score_mnb*100))+'%')\n",
    "print(str('Recall: '+'{:04.2f}'.format(recall_mnb*100))+'%')\n",
    "print('F1 Score: ',f1_mnb)\n",
    "print(matrix_mnb)"
   ]
  },
  {
   "cell_type": "code",
   "execution_count": 25,
   "metadata": {
    "id": "Y-Td0j-j3zyl",
    "outputId": "f724d70f-5e11-4f12-8e57-d20d089fc724"
   },
   "outputs": [
    {
     "data": {
      "text/html": [
       "<div>\n",
       "<style scoped>\n",
       "    .dataframe tbody tr th:only-of-type {\n",
       "        vertical-align: middle;\n",
       "    }\n",
       "\n",
       "    .dataframe tbody tr th {\n",
       "        vertical-align: top;\n",
       "    }\n",
       "\n",
       "    .dataframe thead th {\n",
       "        text-align: right;\n",
       "    }\n",
       "</style>\n",
       "<table border=\"1\" class=\"dataframe\">\n",
       "  <thead>\n",
       "    <tr style=\"text-align: right;\">\n",
       "      <th></th>\n",
       "      <th>sentence</th>\n",
       "      <th>label</th>\n",
       "      <th>pred_label</th>\n",
       "    </tr>\n",
       "  </thead>\n",
       "  <tbody>\n",
       "    <tr>\n",
       "      <th>10650</th>\n",
       "      <td>i noticed several months ago that i d start fe...</td>\n",
       "      <td>stressed</td>\n",
       "      <td>stressed</td>\n",
       "    </tr>\n",
       "    <tr>\n",
       "      <th>2041</th>\n",
       "      <td>i love lots of different kinds of sports and l...</td>\n",
       "      <td>not-stressed</td>\n",
       "      <td>not-stressed</td>\n",
       "    </tr>\n",
       "  </tbody>\n",
       "</table>\n",
       "</div>"
      ],
      "text/plain": [
       "                                                sentence         label  \\\n",
       "10650  i noticed several months ago that i d start fe...      stressed   \n",
       "2041   i love lots of different kinds of sports and l...  not-stressed   \n",
       "\n",
       "         pred_label  \n",
       "10650      stressed  \n",
       "2041   not-stressed  "
      ]
     },
     "execution_count": 25,
     "metadata": {},
     "output_type": "execute_result"
    }
   ],
   "source": [
    "test_data = df_reidx.iloc[test_idx]\n",
    "test_data['pred_label'] = y_pred_test_lr\n",
    "test_data.head(2)[['sentence','label','pred_label']]\n",
    "# shows what the prediction label fit to the real label"
   ]
  },
  {
   "cell_type": "code",
   "execution_count": 26,
   "metadata": {
    "id": "G08njojA4JMi",
    "outputId": "cc4adb34-ebcb-4173-fdfe-bb3f646a142e"
   },
   "outputs": [
    {
     "data": {
      "text/html": [
       "<div>\n",
       "<style scoped>\n",
       "    .dataframe tbody tr th:only-of-type {\n",
       "        vertical-align: middle;\n",
       "    }\n",
       "\n",
       "    .dataframe tbody tr th {\n",
       "        vertical-align: top;\n",
       "    }\n",
       "\n",
       "    .dataframe thead th {\n",
       "        text-align: right;\n",
       "    }\n",
       "</style>\n",
       "<table border=\"1\" class=\"dataframe\">\n",
       "  <thead>\n",
       "    <tr style=\"text-align: right;\">\n",
       "      <th></th>\n",
       "      <th>sentence</th>\n",
       "      <th>label</th>\n",
       "      <th>pred_label</th>\n",
       "    </tr>\n",
       "  </thead>\n",
       "  <tbody>\n",
       "    <tr>\n",
       "      <th>11072</th>\n",
       "      <td>being subject to unfair treatment in a working...</td>\n",
       "      <td>stressed</td>\n",
       "      <td>not-stressed</td>\n",
       "    </tr>\n",
       "    <tr>\n",
       "      <th>960</th>\n",
       "      <td>i will put my hand on his scar covered chest a...</td>\n",
       "      <td>not-stressed</td>\n",
       "      <td>stressed</td>\n",
       "    </tr>\n",
       "  </tbody>\n",
       "</table>\n",
       "</div>"
      ],
      "text/plain": [
       "                                                sentence         label  \\\n",
       "11072  being subject to unfair treatment in a working...      stressed   \n",
       "960    i will put my hand on his scar covered chest a...  not-stressed   \n",
       "\n",
       "         pred_label  \n",
       "11072  not-stressed  \n",
       "960        stressed  "
      ]
     },
     "execution_count": 26,
     "metadata": {},
     "output_type": "execute_result"
    }
   ],
   "source": [
    "# shows what the prediction label does not fit to the real label\n",
    "test_data[test_data['label'] != test_data['pred_label']].head()[['sentence','label','pred_label']].head(2)"
   ]
  },
  {
   "cell_type": "markdown",
   "metadata": {
    "id": "YQiIzf5nVKpy"
   },
   "source": [
    "##### Predicted features of logistic regression model"
   ]
  },
  {
   "cell_type": "code",
   "execution_count": 27,
   "metadata": {
    "id": "MxlhT5tE4VZC",
    "outputId": "d0eb46bd-ce90-46a7-9de2-92da9e2b9f18"
   },
   "outputs": [
    {
     "name": "stdout",
     "output_type": "stream",
     "text": [
      "Top positive features:\n"
     ]
    },
    {
     "data": {
      "text/plain": [
       "[('agit', 3.413),\n",
       " ('intimid', 3.325),\n",
       " ('tortur', 3.279),\n",
       " ('reluct', 3.207),\n",
       " ('enviou', 3.165),\n",
       " ('punish', 3.134),\n",
       " ('groggi', 3.055),\n",
       " ('jealou', 2.976),\n",
       " ('weird', 2.972),\n",
       " ('gloomi', 2.922)]"
      ]
     },
     "execution_count": 27,
     "metadata": {},
     "output_type": "execute_result"
    }
   ],
   "source": [
    "feature_to_coef = {word: float(\"%.3f\" % coef) for word, coef in zip(vectorizer.get_feature_names(), lr_clf.coef_[0])}\n",
    "\n",
    "print(\"Top positive features:\")\n",
    "sorted(feature_to_coef.items(), key=lambda x: x[1], reverse=True)[:10]"
   ]
  },
  {
   "cell_type": "code",
   "execution_count": 28,
   "metadata": {
    "id": "L-Zu8m4TQ_tl",
    "outputId": "1b08231b-b764-446d-a53d-4ca8c2785cbd"
   },
   "outputs": [
    {
     "name": "stdout",
     "output_type": "stream",
     "text": [
      "Top negative features:\n"
     ]
    },
    {
     "data": {
      "text/plain": [
       "[('sympathet', -3.849),\n",
       " ('superior', -3.514),\n",
       " ('satisfi', -3.406),\n",
       " ('nostalg', -3.16),\n",
       " ('belov', -3.104),\n",
       " ('naughti', -3.097),\n",
       " ('resolv', -3.081),\n",
       " ('passion', -3.079),\n",
       " ('energet', -3.046),\n",
       " ('intellig', -3.037)]"
      ]
     },
     "execution_count": 28,
     "metadata": {},
     "output_type": "execute_result"
    }
   ],
   "source": [
    "# most of the words are reliable evidence of indicating negative sentiments\n",
    "print(\"Top negative features:\")\n",
    "sorted(feature_to_coef.items(), key=lambda x: x[1], reverse=False)[:10]"
   ]
  },
  {
   "cell_type": "markdown",
   "metadata": {
    "id": "__g2W9hzVSvI"
   },
   "source": [
    "##### Predicted features of BernouliNB"
   ]
  },
  {
   "cell_type": "code",
   "execution_count": 29,
   "metadata": {
    "id": "OZj7AYpyQPJP",
    "outputId": "e14658e5-25db-4325-ec74-f536425753dc"
   },
   "outputs": [
    {
     "name": "stdout",
     "output_type": "stream",
     "text": [
      "Top positive features:\n"
     ]
    },
    {
     "data": {
      "text/plain": [
       "[('like', -1.84),\n",
       " ('noth', -2.605),\n",
       " ('know', -2.835),\n",
       " ('realli', -2.919),\n",
       " ('time', -2.942),\n",
       " ('littl', -2.944),\n",
       " ('make', -3.05),\n",
       " ('want', -3.069),\n",
       " ('think', -3.138),\n",
       " ('thing', -3.158)]"
      ]
     },
     "execution_count": 29,
     "metadata": {},
     "output_type": "execute_result"
    }
   ],
   "source": [
    "feature_to_coef = {word: float(\"%.3f\" % coef) for word, coef in zip(vectorizer.get_feature_names(), nb_clf.coef_[0])}\n",
    "\n",
    "print(\"Top positive features:\")\n",
    "sorted(feature_to_coef.items(), key=lambda x: x[1], reverse=True)[:10]"
   ]
  },
  {
   "cell_type": "code",
   "execution_count": 30,
   "metadata": {
    "id": "wCqxxw3RRBaw",
    "outputId": "05b24a37-dbc1-4a10-b96c-5e3970873b98"
   },
   "outputs": [
    {
     "name": "stdout",
     "output_type": "stream",
     "text": [
      "Top negative features:\n"
     ]
    },
    {
     "data": {
      "text/plain": [
       "[('abyss', -8.999),\n",
       " ('accent', -8.999),\n",
       " ('accumul', -8.999),\n",
       " ('acquaint', -8.999),\n",
       " ('actio', -8.999),\n",
       " ('adrenalin', -8.999),\n",
       " ('advoc', -8.999),\n",
       " ('aesthet', -8.999),\n",
       " ('affection', -8.999),\n",
       " ('al', -8.999)]"
      ]
     },
     "execution_count": 30,
     "metadata": {},
     "output_type": "execute_result"
    }
   ],
   "source": [
    "# most of the words are reliable evidence of indicating negative sentiments\n",
    "print(\"Top negative features:\")\n",
    "sorted(feature_to_coef.items(), key=lambda x: x[1], reverse=False)[:10]"
   ]
  },
  {
   "cell_type": "markdown",
   "metadata": {
    "id": "_dd9PlAKVASq"
   },
   "source": [
    "##### Predicted features of multinomial NB"
   ]
  },
  {
   "cell_type": "code",
   "execution_count": 31,
   "metadata": {
    "id": "sdxER_gxQPpp",
    "outputId": "fb488f65-f701-4f6f-dd52-7ce31ae1a477"
   },
   "outputs": [
    {
     "name": "stdout",
     "output_type": "stream",
     "text": [
      "Top positive features:\n"
     ]
    },
    {
     "data": {
      "text/plain": [
       "[('like', -3.715),\n",
       " ('noth', -4.482),\n",
       " ('know', -4.748),\n",
       " ('realli', -4.819),\n",
       " ('littl', -4.86),\n",
       " ('time', -4.86),\n",
       " ('make', -4.949),\n",
       " ('want', -4.966),\n",
       " ('thing', -5.068),\n",
       " ('think', -5.071)]"
      ]
     },
     "execution_count": 31,
     "metadata": {},
     "output_type": "execute_result"
    }
   ],
   "source": [
    "feature_to_coef = {word: float(\"%.3f\" % coef) for word, coef in zip(vectorizer.get_feature_names(), mnb.coef_[0])}\n",
    "\n",
    "print(\"Top positive features:\")\n",
    "sorted(feature_to_coef.items(), key=lambda x: x[1], reverse=True)[:10]"
   ]
  },
  {
   "cell_type": "code",
   "execution_count": 32,
   "metadata": {
    "id": "kPa6sLvLvjbT",
    "outputId": "5d166425-f33e-41d5-d5d2-87368991bde4"
   },
   "outputs": [
    {
     "name": "stdout",
     "output_type": "stream",
     "text": [
      "Top negative features:\n"
     ]
    },
    {
     "data": {
      "text/plain": [
       "[('abyss', -10.965),\n",
       " ('accent', -10.965),\n",
       " ('accumul', -10.965),\n",
       " ('acquaint', -10.965),\n",
       " ('actio', -10.965),\n",
       " ('adrenalin', -10.965),\n",
       " ('advoc', -10.965),\n",
       " ('aesthet', -10.965),\n",
       " ('affection', -10.965),\n",
       " ('al', -10.965)]"
      ]
     },
     "execution_count": 32,
     "metadata": {},
     "output_type": "execute_result"
    }
   ],
   "source": [
    "# most of the words are reliable evidence of indicating negative sentiments\n",
    "print(\"Top negative features:\")\n",
    "sorted(feature_to_coef.items(), key=lambda x: x[1], reverse=False)[:10]"
   ]
  },
  {
   "cell_type": "markdown",
   "metadata": {
    "id": "4enhxresvsZo"
   },
   "source": [
    "### Conclusion"
   ]
  },
  {
   "cell_type": "code",
   "execution_count": 33,
   "metadata": {
    "_kg_hide-input": true,
    "id": "sy7jHH-Fv18V",
    "outputId": "08829bec-09e7-4d27-a2cd-eb2dad49a03c"
   },
   "outputs": [
    {
     "name": "stdout",
     "output_type": "stream",
     "text": [
      "['stressed' 'not-stressed' 'stressed']\n"
     ]
    }
   ],
   "source": [
    "text=['i am not feeling well', 'i want to make this project better', 'i feel aaaaaaah']\n",
    "test_result = lr_clf.predict(vectorizer.transform(text))\n",
    "print(test_result)"
   ]
  },
  {
   "cell_type": "code",
   "execution_count": null,
   "metadata": {},
   "outputs": [],
   "source": []
  }
 ],
 "metadata": {
  "kernelspec": {
   "display_name": "Python 3 (ipykernel)",
   "language": "python",
   "name": "python3"
  },
  "language_info": {
   "codemirror_mode": {
    "name": "ipython",
    "version": 3
   },
   "file_extension": ".py",
   "mimetype": "text/x-python",
   "name": "python",
   "nbconvert_exporter": "python",
   "pygments_lexer": "ipython3",
   "version": "3.9.12"
  }
 },
 "nbformat": 4,
 "nbformat_minor": 4
}
